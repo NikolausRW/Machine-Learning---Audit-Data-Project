{
  "nbformat": 4,
  "nbformat_minor": 0,
  "metadata": {
    "colab": {
      "name": "LOG REG NEW",
      "provenance": [],
      "collapsed_sections": [
        "Y5sClZ9LykZn",
        "qa-rg8RzcN6W"
      ],
      "toc_visible": true
    },
    "kernelspec": {
      "display_name": "Python 3",
      "name": "python3"
    }
  },
  "cells": [
    {
      "cell_type": "markdown",
      "metadata": {
        "id": "Y5sClZ9LykZn"
      },
      "source": [
        "# Import data, libraries and checklist"
      ]
    },
    {
      "cell_type": "code",
      "metadata": {
        "id": "zuhTFOPryquz"
      },
      "source": [
        "#importing the libraries we require in the project\n",
        "import warnings\n",
        "warnings.filterwarnings('ignore')\n",
        "import pandas as pd\n",
        "import numpy as np\n",
        "import seaborn as sns\n",
        "pd.set_option('display.max_columns', 50)\n",
        "import matplotlib.pyplot as plt"
      ],
      "execution_count": null,
      "outputs": []
    },
    {
      "cell_type": "code",
      "metadata": {
        "id": "Wf-NfmoSytOC"
      },
      "source": [
        "#importing the data set trial\n",
        "audit_trial=pd.read_csv('https://raw.githubusercontent.com/caichinger/MLMNC2020/master/projects/AuditDataDataSet/data/trial.csv')"
      ],
      "execution_count": null,
      "outputs": []
    },
    {
      "cell_type": "code",
      "metadata": {
        "id": "g-sp-OMWywc9"
      },
      "source": [
        "# 0. train test split\n",
        "#X_train, X_test, y_train, y_test = train_test_split(X, y)\n",
        "\n",
        "# 1. choose a model\n",
        "#from sklearn.model_family import DesiredModel\n",
        "\n",
        "# 2. instantiate a model with certain parameters\n",
        "#model = DesiredModel(model_parameters)\n",
        "\n",
        "# 3. fit a model to the data\n",
        "#model.fit(X_train, y_train)\n",
        "\n",
        "# 4. evaluate\n",
        "#model.score(X_test, y_test), model.score(X_train, y_train)\n",
        "\n",
        "# 5. use the model to make a prediction\n",
        "#y_new = model.predict(X_new)"
      ],
      "execution_count": null,
      "outputs": []
    },
    {
      "cell_type": "markdown",
      "metadata": {
        "id": "qa-rg8RzcN6W"
      },
      "source": [
        "# Data Exploration\n"
      ]
    },
    {
      "cell_type": "code",
      "metadata": {
        "colab": {
          "base_uri": "https://localhost:8080/",
          "height": 313
        },
        "id": "Z7GsZxkocr1B",
        "outputId": "5c65ed34-476c-466c-fbb4-a3a1d2fbcd30"
      },
      "source": [
        "#Starting to explore data by looking at a rough description\n",
        "audit_trial.describe().round(2)"
      ],
      "execution_count": null,
      "outputs": [
        {
          "output_type": "execute_result",
          "data": {
            "text/html": [
              "<div>\n",
              "<style scoped>\n",
              "    .dataframe tbody tr th:only-of-type {\n",
              "        vertical-align: middle;\n",
              "    }\n",
              "\n",
              "    .dataframe tbody tr th {\n",
              "        vertical-align: top;\n",
              "    }\n",
              "\n",
              "    .dataframe thead th {\n",
              "        text-align: right;\n",
              "    }\n",
              "</style>\n",
              "<table border=\"1\" class=\"dataframe\">\n",
              "  <thead>\n",
              "    <tr style=\"text-align: right;\">\n",
              "      <th></th>\n",
              "      <th>Sector_score</th>\n",
              "      <th>PARA_A</th>\n",
              "      <th>SCORE_A</th>\n",
              "      <th>PARA_B</th>\n",
              "      <th>SCORE_B</th>\n",
              "      <th>TOTAL</th>\n",
              "      <th>numbers</th>\n",
              "      <th>Marks</th>\n",
              "      <th>Money_Value</th>\n",
              "      <th>MONEY_Marks</th>\n",
              "      <th>District</th>\n",
              "      <th>Loss</th>\n",
              "      <th>LOSS_SCORE</th>\n",
              "      <th>History</th>\n",
              "      <th>History_score</th>\n",
              "      <th>Score</th>\n",
              "      <th>Risk</th>\n",
              "    </tr>\n",
              "  </thead>\n",
              "  <tbody>\n",
              "    <tr>\n",
              "      <th>count</th>\n",
              "      <td>776.00</td>\n",
              "      <td>776.00</td>\n",
              "      <td>776.00</td>\n",
              "      <td>776.00</td>\n",
              "      <td>776.00</td>\n",
              "      <td>776.00</td>\n",
              "      <td>776.00</td>\n",
              "      <td>776.00</td>\n",
              "      <td>775.00</td>\n",
              "      <td>776.00</td>\n",
              "      <td>776.00</td>\n",
              "      <td>776.00</td>\n",
              "      <td>776.00</td>\n",
              "      <td>776.00</td>\n",
              "      <td>776.00</td>\n",
              "      <td>776.00</td>\n",
              "      <td>776.00</td>\n",
              "    </tr>\n",
              "    <tr>\n",
              "      <th>mean</th>\n",
              "      <td>20.18</td>\n",
              "      <td>2.45</td>\n",
              "      <td>3.51</td>\n",
              "      <td>10.80</td>\n",
              "      <td>3.13</td>\n",
              "      <td>13.22</td>\n",
              "      <td>5.07</td>\n",
              "      <td>2.24</td>\n",
              "      <td>14.14</td>\n",
              "      <td>2.91</td>\n",
              "      <td>2.51</td>\n",
              "      <td>0.03</td>\n",
              "      <td>2.06</td>\n",
              "      <td>0.10</td>\n",
              "      <td>2.17</td>\n",
              "      <td>2.70</td>\n",
              "      <td>0.63</td>\n",
              "    </tr>\n",
              "    <tr>\n",
              "      <th>std</th>\n",
              "      <td>24.32</td>\n",
              "      <td>5.68</td>\n",
              "      <td>1.74</td>\n",
              "      <td>50.08</td>\n",
              "      <td>1.70</td>\n",
              "      <td>51.31</td>\n",
              "      <td>0.26</td>\n",
              "      <td>0.80</td>\n",
              "      <td>66.61</td>\n",
              "      <td>1.60</td>\n",
              "      <td>1.23</td>\n",
              "      <td>0.18</td>\n",
              "      <td>0.38</td>\n",
              "      <td>0.53</td>\n",
              "      <td>0.68</td>\n",
              "      <td>0.86</td>\n",
              "      <td>0.48</td>\n",
              "    </tr>\n",
              "    <tr>\n",
              "      <th>min</th>\n",
              "      <td>1.85</td>\n",
              "      <td>0.00</td>\n",
              "      <td>2.00</td>\n",
              "      <td>0.00</td>\n",
              "      <td>2.00</td>\n",
              "      <td>0.00</td>\n",
              "      <td>5.00</td>\n",
              "      <td>2.00</td>\n",
              "      <td>0.00</td>\n",
              "      <td>2.00</td>\n",
              "      <td>2.00</td>\n",
              "      <td>0.00</td>\n",
              "      <td>2.00</td>\n",
              "      <td>0.00</td>\n",
              "      <td>2.00</td>\n",
              "      <td>2.00</td>\n",
              "      <td>0.00</td>\n",
              "    </tr>\n",
              "    <tr>\n",
              "      <th>25%</th>\n",
              "      <td>2.37</td>\n",
              "      <td>0.21</td>\n",
              "      <td>2.00</td>\n",
              "      <td>0.00</td>\n",
              "      <td>2.00</td>\n",
              "      <td>0.54</td>\n",
              "      <td>5.00</td>\n",
              "      <td>2.00</td>\n",
              "      <td>0.00</td>\n",
              "      <td>2.00</td>\n",
              "      <td>2.00</td>\n",
              "      <td>0.00</td>\n",
              "      <td>2.00</td>\n",
              "      <td>0.00</td>\n",
              "      <td>2.00</td>\n",
              "      <td>2.00</td>\n",
              "      <td>0.00</td>\n",
              "    </tr>\n",
              "    <tr>\n",
              "      <th>50%</th>\n",
              "      <td>3.89</td>\n",
              "      <td>0.88</td>\n",
              "      <td>2.00</td>\n",
              "      <td>0.40</td>\n",
              "      <td>2.00</td>\n",
              "      <td>1.37</td>\n",
              "      <td>5.00</td>\n",
              "      <td>2.00</td>\n",
              "      <td>0.09</td>\n",
              "      <td>2.00</td>\n",
              "      <td>2.00</td>\n",
              "      <td>0.00</td>\n",
              "      <td>2.00</td>\n",
              "      <td>0.00</td>\n",
              "      <td>2.00</td>\n",
              "      <td>2.40</td>\n",
              "      <td>1.00</td>\n",
              "    </tr>\n",
              "    <tr>\n",
              "      <th>75%</th>\n",
              "      <td>55.57</td>\n",
              "      <td>2.48</td>\n",
              "      <td>6.00</td>\n",
              "      <td>4.16</td>\n",
              "      <td>4.00</td>\n",
              "      <td>7.71</td>\n",
              "      <td>5.00</td>\n",
              "      <td>2.00</td>\n",
              "      <td>5.60</td>\n",
              "      <td>4.00</td>\n",
              "      <td>2.00</td>\n",
              "      <td>0.00</td>\n",
              "      <td>2.00</td>\n",
              "      <td>0.00</td>\n",
              "      <td>2.00</td>\n",
              "      <td>3.25</td>\n",
              "      <td>1.00</td>\n",
              "    </tr>\n",
              "    <tr>\n",
              "      <th>max</th>\n",
              "      <td>59.85</td>\n",
              "      <td>85.00</td>\n",
              "      <td>6.00</td>\n",
              "      <td>1264.63</td>\n",
              "      <td>6.00</td>\n",
              "      <td>1268.91</td>\n",
              "      <td>9.00</td>\n",
              "      <td>6.00</td>\n",
              "      <td>935.03</td>\n",
              "      <td>6.00</td>\n",
              "      <td>6.00</td>\n",
              "      <td>2.00</td>\n",
              "      <td>6.00</td>\n",
              "      <td>9.00</td>\n",
              "      <td>6.00</td>\n",
              "      <td>5.20</td>\n",
              "      <td>1.00</td>\n",
              "    </tr>\n",
              "  </tbody>\n",
              "</table>\n",
              "</div>"
            ],
            "text/plain": [
              "       Sector_score  PARA_A  SCORE_A   PARA_B  SCORE_B    TOTAL  numbers  \\\n",
              "count        776.00  776.00   776.00   776.00   776.00   776.00   776.00   \n",
              "mean          20.18    2.45     3.51    10.80     3.13    13.22     5.07   \n",
              "std           24.32    5.68     1.74    50.08     1.70    51.31     0.26   \n",
              "min            1.85    0.00     2.00     0.00     2.00     0.00     5.00   \n",
              "25%            2.37    0.21     2.00     0.00     2.00     0.54     5.00   \n",
              "50%            3.89    0.88     2.00     0.40     2.00     1.37     5.00   \n",
              "75%           55.57    2.48     6.00     4.16     4.00     7.71     5.00   \n",
              "max           59.85   85.00     6.00  1264.63     6.00  1268.91     9.00   \n",
              "\n",
              "        Marks  Money_Value  MONEY_Marks  District    Loss  LOSS_SCORE  \\\n",
              "count  776.00       775.00       776.00    776.00  776.00      776.00   \n",
              "mean     2.24        14.14         2.91      2.51    0.03        2.06   \n",
              "std      0.80        66.61         1.60      1.23    0.18        0.38   \n",
              "min      2.00         0.00         2.00      2.00    0.00        2.00   \n",
              "25%      2.00         0.00         2.00      2.00    0.00        2.00   \n",
              "50%      2.00         0.09         2.00      2.00    0.00        2.00   \n",
              "75%      2.00         5.60         4.00      2.00    0.00        2.00   \n",
              "max      6.00       935.03         6.00      6.00    2.00        6.00   \n",
              "\n",
              "       History  History_score   Score    Risk  \n",
              "count   776.00         776.00  776.00  776.00  \n",
              "mean      0.10           2.17    2.70    0.63  \n",
              "std       0.53           0.68    0.86    0.48  \n",
              "min       0.00           2.00    2.00    0.00  \n",
              "25%       0.00           2.00    2.00    0.00  \n",
              "50%       0.00           2.00    2.40    1.00  \n",
              "75%       0.00           2.00    3.25    1.00  \n",
              "max       9.00           6.00    5.20    1.00  "
            ]
          },
          "metadata": {
            "tags": []
          },
          "execution_count": 4
        }
      ]
    },
    {
      "cell_type": "markdown",
      "metadata": {
        "id": "tr6_68dFeqyJ"
      },
      "source": [
        "We can see that Para_A has an outlier because 85 is the max but the mean value is only 2.45. Actually the same might be true for Para_B even more extreme with max being 1264\n"
      ]
    },
    {
      "cell_type": "code",
      "metadata": {
        "colab": {
          "base_uri": "https://localhost:8080/",
          "height": 221
        },
        "id": "kNaibr3NfLgA",
        "outputId": "f2e4f76d-b012-4413-8476-24f600197606"
      },
      "source": [
        "#Looking at the first 5 entries of the risk data set\n",
        "audit_trial.head()"
      ],
      "execution_count": null,
      "outputs": [
        {
          "output_type": "execute_result",
          "data": {
            "text/html": [
              "<div>\n",
              "<style scoped>\n",
              "    .dataframe tbody tr th:only-of-type {\n",
              "        vertical-align: middle;\n",
              "    }\n",
              "\n",
              "    .dataframe tbody tr th {\n",
              "        vertical-align: top;\n",
              "    }\n",
              "\n",
              "    .dataframe thead th {\n",
              "        text-align: right;\n",
              "    }\n",
              "</style>\n",
              "<table border=\"1\" class=\"dataframe\">\n",
              "  <thead>\n",
              "    <tr style=\"text-align: right;\">\n",
              "      <th></th>\n",
              "      <th>Sector_score</th>\n",
              "      <th>LOCATION_ID</th>\n",
              "      <th>PARA_A</th>\n",
              "      <th>SCORE_A</th>\n",
              "      <th>PARA_B</th>\n",
              "      <th>SCORE_B</th>\n",
              "      <th>TOTAL</th>\n",
              "      <th>numbers</th>\n",
              "      <th>Marks</th>\n",
              "      <th>Money_Value</th>\n",
              "      <th>MONEY_Marks</th>\n",
              "      <th>District</th>\n",
              "      <th>Loss</th>\n",
              "      <th>LOSS_SCORE</th>\n",
              "      <th>History</th>\n",
              "      <th>History_score</th>\n",
              "      <th>Score</th>\n",
              "      <th>Risk</th>\n",
              "    </tr>\n",
              "  </thead>\n",
              "  <tbody>\n",
              "    <tr>\n",
              "      <th>0</th>\n",
              "      <td>3.89</td>\n",
              "      <td>23</td>\n",
              "      <td>4.18</td>\n",
              "      <td>6</td>\n",
              "      <td>2.50</td>\n",
              "      <td>2</td>\n",
              "      <td>6.68</td>\n",
              "      <td>5.0</td>\n",
              "      <td>2</td>\n",
              "      <td>3.38</td>\n",
              "      <td>2</td>\n",
              "      <td>2</td>\n",
              "      <td>0</td>\n",
              "      <td>2</td>\n",
              "      <td>0</td>\n",
              "      <td>2</td>\n",
              "      <td>2.4</td>\n",
              "      <td>1</td>\n",
              "    </tr>\n",
              "    <tr>\n",
              "      <th>1</th>\n",
              "      <td>3.89</td>\n",
              "      <td>6</td>\n",
              "      <td>0.00</td>\n",
              "      <td>2</td>\n",
              "      <td>4.83</td>\n",
              "      <td>2</td>\n",
              "      <td>4.83</td>\n",
              "      <td>5.0</td>\n",
              "      <td>2</td>\n",
              "      <td>0.94</td>\n",
              "      <td>2</td>\n",
              "      <td>2</td>\n",
              "      <td>0</td>\n",
              "      <td>2</td>\n",
              "      <td>0</td>\n",
              "      <td>2</td>\n",
              "      <td>2.0</td>\n",
              "      <td>0</td>\n",
              "    </tr>\n",
              "    <tr>\n",
              "      <th>2</th>\n",
              "      <td>3.89</td>\n",
              "      <td>6</td>\n",
              "      <td>0.51</td>\n",
              "      <td>2</td>\n",
              "      <td>0.23</td>\n",
              "      <td>2</td>\n",
              "      <td>0.74</td>\n",
              "      <td>5.0</td>\n",
              "      <td>2</td>\n",
              "      <td>0.00</td>\n",
              "      <td>2</td>\n",
              "      <td>2</td>\n",
              "      <td>0</td>\n",
              "      <td>2</td>\n",
              "      <td>0</td>\n",
              "      <td>2</td>\n",
              "      <td>2.0</td>\n",
              "      <td>0</td>\n",
              "    </tr>\n",
              "    <tr>\n",
              "      <th>3</th>\n",
              "      <td>3.89</td>\n",
              "      <td>6</td>\n",
              "      <td>0.00</td>\n",
              "      <td>2</td>\n",
              "      <td>10.80</td>\n",
              "      <td>6</td>\n",
              "      <td>10.80</td>\n",
              "      <td>6.0</td>\n",
              "      <td>6</td>\n",
              "      <td>11.75</td>\n",
              "      <td>6</td>\n",
              "      <td>2</td>\n",
              "      <td>0</td>\n",
              "      <td>2</td>\n",
              "      <td>0</td>\n",
              "      <td>2</td>\n",
              "      <td>4.4</td>\n",
              "      <td>1</td>\n",
              "    </tr>\n",
              "    <tr>\n",
              "      <th>4</th>\n",
              "      <td>3.89</td>\n",
              "      <td>6</td>\n",
              "      <td>0.00</td>\n",
              "      <td>2</td>\n",
              "      <td>0.08</td>\n",
              "      <td>2</td>\n",
              "      <td>0.08</td>\n",
              "      <td>5.0</td>\n",
              "      <td>2</td>\n",
              "      <td>0.00</td>\n",
              "      <td>2</td>\n",
              "      <td>2</td>\n",
              "      <td>0</td>\n",
              "      <td>2</td>\n",
              "      <td>0</td>\n",
              "      <td>2</td>\n",
              "      <td>2.0</td>\n",
              "      <td>0</td>\n",
              "    </tr>\n",
              "  </tbody>\n",
              "</table>\n",
              "</div>"
            ],
            "text/plain": [
              "   Sector_score LOCATION_ID  PARA_A  SCORE_A  PARA_B  SCORE_B  TOTAL  numbers  \\\n",
              "0          3.89          23    4.18        6    2.50        2   6.68      5.0   \n",
              "1          3.89           6    0.00        2    4.83        2   4.83      5.0   \n",
              "2          3.89           6    0.51        2    0.23        2   0.74      5.0   \n",
              "3          3.89           6    0.00        2   10.80        6  10.80      6.0   \n",
              "4          3.89           6    0.00        2    0.08        2   0.08      5.0   \n",
              "\n",
              "   Marks  Money_Value  MONEY_Marks  District  Loss  LOSS_SCORE  History  \\\n",
              "0      2         3.38            2         2     0           2        0   \n",
              "1      2         0.94            2         2     0           2        0   \n",
              "2      2         0.00            2         2     0           2        0   \n",
              "3      6        11.75            6         2     0           2        0   \n",
              "4      2         0.00            2         2     0           2        0   \n",
              "\n",
              "   History_score  Score  Risk  \n",
              "0              2    2.4     1  \n",
              "1              2    2.0     0  \n",
              "2              2    2.0     0  \n",
              "3              2    4.4     1  \n",
              "4              2    2.0     0  "
            ]
          },
          "metadata": {
            "tags": []
          },
          "execution_count": 5
        }
      ]
    },
    {
      "cell_type": "code",
      "metadata": {
        "id": "oxj97pCOoMUm"
      },
      "source": [
        "#Do we know how to quickly scroll through all the results? It looked like there might be some weird text values in some rows."
      ],
      "execution_count": null,
      "outputs": []
    },
    {
      "cell_type": "code",
      "metadata": {
        "colab": {
          "base_uri": "https://localhost:8080/"
        },
        "id": "8WqVZEeBmn5c",
        "outputId": "2d59c847-82ab-41a4-e19b-69430cf75294"
      },
      "source": [
        "audit_trial.info()"
      ],
      "execution_count": null,
      "outputs": [
        {
          "output_type": "stream",
          "text": [
            "<class 'pandas.core.frame.DataFrame'>\n",
            "RangeIndex: 776 entries, 0 to 775\n",
            "Data columns (total 18 columns):\n",
            " #   Column         Non-Null Count  Dtype  \n",
            "---  ------         --------------  -----  \n",
            " 0   Sector_score   776 non-null    float64\n",
            " 1   LOCATION_ID    776 non-null    object \n",
            " 2   PARA_A         776 non-null    float64\n",
            " 3   SCORE_A        776 non-null    int64  \n",
            " 4   PARA_B         776 non-null    float64\n",
            " 5   SCORE_B        776 non-null    int64  \n",
            " 6   TOTAL          776 non-null    float64\n",
            " 7   numbers        776 non-null    float64\n",
            " 8   Marks          776 non-null    int64  \n",
            " 9   Money_Value    775 non-null    float64\n",
            " 10  MONEY_Marks    776 non-null    int64  \n",
            " 11  District       776 non-null    int64  \n",
            " 12  Loss           776 non-null    int64  \n",
            " 13  LOSS_SCORE     776 non-null    int64  \n",
            " 14  History        776 non-null    int64  \n",
            " 15  History_score  776 non-null    int64  \n",
            " 16  Score          776 non-null    float64\n",
            " 17  Risk           776 non-null    int64  \n",
            "dtypes: float64(7), int64(10), object(1)\n",
            "memory usage: 109.2+ KB\n"
          ],
          "name": "stdout"
        }
      ]
    },
    {
      "cell_type": "code",
      "metadata": {
        "colab": {
          "base_uri": "https://localhost:8080/"
        },
        "id": "E6lbFcZzxDc5",
        "outputId": "783ecffc-f296-43e8-bae9-f70f49eb7213"
      },
      "source": [
        "audit_trial.LOCATION_ID.value_counts()"
      ],
      "execution_count": null,
      "outputs": [
        {
          "output_type": "execute_result",
          "data": {
            "text/plain": [
              "8          76\n",
              "19         68\n",
              "9          53\n",
              "16         52\n",
              "12         47\n",
              "5          44\n",
              "2          41\n",
              "4          37\n",
              "13         35\n",
              "15         35\n",
              "6          33\n",
              "32         29\n",
              "11         26\n",
              "22         24\n",
              "29         21\n",
              "14         20\n",
              "18         16\n",
              "31         12\n",
              "1          11\n",
              "37         10\n",
              "39          9\n",
              "21          8\n",
              "28          8\n",
              "27          8\n",
              "43          7\n",
              "25          6\n",
              "20          5\n",
              "30          4\n",
              "36          4\n",
              "7           4\n",
              "38          4\n",
              "3           3\n",
              "40          3\n",
              "35          2\n",
              "LOHARU      1\n",
              "24          1\n",
              "17          1\n",
              "NUH         1\n",
              "SAFIDON     1\n",
              "44          1\n",
              "42          1\n",
              "41          1\n",
              "23          1\n",
              "33          1\n",
              "34          1\n",
              "Name: LOCATION_ID, dtype: int64"
            ]
          },
          "metadata": {
            "tags": []
          },
          "execution_count": 8
        }
      ]
    },
    {
      "cell_type": "code",
      "metadata": {
        "colab": {
          "base_uri": "https://localhost:8080/",
          "height": 408
        },
        "id": "u5uJTn5rSSeW",
        "outputId": "05071539-6fb6-47b8-a7cd-30a8010ac34c"
      },
      "source": [
        "audit_trial.corr('spearman').style.background_gradient().format('{:.2f}')"
      ],
      "execution_count": null,
      "outputs": [
        {
          "output_type": "execute_result",
          "data": {
            "text/html": [
              "<style  type=\"text/css\" >\n",
              "#T_c727e982_4522_11eb_b41f_0242ac1c0002row0_col0,#T_c727e982_4522_11eb_b41f_0242ac1c0002row1_col1,#T_c727e982_4522_11eb_b41f_0242ac1c0002row2_col2,#T_c727e982_4522_11eb_b41f_0242ac1c0002row3_col3,#T_c727e982_4522_11eb_b41f_0242ac1c0002row4_col4,#T_c727e982_4522_11eb_b41f_0242ac1c0002row5_col5,#T_c727e982_4522_11eb_b41f_0242ac1c0002row6_col6,#T_c727e982_4522_11eb_b41f_0242ac1c0002row6_col7,#T_c727e982_4522_11eb_b41f_0242ac1c0002row7_col6,#T_c727e982_4522_11eb_b41f_0242ac1c0002row7_col7,#T_c727e982_4522_11eb_b41f_0242ac1c0002row8_col8,#T_c727e982_4522_11eb_b41f_0242ac1c0002row9_col9,#T_c727e982_4522_11eb_b41f_0242ac1c0002row10_col10,#T_c727e982_4522_11eb_b41f_0242ac1c0002row11_col11,#T_c727e982_4522_11eb_b41f_0242ac1c0002row12_col12,#T_c727e982_4522_11eb_b41f_0242ac1c0002row13_col13,#T_c727e982_4522_11eb_b41f_0242ac1c0002row13_col14,#T_c727e982_4522_11eb_b41f_0242ac1c0002row14_col13,#T_c727e982_4522_11eb_b41f_0242ac1c0002row14_col14,#T_c727e982_4522_11eb_b41f_0242ac1c0002row15_col15,#T_c727e982_4522_11eb_b41f_0242ac1c0002row16_col16{\n",
              "            background-color:  #023858;\n",
              "            color:  #f1f1f1;\n",
              "        }#T_c727e982_4522_11eb_b41f_0242ac1c0002row0_col1,#T_c727e982_4522_11eb_b41f_0242ac1c0002row0_col2,#T_c727e982_4522_11eb_b41f_0242ac1c0002row0_col3,#T_c727e982_4522_11eb_b41f_0242ac1c0002row0_col4,#T_c727e982_4522_11eb_b41f_0242ac1c0002row0_col5,#T_c727e982_4522_11eb_b41f_0242ac1c0002row0_col6,#T_c727e982_4522_11eb_b41f_0242ac1c0002row0_col7,#T_c727e982_4522_11eb_b41f_0242ac1c0002row0_col8,#T_c727e982_4522_11eb_b41f_0242ac1c0002row0_col9,#T_c727e982_4522_11eb_b41f_0242ac1c0002row0_col10,#T_c727e982_4522_11eb_b41f_0242ac1c0002row0_col11,#T_c727e982_4522_11eb_b41f_0242ac1c0002row0_col12,#T_c727e982_4522_11eb_b41f_0242ac1c0002row0_col13,#T_c727e982_4522_11eb_b41f_0242ac1c0002row0_col14,#T_c727e982_4522_11eb_b41f_0242ac1c0002row0_col15,#T_c727e982_4522_11eb_b41f_0242ac1c0002row0_col16,#T_c727e982_4522_11eb_b41f_0242ac1c0002row1_col0,#T_c727e982_4522_11eb_b41f_0242ac1c0002row2_col0{\n",
              "            background-color:  #fff7fb;\n",
              "            color:  #000000;\n",
              "        }#T_c727e982_4522_11eb_b41f_0242ac1c0002row1_col2,#T_c727e982_4522_11eb_b41f_0242ac1c0002row2_col1{\n",
              "            background-color:  #034973;\n",
              "            color:  #f1f1f1;\n",
              "        }#T_c727e982_4522_11eb_b41f_0242ac1c0002row1_col3,#T_c727e982_4522_11eb_b41f_0242ac1c0002row6_col15,#T_c727e982_4522_11eb_b41f_0242ac1c0002row7_col15{\n",
              "            background-color:  #4897c4;\n",
              "            color:  #000000;\n",
              "        }#T_c727e982_4522_11eb_b41f_0242ac1c0002row1_col4{\n",
              "            background-color:  #4a98c5;\n",
              "            color:  #000000;\n",
              "        }#T_c727e982_4522_11eb_b41f_0242ac1c0002row1_col5,#T_c727e982_4522_11eb_b41f_0242ac1c0002row4_col15{\n",
              "            background-color:  #045b8f;\n",
              "            color:  #f1f1f1;\n",
              "        }#T_c727e982_4522_11eb_b41f_0242ac1c0002row1_col6,#T_c727e982_4522_11eb_b41f_0242ac1c0002row1_col7,#T_c727e982_4522_11eb_b41f_0242ac1c0002row3_col13,#T_c727e982_4522_11eb_b41f_0242ac1c0002row3_col14,#T_c727e982_4522_11eb_b41f_0242ac1c0002row10_col2{\n",
              "            background-color:  #b5c4df;\n",
              "            color:  #000000;\n",
              "        }#T_c727e982_4522_11eb_b41f_0242ac1c0002row1_col8,#T_c727e982_4522_11eb_b41f_0242ac1c0002row16_col8{\n",
              "            background-color:  #62a2cb;\n",
              "            color:  #000000;\n",
              "        }#T_c727e982_4522_11eb_b41f_0242ac1c0002row1_col9,#T_c727e982_4522_11eb_b41f_0242ac1c0002row10_col16{\n",
              "            background-color:  #6da6cd;\n",
              "            color:  #000000;\n",
              "        }#T_c727e982_4522_11eb_b41f_0242ac1c0002row1_col10,#T_c727e982_4522_11eb_b41f_0242ac1c0002row16_col12{\n",
              "            background-color:  #dbdaeb;\n",
              "            color:  #000000;\n",
              "        }#T_c727e982_4522_11eb_b41f_0242ac1c0002row1_col11,#T_c727e982_4522_11eb_b41f_0242ac1c0002row2_col11,#T_c727e982_4522_11eb_b41f_0242ac1c0002row4_col11,#T_c727e982_4522_11eb_b41f_0242ac1c0002row4_col12,#T_c727e982_4522_11eb_b41f_0242ac1c0002row5_col11,#T_c727e982_4522_11eb_b41f_0242ac1c0002row12_col3{\n",
              "            background-color:  #e3e0ee;\n",
              "            color:  #000000;\n",
              "        }#T_c727e982_4522_11eb_b41f_0242ac1c0002row1_col12,#T_c727e982_4522_11eb_b41f_0242ac1c0002row2_col12,#T_c727e982_4522_11eb_b41f_0242ac1c0002row11_col3{\n",
              "            background-color:  #e1dfed;\n",
              "            color:  #000000;\n",
              "        }#T_c727e982_4522_11eb_b41f_0242ac1c0002row1_col13,#T_c727e982_4522_11eb_b41f_0242ac1c0002row1_col14,#T_c727e982_4522_11eb_b41f_0242ac1c0002row11_col5,#T_c727e982_4522_11eb_b41f_0242ac1c0002row12_col5{\n",
              "            background-color:  #bdc8e1;\n",
              "            color:  #000000;\n",
              "        }#T_c727e982_4522_11eb_b41f_0242ac1c0002row1_col15,#T_c727e982_4522_11eb_b41f_0242ac1c0002row3_col15{\n",
              "            background-color:  #0569a5;\n",
              "            color:  #f1f1f1;\n",
              "        }#T_c727e982_4522_11eb_b41f_0242ac1c0002row1_col16{\n",
              "            background-color:  #0872b1;\n",
              "            color:  #f1f1f1;\n",
              "        }#T_c727e982_4522_11eb_b41f_0242ac1c0002row2_col3{\n",
              "            background-color:  #4697c4;\n",
              "            color:  #000000;\n",
              "        }#T_c727e982_4522_11eb_b41f_0242ac1c0002row2_col4{\n",
              "            background-color:  #4496c3;\n",
              "            color:  #000000;\n",
              "        }#T_c727e982_4522_11eb_b41f_0242ac1c0002row2_col5,#T_c727e982_4522_11eb_b41f_0242ac1c0002row15_col4{\n",
              "            background-color:  #046097;\n",
              "            color:  #f1f1f1;\n",
              "        }#T_c727e982_4522_11eb_b41f_0242ac1c0002row2_col6,#T_c727e982_4522_11eb_b41f_0242ac1c0002row2_col7{\n",
              "            background-color:  #b1c2de;\n",
              "            color:  #000000;\n",
              "        }#T_c727e982_4522_11eb_b41f_0242ac1c0002row2_col8{\n",
              "            background-color:  #589ec8;\n",
              "            color:  #000000;\n",
              "        }#T_c727e982_4522_11eb_b41f_0242ac1c0002row2_col9{\n",
              "            background-color:  #5c9fc9;\n",
              "            color:  #000000;\n",
              "        }#T_c727e982_4522_11eb_b41f_0242ac1c0002row2_col10,#T_c727e982_4522_11eb_b41f_0242ac1c0002row8_col12,#T_c727e982_4522_11eb_b41f_0242ac1c0002row10_col6,#T_c727e982_4522_11eb_b41f_0242ac1c0002row10_col7,#T_c727e982_4522_11eb_b41f_0242ac1c0002row10_col8{\n",
              "            background-color:  #dcdaeb;\n",
              "            color:  #000000;\n",
              "        }#T_c727e982_4522_11eb_b41f_0242ac1c0002row2_col13,#T_c727e982_4522_11eb_b41f_0242ac1c0002row2_col14{\n",
              "            background-color:  #bbc7e0;\n",
              "            color:  #000000;\n",
              "        }#T_c727e982_4522_11eb_b41f_0242ac1c0002row2_col15,#T_c727e982_4522_11eb_b41f_0242ac1c0002row8_col9{\n",
              "            background-color:  #04639b;\n",
              "            color:  #f1f1f1;\n",
              "        }#T_c727e982_4522_11eb_b41f_0242ac1c0002row2_col16{\n",
              "            background-color:  #056ba9;\n",
              "            color:  #f1f1f1;\n",
              "        }#T_c727e982_4522_11eb_b41f_0242ac1c0002row3_col0,#T_c727e982_4522_11eb_b41f_0242ac1c0002row8_col10,#T_c727e982_4522_11eb_b41f_0242ac1c0002row9_col0{\n",
              "            background-color:  #e0dded;\n",
              "            color:  #000000;\n",
              "        }#T_c727e982_4522_11eb_b41f_0242ac1c0002row3_col1{\n",
              "            background-color:  #2786bb;\n",
              "            color:  #000000;\n",
              "        }#T_c727e982_4522_11eb_b41f_0242ac1c0002row3_col2{\n",
              "            background-color:  #2685bb;\n",
              "            color:  #000000;\n",
              "        }#T_c727e982_4522_11eb_b41f_0242ac1c0002row3_col4{\n",
              "            background-color:  #046096;\n",
              "            color:  #f1f1f1;\n",
              "        }#T_c727e982_4522_11eb_b41f_0242ac1c0002row3_col5{\n",
              "            background-color:  #045788;\n",
              "            color:  #f1f1f1;\n",
              "        }#T_c727e982_4522_11eb_b41f_0242ac1c0002row3_col6,#T_c727e982_4522_11eb_b41f_0242ac1c0002row3_col7,#T_c727e982_4522_11eb_b41f_0242ac1c0002row12_col15,#T_c727e982_4522_11eb_b41f_0242ac1c0002row12_col16{\n",
              "            background-color:  #a9bfdc;\n",
              "            color:  #000000;\n",
              "        }#T_c727e982_4522_11eb_b41f_0242ac1c0002row3_col8,#T_c727e982_4522_11eb_b41f_0242ac1c0002row4_col8{\n",
              "            background-color:  #308cbe;\n",
              "            color:  #000000;\n",
              "        }#T_c727e982_4522_11eb_b41f_0242ac1c0002row3_col9,#T_c727e982_4522_11eb_b41f_0242ac1c0002row9_col3,#T_c727e982_4522_11eb_b41f_0242ac1c0002row9_col16{\n",
              "            background-color:  #4295c3;\n",
              "            color:  #000000;\n",
              "        }#T_c727e982_4522_11eb_b41f_0242ac1c0002row3_col10{\n",
              "            background-color:  #f1ebf4;\n",
              "            color:  #000000;\n",
              "        }#T_c727e982_4522_11eb_b41f_0242ac1c0002row3_col11{\n",
              "            background-color:  #e9e5f1;\n",
              "            color:  #000000;\n",
              "        }#T_c727e982_4522_11eb_b41f_0242ac1c0002row3_col12,#T_c727e982_4522_11eb_b41f_0242ac1c0002row10_col12{\n",
              "            background-color:  #eae6f1;\n",
              "            color:  #000000;\n",
              "        }#T_c727e982_4522_11eb_b41f_0242ac1c0002row3_col16,#T_c727e982_4522_11eb_b41f_0242ac1c0002row8_col1,#T_c727e982_4522_11eb_b41f_0242ac1c0002row9_col4{\n",
              "            background-color:  #3f93c2;\n",
              "            color:  #000000;\n",
              "        }#T_c727e982_4522_11eb_b41f_0242ac1c0002row4_col0,#T_c727e982_4522_11eb_b41f_0242ac1c0002row11_col9,#T_c727e982_4522_11eb_b41f_0242ac1c0002row12_col0{\n",
              "            background-color:  #d9d8ea;\n",
              "            color:  #000000;\n",
              "        }#T_c727e982_4522_11eb_b41f_0242ac1c0002row4_col1{\n",
              "            background-color:  #2484ba;\n",
              "            color:  #000000;\n",
              "        }#T_c727e982_4522_11eb_b41f_0242ac1c0002row4_col2{\n",
              "            background-color:  #2182b9;\n",
              "            color:  #000000;\n",
              "        }#T_c727e982_4522_11eb_b41f_0242ac1c0002row4_col3{\n",
              "            background-color:  #045e94;\n",
              "            color:  #f1f1f1;\n",
              "        }#T_c727e982_4522_11eb_b41f_0242ac1c0002row4_col5{\n",
              "            background-color:  #046299;\n",
              "            color:  #f1f1f1;\n",
              "        }#T_c727e982_4522_11eb_b41f_0242ac1c0002row4_col6,#T_c727e982_4522_11eb_b41f_0242ac1c0002row4_col7,#T_c727e982_4522_11eb_b41f_0242ac1c0002row13_col3,#T_c727e982_4522_11eb_b41f_0242ac1c0002row15_col10{\n",
              "            background-color:  #a5bddb;\n",
              "            color:  #000000;\n",
              "        }#T_c727e982_4522_11eb_b41f_0242ac1c0002row4_col9{\n",
              "            background-color:  #3790c0;\n",
              "            color:  #000000;\n",
              "        }#T_c727e982_4522_11eb_b41f_0242ac1c0002row4_col10{\n",
              "            background-color:  #ece7f2;\n",
              "            color:  #000000;\n",
              "        }#T_c727e982_4522_11eb_b41f_0242ac1c0002row4_col13,#T_c727e982_4522_11eb_b41f_0242ac1c0002row11_col1,#T_c727e982_4522_11eb_b41f_0242ac1c0002row12_col1{\n",
              "            background-color:  #afc1dd;\n",
              "            color:  #000000;\n",
              "        }#T_c727e982_4522_11eb_b41f_0242ac1c0002row4_col14{\n",
              "            background-color:  #adc1dd;\n",
              "            color:  #000000;\n",
              "        }#T_c727e982_4522_11eb_b41f_0242ac1c0002row4_col16,#T_c727e982_4522_11eb_b41f_0242ac1c0002row9_col5{\n",
              "            background-color:  #2987bc;\n",
              "            color:  #000000;\n",
              "        }#T_c727e982_4522_11eb_b41f_0242ac1c0002row5_col0,#T_c727e982_4522_11eb_b41f_0242ac1c0002row15_col0{\n",
              "            background-color:  #f7f0f7;\n",
              "            color:  #000000;\n",
              "        }#T_c727e982_4522_11eb_b41f_0242ac1c0002row5_col1{\n",
              "            background-color:  #045a8d;\n",
              "            color:  #f1f1f1;\n",
              "        }#T_c727e982_4522_11eb_b41f_0242ac1c0002row5_col2{\n",
              "            background-color:  #045f95;\n",
              "            color:  #f1f1f1;\n",
              "        }#T_c727e982_4522_11eb_b41f_0242ac1c0002row5_col3{\n",
              "            background-color:  #045b8e;\n",
              "            color:  #f1f1f1;\n",
              "        }#T_c727e982_4522_11eb_b41f_0242ac1c0002row5_col4,#T_c727e982_4522_11eb_b41f_0242ac1c0002row15_col1{\n",
              "            background-color:  #0567a2;\n",
              "            color:  #f1f1f1;\n",
              "        }#T_c727e982_4522_11eb_b41f_0242ac1c0002row5_col6,#T_c727e982_4522_11eb_b41f_0242ac1c0002row5_col7{\n",
              "            background-color:  #a8bedc;\n",
              "            color:  #000000;\n",
              "        }#T_c727e982_4522_11eb_b41f_0242ac1c0002row5_col8{\n",
              "            background-color:  #2d8abd;\n",
              "            color:  #000000;\n",
              "        }#T_c727e982_4522_11eb_b41f_0242ac1c0002row5_col9,#T_c727e982_4522_11eb_b41f_0242ac1c0002row8_col16,#T_c727e982_4522_11eb_b41f_0242ac1c0002row9_col1{\n",
              "            background-color:  #4094c3;\n",
              "            color:  #000000;\n",
              "        }#T_c727e982_4522_11eb_b41f_0242ac1c0002row5_col10{\n",
              "            background-color:  #e7e3f0;\n",
              "            color:  #000000;\n",
              "        }#T_c727e982_4522_11eb_b41f_0242ac1c0002row5_col12,#T_c727e982_4522_11eb_b41f_0242ac1c0002row9_col11,#T_c727e982_4522_11eb_b41f_0242ac1c0002row10_col0,#T_c727e982_4522_11eb_b41f_0242ac1c0002row12_col4{\n",
              "            background-color:  #e2dfee;\n",
              "            color:  #000000;\n",
              "        }#T_c727e982_4522_11eb_b41f_0242ac1c0002row5_col13,#T_c727e982_4522_11eb_b41f_0242ac1c0002row5_col14{\n",
              "            background-color:  #b4c4df;\n",
              "            color:  #000000;\n",
              "        }#T_c727e982_4522_11eb_b41f_0242ac1c0002row5_col15,#T_c727e982_4522_11eb_b41f_0242ac1c0002row15_col5{\n",
              "            background-color:  #04598c;\n",
              "            color:  #f1f1f1;\n",
              "        }#T_c727e982_4522_11eb_b41f_0242ac1c0002row5_col16{\n",
              "            background-color:  #056caa;\n",
              "            color:  #f1f1f1;\n",
              "        }#T_c727e982_4522_11eb_b41f_0242ac1c0002row6_col0,#T_c727e982_4522_11eb_b41f_0242ac1c0002row7_col0{\n",
              "            background-color:  #d6d6e9;\n",
              "            color:  #000000;\n",
              "        }#T_c727e982_4522_11eb_b41f_0242ac1c0002row6_col1,#T_c727e982_4522_11eb_b41f_0242ac1c0002row6_col5,#T_c727e982_4522_11eb_b41f_0242ac1c0002row7_col1,#T_c727e982_4522_11eb_b41f_0242ac1c0002row7_col5{\n",
              "            background-color:  #7bacd1;\n",
              "            color:  #000000;\n",
              "        }#T_c727e982_4522_11eb_b41f_0242ac1c0002row6_col2,#T_c727e982_4522_11eb_b41f_0242ac1c0002row7_col2{\n",
              "            background-color:  #79abd0;\n",
              "            color:  #000000;\n",
              "        }#T_c727e982_4522_11eb_b41f_0242ac1c0002row6_col3,#T_c727e982_4522_11eb_b41f_0242ac1c0002row7_col3{\n",
              "            background-color:  #9cb9d9;\n",
              "            color:  #000000;\n",
              "        }#T_c727e982_4522_11eb_b41f_0242ac1c0002row6_col4,#T_c727e982_4522_11eb_b41f_0242ac1c0002row7_col4,#T_c727e982_4522_11eb_b41f_0242ac1c0002row9_col13,#T_c727e982_4522_11eb_b41f_0242ac1c0002row9_col14{\n",
              "            background-color:  #a1bbda;\n",
              "            color:  #000000;\n",
              "        }#T_c727e982_4522_11eb_b41f_0242ac1c0002row6_col8,#T_c727e982_4522_11eb_b41f_0242ac1c0002row7_col8{\n",
              "            background-color:  #71a8ce;\n",
              "            color:  #000000;\n",
              "        }#T_c727e982_4522_11eb_b41f_0242ac1c0002row6_col9,#T_c727e982_4522_11eb_b41f_0242ac1c0002row7_col9{\n",
              "            background-color:  #529bc7;\n",
              "            color:  #000000;\n",
              "        }#T_c727e982_4522_11eb_b41f_0242ac1c0002row6_col10,#T_c727e982_4522_11eb_b41f_0242ac1c0002row7_col10{\n",
              "            background-color:  #d1d2e6;\n",
              "            color:  #000000;\n",
              "        }#T_c727e982_4522_11eb_b41f_0242ac1c0002row6_col11,#T_c727e982_4522_11eb_b41f_0242ac1c0002row7_col11{\n",
              "            background-color:  #f0eaf4;\n",
              "            color:  #000000;\n",
              "        }#T_c727e982_4522_11eb_b41f_0242ac1c0002row6_col12,#T_c727e982_4522_11eb_b41f_0242ac1c0002row7_col12{\n",
              "            background-color:  #ebe6f2;\n",
              "            color:  #000000;\n",
              "        }#T_c727e982_4522_11eb_b41f_0242ac1c0002row6_col13,#T_c727e982_4522_11eb_b41f_0242ac1c0002row6_col14,#T_c727e982_4522_11eb_b41f_0242ac1c0002row7_col13,#T_c727e982_4522_11eb_b41f_0242ac1c0002row7_col14{\n",
              "            background-color:  #cacee5;\n",
              "            color:  #000000;\n",
              "        }#T_c727e982_4522_11eb_b41f_0242ac1c0002row6_col16,#T_c727e982_4522_11eb_b41f_0242ac1c0002row7_col16{\n",
              "            background-color:  #89b1d4;\n",
              "            color:  #000000;\n",
              "        }#T_c727e982_4522_11eb_b41f_0242ac1c0002row8_col0,#T_c727e982_4522_11eb_b41f_0242ac1c0002row11_col13,#T_c727e982_4522_11eb_b41f_0242ac1c0002row11_col14{\n",
              "            background-color:  #e5e1ef;\n",
              "            color:  #000000;\n",
              "        }#T_c727e982_4522_11eb_b41f_0242ac1c0002row8_col2,#T_c727e982_4522_11eb_b41f_0242ac1c0002row8_col3{\n",
              "            background-color:  #358fc0;\n",
              "            color:  #000000;\n",
              "        }#T_c727e982_4522_11eb_b41f_0242ac1c0002row8_col4{\n",
              "            background-color:  #3b92c1;\n",
              "            color:  #000000;\n",
              "        }#T_c727e982_4522_11eb_b41f_0242ac1c0002row8_col5{\n",
              "            background-color:  #1e80b8;\n",
              "            color:  #000000;\n",
              "        }#T_c727e982_4522_11eb_b41f_0242ac1c0002row8_col6,#T_c727e982_4522_11eb_b41f_0242ac1c0002row8_col7,#T_c727e982_4522_11eb_b41f_0242ac1c0002row13_col5,#T_c727e982_4522_11eb_b41f_0242ac1c0002row14_col5{\n",
              "            background-color:  #83afd3;\n",
              "            color:  #000000;\n",
              "        }#T_c727e982_4522_11eb_b41f_0242ac1c0002row8_col11,#T_c727e982_4522_11eb_b41f_0242ac1c0002row9_col12,#T_c727e982_4522_11eb_b41f_0242ac1c0002row10_col9,#T_c727e982_4522_11eb_b41f_0242ac1c0002row12_col13,#T_c727e982_4522_11eb_b41f_0242ac1c0002row12_col14,#T_c727e982_4522_11eb_b41f_0242ac1c0002row13_col11,#T_c727e982_4522_11eb_b41f_0242ac1c0002row14_col11{\n",
              "            background-color:  #dfddec;\n",
              "            color:  #000000;\n",
              "        }#T_c727e982_4522_11eb_b41f_0242ac1c0002row8_col13,#T_c727e982_4522_11eb_b41f_0242ac1c0002row8_col14,#T_c727e982_4522_11eb_b41f_0242ac1c0002row11_col2,#T_c727e982_4522_11eb_b41f_0242ac1c0002row12_col2{\n",
              "            background-color:  #b0c2de;\n",
              "            color:  #000000;\n",
              "        }#T_c727e982_4522_11eb_b41f_0242ac1c0002row8_col15{\n",
              "            background-color:  #0570b0;\n",
              "            color:  #f1f1f1;\n",
              "        }#T_c727e982_4522_11eb_b41f_0242ac1c0002row9_col2{\n",
              "            background-color:  #348ebf;\n",
              "            color:  #000000;\n",
              "        }#T_c727e982_4522_11eb_b41f_0242ac1c0002row9_col6,#T_c727e982_4522_11eb_b41f_0242ac1c0002row9_col7{\n",
              "            background-color:  #5ea0ca;\n",
              "            color:  #000000;\n",
              "        }#T_c727e982_4522_11eb_b41f_0242ac1c0002row9_col8{\n",
              "            background-color:  #04629a;\n",
              "            color:  #f1f1f1;\n",
              "        }#T_c727e982_4522_11eb_b41f_0242ac1c0002row9_col10,#T_c727e982_4522_11eb_b41f_0242ac1c0002row16_col11{\n",
              "            background-color:  #dddbec;\n",
              "            color:  #000000;\n",
              "        }#T_c727e982_4522_11eb_b41f_0242ac1c0002row9_col15{\n",
              "            background-color:  #056dab;\n",
              "            color:  #f1f1f1;\n",
              "        }#T_c727e982_4522_11eb_b41f_0242ac1c0002row10_col1{\n",
              "            background-color:  #b3c3de;\n",
              "            color:  #000000;\n",
              "        }#T_c727e982_4522_11eb_b41f_0242ac1c0002row10_col3,#T_c727e982_4522_11eb_b41f_0242ac1c0002row10_col4,#T_c727e982_4522_11eb_b41f_0242ac1c0002row10_col13,#T_c727e982_4522_11eb_b41f_0242ac1c0002row10_col14{\n",
              "            background-color:  #f2ecf5;\n",
              "            color:  #000000;\n",
              "        }#T_c727e982_4522_11eb_b41f_0242ac1c0002row10_col5,#T_c727e982_4522_11eb_b41f_0242ac1c0002row12_col8{\n",
              "            background-color:  #d0d1e6;\n",
              "            color:  #000000;\n",
              "        }#T_c727e982_4522_11eb_b41f_0242ac1c0002row10_col11{\n",
              "            background-color:  #eee9f3;\n",
              "            color:  #000000;\n",
              "        }#T_c727e982_4522_11eb_b41f_0242ac1c0002row10_col15{\n",
              "            background-color:  #88b1d4;\n",
              "            color:  #000000;\n",
              "        }#T_c727e982_4522_11eb_b41f_0242ac1c0002row11_col0,#T_c727e982_4522_11eb_b41f_0242ac1c0002row12_col9,#T_c727e982_4522_11eb_b41f_0242ac1c0002row13_col12,#T_c727e982_4522_11eb_b41f_0242ac1c0002row14_col12{\n",
              "            background-color:  #d8d7e9;\n",
              "            color:  #000000;\n",
              "        }#T_c727e982_4522_11eb_b41f_0242ac1c0002row11_col4,#T_c727e982_4522_11eb_b41f_0242ac1c0002row12_col10{\n",
              "            background-color:  #e0deed;\n",
              "            color:  #000000;\n",
              "        }#T_c727e982_4522_11eb_b41f_0242ac1c0002row11_col6,#T_c727e982_4522_11eb_b41f_0242ac1c0002row11_col7{\n",
              "            background-color:  #f1ebf5;\n",
              "            color:  #000000;\n",
              "        }#T_c727e982_4522_11eb_b41f_0242ac1c0002row11_col8{\n",
              "            background-color:  #d2d2e7;\n",
              "            color:  #000000;\n",
              "        }#T_c727e982_4522_11eb_b41f_0242ac1c0002row11_col10,#T_c727e982_4522_11eb_b41f_0242ac1c0002row13_col10,#T_c727e982_4522_11eb_b41f_0242ac1c0002row14_col10{\n",
              "            background-color:  #e4e1ef;\n",
              "            color:  #000000;\n",
              "        }#T_c727e982_4522_11eb_b41f_0242ac1c0002row11_col12,#T_c727e982_4522_11eb_b41f_0242ac1c0002row12_col11{\n",
              "            background-color:  #023d60;\n",
              "            color:  #f1f1f1;\n",
              "        }#T_c727e982_4522_11eb_b41f_0242ac1c0002row11_col15,#T_c727e982_4522_11eb_b41f_0242ac1c0002row11_col16{\n",
              "            background-color:  #abbfdc;\n",
              "            color:  #000000;\n",
              "        }#T_c727e982_4522_11eb_b41f_0242ac1c0002row12_col6,#T_c727e982_4522_11eb_b41f_0242ac1c0002row12_col7{\n",
              "            background-color:  #ede8f3;\n",
              "            color:  #000000;\n",
              "        }#T_c727e982_4522_11eb_b41f_0242ac1c0002row13_col0,#T_c727e982_4522_11eb_b41f_0242ac1c0002row14_col0,#T_c727e982_4522_11eb_b41f_0242ac1c0002row15_col12,#T_c727e982_4522_11eb_b41f_0242ac1c0002row16_col13,#T_c727e982_4522_11eb_b41f_0242ac1c0002row16_col14{\n",
              "            background-color:  #d2d3e7;\n",
              "            color:  #000000;\n",
              "        }#T_c727e982_4522_11eb_b41f_0242ac1c0002row13_col1,#T_c727e982_4522_11eb_b41f_0242ac1c0002row14_col1{\n",
              "            background-color:  #7eadd1;\n",
              "            color:  #000000;\n",
              "        }#T_c727e982_4522_11eb_b41f_0242ac1c0002row13_col2,#T_c727e982_4522_11eb_b41f_0242ac1c0002row14_col2{\n",
              "            background-color:  #7dacd1;\n",
              "            color:  #000000;\n",
              "        }#T_c727e982_4522_11eb_b41f_0242ac1c0002row13_col4,#T_c727e982_4522_11eb_b41f_0242ac1c0002row14_col3,#T_c727e982_4522_11eb_b41f_0242ac1c0002row14_col4{\n",
              "            background-color:  #a4bcda;\n",
              "            color:  #000000;\n",
              "        }#T_c727e982_4522_11eb_b41f_0242ac1c0002row13_col6,#T_c727e982_4522_11eb_b41f_0242ac1c0002row13_col7,#T_c727e982_4522_11eb_b41f_0242ac1c0002row14_col6,#T_c727e982_4522_11eb_b41f_0242ac1c0002row14_col7{\n",
              "            background-color:  #c5cce3;\n",
              "            color:  #000000;\n",
              "        }#T_c727e982_4522_11eb_b41f_0242ac1c0002row13_col8,#T_c727e982_4522_11eb_b41f_0242ac1c0002row14_col8{\n",
              "            background-color:  #97b7d7;\n",
              "            color:  #000000;\n",
              "        }#T_c727e982_4522_11eb_b41f_0242ac1c0002row13_col9,#T_c727e982_4522_11eb_b41f_0242ac1c0002row14_col9{\n",
              "            background-color:  #8eb3d5;\n",
              "            color:  #000000;\n",
              "        }#T_c727e982_4522_11eb_b41f_0242ac1c0002row13_col15,#T_c727e982_4522_11eb_b41f_0242ac1c0002row14_col15,#T_c727e982_4522_11eb_b41f_0242ac1c0002row16_col9{\n",
              "            background-color:  #6ba5cd;\n",
              "            color:  #000000;\n",
              "        }#T_c727e982_4522_11eb_b41f_0242ac1c0002row13_col16,#T_c727e982_4522_11eb_b41f_0242ac1c0002row14_col16{\n",
              "            background-color:  #96b6d7;\n",
              "            color:  #000000;\n",
              "        }#T_c727e982_4522_11eb_b41f_0242ac1c0002row15_col2{\n",
              "            background-color:  #046198;\n",
              "            color:  #f1f1f1;\n",
              "        }#T_c727e982_4522_11eb_b41f_0242ac1c0002row15_col3{\n",
              "            background-color:  #056faf;\n",
              "            color:  #f1f1f1;\n",
              "        }#T_c727e982_4522_11eb_b41f_0242ac1c0002row15_col6,#T_c727e982_4522_11eb_b41f_0242ac1c0002row15_col7{\n",
              "            background-color:  #75a9cf;\n",
              "            color:  #000000;\n",
              "        }#T_c727e982_4522_11eb_b41f_0242ac1c0002row15_col8{\n",
              "            background-color:  #1077b4;\n",
              "            color:  #f1f1f1;\n",
              "        }#T_c727e982_4522_11eb_b41f_0242ac1c0002row15_col9{\n",
              "            background-color:  #0a73b2;\n",
              "            color:  #f1f1f1;\n",
              "        }#T_c727e982_4522_11eb_b41f_0242ac1c0002row15_col11{\n",
              "            background-color:  #d5d5e8;\n",
              "            color:  #000000;\n",
              "        }#T_c727e982_4522_11eb_b41f_0242ac1c0002row15_col13,#T_c727e982_4522_11eb_b41f_0242ac1c0002row15_col14{\n",
              "            background-color:  #9ebad9;\n",
              "            color:  #000000;\n",
              "        }#T_c727e982_4522_11eb_b41f_0242ac1c0002row15_col16{\n",
              "            background-color:  #045382;\n",
              "            color:  #f1f1f1;\n",
              "        }#T_c727e982_4522_11eb_b41f_0242ac1c0002row16_col0{\n",
              "            background-color:  #fdf5fa;\n",
              "            color:  #000000;\n",
              "        }#T_c727e982_4522_11eb_b41f_0242ac1c0002row16_col1{\n",
              "            background-color:  #0771b1;\n",
              "            color:  #f1f1f1;\n",
              "        }#T_c727e982_4522_11eb_b41f_0242ac1c0002row16_col2{\n",
              "            background-color:  #056ba7;\n",
              "            color:  #f1f1f1;\n",
              "        }#T_c727e982_4522_11eb_b41f_0242ac1c0002row16_col3{\n",
              "            background-color:  #67a4cc;\n",
              "            color:  #000000;\n",
              "        }#T_c727e982_4522_11eb_b41f_0242ac1c0002row16_col4{\n",
              "            background-color:  #509ac6;\n",
              "            color:  #000000;\n",
              "        }#T_c727e982_4522_11eb_b41f_0242ac1c0002row16_col5{\n",
              "            background-color:  #056ead;\n",
              "            color:  #f1f1f1;\n",
              "        }#T_c727e982_4522_11eb_b41f_0242ac1c0002row16_col6,#T_c727e982_4522_11eb_b41f_0242ac1c0002row16_col7{\n",
              "            background-color:  #c1cae2;\n",
              "            color:  #000000;\n",
              "        }#T_c727e982_4522_11eb_b41f_0242ac1c0002row16_col10{\n",
              "            background-color:  #94b6d7;\n",
              "            color:  #000000;\n",
              "        }#T_c727e982_4522_11eb_b41f_0242ac1c0002row16_col15{\n",
              "            background-color:  #045585;\n",
              "            color:  #f1f1f1;\n",
              "        }</style><table id=\"T_c727e982_4522_11eb_b41f_0242ac1c0002\" ><thead>    <tr>        <th class=\"blank level0\" ></th>        <th class=\"col_heading level0 col0\" >Sector_score</th>        <th class=\"col_heading level0 col1\" >PARA_A</th>        <th class=\"col_heading level0 col2\" >SCORE_A</th>        <th class=\"col_heading level0 col3\" >PARA_B</th>        <th class=\"col_heading level0 col4\" >SCORE_B</th>        <th class=\"col_heading level0 col5\" >TOTAL</th>        <th class=\"col_heading level0 col6\" >numbers</th>        <th class=\"col_heading level0 col7\" >Marks</th>        <th class=\"col_heading level0 col8\" >Money_Value</th>        <th class=\"col_heading level0 col9\" >MONEY_Marks</th>        <th class=\"col_heading level0 col10\" >District</th>        <th class=\"col_heading level0 col11\" >Loss</th>        <th class=\"col_heading level0 col12\" >LOSS_SCORE</th>        <th class=\"col_heading level0 col13\" >History</th>        <th class=\"col_heading level0 col14\" >History_score</th>        <th class=\"col_heading level0 col15\" >Score</th>        <th class=\"col_heading level0 col16\" >Risk</th>    </tr></thead><tbody>\n",
              "                <tr>\n",
              "                        <th id=\"T_c727e982_4522_11eb_b41f_0242ac1c0002level0_row0\" class=\"row_heading level0 row0\" >Sector_score</th>\n",
              "                        <td id=\"T_c727e982_4522_11eb_b41f_0242ac1c0002row0_col0\" class=\"data row0 col0\" >1.00</td>\n",
              "                        <td id=\"T_c727e982_4522_11eb_b41f_0242ac1c0002row0_col1\" class=\"data row0 col1\" >-0.38</td>\n",
              "                        <td id=\"T_c727e982_4522_11eb_b41f_0242ac1c0002row0_col2\" class=\"data row0 col2\" >-0.38</td>\n",
              "                        <td id=\"T_c727e982_4522_11eb_b41f_0242ac1c0002row0_col3\" class=\"data row0 col3\" >-0.13</td>\n",
              "                        <td id=\"T_c727e982_4522_11eb_b41f_0242ac1c0002row0_col4\" class=\"data row0 col4\" >-0.10</td>\n",
              "                        <td id=\"T_c727e982_4522_11eb_b41f_0242ac1c0002row0_col5\" class=\"data row0 col5\" >-0.31</td>\n",
              "                        <td id=\"T_c727e982_4522_11eb_b41f_0242ac1c0002row0_col6\" class=\"data row0 col6\" >-0.07</td>\n",
              "                        <td id=\"T_c727e982_4522_11eb_b41f_0242ac1c0002row0_col7\" class=\"data row0 col7\" >-0.07</td>\n",
              "                        <td id=\"T_c727e982_4522_11eb_b41f_0242ac1c0002row0_col8\" class=\"data row0 col8\" >-0.17</td>\n",
              "                        <td id=\"T_c727e982_4522_11eb_b41f_0242ac1c0002row0_col9\" class=\"data row0 col9\" >-0.13</td>\n",
              "                        <td id=\"T_c727e982_4522_11eb_b41f_0242ac1c0002row0_col10\" class=\"data row0 col10\" >-0.15</td>\n",
              "                        <td id=\"T_c727e982_4522_11eb_b41f_0242ac1c0002row0_col11\" class=\"data row0 col11\" >-0.08</td>\n",
              "                        <td id=\"T_c727e982_4522_11eb_b41f_0242ac1c0002row0_col12\" class=\"data row0 col12\" >-0.09</td>\n",
              "                        <td id=\"T_c727e982_4522_11eb_b41f_0242ac1c0002row0_col13\" class=\"data row0 col13\" >-0.05</td>\n",
              "                        <td id=\"T_c727e982_4522_11eb_b41f_0242ac1c0002row0_col14\" class=\"data row0 col14\" >-0.05</td>\n",
              "                        <td id=\"T_c727e982_4522_11eb_b41f_0242ac1c0002row0_col15\" class=\"data row0 col15\" >-0.30</td>\n",
              "                        <td id=\"T_c727e982_4522_11eb_b41f_0242ac1c0002row0_col16\" class=\"data row0 col16\" >-0.37</td>\n",
              "            </tr>\n",
              "            <tr>\n",
              "                        <th id=\"T_c727e982_4522_11eb_b41f_0242ac1c0002level0_row1\" class=\"row_heading level0 row1\" >PARA_A</th>\n",
              "                        <td id=\"T_c727e982_4522_11eb_b41f_0242ac1c0002row1_col0\" class=\"data row1 col0\" >-0.38</td>\n",
              "                        <td id=\"T_c727e982_4522_11eb_b41f_0242ac1c0002row1_col1\" class=\"data row1 col1\" >1.00</td>\n",
              "                        <td id=\"T_c727e982_4522_11eb_b41f_0242ac1c0002row1_col2\" class=\"data row1 col2\" >0.91</td>\n",
              "                        <td id=\"T_c727e982_4522_11eb_b41f_0242ac1c0002row1_col3\" class=\"data row1 col3\" >0.53</td>\n",
              "                        <td id=\"T_c727e982_4522_11eb_b41f_0242ac1c0002row1_col4\" class=\"data row1 col4\" >0.55</td>\n",
              "                        <td id=\"T_c727e982_4522_11eb_b41f_0242ac1c0002row1_col5\" class=\"data row1 col5\" >0.82</td>\n",
              "                        <td id=\"T_c727e982_4522_11eb_b41f_0242ac1c0002row1_col6\" class=\"data row1 col6\" >0.28</td>\n",
              "                        <td id=\"T_c727e982_4522_11eb_b41f_0242ac1c0002row1_col7\" class=\"data row1 col7\" >0.28</td>\n",
              "                        <td id=\"T_c727e982_4522_11eb_b41f_0242ac1c0002row1_col8\" class=\"data row1 col8\" >0.46</td>\n",
              "                        <td id=\"T_c727e982_4522_11eb_b41f_0242ac1c0002row1_col9\" class=\"data row1 col9\" >0.45</td>\n",
              "                        <td id=\"T_c727e982_4522_11eb_b41f_0242ac1c0002row1_col10\" class=\"data row1 col10\" >0.09</td>\n",
              "                        <td id=\"T_c727e982_4522_11eb_b41f_0242ac1c0002row1_col11\" class=\"data row1 col11\" >0.10</td>\n",
              "                        <td id=\"T_c727e982_4522_11eb_b41f_0242ac1c0002row1_col12\" class=\"data row1 col12\" >0.10</td>\n",
              "                        <td id=\"T_c727e982_4522_11eb_b41f_0242ac1c0002row1_col13\" class=\"data row1 col13\" >0.27</td>\n",
              "                        <td id=\"T_c727e982_4522_11eb_b41f_0242ac1c0002row1_col14\" class=\"data row1 col14\" >0.27</td>\n",
              "                        <td id=\"T_c727e982_4522_11eb_b41f_0242ac1c0002row1_col15\" class=\"data row1 col15\" >0.72</td>\n",
              "                        <td id=\"T_c727e982_4522_11eb_b41f_0242ac1c0002row1_col16\" class=\"data row1 col16\" >0.65</td>\n",
              "            </tr>\n",
              "            <tr>\n",
              "                        <th id=\"T_c727e982_4522_11eb_b41f_0242ac1c0002level0_row2\" class=\"row_heading level0 row2\" >SCORE_A</th>\n",
              "                        <td id=\"T_c727e982_4522_11eb_b41f_0242ac1c0002row2_col0\" class=\"data row2 col0\" >-0.38</td>\n",
              "                        <td id=\"T_c727e982_4522_11eb_b41f_0242ac1c0002row2_col1\" class=\"data row2 col1\" >0.91</td>\n",
              "                        <td id=\"T_c727e982_4522_11eb_b41f_0242ac1c0002row2_col2\" class=\"data row2 col2\" >1.00</td>\n",
              "                        <td id=\"T_c727e982_4522_11eb_b41f_0242ac1c0002row2_col3\" class=\"data row2 col3\" >0.54</td>\n",
              "                        <td id=\"T_c727e982_4522_11eb_b41f_0242ac1c0002row2_col4\" class=\"data row2 col4\" >0.56</td>\n",
              "                        <td id=\"T_c727e982_4522_11eb_b41f_0242ac1c0002row2_col5\" class=\"data row2 col5\" >0.79</td>\n",
              "                        <td id=\"T_c727e982_4522_11eb_b41f_0242ac1c0002row2_col6\" class=\"data row2 col6\" >0.29</td>\n",
              "                        <td id=\"T_c727e982_4522_11eb_b41f_0242ac1c0002row2_col7\" class=\"data row2 col7\" >0.29</td>\n",
              "                        <td id=\"T_c727e982_4522_11eb_b41f_0242ac1c0002row2_col8\" class=\"data row2 col8\" >0.48</td>\n",
              "                        <td id=\"T_c727e982_4522_11eb_b41f_0242ac1c0002row2_col9\" class=\"data row2 col9\" >0.49</td>\n",
              "                        <td id=\"T_c727e982_4522_11eb_b41f_0242ac1c0002row2_col10\" class=\"data row2 col10\" >0.08</td>\n",
              "                        <td id=\"T_c727e982_4522_11eb_b41f_0242ac1c0002row2_col11\" class=\"data row2 col11\" >0.10</td>\n",
              "                        <td id=\"T_c727e982_4522_11eb_b41f_0242ac1c0002row2_col12\" class=\"data row2 col12\" >0.10</td>\n",
              "                        <td id=\"T_c727e982_4522_11eb_b41f_0242ac1c0002row2_col13\" class=\"data row2 col13\" >0.28</td>\n",
              "                        <td id=\"T_c727e982_4522_11eb_b41f_0242ac1c0002row2_col14\" class=\"data row2 col14\" >0.28</td>\n",
              "                        <td id=\"T_c727e982_4522_11eb_b41f_0242ac1c0002row2_col15\" class=\"data row2 col15\" >0.77</td>\n",
              "                        <td id=\"T_c727e982_4522_11eb_b41f_0242ac1c0002row2_col16\" class=\"data row2 col16\" >0.69</td>\n",
              "            </tr>\n",
              "            <tr>\n",
              "                        <th id=\"T_c727e982_4522_11eb_b41f_0242ac1c0002level0_row3\" class=\"row_heading level0 row3\" >PARA_B</th>\n",
              "                        <td id=\"T_c727e982_4522_11eb_b41f_0242ac1c0002row3_col0\" class=\"data row3 col0\" >-0.13</td>\n",
              "                        <td id=\"T_c727e982_4522_11eb_b41f_0242ac1c0002row3_col1\" class=\"data row3 col1\" >0.53</td>\n",
              "                        <td id=\"T_c727e982_4522_11eb_b41f_0242ac1c0002row3_col2\" class=\"data row3 col2\" >0.54</td>\n",
              "                        <td id=\"T_c727e982_4522_11eb_b41f_0242ac1c0002row3_col3\" class=\"data row3 col3\" >1.00</td>\n",
              "                        <td id=\"T_c727e982_4522_11eb_b41f_0242ac1c0002row3_col4\" class=\"data row3 col4\" >0.83</td>\n",
              "                        <td id=\"T_c727e982_4522_11eb_b41f_0242ac1c0002row3_col5\" class=\"data row3 col5\" >0.85</td>\n",
              "                        <td id=\"T_c727e982_4522_11eb_b41f_0242ac1c0002row3_col6\" class=\"data row3 col6\" >0.32</td>\n",
              "                        <td id=\"T_c727e982_4522_11eb_b41f_0242ac1c0002row3_col7\" class=\"data row3 col7\" >0.32</td>\n",
              "                        <td id=\"T_c727e982_4522_11eb_b41f_0242ac1c0002row3_col8\" class=\"data row3 col8\" >0.58</td>\n",
              "                        <td id=\"T_c727e982_4522_11eb_b41f_0242ac1c0002row3_col9\" class=\"data row3 col9\" >0.55</td>\n",
              "                        <td id=\"T_c727e982_4522_11eb_b41f_0242ac1c0002row3_col10\" class=\"data row3 col10\" >-0.04</td>\n",
              "                        <td id=\"T_c727e982_4522_11eb_b41f_0242ac1c0002row3_col11\" class=\"data row3 col11\" >0.07</td>\n",
              "                        <td id=\"T_c727e982_4522_11eb_b41f_0242ac1c0002row3_col12\" class=\"data row3 col12\" >0.06</td>\n",
              "                        <td id=\"T_c727e982_4522_11eb_b41f_0242ac1c0002row3_col13\" class=\"data row3 col13\" >0.30</td>\n",
              "                        <td id=\"T_c727e982_4522_11eb_b41f_0242ac1c0002row3_col14\" class=\"data row3 col14\" >0.30</td>\n",
              "                        <td id=\"T_c727e982_4522_11eb_b41f_0242ac1c0002row3_col15\" class=\"data row3 col15\" >0.72</td>\n",
              "                        <td id=\"T_c727e982_4522_11eb_b41f_0242ac1c0002row3_col16\" class=\"data row3 col16\" >0.46</td>\n",
              "            </tr>\n",
              "            <tr>\n",
              "                        <th id=\"T_c727e982_4522_11eb_b41f_0242ac1c0002level0_row4\" class=\"row_heading level0 row4\" >SCORE_B</th>\n",
              "                        <td id=\"T_c727e982_4522_11eb_b41f_0242ac1c0002row4_col0\" class=\"data row4 col0\" >-0.10</td>\n",
              "                        <td id=\"T_c727e982_4522_11eb_b41f_0242ac1c0002row4_col1\" class=\"data row4 col1\" >0.55</td>\n",
              "                        <td id=\"T_c727e982_4522_11eb_b41f_0242ac1c0002row4_col2\" class=\"data row4 col2\" >0.56</td>\n",
              "                        <td id=\"T_c727e982_4522_11eb_b41f_0242ac1c0002row4_col3\" class=\"data row4 col3\" >0.83</td>\n",
              "                        <td id=\"T_c727e982_4522_11eb_b41f_0242ac1c0002row4_col4\" class=\"data row4 col4\" >1.00</td>\n",
              "                        <td id=\"T_c727e982_4522_11eb_b41f_0242ac1c0002row4_col5\" class=\"data row4 col5\" >0.78</td>\n",
              "                        <td id=\"T_c727e982_4522_11eb_b41f_0242ac1c0002row4_col6\" class=\"data row4 col6\" >0.33</td>\n",
              "                        <td id=\"T_c727e982_4522_11eb_b41f_0242ac1c0002row4_col7\" class=\"data row4 col7\" >0.33</td>\n",
              "                        <td id=\"T_c727e982_4522_11eb_b41f_0242ac1c0002row4_col8\" class=\"data row4 col8\" >0.58</td>\n",
              "                        <td id=\"T_c727e982_4522_11eb_b41f_0242ac1c0002row4_col9\" class=\"data row4 col9\" >0.57</td>\n",
              "                        <td id=\"T_c727e982_4522_11eb_b41f_0242ac1c0002row4_col10\" class=\"data row4 col10\" >-0.00</td>\n",
              "                        <td id=\"T_c727e982_4522_11eb_b41f_0242ac1c0002row4_col11\" class=\"data row4 col11\" >0.10</td>\n",
              "                        <td id=\"T_c727e982_4522_11eb_b41f_0242ac1c0002row4_col12\" class=\"data row4 col12\" >0.09</td>\n",
              "                        <td id=\"T_c727e982_4522_11eb_b41f_0242ac1c0002row4_col13\" class=\"data row4 col13\" >0.32</td>\n",
              "                        <td id=\"T_c727e982_4522_11eb_b41f_0242ac1c0002row4_col14\" class=\"data row4 col14\" >0.32</td>\n",
              "                        <td id=\"T_c727e982_4522_11eb_b41f_0242ac1c0002row4_col15\" class=\"data row4 col15\" >0.82</td>\n",
              "                        <td id=\"T_c727e982_4522_11eb_b41f_0242ac1c0002row4_col16\" class=\"data row4 col16\" >0.53</td>\n",
              "            </tr>\n",
              "            <tr>\n",
              "                        <th id=\"T_c727e982_4522_11eb_b41f_0242ac1c0002level0_row5\" class=\"row_heading level0 row5\" >TOTAL</th>\n",
              "                        <td id=\"T_c727e982_4522_11eb_b41f_0242ac1c0002row5_col0\" class=\"data row5 col0\" >-0.31</td>\n",
              "                        <td id=\"T_c727e982_4522_11eb_b41f_0242ac1c0002row5_col1\" class=\"data row5 col1\" >0.82</td>\n",
              "                        <td id=\"T_c727e982_4522_11eb_b41f_0242ac1c0002row5_col2\" class=\"data row5 col2\" >0.79</td>\n",
              "                        <td id=\"T_c727e982_4522_11eb_b41f_0242ac1c0002row5_col3\" class=\"data row5 col3\" >0.85</td>\n",
              "                        <td id=\"T_c727e982_4522_11eb_b41f_0242ac1c0002row5_col4\" class=\"data row5 col4\" >0.78</td>\n",
              "                        <td id=\"T_c727e982_4522_11eb_b41f_0242ac1c0002row5_col5\" class=\"data row5 col5\" >1.00</td>\n",
              "                        <td id=\"T_c727e982_4522_11eb_b41f_0242ac1c0002row5_col6\" class=\"data row5 col6\" >0.32</td>\n",
              "                        <td id=\"T_c727e982_4522_11eb_b41f_0242ac1c0002row5_col7\" class=\"data row5 col7\" >0.32</td>\n",
              "                        <td id=\"T_c727e982_4522_11eb_b41f_0242ac1c0002row5_col8\" class=\"data row5 col8\" >0.59</td>\n",
              "                        <td id=\"T_c727e982_4522_11eb_b41f_0242ac1c0002row5_col9\" class=\"data row5 col9\" >0.55</td>\n",
              "                        <td id=\"T_c727e982_4522_11eb_b41f_0242ac1c0002row5_col10\" class=\"data row5 col10\" >0.02</td>\n",
              "                        <td id=\"T_c727e982_4522_11eb_b41f_0242ac1c0002row5_col11\" class=\"data row5 col11\" >0.10</td>\n",
              "                        <td id=\"T_c727e982_4522_11eb_b41f_0242ac1c0002row5_col12\" class=\"data row5 col12\" >0.10</td>\n",
              "                        <td id=\"T_c727e982_4522_11eb_b41f_0242ac1c0002row5_col13\" class=\"data row5 col13\" >0.30</td>\n",
              "                        <td id=\"T_c727e982_4522_11eb_b41f_0242ac1c0002row5_col14\" class=\"data row5 col14\" >0.30</td>\n",
              "                        <td id=\"T_c727e982_4522_11eb_b41f_0242ac1c0002row5_col15\" class=\"data row5 col15\" >0.84</td>\n",
              "                        <td id=\"T_c727e982_4522_11eb_b41f_0242ac1c0002row5_col16\" class=\"data row5 col16\" >0.69</td>\n",
              "            </tr>\n",
              "            <tr>\n",
              "                        <th id=\"T_c727e982_4522_11eb_b41f_0242ac1c0002level0_row6\" class=\"row_heading level0 row6\" >numbers</th>\n",
              "                        <td id=\"T_c727e982_4522_11eb_b41f_0242ac1c0002row6_col0\" class=\"data row6 col0\" >-0.07</td>\n",
              "                        <td id=\"T_c727e982_4522_11eb_b41f_0242ac1c0002row6_col1\" class=\"data row6 col1\" >0.28</td>\n",
              "                        <td id=\"T_c727e982_4522_11eb_b41f_0242ac1c0002row6_col2\" class=\"data row6 col2\" >0.29</td>\n",
              "                        <td id=\"T_c727e982_4522_11eb_b41f_0242ac1c0002row6_col3\" class=\"data row6 col3\" >0.32</td>\n",
              "                        <td id=\"T_c727e982_4522_11eb_b41f_0242ac1c0002row6_col4\" class=\"data row6 col4\" >0.33</td>\n",
              "                        <td id=\"T_c727e982_4522_11eb_b41f_0242ac1c0002row6_col5\" class=\"data row6 col5\" >0.32</td>\n",
              "                        <td id=\"T_c727e982_4522_11eb_b41f_0242ac1c0002row6_col6\" class=\"data row6 col6\" >1.00</td>\n",
              "                        <td id=\"T_c727e982_4522_11eb_b41f_0242ac1c0002row6_col7\" class=\"data row6 col7\" >1.00</td>\n",
              "                        <td id=\"T_c727e982_4522_11eb_b41f_0242ac1c0002row6_col8\" class=\"data row6 col8\" >0.42</td>\n",
              "                        <td id=\"T_c727e982_4522_11eb_b41f_0242ac1c0002row6_col9\" class=\"data row6 col9\" >0.51</td>\n",
              "                        <td id=\"T_c727e982_4522_11eb_b41f_0242ac1c0002row6_col10\" class=\"data row6 col10\" >0.14</td>\n",
              "                        <td id=\"T_c727e982_4522_11eb_b41f_0242ac1c0002row6_col11\" class=\"data row6 col11\" >0.03</td>\n",
              "                        <td id=\"T_c727e982_4522_11eb_b41f_0242ac1c0002row6_col12\" class=\"data row6 col12\" >0.05</td>\n",
              "                        <td id=\"T_c727e982_4522_11eb_b41f_0242ac1c0002row6_col13\" class=\"data row6 col13\" >0.23</td>\n",
              "                        <td id=\"T_c727e982_4522_11eb_b41f_0242ac1c0002row6_col14\" class=\"data row6 col14\" >0.23</td>\n",
              "                        <td id=\"T_c727e982_4522_11eb_b41f_0242ac1c0002row6_col15\" class=\"data row6 col15\" >0.46</td>\n",
              "                        <td id=\"T_c727e982_4522_11eb_b41f_0242ac1c0002row6_col16\" class=\"data row6 col16\" >0.24</td>\n",
              "            </tr>\n",
              "            <tr>\n",
              "                        <th id=\"T_c727e982_4522_11eb_b41f_0242ac1c0002level0_row7\" class=\"row_heading level0 row7\" >Marks</th>\n",
              "                        <td id=\"T_c727e982_4522_11eb_b41f_0242ac1c0002row7_col0\" class=\"data row7 col0\" >-0.07</td>\n",
              "                        <td id=\"T_c727e982_4522_11eb_b41f_0242ac1c0002row7_col1\" class=\"data row7 col1\" >0.28</td>\n",
              "                        <td id=\"T_c727e982_4522_11eb_b41f_0242ac1c0002row7_col2\" class=\"data row7 col2\" >0.29</td>\n",
              "                        <td id=\"T_c727e982_4522_11eb_b41f_0242ac1c0002row7_col3\" class=\"data row7 col3\" >0.32</td>\n",
              "                        <td id=\"T_c727e982_4522_11eb_b41f_0242ac1c0002row7_col4\" class=\"data row7 col4\" >0.33</td>\n",
              "                        <td id=\"T_c727e982_4522_11eb_b41f_0242ac1c0002row7_col5\" class=\"data row7 col5\" >0.32</td>\n",
              "                        <td id=\"T_c727e982_4522_11eb_b41f_0242ac1c0002row7_col6\" class=\"data row7 col6\" >1.00</td>\n",
              "                        <td id=\"T_c727e982_4522_11eb_b41f_0242ac1c0002row7_col7\" class=\"data row7 col7\" >1.00</td>\n",
              "                        <td id=\"T_c727e982_4522_11eb_b41f_0242ac1c0002row7_col8\" class=\"data row7 col8\" >0.42</td>\n",
              "                        <td id=\"T_c727e982_4522_11eb_b41f_0242ac1c0002row7_col9\" class=\"data row7 col9\" >0.51</td>\n",
              "                        <td id=\"T_c727e982_4522_11eb_b41f_0242ac1c0002row7_col10\" class=\"data row7 col10\" >0.14</td>\n",
              "                        <td id=\"T_c727e982_4522_11eb_b41f_0242ac1c0002row7_col11\" class=\"data row7 col11\" >0.03</td>\n",
              "                        <td id=\"T_c727e982_4522_11eb_b41f_0242ac1c0002row7_col12\" class=\"data row7 col12\" >0.05</td>\n",
              "                        <td id=\"T_c727e982_4522_11eb_b41f_0242ac1c0002row7_col13\" class=\"data row7 col13\" >0.23</td>\n",
              "                        <td id=\"T_c727e982_4522_11eb_b41f_0242ac1c0002row7_col14\" class=\"data row7 col14\" >0.23</td>\n",
              "                        <td id=\"T_c727e982_4522_11eb_b41f_0242ac1c0002row7_col15\" class=\"data row7 col15\" >0.46</td>\n",
              "                        <td id=\"T_c727e982_4522_11eb_b41f_0242ac1c0002row7_col16\" class=\"data row7 col16\" >0.24</td>\n",
              "            </tr>\n",
              "            <tr>\n",
              "                        <th id=\"T_c727e982_4522_11eb_b41f_0242ac1c0002level0_row8\" class=\"row_heading level0 row8\" >Money_Value</th>\n",
              "                        <td id=\"T_c727e982_4522_11eb_b41f_0242ac1c0002row8_col0\" class=\"data row8 col0\" >-0.17</td>\n",
              "                        <td id=\"T_c727e982_4522_11eb_b41f_0242ac1c0002row8_col1\" class=\"data row8 col1\" >0.46</td>\n",
              "                        <td id=\"T_c727e982_4522_11eb_b41f_0242ac1c0002row8_col2\" class=\"data row8 col2\" >0.48</td>\n",
              "                        <td id=\"T_c727e982_4522_11eb_b41f_0242ac1c0002row8_col3\" class=\"data row8 col3\" >0.58</td>\n",
              "                        <td id=\"T_c727e982_4522_11eb_b41f_0242ac1c0002row8_col4\" class=\"data row8 col4\" >0.58</td>\n",
              "                        <td id=\"T_c727e982_4522_11eb_b41f_0242ac1c0002row8_col5\" class=\"data row8 col5\" >0.59</td>\n",
              "                        <td id=\"T_c727e982_4522_11eb_b41f_0242ac1c0002row8_col6\" class=\"data row8 col6\" >0.42</td>\n",
              "                        <td id=\"T_c727e982_4522_11eb_b41f_0242ac1c0002row8_col7\" class=\"data row8 col7\" >0.42</td>\n",
              "                        <td id=\"T_c727e982_4522_11eb_b41f_0242ac1c0002row8_col8\" class=\"data row8 col8\" >1.00</td>\n",
              "                        <td id=\"T_c727e982_4522_11eb_b41f_0242ac1c0002row8_col9\" class=\"data row8 col9\" >0.80</td>\n",
              "                        <td id=\"T_c727e982_4522_11eb_b41f_0242ac1c0002row8_col10\" class=\"data row8 col10\" >0.06</td>\n",
              "                        <td id=\"T_c727e982_4522_11eb_b41f_0242ac1c0002row8_col11\" class=\"data row8 col11\" >0.12</td>\n",
              "                        <td id=\"T_c727e982_4522_11eb_b41f_0242ac1c0002row8_col12\" class=\"data row8 col12\" >0.13</td>\n",
              "                        <td id=\"T_c727e982_4522_11eb_b41f_0242ac1c0002row8_col13\" class=\"data row8 col13\" >0.31</td>\n",
              "                        <td id=\"T_c727e982_4522_11eb_b41f_0242ac1c0002row8_col14\" class=\"data row8 col14\" >0.31</td>\n",
              "                        <td id=\"T_c727e982_4522_11eb_b41f_0242ac1c0002row8_col15\" class=\"data row8 col15\" >0.67</td>\n",
              "                        <td id=\"T_c727e982_4522_11eb_b41f_0242ac1c0002row8_col16\" class=\"data row8 col16\" >0.46</td>\n",
              "            </tr>\n",
              "            <tr>\n",
              "                        <th id=\"T_c727e982_4522_11eb_b41f_0242ac1c0002level0_row9\" class=\"row_heading level0 row9\" >MONEY_Marks</th>\n",
              "                        <td id=\"T_c727e982_4522_11eb_b41f_0242ac1c0002row9_col0\" class=\"data row9 col0\" >-0.13</td>\n",
              "                        <td id=\"T_c727e982_4522_11eb_b41f_0242ac1c0002row9_col1\" class=\"data row9 col1\" >0.45</td>\n",
              "                        <td id=\"T_c727e982_4522_11eb_b41f_0242ac1c0002row9_col2\" class=\"data row9 col2\" >0.49</td>\n",
              "                        <td id=\"T_c727e982_4522_11eb_b41f_0242ac1c0002row9_col3\" class=\"data row9 col3\" >0.55</td>\n",
              "                        <td id=\"T_c727e982_4522_11eb_b41f_0242ac1c0002row9_col4\" class=\"data row9 col4\" >0.57</td>\n",
              "                        <td id=\"T_c727e982_4522_11eb_b41f_0242ac1c0002row9_col5\" class=\"data row9 col5\" >0.55</td>\n",
              "                        <td id=\"T_c727e982_4522_11eb_b41f_0242ac1c0002row9_col6\" class=\"data row9 col6\" >0.51</td>\n",
              "                        <td id=\"T_c727e982_4522_11eb_b41f_0242ac1c0002row9_col7\" class=\"data row9 col7\" >0.51</td>\n",
              "                        <td id=\"T_c727e982_4522_11eb_b41f_0242ac1c0002row9_col8\" class=\"data row9 col8\" >0.80</td>\n",
              "                        <td id=\"T_c727e982_4522_11eb_b41f_0242ac1c0002row9_col9\" class=\"data row9 col9\" >1.00</td>\n",
              "                        <td id=\"T_c727e982_4522_11eb_b41f_0242ac1c0002row9_col10\" class=\"data row9 col10\" >0.08</td>\n",
              "                        <td id=\"T_c727e982_4522_11eb_b41f_0242ac1c0002row9_col11\" class=\"data row9 col11\" >0.10</td>\n",
              "                        <td id=\"T_c727e982_4522_11eb_b41f_0242ac1c0002row9_col12\" class=\"data row9 col12\" >0.12</td>\n",
              "                        <td id=\"T_c727e982_4522_11eb_b41f_0242ac1c0002row9_col13\" class=\"data row9 col13\" >0.36</td>\n",
              "                        <td id=\"T_c727e982_4522_11eb_b41f_0242ac1c0002row9_col14\" class=\"data row9 col14\" >0.36</td>\n",
              "                        <td id=\"T_c727e982_4522_11eb_b41f_0242ac1c0002row9_col15\" class=\"data row9 col15\" >0.70</td>\n",
              "                        <td id=\"T_c727e982_4522_11eb_b41f_0242ac1c0002row9_col16\" class=\"data row9 col16\" >0.45</td>\n",
              "            </tr>\n",
              "            <tr>\n",
              "                        <th id=\"T_c727e982_4522_11eb_b41f_0242ac1c0002level0_row10\" class=\"row_heading level0 row10\" >District</th>\n",
              "                        <td id=\"T_c727e982_4522_11eb_b41f_0242ac1c0002row10_col0\" class=\"data row10 col0\" >-0.15</td>\n",
              "                        <td id=\"T_c727e982_4522_11eb_b41f_0242ac1c0002row10_col1\" class=\"data row10 col1\" >0.09</td>\n",
              "                        <td id=\"T_c727e982_4522_11eb_b41f_0242ac1c0002row10_col2\" class=\"data row10 col2\" >0.08</td>\n",
              "                        <td id=\"T_c727e982_4522_11eb_b41f_0242ac1c0002row10_col3\" class=\"data row10 col3\" >-0.04</td>\n",
              "                        <td id=\"T_c727e982_4522_11eb_b41f_0242ac1c0002row10_col4\" class=\"data row10 col4\" >-0.00</td>\n",
              "                        <td id=\"T_c727e982_4522_11eb_b41f_0242ac1c0002row10_col5\" class=\"data row10 col5\" >0.02</td>\n",
              "                        <td id=\"T_c727e982_4522_11eb_b41f_0242ac1c0002row10_col6\" class=\"data row10 col6\" >0.14</td>\n",
              "                        <td id=\"T_c727e982_4522_11eb_b41f_0242ac1c0002row10_col7\" class=\"data row10 col7\" >0.14</td>\n",
              "                        <td id=\"T_c727e982_4522_11eb_b41f_0242ac1c0002row10_col8\" class=\"data row10 col8\" >0.06</td>\n",
              "                        <td id=\"T_c727e982_4522_11eb_b41f_0242ac1c0002row10_col9\" class=\"data row10 col9\" >0.08</td>\n",
              "                        <td id=\"T_c727e982_4522_11eb_b41f_0242ac1c0002row10_col10\" class=\"data row10 col10\" >1.00</td>\n",
              "                        <td id=\"T_c727e982_4522_11eb_b41f_0242ac1c0002row10_col11\" class=\"data row10 col11\" >0.04</td>\n",
              "                        <td id=\"T_c727e982_4522_11eb_b41f_0242ac1c0002row10_col12\" class=\"data row10 col12\" >0.06</td>\n",
              "                        <td id=\"T_c727e982_4522_11eb_b41f_0242ac1c0002row10_col13\" class=\"data row10 col13\" >0.04</td>\n",
              "                        <td id=\"T_c727e982_4522_11eb_b41f_0242ac1c0002row10_col14\" class=\"data row10 col14\" >0.04</td>\n",
              "                        <td id=\"T_c727e982_4522_11eb_b41f_0242ac1c0002row10_col15\" class=\"data row10 col15\" >0.29</td>\n",
              "                        <td id=\"T_c727e982_4522_11eb_b41f_0242ac1c0002row10_col16\" class=\"data row10 col16\" >0.33</td>\n",
              "            </tr>\n",
              "            <tr>\n",
              "                        <th id=\"T_c727e982_4522_11eb_b41f_0242ac1c0002level0_row11\" class=\"row_heading level0 row11\" >Loss</th>\n",
              "                        <td id=\"T_c727e982_4522_11eb_b41f_0242ac1c0002row11_col0\" class=\"data row11 col0\" >-0.08</td>\n",
              "                        <td id=\"T_c727e982_4522_11eb_b41f_0242ac1c0002row11_col1\" class=\"data row11 col1\" >0.10</td>\n",
              "                        <td id=\"T_c727e982_4522_11eb_b41f_0242ac1c0002row11_col2\" class=\"data row11 col2\" >0.10</td>\n",
              "                        <td id=\"T_c727e982_4522_11eb_b41f_0242ac1c0002row11_col3\" class=\"data row11 col3\" >0.07</td>\n",
              "                        <td id=\"T_c727e982_4522_11eb_b41f_0242ac1c0002row11_col4\" class=\"data row11 col4\" >0.10</td>\n",
              "                        <td id=\"T_c727e982_4522_11eb_b41f_0242ac1c0002row11_col5\" class=\"data row11 col5\" >0.10</td>\n",
              "                        <td id=\"T_c727e982_4522_11eb_b41f_0242ac1c0002row11_col6\" class=\"data row11 col6\" >0.03</td>\n",
              "                        <td id=\"T_c727e982_4522_11eb_b41f_0242ac1c0002row11_col7\" class=\"data row11 col7\" >0.03</td>\n",
              "                        <td id=\"T_c727e982_4522_11eb_b41f_0242ac1c0002row11_col8\" class=\"data row11 col8\" >0.12</td>\n",
              "                        <td id=\"T_c727e982_4522_11eb_b41f_0242ac1c0002row11_col9\" class=\"data row11 col9\" >0.10</td>\n",
              "                        <td id=\"T_c727e982_4522_11eb_b41f_0242ac1c0002row11_col10\" class=\"data row11 col10\" >0.04</td>\n",
              "                        <td id=\"T_c727e982_4522_11eb_b41f_0242ac1c0002row11_col11\" class=\"data row11 col11\" >1.00</td>\n",
              "                        <td id=\"T_c727e982_4522_11eb_b41f_0242ac1c0002row11_col12\" class=\"data row11 col12\" >0.98</td>\n",
              "                        <td id=\"T_c727e982_4522_11eb_b41f_0242ac1c0002row11_col13\" class=\"data row11 col13\" >0.12</td>\n",
              "                        <td id=\"T_c727e982_4522_11eb_b41f_0242ac1c0002row11_col14\" class=\"data row11 col14\" >0.12</td>\n",
              "                        <td id=\"T_c727e982_4522_11eb_b41f_0242ac1c0002row11_col15\" class=\"data row11 col15\" >0.17</td>\n",
              "                        <td id=\"T_c727e982_4522_11eb_b41f_0242ac1c0002row11_col16\" class=\"data row11 col16\" >0.13</td>\n",
              "            </tr>\n",
              "            <tr>\n",
              "                        <th id=\"T_c727e982_4522_11eb_b41f_0242ac1c0002level0_row12\" class=\"row_heading level0 row12\" >LOSS_SCORE</th>\n",
              "                        <td id=\"T_c727e982_4522_11eb_b41f_0242ac1c0002row12_col0\" class=\"data row12 col0\" >-0.09</td>\n",
              "                        <td id=\"T_c727e982_4522_11eb_b41f_0242ac1c0002row12_col1\" class=\"data row12 col1\" >0.10</td>\n",
              "                        <td id=\"T_c727e982_4522_11eb_b41f_0242ac1c0002row12_col2\" class=\"data row12 col2\" >0.10</td>\n",
              "                        <td id=\"T_c727e982_4522_11eb_b41f_0242ac1c0002row12_col3\" class=\"data row12 col3\" >0.06</td>\n",
              "                        <td id=\"T_c727e982_4522_11eb_b41f_0242ac1c0002row12_col4\" class=\"data row12 col4\" >0.09</td>\n",
              "                        <td id=\"T_c727e982_4522_11eb_b41f_0242ac1c0002row12_col5\" class=\"data row12 col5\" >0.10</td>\n",
              "                        <td id=\"T_c727e982_4522_11eb_b41f_0242ac1c0002row12_col6\" class=\"data row12 col6\" >0.05</td>\n",
              "                        <td id=\"T_c727e982_4522_11eb_b41f_0242ac1c0002row12_col7\" class=\"data row12 col7\" >0.05</td>\n",
              "                        <td id=\"T_c727e982_4522_11eb_b41f_0242ac1c0002row12_col8\" class=\"data row12 col8\" >0.13</td>\n",
              "                        <td id=\"T_c727e982_4522_11eb_b41f_0242ac1c0002row12_col9\" class=\"data row12 col9\" >0.12</td>\n",
              "                        <td id=\"T_c727e982_4522_11eb_b41f_0242ac1c0002row12_col10\" class=\"data row12 col10\" >0.06</td>\n",
              "                        <td id=\"T_c727e982_4522_11eb_b41f_0242ac1c0002row12_col11\" class=\"data row12 col11\" >0.98</td>\n",
              "                        <td id=\"T_c727e982_4522_11eb_b41f_0242ac1c0002row12_col12\" class=\"data row12 col12\" >1.00</td>\n",
              "                        <td id=\"T_c727e982_4522_11eb_b41f_0242ac1c0002row12_col13\" class=\"data row12 col13\" >0.15</td>\n",
              "                        <td id=\"T_c727e982_4522_11eb_b41f_0242ac1c0002row12_col14\" class=\"data row12 col14\" >0.15</td>\n",
              "                        <td id=\"T_c727e982_4522_11eb_b41f_0242ac1c0002row12_col15\" class=\"data row12 col15\" >0.17</td>\n",
              "                        <td id=\"T_c727e982_4522_11eb_b41f_0242ac1c0002row12_col16\" class=\"data row12 col16\" >0.13</td>\n",
              "            </tr>\n",
              "            <tr>\n",
              "                        <th id=\"T_c727e982_4522_11eb_b41f_0242ac1c0002level0_row13\" class=\"row_heading level0 row13\" >History</th>\n",
              "                        <td id=\"T_c727e982_4522_11eb_b41f_0242ac1c0002row13_col0\" class=\"data row13 col0\" >-0.05</td>\n",
              "                        <td id=\"T_c727e982_4522_11eb_b41f_0242ac1c0002row13_col1\" class=\"data row13 col1\" >0.27</td>\n",
              "                        <td id=\"T_c727e982_4522_11eb_b41f_0242ac1c0002row13_col2\" class=\"data row13 col2\" >0.28</td>\n",
              "                        <td id=\"T_c727e982_4522_11eb_b41f_0242ac1c0002row13_col3\" class=\"data row13 col3\" >0.30</td>\n",
              "                        <td id=\"T_c727e982_4522_11eb_b41f_0242ac1c0002row13_col4\" class=\"data row13 col4\" >0.32</td>\n",
              "                        <td id=\"T_c727e982_4522_11eb_b41f_0242ac1c0002row13_col5\" class=\"data row13 col5\" >0.30</td>\n",
              "                        <td id=\"T_c727e982_4522_11eb_b41f_0242ac1c0002row13_col6\" class=\"data row13 col6\" >0.23</td>\n",
              "                        <td id=\"T_c727e982_4522_11eb_b41f_0242ac1c0002row13_col7\" class=\"data row13 col7\" >0.23</td>\n",
              "                        <td id=\"T_c727e982_4522_11eb_b41f_0242ac1c0002row13_col8\" class=\"data row13 col8\" >0.31</td>\n",
              "                        <td id=\"T_c727e982_4522_11eb_b41f_0242ac1c0002row13_col9\" class=\"data row13 col9\" >0.36</td>\n",
              "                        <td id=\"T_c727e982_4522_11eb_b41f_0242ac1c0002row13_col10\" class=\"data row13 col10\" >0.04</td>\n",
              "                        <td id=\"T_c727e982_4522_11eb_b41f_0242ac1c0002row13_col11\" class=\"data row13 col11\" >0.12</td>\n",
              "                        <td id=\"T_c727e982_4522_11eb_b41f_0242ac1c0002row13_col12\" class=\"data row13 col12\" >0.15</td>\n",
              "                        <td id=\"T_c727e982_4522_11eb_b41f_0242ac1c0002row13_col13\" class=\"data row13 col13\" >1.00</td>\n",
              "                        <td id=\"T_c727e982_4522_11eb_b41f_0242ac1c0002row13_col14\" class=\"data row13 col14\" >1.00</td>\n",
              "                        <td id=\"T_c727e982_4522_11eb_b41f_0242ac1c0002row13_col15\" class=\"data row13 col15\" >0.37</td>\n",
              "                        <td id=\"T_c727e982_4522_11eb_b41f_0242ac1c0002row13_col16\" class=\"data row13 col16\" >0.20</td>\n",
              "            </tr>\n",
              "            <tr>\n",
              "                        <th id=\"T_c727e982_4522_11eb_b41f_0242ac1c0002level0_row14\" class=\"row_heading level0 row14\" >History_score</th>\n",
              "                        <td id=\"T_c727e982_4522_11eb_b41f_0242ac1c0002row14_col0\" class=\"data row14 col0\" >-0.05</td>\n",
              "                        <td id=\"T_c727e982_4522_11eb_b41f_0242ac1c0002row14_col1\" class=\"data row14 col1\" >0.27</td>\n",
              "                        <td id=\"T_c727e982_4522_11eb_b41f_0242ac1c0002row14_col2\" class=\"data row14 col2\" >0.28</td>\n",
              "                        <td id=\"T_c727e982_4522_11eb_b41f_0242ac1c0002row14_col3\" class=\"data row14 col3\" >0.30</td>\n",
              "                        <td id=\"T_c727e982_4522_11eb_b41f_0242ac1c0002row14_col4\" class=\"data row14 col4\" >0.32</td>\n",
              "                        <td id=\"T_c727e982_4522_11eb_b41f_0242ac1c0002row14_col5\" class=\"data row14 col5\" >0.30</td>\n",
              "                        <td id=\"T_c727e982_4522_11eb_b41f_0242ac1c0002row14_col6\" class=\"data row14 col6\" >0.23</td>\n",
              "                        <td id=\"T_c727e982_4522_11eb_b41f_0242ac1c0002row14_col7\" class=\"data row14 col7\" >0.23</td>\n",
              "                        <td id=\"T_c727e982_4522_11eb_b41f_0242ac1c0002row14_col8\" class=\"data row14 col8\" >0.31</td>\n",
              "                        <td id=\"T_c727e982_4522_11eb_b41f_0242ac1c0002row14_col9\" class=\"data row14 col9\" >0.36</td>\n",
              "                        <td id=\"T_c727e982_4522_11eb_b41f_0242ac1c0002row14_col10\" class=\"data row14 col10\" >0.04</td>\n",
              "                        <td id=\"T_c727e982_4522_11eb_b41f_0242ac1c0002row14_col11\" class=\"data row14 col11\" >0.12</td>\n",
              "                        <td id=\"T_c727e982_4522_11eb_b41f_0242ac1c0002row14_col12\" class=\"data row14 col12\" >0.15</td>\n",
              "                        <td id=\"T_c727e982_4522_11eb_b41f_0242ac1c0002row14_col13\" class=\"data row14 col13\" >1.00</td>\n",
              "                        <td id=\"T_c727e982_4522_11eb_b41f_0242ac1c0002row14_col14\" class=\"data row14 col14\" >1.00</td>\n",
              "                        <td id=\"T_c727e982_4522_11eb_b41f_0242ac1c0002row14_col15\" class=\"data row14 col15\" >0.37</td>\n",
              "                        <td id=\"T_c727e982_4522_11eb_b41f_0242ac1c0002row14_col16\" class=\"data row14 col16\" >0.20</td>\n",
              "            </tr>\n",
              "            <tr>\n",
              "                        <th id=\"T_c727e982_4522_11eb_b41f_0242ac1c0002level0_row15\" class=\"row_heading level0 row15\" >Score</th>\n",
              "                        <td id=\"T_c727e982_4522_11eb_b41f_0242ac1c0002row15_col0\" class=\"data row15 col0\" >-0.30</td>\n",
              "                        <td id=\"T_c727e982_4522_11eb_b41f_0242ac1c0002row15_col1\" class=\"data row15 col1\" >0.72</td>\n",
              "                        <td id=\"T_c727e982_4522_11eb_b41f_0242ac1c0002row15_col2\" class=\"data row15 col2\" >0.77</td>\n",
              "                        <td id=\"T_c727e982_4522_11eb_b41f_0242ac1c0002row15_col3\" class=\"data row15 col3\" >0.72</td>\n",
              "                        <td id=\"T_c727e982_4522_11eb_b41f_0242ac1c0002row15_col4\" class=\"data row15 col4\" >0.82</td>\n",
              "                        <td id=\"T_c727e982_4522_11eb_b41f_0242ac1c0002row15_col5\" class=\"data row15 col5\" >0.84</td>\n",
              "                        <td id=\"T_c727e982_4522_11eb_b41f_0242ac1c0002row15_col6\" class=\"data row15 col6\" >0.46</td>\n",
              "                        <td id=\"T_c727e982_4522_11eb_b41f_0242ac1c0002row15_col7\" class=\"data row15 col7\" >0.46</td>\n",
              "                        <td id=\"T_c727e982_4522_11eb_b41f_0242ac1c0002row15_col8\" class=\"data row15 col8\" >0.67</td>\n",
              "                        <td id=\"T_c727e982_4522_11eb_b41f_0242ac1c0002row15_col9\" class=\"data row15 col9\" >0.70</td>\n",
              "                        <td id=\"T_c727e982_4522_11eb_b41f_0242ac1c0002row15_col10\" class=\"data row15 col10\" >0.29</td>\n",
              "                        <td id=\"T_c727e982_4522_11eb_b41f_0242ac1c0002row15_col11\" class=\"data row15 col11\" >0.17</td>\n",
              "                        <td id=\"T_c727e982_4522_11eb_b41f_0242ac1c0002row15_col12\" class=\"data row15 col12\" >0.17</td>\n",
              "                        <td id=\"T_c727e982_4522_11eb_b41f_0242ac1c0002row15_col13\" class=\"data row15 col13\" >0.37</td>\n",
              "                        <td id=\"T_c727e982_4522_11eb_b41f_0242ac1c0002row15_col14\" class=\"data row15 col14\" >0.37</td>\n",
              "                        <td id=\"T_c727e982_4522_11eb_b41f_0242ac1c0002row15_col15\" class=\"data row15 col15\" >1.00</td>\n",
              "                        <td id=\"T_c727e982_4522_11eb_b41f_0242ac1c0002row15_col16\" class=\"data row15 col16\" >0.86</td>\n",
              "            </tr>\n",
              "            <tr>\n",
              "                        <th id=\"T_c727e982_4522_11eb_b41f_0242ac1c0002level0_row16\" class=\"row_heading level0 row16\" >Risk</th>\n",
              "                        <td id=\"T_c727e982_4522_11eb_b41f_0242ac1c0002row16_col0\" class=\"data row16 col0\" >-0.37</td>\n",
              "                        <td id=\"T_c727e982_4522_11eb_b41f_0242ac1c0002row16_col1\" class=\"data row16 col1\" >0.65</td>\n",
              "                        <td id=\"T_c727e982_4522_11eb_b41f_0242ac1c0002row16_col2\" class=\"data row16 col2\" >0.69</td>\n",
              "                        <td id=\"T_c727e982_4522_11eb_b41f_0242ac1c0002row16_col3\" class=\"data row16 col3\" >0.46</td>\n",
              "                        <td id=\"T_c727e982_4522_11eb_b41f_0242ac1c0002row16_col4\" class=\"data row16 col4\" >0.53</td>\n",
              "                        <td id=\"T_c727e982_4522_11eb_b41f_0242ac1c0002row16_col5\" class=\"data row16 col5\" >0.69</td>\n",
              "                        <td id=\"T_c727e982_4522_11eb_b41f_0242ac1c0002row16_col6\" class=\"data row16 col6\" >0.24</td>\n",
              "                        <td id=\"T_c727e982_4522_11eb_b41f_0242ac1c0002row16_col7\" class=\"data row16 col7\" >0.24</td>\n",
              "                        <td id=\"T_c727e982_4522_11eb_b41f_0242ac1c0002row16_col8\" class=\"data row16 col8\" >0.46</td>\n",
              "                        <td id=\"T_c727e982_4522_11eb_b41f_0242ac1c0002row16_col9\" class=\"data row16 col9\" >0.45</td>\n",
              "                        <td id=\"T_c727e982_4522_11eb_b41f_0242ac1c0002row16_col10\" class=\"data row16 col10\" >0.33</td>\n",
              "                        <td id=\"T_c727e982_4522_11eb_b41f_0242ac1c0002row16_col11\" class=\"data row16 col11\" >0.13</td>\n",
              "                        <td id=\"T_c727e982_4522_11eb_b41f_0242ac1c0002row16_col12\" class=\"data row16 col12\" >0.13</td>\n",
              "                        <td id=\"T_c727e982_4522_11eb_b41f_0242ac1c0002row16_col13\" class=\"data row16 col13\" >0.20</td>\n",
              "                        <td id=\"T_c727e982_4522_11eb_b41f_0242ac1c0002row16_col14\" class=\"data row16 col14\" >0.20</td>\n",
              "                        <td id=\"T_c727e982_4522_11eb_b41f_0242ac1c0002row16_col15\" class=\"data row16 col15\" >0.86</td>\n",
              "                        <td id=\"T_c727e982_4522_11eb_b41f_0242ac1c0002row16_col16\" class=\"data row16 col16\" >1.00</td>\n",
              "            </tr>\n",
              "    </tbody></table>"
            ],
            "text/plain": [
              "<pandas.io.formats.style.Styler at 0x7fd52a9db860>"
            ]
          },
          "metadata": {
            "tags": []
          },
          "execution_count": 9
        }
      ]
    },
    {
      "cell_type": "markdown",
      "metadata": {
        "id": "YyM_3e_tiEYX"
      },
      "source": [
        "SCORE_A and Score seem to have a relatively high correlation with Risk\n",
        "\n",
        "SCORE_B and money marks also seem to be quite relevant"
      ]
    },
    {
      "cell_type": "code",
      "metadata": {
        "colab": {
          "base_uri": "https://localhost:8080/",
          "height": 286
        },
        "id": "V5ryU4d0B_EP",
        "outputId": "3b83e102-c232-41b7-d2d7-fca0ab6582ff"
      },
      "source": [
        "audit_trial[audit_trial.dtypes[(audit_trial.dtypes==\"float\")].index.values].hist(figsize=[20,20])\n",
        "audit_trial[audit_trial.dtypes[(audit_trial.dtypes==\"int64\")].index.values].hist(figsize=[11,11])\n"
      ],
      "execution_count": null,
      "outputs": [
        {
          "output_type": "execute_result",
          "data": {
            "text/plain": [
              "array([[<matplotlib.axes._subplots.AxesSubplot object at 0x7fd52a3674e0>,\n",
              "        <matplotlib.axes._subplots.AxesSubplot object at 0x7fd52a31c780>,\n",
              "        <matplotlib.axes._subplots.AxesSubplot object at 0x7fd52a2cd9e8>],\n",
              "       [<matplotlib.axes._subplots.AxesSubplot object at 0x7fd52a280c50>,\n",
              "        <matplotlib.axes._subplots.AxesSubplot object at 0x7fd52a2b5eb8>,\n",
              "        <matplotlib.axes._subplots.AxesSubplot object at 0x7fd52a1f6160>],\n",
              "       [<matplotlib.axes._subplots.AxesSubplot object at 0x7fd52a2283c8>,\n",
              "        <matplotlib.axes._subplots.AxesSubplot object at 0x7fd52a1dc5f8>,\n",
              "        <matplotlib.axes._subplots.AxesSubplot object at 0x7fd52a1dc668>],\n",
              "       [<matplotlib.axes._subplots.AxesSubplot object at 0x7fd52a143b00>,\n",
              "        <matplotlib.axes._subplots.AxesSubplot object at 0x7fd52a0f6d68>,\n",
              "        <matplotlib.axes._subplots.AxesSubplot object at 0x7fd52a12cfd0>]],\n",
              "      dtype=object)"
            ]
          },
          "metadata": {
            "tags": []
          },
          "execution_count": 10
        },
        {
          "output_type": "display_data",
          "data": {
            "image/png": "[encoded data removed]",
            "text/plain": [
              "<Figure size 1440x1440 with 9 Axes>"
            ]
          },
          "metadata": {
            "tags": [],
            "needs_background": "light"
          }
        },
        {
          "output_type": "display_data",
          "data": {
            "image/png": "[encoded data removed]",
            "text/plain": [
              "<Figure size 792x792 with 12 Axes>"
            ]
          },
          "metadata": {
            "tags": [],
            "needs_background": "light"
          }
        }
      ]
    },
    {
      "cell_type": "code",
      "metadata": {
        "colab": {
          "base_uri": "https://localhost:8080/",
          "height": 71
        },
        "id": "KnEeDpIXCOb3",
        "outputId": "e91172ed-cff9-49d2-bacf-1419a15819d4"
      },
      "source": [
        "sns.countplot(audit_trial['Risk'], label = \"Count\")"
      ],
      "execution_count": null,
      "outputs": [
        {
          "output_type": "execute_result",
          "data": {
            "text/plain": [
              "<matplotlib.axes._subplots.AxesSubplot at 0x7fd52a16a828>"
            ]
          },
          "metadata": {
            "tags": []
          },
          "execution_count": 11
        },
        {
          "output_type": "display_data",
          "data": {
            "image/png": "[encoded data removed]",
            "text/plain": [
              "<Figure size 432x288 with 1 Axes>"
            ]
          },
          "metadata": {
            "tags": [],
            "needs_background": "light"
          }
        }
      ]
    },
    {
      "cell_type": "markdown",
      "metadata": {
        "id": "_CAzr8JscTgr"
      },
      "source": [
        "# Data Preparation"
      ]
    },
    {
      "cell_type": "markdown",
      "metadata": {
        "id": "Wpej-q_p5u-Y"
      },
      "source": [
        "Deleting TOTAL, which is just the total of PARA_A and PARA_B"
      ]
    },
    {
      "cell_type": "code",
      "metadata": {
        "id": "lAaxiLsj5vRD"
      },
      "source": [
        "cols_del=['TOTAL']\n",
        "\n",
        "audit_trial.drop(cols_del, axis=1, inplace=True)"
      ],
      "execution_count": null,
      "outputs": []
    },
    {
      "cell_type": "code",
      "metadata": {
        "colab": {
          "base_uri": "https://localhost:8080/"
        },
        "id": "21XOm5EdXp2E",
        "outputId": "4677cde6-0e11-4daa-8327-b2376bab9c03"
      },
      "source": [
        "audit_trial.isna().sum()"
      ],
      "execution_count": null,
      "outputs": [
        {
          "output_type": "execute_result",
          "data": {
            "text/plain": [
              "Sector_score     0\n",
              "LOCATION_ID      0\n",
              "PARA_A           0\n",
              "SCORE_A          0\n",
              "PARA_B           0\n",
              "SCORE_B          0\n",
              "numbers          0\n",
              "Marks            0\n",
              "Money_Value      1\n",
              "MONEY_Marks      0\n",
              "District         0\n",
              "Loss             0\n",
              "LOSS_SCORE       0\n",
              "History          0\n",
              "History_score    0\n",
              "Score            0\n",
              "Risk             0\n",
              "dtype: int64"
            ]
          },
          "metadata": {
            "tags": []
          },
          "execution_count": 13
        }
      ]
    },
    {
      "cell_type": "code",
      "metadata": {
        "id": "tn1a-z0HhTge"
      },
      "source": [
        "#We need to drop the row where Money_Value = NaN"
      ],
      "execution_count": null,
      "outputs": []
    },
    {
      "cell_type": "code",
      "metadata": {
        "id": "tphcvQVoZDoV"
      },
      "source": [
        "audit_trial = audit_trial[audit_trial['Money_Value'].notna()]"
      ],
      "execution_count": null,
      "outputs": []
    },
    {
      "cell_type": "code",
      "metadata": {
        "colab": {
          "base_uri": "https://localhost:8080/"
        },
        "id": "WDiQZrapZPWI",
        "outputId": "0c4b34ec-5210-43cc-8efb-b0d9cc594b02"
      },
      "source": [
        "audit_trial.isna().sum()"
      ],
      "execution_count": null,
      "outputs": [
        {
          "output_type": "execute_result",
          "data": {
            "text/plain": [
              "Sector_score     0\n",
              "LOCATION_ID      0\n",
              "PARA_A           0\n",
              "SCORE_A          0\n",
              "PARA_B           0\n",
              "SCORE_B          0\n",
              "numbers          0\n",
              "Marks            0\n",
              "Money_Value      0\n",
              "MONEY_Marks      0\n",
              "District         0\n",
              "Loss             0\n",
              "LOSS_SCORE       0\n",
              "History          0\n",
              "History_score    0\n",
              "Score            0\n",
              "Risk             0\n",
              "dtype: int64"
            ]
          },
          "metadata": {
            "tags": []
          },
          "execution_count": 16
        }
      ]
    },
    {
      "cell_type": "code",
      "metadata": {
        "colab": {
          "base_uri": "https://localhost:8080/"
        },
        "id": "lBo-Agg7ZV3R",
        "outputId": "c46dca4c-eaab-4e5e-9b24-e1c3857b1e9b"
      },
      "source": [
        "audit_trial.shape"
      ],
      "execution_count": null,
      "outputs": [
        {
          "output_type": "execute_result",
          "data": {
            "text/plain": [
              "(775, 17)"
            ]
          },
          "metadata": {
            "tags": []
          },
          "execution_count": 17
        }
      ]
    },
    {
      "cell_type": "code",
      "metadata": {
        "colab": {
          "base_uri": "https://localhost:8080/"
        },
        "id": "wxOp8Eyaz0q1",
        "outputId": "a4284896-4210-4faf-f110-07f69c523940"
      },
      "source": [
        "#Unique values in LOCATION_ID column\n",
        "audit_trial[\"LOCATION_ID\"].unique()"
      ],
      "execution_count": null,
      "outputs": [
        {
          "output_type": "execute_result",
          "data": {
            "text/plain": [
              "array(['23', '6', '7', '8', '13', '37', '24', '3', '4', '14', '5', '20',\n",
              "       '19', '21', '22', '9', '11', '12', '29', '30', '38', '31', '2',\n",
              "       '32', '16', '33', '15', '36', '34', '18', '25', '39', '27', '35',\n",
              "       '40', '41', '42', '1', '28', 'LOHARU', 'NUH', 'SAFIDON', '43',\n",
              "       '44', '17'], dtype=object)"
            ]
          },
          "metadata": {
            "tags": []
          },
          "execution_count": 18
        }
      ]
    },
    {
      "cell_type": "code",
      "metadata": {
        "id": "9QLmSbhw1EeU"
      },
      "source": [
        "audit_trial = audit_trial[(audit_trial.LOCATION_ID != 'LOHARU')]\n",
        "audit_trial = audit_trial[(audit_trial.LOCATION_ID != 'NUH')]\n",
        "audit_trial = audit_trial[(audit_trial.LOCATION_ID != 'SAFIDON')]\n",
        "audit_trial = audit_trial.astype(float)\n"
      ],
      "execution_count": null,
      "outputs": []
    },
    {
      "cell_type": "code",
      "metadata": {
        "colab": {
          "base_uri": "https://localhost:8080/",
          "height": 587
        },
        "id": "pq73e_KIR_1y",
        "outputId": "dcc6dd1e-63b1-4414-d7c4-94acb297851d"
      },
      "source": [
        "audit_trial.corr()"
      ],
      "execution_count": null,
      "outputs": [
        {
          "output_type": "execute_result",
          "data": {
            "text/html": [
              "<div>\n",
              "<style scoped>\n",
              "    .dataframe tbody tr th:only-of-type {\n",
              "        vertical-align: middle;\n",
              "    }\n",
              "\n",
              "    .dataframe tbody tr th {\n",
              "        vertical-align: top;\n",
              "    }\n",
              "\n",
              "    .dataframe thead th {\n",
              "        text-align: right;\n",
              "    }\n",
              "</style>\n",
              "<table border=\"1\" class=\"dataframe\">\n",
              "  <thead>\n",
              "    <tr style=\"text-align: right;\">\n",
              "      <th></th>\n",
              "      <th>Sector_score</th>\n",
              "      <th>LOCATION_ID</th>\n",
              "      <th>PARA_A</th>\n",
              "      <th>SCORE_A</th>\n",
              "      <th>PARA_B</th>\n",
              "      <th>SCORE_B</th>\n",
              "      <th>numbers</th>\n",
              "      <th>Marks</th>\n",
              "      <th>Money_Value</th>\n",
              "      <th>MONEY_Marks</th>\n",
              "      <th>District</th>\n",
              "      <th>Loss</th>\n",
              "      <th>LOSS_SCORE</th>\n",
              "      <th>History</th>\n",
              "      <th>History_score</th>\n",
              "      <th>Score</th>\n",
              "      <th>Risk</th>\n",
              "    </tr>\n",
              "  </thead>\n",
              "  <tbody>\n",
              "    <tr>\n",
              "      <th>Sector_score</th>\n",
              "      <td>1.000000</td>\n",
              "      <td>-0.057494</td>\n",
              "      <td>-0.217724</td>\n",
              "      <td>-0.427975</td>\n",
              "      <td>-0.133234</td>\n",
              "      <td>-0.220443</td>\n",
              "      <td>-0.152502</td>\n",
              "      <td>-0.171165</td>\n",
              "      <td>-0.118328</td>\n",
              "      <td>-0.320549</td>\n",
              "      <td>-0.108938</td>\n",
              "      <td>-0.083528</td>\n",
              "      <td>-0.087139</td>\n",
              "      <td>-0.115293</td>\n",
              "      <td>-0.137511</td>\n",
              "      <td>-0.339585</td>\n",
              "      <td>-0.378484</td>\n",
              "    </tr>\n",
              "    <tr>\n",
              "      <th>LOCATION_ID</th>\n",
              "      <td>-0.057494</td>\n",
              "      <td>1.000000</td>\n",
              "      <td>-0.004792</td>\n",
              "      <td>0.082383</td>\n",
              "      <td>0.007476</td>\n",
              "      <td>0.127539</td>\n",
              "      <td>0.007817</td>\n",
              "      <td>-0.016310</td>\n",
              "      <td>-0.065391</td>\n",
              "      <td>0.109280</td>\n",
              "      <td>-0.108128</td>\n",
              "      <td>0.007084</td>\n",
              "      <td>-0.002714</td>\n",
              "      <td>-0.080681</td>\n",
              "      <td>-0.052949</td>\n",
              "      <td>0.089858</td>\n",
              "      <td>0.046937</td>\n",
              "    </tr>\n",
              "    <tr>\n",
              "      <th>PARA_A</th>\n",
              "      <td>-0.217724</td>\n",
              "      <td>-0.004792</td>\n",
              "      <td>1.000000</td>\n",
              "      <td>0.496187</td>\n",
              "      <td>0.161610</td>\n",
              "      <td>0.357831</td>\n",
              "      <td>0.133373</td>\n",
              "      <td>0.140172</td>\n",
              "      <td>0.449181</td>\n",
              "      <td>0.285257</td>\n",
              "      <td>0.127129</td>\n",
              "      <td>0.045109</td>\n",
              "      <td>0.043415</td>\n",
              "      <td>0.117962</td>\n",
              "      <td>0.172257</td>\n",
              "      <td>0.426005</td>\n",
              "      <td>0.291357</td>\n",
              "    </tr>\n",
              "    <tr>\n",
              "      <th>SCORE_A</th>\n",
              "      <td>-0.427975</td>\n",
              "      <td>0.082383</td>\n",
              "      <td>0.496187</td>\n",
              "      <td>1.000000</td>\n",
              "      <td>0.248984</td>\n",
              "      <td>0.571429</td>\n",
              "      <td>0.242054</td>\n",
              "      <td>0.273863</td>\n",
              "      <td>0.205752</td>\n",
              "      <td>0.477646</td>\n",
              "      <td>0.087017</td>\n",
              "      <td>0.092808</td>\n",
              "      <td>0.093093</td>\n",
              "      <td>0.177411</td>\n",
              "      <td>0.264772</td>\n",
              "      <td>0.719458</td>\n",
              "      <td>0.670255</td>\n",
              "    </tr>\n",
              "    <tr>\n",
              "      <th>PARA_B</th>\n",
              "      <td>-0.133234</td>\n",
              "      <td>0.007476</td>\n",
              "      <td>0.161610</td>\n",
              "      <td>0.248984</td>\n",
              "      <td>1.000000</td>\n",
              "      <td>0.347265</td>\n",
              "      <td>0.209630</td>\n",
              "      <td>0.230601</td>\n",
              "      <td>0.124881</td>\n",
              "      <td>0.314213</td>\n",
              "      <td>0.082530</td>\n",
              "      <td>0.044642</td>\n",
              "      <td>0.042374</td>\n",
              "      <td>0.203407</td>\n",
              "      <td>0.316353</td>\n",
              "      <td>0.396977</td>\n",
              "      <td>0.162085</td>\n",
              "    </tr>\n",
              "    <tr>\n",
              "      <th>SCORE_B</th>\n",
              "      <td>-0.220443</td>\n",
              "      <td>0.127539</td>\n",
              "      <td>0.357831</td>\n",
              "      <td>0.571429</td>\n",
              "      <td>0.347265</td>\n",
              "      <td>1.000000</td>\n",
              "      <td>0.277058</td>\n",
              "      <td>0.313209</td>\n",
              "      <td>0.204798</td>\n",
              "      <td>0.566752</td>\n",
              "      <td>-0.006085</td>\n",
              "      <td>0.098434</td>\n",
              "      <td>0.092109</td>\n",
              "      <td>0.200412</td>\n",
              "      <td>0.309058</td>\n",
              "      <td>0.901051</td>\n",
              "      <td>0.513396</td>\n",
              "    </tr>\n",
              "    <tr>\n",
              "      <th>numbers</th>\n",
              "      <td>-0.152502</td>\n",
              "      <td>0.007817</td>\n",
              "      <td>0.133373</td>\n",
              "      <td>0.242054</td>\n",
              "      <td>0.209630</td>\n",
              "      <td>0.277058</td>\n",
              "      <td>1.000000</td>\n",
              "      <td>0.908107</td>\n",
              "      <td>0.186021</td>\n",
              "      <td>0.446362</td>\n",
              "      <td>0.124540</td>\n",
              "      <td>-0.001698</td>\n",
              "      <td>0.035597</td>\n",
              "      <td>0.202121</td>\n",
              "      <td>0.209340</td>\n",
              "      <td>0.502699</td>\n",
              "      <td>0.196923</td>\n",
              "    </tr>\n",
              "    <tr>\n",
              "      <th>Marks</th>\n",
              "      <td>-0.171165</td>\n",
              "      <td>-0.016310</td>\n",
              "      <td>0.140172</td>\n",
              "      <td>0.273863</td>\n",
              "      <td>0.230601</td>\n",
              "      <td>0.313209</td>\n",
              "      <td>0.908107</td>\n",
              "      <td>1.000000</td>\n",
              "      <td>0.220167</td>\n",
              "      <td>0.506918</td>\n",
              "      <td>0.149839</td>\n",
              "      <td>0.004516</td>\n",
              "      <td>0.036657</td>\n",
              "      <td>0.225950</td>\n",
              "      <td>0.248141</td>\n",
              "      <td>0.565835</td>\n",
              "      <td>0.227157</td>\n",
              "    </tr>\n",
              "    <tr>\n",
              "      <th>Money_Value</th>\n",
              "      <td>-0.118328</td>\n",
              "      <td>-0.065391</td>\n",
              "      <td>0.449181</td>\n",
              "      <td>0.205752</td>\n",
              "      <td>0.124881</td>\n",
              "      <td>0.204798</td>\n",
              "      <td>0.186021</td>\n",
              "      <td>0.220167</td>\n",
              "      <td>1.000000</td>\n",
              "      <td>0.391195</td>\n",
              "      <td>0.027912</td>\n",
              "      <td>0.024406</td>\n",
              "      <td>0.031653</td>\n",
              "      <td>0.079935</td>\n",
              "      <td>0.112008</td>\n",
              "      <td>0.291557</td>\n",
              "      <td>0.160213</td>\n",
              "    </tr>\n",
              "    <tr>\n",
              "      <th>MONEY_Marks</th>\n",
              "      <td>-0.320549</td>\n",
              "      <td>0.109280</td>\n",
              "      <td>0.285257</td>\n",
              "      <td>0.477646</td>\n",
              "      <td>0.314213</td>\n",
              "      <td>0.566752</td>\n",
              "      <td>0.446362</td>\n",
              "      <td>0.506918</td>\n",
              "      <td>0.391195</td>\n",
              "      <td>1.000000</td>\n",
              "      <td>0.079985</td>\n",
              "      <td>0.118307</td>\n",
              "      <td>0.129552</td>\n",
              "      <td>0.246532</td>\n",
              "      <td>0.334320</td>\n",
              "      <td>0.757863</td>\n",
              "      <td>0.438680</td>\n",
              "    </tr>\n",
              "    <tr>\n",
              "      <th>District</th>\n",
              "      <td>-0.108938</td>\n",
              "      <td>-0.108128</td>\n",
              "      <td>0.127129</td>\n",
              "      <td>0.087017</td>\n",
              "      <td>0.082530</td>\n",
              "      <td>-0.006085</td>\n",
              "      <td>0.124540</td>\n",
              "      <td>0.149839</td>\n",
              "      <td>0.027912</td>\n",
              "      <td>0.079985</td>\n",
              "      <td>1.000000</td>\n",
              "      <td>0.036042</td>\n",
              "      <td>0.054981</td>\n",
              "      <td>0.068997</td>\n",
              "      <td>0.083446</td>\n",
              "      <td>0.209240</td>\n",
              "      <td>0.316551</td>\n",
              "    </tr>\n",
              "    <tr>\n",
              "      <th>Loss</th>\n",
              "      <td>-0.083528</td>\n",
              "      <td>0.007084</td>\n",
              "      <td>0.045109</td>\n",
              "      <td>0.092808</td>\n",
              "      <td>0.044642</td>\n",
              "      <td>0.098434</td>\n",
              "      <td>-0.001698</td>\n",
              "      <td>0.004516</td>\n",
              "      <td>0.024406</td>\n",
              "      <td>0.118307</td>\n",
              "      <td>0.036042</td>\n",
              "      <td>1.000000</td>\n",
              "      <td>0.981507</td>\n",
              "      <td>0.060490</td>\n",
              "      <td>0.104321</td>\n",
              "      <td>0.156451</td>\n",
              "      <td>0.123790</td>\n",
              "    </tr>\n",
              "    <tr>\n",
              "      <th>LOSS_SCORE</th>\n",
              "      <td>-0.087139</td>\n",
              "      <td>-0.002714</td>\n",
              "      <td>0.043415</td>\n",
              "      <td>0.093093</td>\n",
              "      <td>0.042374</td>\n",
              "      <td>0.092109</td>\n",
              "      <td>0.035597</td>\n",
              "      <td>0.036657</td>\n",
              "      <td>0.031653</td>\n",
              "      <td>0.129552</td>\n",
              "      <td>0.054981</td>\n",
              "      <td>0.981507</td>\n",
              "      <td>1.000000</td>\n",
              "      <td>0.109913</td>\n",
              "      <td>0.141292</td>\n",
              "      <td>0.167324</td>\n",
              "      <td>0.126927</td>\n",
              "    </tr>\n",
              "    <tr>\n",
              "      <th>History</th>\n",
              "      <td>-0.115293</td>\n",
              "      <td>-0.080681</td>\n",
              "      <td>0.117962</td>\n",
              "      <td>0.177411</td>\n",
              "      <td>0.203407</td>\n",
              "      <td>0.200412</td>\n",
              "      <td>0.202121</td>\n",
              "      <td>0.225950</td>\n",
              "      <td>0.079935</td>\n",
              "      <td>0.246532</td>\n",
              "      <td>0.068997</td>\n",
              "      <td>0.060490</td>\n",
              "      <td>0.109913</td>\n",
              "      <td>1.000000</td>\n",
              "      <td>0.859266</td>\n",
              "      <td>0.325917</td>\n",
              "      <td>0.151291</td>\n",
              "    </tr>\n",
              "    <tr>\n",
              "      <th>History_score</th>\n",
              "      <td>-0.137511</td>\n",
              "      <td>-0.052949</td>\n",
              "      <td>0.172257</td>\n",
              "      <td>0.264772</td>\n",
              "      <td>0.316353</td>\n",
              "      <td>0.309058</td>\n",
              "      <td>0.209340</td>\n",
              "      <td>0.248141</td>\n",
              "      <td>0.112008</td>\n",
              "      <td>0.334320</td>\n",
              "      <td>0.083446</td>\n",
              "      <td>0.104321</td>\n",
              "      <td>0.141292</td>\n",
              "      <td>0.859266</td>\n",
              "      <td>1.000000</td>\n",
              "      <td>0.443189</td>\n",
              "      <td>0.189667</td>\n",
              "    </tr>\n",
              "    <tr>\n",
              "      <th>Score</th>\n",
              "      <td>-0.339585</td>\n",
              "      <td>0.089858</td>\n",
              "      <td>0.426005</td>\n",
              "      <td>0.719458</td>\n",
              "      <td>0.396977</td>\n",
              "      <td>0.901051</td>\n",
              "      <td>0.502699</td>\n",
              "      <td>0.565835</td>\n",
              "      <td>0.291557</td>\n",
              "      <td>0.757863</td>\n",
              "      <td>0.209240</td>\n",
              "      <td>0.156451</td>\n",
              "      <td>0.167324</td>\n",
              "      <td>0.325917</td>\n",
              "      <td>0.443189</td>\n",
              "      <td>1.000000</td>\n",
              "      <td>0.630612</td>\n",
              "    </tr>\n",
              "    <tr>\n",
              "      <th>Risk</th>\n",
              "      <td>-0.378484</td>\n",
              "      <td>0.046937</td>\n",
              "      <td>0.291357</td>\n",
              "      <td>0.670255</td>\n",
              "      <td>0.162085</td>\n",
              "      <td>0.513396</td>\n",
              "      <td>0.196923</td>\n",
              "      <td>0.227157</td>\n",
              "      <td>0.160213</td>\n",
              "      <td>0.438680</td>\n",
              "      <td>0.316551</td>\n",
              "      <td>0.123790</td>\n",
              "      <td>0.126927</td>\n",
              "      <td>0.151291</td>\n",
              "      <td>0.189667</td>\n",
              "      <td>0.630612</td>\n",
              "      <td>1.000000</td>\n",
              "    </tr>\n",
              "  </tbody>\n",
              "</table>\n",
              "</div>"
            ],
            "text/plain": [
              "               Sector_score  LOCATION_ID    PARA_A   SCORE_A    PARA_B  \\\n",
              "Sector_score       1.000000    -0.057494 -0.217724 -0.427975 -0.133234   \n",
              "LOCATION_ID       -0.057494     1.000000 -0.004792  0.082383  0.007476   \n",
              "PARA_A            -0.217724    -0.004792  1.000000  0.496187  0.161610   \n",
              "SCORE_A           -0.427975     0.082383  0.496187  1.000000  0.248984   \n",
              "PARA_B            -0.133234     0.007476  0.161610  0.248984  1.000000   \n",
              "SCORE_B           -0.220443     0.127539  0.357831  0.571429  0.347265   \n",
              "numbers           -0.152502     0.007817  0.133373  0.242054  0.209630   \n",
              "Marks             -0.171165    -0.016310  0.140172  0.273863  0.230601   \n",
              "Money_Value       -0.118328    -0.065391  0.449181  0.205752  0.124881   \n",
              "MONEY_Marks       -0.320549     0.109280  0.285257  0.477646  0.314213   \n",
              "District          -0.108938    -0.108128  0.127129  0.087017  0.082530   \n",
              "Loss              -0.083528     0.007084  0.045109  0.092808  0.044642   \n",
              "LOSS_SCORE        -0.087139    -0.002714  0.043415  0.093093  0.042374   \n",
              "History           -0.115293    -0.080681  0.117962  0.177411  0.203407   \n",
              "History_score     -0.137511    -0.052949  0.172257  0.264772  0.316353   \n",
              "Score             -0.339585     0.089858  0.426005  0.719458  0.396977   \n",
              "Risk              -0.378484     0.046937  0.291357  0.670255  0.162085   \n",
              "\n",
              "                SCORE_B   numbers     Marks  Money_Value  MONEY_Marks  \\\n",
              "Sector_score  -0.220443 -0.152502 -0.171165    -0.118328    -0.320549   \n",
              "LOCATION_ID    0.127539  0.007817 -0.016310    -0.065391     0.109280   \n",
              "PARA_A         0.357831  0.133373  0.140172     0.449181     0.285257   \n",
              "SCORE_A        0.571429  0.242054  0.273863     0.205752     0.477646   \n",
              "PARA_B         0.347265  0.209630  0.230601     0.124881     0.314213   \n",
              "SCORE_B        1.000000  0.277058  0.313209     0.204798     0.566752   \n",
              "numbers        0.277058  1.000000  0.908107     0.186021     0.446362   \n",
              "Marks          0.313209  0.908107  1.000000     0.220167     0.506918   \n",
              "Money_Value    0.204798  0.186021  0.220167     1.000000     0.391195   \n",
              "MONEY_Marks    0.566752  0.446362  0.506918     0.391195     1.000000   \n",
              "District      -0.006085  0.124540  0.149839     0.027912     0.079985   \n",
              "Loss           0.098434 -0.001698  0.004516     0.024406     0.118307   \n",
              "LOSS_SCORE     0.092109  0.035597  0.036657     0.031653     0.129552   \n",
              "History        0.200412  0.202121  0.225950     0.079935     0.246532   \n",
              "History_score  0.309058  0.209340  0.248141     0.112008     0.334320   \n",
              "Score          0.901051  0.502699  0.565835     0.291557     0.757863   \n",
              "Risk           0.513396  0.196923  0.227157     0.160213     0.438680   \n",
              "\n",
              "               District      Loss  LOSS_SCORE   History  History_score  \\\n",
              "Sector_score  -0.108938 -0.083528   -0.087139 -0.115293      -0.137511   \n",
              "LOCATION_ID   -0.108128  0.007084   -0.002714 -0.080681      -0.052949   \n",
              "PARA_A         0.127129  0.045109    0.043415  0.117962       0.172257   \n",
              "SCORE_A        0.087017  0.092808    0.093093  0.177411       0.264772   \n",
              "PARA_B         0.082530  0.044642    0.042374  0.203407       0.316353   \n",
              "SCORE_B       -0.006085  0.098434    0.092109  0.200412       0.309058   \n",
              "numbers        0.124540 -0.001698    0.035597  0.202121       0.209340   \n",
              "Marks          0.149839  0.004516    0.036657  0.225950       0.248141   \n",
              "Money_Value    0.027912  0.024406    0.031653  0.079935       0.112008   \n",
              "MONEY_Marks    0.079985  0.118307    0.129552  0.246532       0.334320   \n",
              "District       1.000000  0.036042    0.054981  0.068997       0.083446   \n",
              "Loss           0.036042  1.000000    0.981507  0.060490       0.104321   \n",
              "LOSS_SCORE     0.054981  0.981507    1.000000  0.109913       0.141292   \n",
              "History        0.068997  0.060490    0.109913  1.000000       0.859266   \n",
              "History_score  0.083446  0.104321    0.141292  0.859266       1.000000   \n",
              "Score          0.209240  0.156451    0.167324  0.325917       0.443189   \n",
              "Risk           0.316551  0.123790    0.126927  0.151291       0.189667   \n",
              "\n",
              "                  Score      Risk  \n",
              "Sector_score  -0.339585 -0.378484  \n",
              "LOCATION_ID    0.089858  0.046937  \n",
              "PARA_A         0.426005  0.291357  \n",
              "SCORE_A        0.719458  0.670255  \n",
              "PARA_B         0.396977  0.162085  \n",
              "SCORE_B        0.901051  0.513396  \n",
              "numbers        0.502699  0.196923  \n",
              "Marks          0.565835  0.227157  \n",
              "Money_Value    0.291557  0.160213  \n",
              "MONEY_Marks    0.757863  0.438680  \n",
              "District       0.209240  0.316551  \n",
              "Loss           0.156451  0.123790  \n",
              "LOSS_SCORE     0.167324  0.126927  \n",
              "History        0.325917  0.151291  \n",
              "History_score  0.443189  0.189667  \n",
              "Score          1.000000  0.630612  \n",
              "Risk           0.630612  1.000000  "
            ]
          },
          "metadata": {
            "tags": []
          },
          "execution_count": 20
        }
      ]
    },
    {
      "cell_type": "code",
      "metadata": {
        "colab": {
          "base_uri": "https://localhost:8080/",
          "height": 71
        },
        "id": "pmCMmwqAif13",
        "outputId": "a3074e93-e9a4-4cf7-a07d-710f897c0cd0"
      },
      "source": [
        "plt.figure(figsize=(20,10)) \n",
        "sns.heatmap(audit_trial.corr(),annot=True, cmap=\"YlGnBu\")"
      ],
      "execution_count": null,
      "outputs": [
        {
          "output_type": "execute_result",
          "data": {
            "text/plain": [
              "<matplotlib.axes._subplots.AxesSubplot at 0x7fd52a9d0278>"
            ]
          },
          "metadata": {
            "tags": []
          },
          "execution_count": 21
        },
        {
          "output_type": "display_data",
          "data": {
            "image/png": "[encoded data removed]",
            "text/plain": [
              "<Figure size 1440x720 with 2 Axes>"
            ]
          },
          "metadata": {
            "tags": [],
            "needs_background": "light"
          }
        }
      ]
    },
    {
      "cell_type": "markdown",
      "metadata": {
        "id": "7UK5Tz0ijwxU"
      },
      "source": [
        "LOSS_score and Loss seem to be directly correlated, therefore we can drop one of them. Similar thing with Marks and numbers.Similar with History_score and History.\n",
        "We decided to drop them to avoid overfitting the model."
      ]
    },
    {
      "cell_type": "code",
      "metadata": {
        "id": "sdG6Ld-s8mdq"
      },
      "source": [
        "cols_del=['SCORE_A', 'SCORE_B','Marks','MONEY_Marks','LOSS_SCORE','History_score']\n",
        "\n",
        "audit_trial.drop(cols_del, axis=1, inplace=True)"
      ],
      "execution_count": null,
      "outputs": []
    },
    {
      "cell_type": "code",
      "metadata": {
        "colab": {
          "base_uri": "https://localhost:8080/",
          "height": 313
        },
        "id": "-s8MF_4T8_YI",
        "outputId": "687ed500-1059-4bb5-e969-0eb89f856d83"
      },
      "source": [
        "audit_trial.describe().round(3)"
      ],
      "execution_count": null,
      "outputs": [
        {
          "output_type": "execute_result",
          "data": {
            "text/html": [
              "<div>\n",
              "<style scoped>\n",
              "    .dataframe tbody tr th:only-of-type {\n",
              "        vertical-align: middle;\n",
              "    }\n",
              "\n",
              "    .dataframe tbody tr th {\n",
              "        vertical-align: top;\n",
              "    }\n",
              "\n",
              "    .dataframe thead th {\n",
              "        text-align: right;\n",
              "    }\n",
              "</style>\n",
              "<table border=\"1\" class=\"dataframe\">\n",
              "  <thead>\n",
              "    <tr style=\"text-align: right;\">\n",
              "      <th></th>\n",
              "      <th>Sector_score</th>\n",
              "      <th>LOCATION_ID</th>\n",
              "      <th>PARA_A</th>\n",
              "      <th>PARA_B</th>\n",
              "      <th>numbers</th>\n",
              "      <th>Money_Value</th>\n",
              "      <th>District</th>\n",
              "      <th>Loss</th>\n",
              "      <th>History</th>\n",
              "      <th>Score</th>\n",
              "      <th>Risk</th>\n",
              "    </tr>\n",
              "  </thead>\n",
              "  <tbody>\n",
              "    <tr>\n",
              "      <th>count</th>\n",
              "      <td>772.000</td>\n",
              "      <td>772.00</td>\n",
              "      <td>772.000</td>\n",
              "      <td>772.000</td>\n",
              "      <td>772.000</td>\n",
              "      <td>772.000</td>\n",
              "      <td>772.000</td>\n",
              "      <td>772.000</td>\n",
              "      <td>772.000</td>\n",
              "      <td>772.000</td>\n",
              "      <td>772.000</td>\n",
              "    </tr>\n",
              "    <tr>\n",
              "      <th>mean</th>\n",
              "      <td>20.209</td>\n",
              "      <td>14.87</td>\n",
              "      <td>2.461</td>\n",
              "      <td>10.856</td>\n",
              "      <td>5.068</td>\n",
              "      <td>14.191</td>\n",
              "      <td>2.508</td>\n",
              "      <td>0.030</td>\n",
              "      <td>0.105</td>\n",
              "      <td>2.706</td>\n",
              "      <td>0.630</td>\n",
              "    </tr>\n",
              "    <tr>\n",
              "      <th>std</th>\n",
              "      <td>24.322</td>\n",
              "      <td>9.89</td>\n",
              "      <td>5.692</td>\n",
              "      <td>50.207</td>\n",
              "      <td>0.265</td>\n",
              "      <td>66.730</td>\n",
              "      <td>1.231</td>\n",
              "      <td>0.185</td>\n",
              "      <td>0.532</td>\n",
              "      <td>0.860</td>\n",
              "      <td>0.483</td>\n",
              "    </tr>\n",
              "    <tr>\n",
              "      <th>min</th>\n",
              "      <td>1.850</td>\n",
              "      <td>1.00</td>\n",
              "      <td>0.000</td>\n",
              "      <td>0.000</td>\n",
              "      <td>5.000</td>\n",
              "      <td>0.000</td>\n",
              "      <td>2.000</td>\n",
              "      <td>0.000</td>\n",
              "      <td>0.000</td>\n",
              "      <td>2.000</td>\n",
              "      <td>0.000</td>\n",
              "    </tr>\n",
              "    <tr>\n",
              "      <th>25%</th>\n",
              "      <td>2.370</td>\n",
              "      <td>8.00</td>\n",
              "      <td>0.208</td>\n",
              "      <td>0.000</td>\n",
              "      <td>5.000</td>\n",
              "      <td>0.000</td>\n",
              "      <td>2.000</td>\n",
              "      <td>0.000</td>\n",
              "      <td>0.000</td>\n",
              "      <td>2.000</td>\n",
              "      <td>0.000</td>\n",
              "    </tr>\n",
              "    <tr>\n",
              "      <th>50%</th>\n",
              "      <td>3.890</td>\n",
              "      <td>13.00</td>\n",
              "      <td>0.880</td>\n",
              "      <td>0.415</td>\n",
              "      <td>5.000</td>\n",
              "      <td>0.090</td>\n",
              "      <td>2.000</td>\n",
              "      <td>0.000</td>\n",
              "      <td>0.000</td>\n",
              "      <td>2.400</td>\n",
              "      <td>1.000</td>\n",
              "    </tr>\n",
              "    <tr>\n",
              "      <th>75%</th>\n",
              "      <td>55.570</td>\n",
              "      <td>19.00</td>\n",
              "      <td>2.482</td>\n",
              "      <td>4.170</td>\n",
              "      <td>5.000</td>\n",
              "      <td>5.630</td>\n",
              "      <td>2.000</td>\n",
              "      <td>0.000</td>\n",
              "      <td>0.000</td>\n",
              "      <td>3.400</td>\n",
              "      <td>1.000</td>\n",
              "    </tr>\n",
              "    <tr>\n",
              "      <th>max</th>\n",
              "      <td>59.850</td>\n",
              "      <td>44.00</td>\n",
              "      <td>85.000</td>\n",
              "      <td>1264.630</td>\n",
              "      <td>9.000</td>\n",
              "      <td>935.030</td>\n",
              "      <td>6.000</td>\n",
              "      <td>2.000</td>\n",
              "      <td>9.000</td>\n",
              "      <td>5.200</td>\n",
              "      <td>1.000</td>\n",
              "    </tr>\n",
              "  </tbody>\n",
              "</table>\n",
              "</div>"
            ],
            "text/plain": [
              "       Sector_score  LOCATION_ID   PARA_A    PARA_B  numbers  Money_Value  \\\n",
              "count       772.000       772.00  772.000   772.000  772.000      772.000   \n",
              "mean         20.209        14.87    2.461    10.856    5.068       14.191   \n",
              "std          24.322         9.89    5.692    50.207    0.265       66.730   \n",
              "min           1.850         1.00    0.000     0.000    5.000        0.000   \n",
              "25%           2.370         8.00    0.208     0.000    5.000        0.000   \n",
              "50%           3.890        13.00    0.880     0.415    5.000        0.090   \n",
              "75%          55.570        19.00    2.482     4.170    5.000        5.630   \n",
              "max          59.850        44.00   85.000  1264.630    9.000      935.030   \n",
              "\n",
              "       District     Loss  History    Score     Risk  \n",
              "count   772.000  772.000  772.000  772.000  772.000  \n",
              "mean      2.508    0.030    0.105    2.706    0.630  \n",
              "std       1.231    0.185    0.532    0.860    0.483  \n",
              "min       2.000    0.000    0.000    2.000    0.000  \n",
              "25%       2.000    0.000    0.000    2.000    0.000  \n",
              "50%       2.000    0.000    0.000    2.400    1.000  \n",
              "75%       2.000    0.000    0.000    3.400    1.000  \n",
              "max       6.000    2.000    9.000    5.200    1.000  "
            ]
          },
          "metadata": {
            "tags": []
          },
          "execution_count": 23
        }
      ]
    },
    {
      "cell_type": "code",
      "metadata": {
        "colab": {
          "base_uri": "https://localhost:8080/",
          "height": 54
        },
        "id": "8zVtbOQNo_GX",
        "outputId": "8a535dc8-ff4e-4721-8de6-45d1e07e1efe"
      },
      "source": [
        "xnames = ['PARA_A','PARA_B','numbers','Money_Value','District','Loss','History','Sector_score']\n",
        "yname = 'Risk'\n",
        "COLORS = {'PARA_A': '#1b9e77',\n",
        "          'PARA_B': '#d95f02'}\n",
        "\n",
        "fig, axs = plt.subplots(figsize=(14, 6), ncols=2, sharey=True)\n",
        "for xname, ax in zip(xnames, axs):\n",
        "    audit_trial.plot.scatter(ax=ax, x=xname, y=yname, color=COLORS[xname])"
      ],
      "execution_count": null,
      "outputs": [
        {
          "output_type": "display_data",
          "data": {
            "image/png": "[encoded data removed]",
            "text/plain": [
              "<Figure size 1008x432 with 2 Axes>"
            ]
          },
          "metadata": {
            "tags": [],
            "needs_background": "light"
          }
        }
      ]
    },
    {
      "cell_type": "markdown",
      "metadata": {
        "id": "Pk7A-IwOulde"
      },
      "source": [
        "##LOG REG NEW\n",
        "\n"
      ]
    },
    {
      "cell_type": "code",
      "metadata": {
        "colab": {
          "base_uri": "https://localhost:8080/"
        },
        "id": "OyFVhdpNuspb",
        "outputId": "34f38752-8d27-4272-9465-e5e838c5320b"
      },
      "source": [
        "#Train-Test Split\n",
        "from sklearn.model_selection import train_test_split\n",
        "\n",
        "X = audit_trial[xnames]\n",
        "y = audit_trial[yname]\n",
        "X_train, X_test, y_train, y_test = train_test_split(X, y, test_size=0.3, random_state=40)\n",
        "print(X_train.shape, X_test.shape)"
      ],
      "execution_count": null,
      "outputs": [
        {
          "output_type": "stream",
          "text": [
            "(540, 8) (232, 8)\n"
          ],
          "name": "stdout"
        }
      ]
    },
    {
      "cell_type": "code",
      "metadata": {
        "colab": {
          "base_uri": "https://localhost:8080/",
          "height": 71
        },
        "id": "BxM7syQ6w7o1",
        "outputId": "81caa260-8991-4fbf-b5b9-c503390c20e1"
      },
      "source": [
        "from sklearn.preprocessing import StandardScaler\n",
        "\n",
        "standard_scaler=StandardScaler()\n",
        "X_train=standard_scaler.fit_transform(X_train)\n",
        "X_test=standard_scaler.transform(X_test)\n",
        "\n",
        "x2=pd.DataFrame(X_train)\n",
        "plt.figure(figsize=(15,10))\n",
        "sns.boxplot(data = x2)\n",
        "plt.ylim(-1,2.5)"
      ],
      "execution_count": null,
      "outputs": [
        {
          "output_type": "execute_result",
          "data": {
            "text/plain": [
              "(-1.0, 2.5)"
            ]
          },
          "metadata": {
            "tags": []
          },
          "execution_count": 26
        },
        {
          "output_type": "display_data",
          "data": {
            "image/png": "[encoded data removed]",
            "text/plain": [
              "<Figure size 1080x720 with 1 Axes>"
            ]
          },
          "metadata": {
            "tags": [],
            "needs_background": "light"
          }
        }
      ]
    },
    {
      "cell_type": "code",
      "metadata": {
        "colab": {
          "base_uri": "https://localhost:8080/"
        },
        "id": "aYuW_L71xGIP",
        "outputId": "b7f14bef-2f99-46e4-8ebf-f9935cf44ce5"
      },
      "source": [
        "from sklearn.linear_model import LogisticRegression\n",
        "\n",
        "# instantiate the model (using the default parameters)\n",
        "logreg = LogisticRegression()\n",
        "\n",
        "# fit the model with data\n",
        "logreg.fit(X_train,y_train)"
      ],
      "execution_count": null,
      "outputs": [
        {
          "output_type": "execute_result",
          "data": {
            "text/plain": [
              "LogisticRegression(C=1.0, class_weight=None, dual=False, fit_intercept=True,\n",
              "                   intercept_scaling=1, l1_ratio=None, max_iter=100,\n",
              "                   multi_class='auto', n_jobs=None, penalty='l2',\n",
              "                   random_state=None, solver='lbfgs', tol=0.0001, verbose=0,\n",
              "                   warm_start=False)"
            ]
          },
          "metadata": {
            "tags": []
          },
          "execution_count": 27
        }
      ]
    },
    {
      "cell_type": "code",
      "metadata": {
        "colab": {
          "base_uri": "https://localhost:8080/"
        },
        "id": "DZ2ipevdxYtA",
        "outputId": "ba943299-c799-433f-d544-702da99eb28d"
      },
      "source": [
        "logreg.score(X_train, y_train), logreg.score(X_test, y_test)"
      ],
      "execution_count": null,
      "outputs": [
        {
          "output_type": "execute_result",
          "data": {
            "text/plain": [
              "(0.8962962962962963, 0.8922413793103449)"
            ]
          },
          "metadata": {
            "tags": []
          },
          "execution_count": 28
        }
      ]
    },
    {
      "cell_type": "code",
      "metadata": {
        "id": "ixRJYZGbxqqE"
      },
      "source": [
        "y_pred_log=logreg.predict(X_test)"
      ],
      "execution_count": null,
      "outputs": []
    },
    {
      "cell_type": "code",
      "metadata": {
        "colab": {
          "base_uri": "https://localhost:8080/"
        },
        "id": "y6jsYf-Axz1o",
        "outputId": "325ad167-05f4-4079-95e3-beacc2431cab"
      },
      "source": [
        "# import the metrics class\n",
        "from sklearn import metrics\n",
        "cnf_matrix = metrics.confusion_matrix(y_test, y_pred_log)\n",
        "cnf_matrix"
      ],
      "execution_count": null,
      "outputs": [
        {
          "output_type": "execute_result",
          "data": {
            "text/plain": [
              "array([[ 76,   4],\n",
              "       [ 21, 131]])"
            ]
          },
          "metadata": {
            "tags": []
          },
          "execution_count": 30
        }
      ]
    },
    {
      "cell_type": "code",
      "metadata": {
        "id": "Ywratg_cx68g"
      },
      "source": [
        "# import required modules\n",
        "import numpy as np\n",
        "import matplotlib.pyplot as plt\n",
        "import seaborn as sns\n",
        "%matplotlib inline"
      ],
      "execution_count": null,
      "outputs": []
    },
    {
      "cell_type": "code",
      "metadata": {
        "colab": {
          "base_uri": "https://localhost:8080/",
          "height": 71
        },
        "id": "xFG1uD7zx-xF",
        "outputId": "186d7be5-53bd-46c4-a065-cd9ec2c995f0"
      },
      "source": [
        "class_names=[0,1] # name  of classes\n",
        "fig, ax = plt.subplots()\n",
        "tick_marks = np.arange(len(class_names))\n",
        "plt.xticks(tick_marks, class_names)\n",
        "plt.yticks(tick_marks, class_names)\n",
        "# create heatmap\n",
        "sns.heatmap(pd.DataFrame(cnf_matrix), annot=True, cmap=\"YlGnBu\" ,fmt='g')\n",
        "ax.xaxis.set_label_position(\"top\")\n",
        "plt.tight_layout()\n",
        "plt.title('Confusion matrix', y=1.1)\n",
        "plt.ylabel('Actual label')\n",
        "plt.xlabel('Predicted label')"
      ],
      "execution_count": null,
      "outputs": [
        {
          "output_type": "execute_result",
          "data": {
            "text/plain": [
              "Text(0.5, 257.44, 'Predicted label')"
            ]
          },
          "metadata": {
            "tags": []
          },
          "execution_count": 32
        },
        {
          "output_type": "display_data",
          "data": {
            "image/png": "[encoded data removed]",
            "text/plain": [
              "<Figure size 432x288 with 2 Axes>"
            ]
          },
          "metadata": {
            "tags": [],
            "needs_background": "light"
          }
        }
      ]
    },
    {
      "cell_type": "code",
      "metadata": {
        "colab": {
          "base_uri": "https://localhost:8080/"
        },
        "id": "SCiGalVgyDWq",
        "outputId": "cd7b7708-e88b-4944-c106-1cd435f5bb35"
      },
      "source": [
        "print(\"Accuracy:\",metrics.accuracy_score(y_test, y_pred_log))\n",
        "print(\"Precision:\",metrics.precision_score(y_test, y_pred_log))\n",
        "print(\"Recall:\",metrics.recall_score(y_test, y_pred_log))"
      ],
      "execution_count": null,
      "outputs": [
        {
          "output_type": "stream",
          "text": [
            "Accuracy: 0.8922413793103449\n",
            "Precision: 0.9703703703703703\n",
            "Recall: 0.8618421052631579\n"
          ],
          "name": "stdout"
        }
      ]
    },
    {
      "cell_type": "code",
      "metadata": {
        "colab": {
          "base_uri": "https://localhost:8080/",
          "height": 54
        },
        "id": "zFygJc1SyLct",
        "outputId": "9192c718-a3ac-4b60-c485-4d1d47e75063"
      },
      "source": [
        "from sklearn.metrics import roc_auc_score\n",
        "from sklearn.metrics import roc_curve\n",
        "logit_roc_auc = roc_auc_score(y_test, logreg.predict(X_test))\n",
        "fpr, tpr, thresholds = roc_curve(y_test, logreg.predict_proba(X_test)[:,1])\n",
        "plt.figure()\n",
        "plt.plot(fpr, tpr, label='Logistic Regression (area = %0.2f)' % logit_roc_auc)\n",
        "plt.plot([0, 1], [0, 1],'r--')\n",
        "plt.xlim([0.0, 1.0])\n",
        "plt.ylim([0.0, 1.05])\n",
        "plt.xlabel('False Positive Rate')\n",
        "plt.ylabel('True Positive Rate')\n",
        "plt.title('Receiver operating characteristic')\n",
        "plt.legend(loc=\"lower right\")\n",
        "plt.savefig('Log_ROC')\n",
        "plt.show()"
      ],
      "execution_count": null,
      "outputs": [
        {
          "output_type": "display_data",
          "data": {
            "image/png": "[encoded data removed]",
            "text/plain": [
              "<Figure size 432x288 with 1 Axes>"
            ]
          },
          "metadata": {
            "tags": [],
            "needs_background": "light"
          }
        }
      ]
    },
    {
      "cell_type": "code",
      "metadata": {
        "colab": {
          "base_uri": "https://localhost:8080/"
        },
        "id": "xl8Vqqo9yc4c",
        "outputId": "8df224a2-a0ab-41bc-ab8a-491308682f50"
      },
      "source": [
        "from sklearn.metrics import classification_report\n",
        "print(classification_report(y_test, y_pred_log))"
      ],
      "execution_count": null,
      "outputs": [
        {
          "output_type": "stream",
          "text": [
            "              precision    recall  f1-score   support\n",
            "\n",
            "         0.0       0.78      0.95      0.86        80\n",
            "         1.0       0.97      0.86      0.91       152\n",
            "\n",
            "    accuracy                           0.89       232\n",
            "   macro avg       0.88      0.91      0.89       232\n",
            "weighted avg       0.91      0.89      0.89       232\n",
            "\n"
          ],
          "name": "stdout"
        }
      ]
    },
    {
      "cell_type": "markdown",
      "metadata": {
        "id": "YOciAS5hysrG"
      },
      "source": [
        "**Now optimizing the model with GridSearchCV**"
      ]
    },
    {
      "cell_type": "code",
      "metadata": {
        "id": "ucZW5LZQA8L2"
      },
      "source": [
        "from sklearn.model_selection import GridSearchCV"
      ],
      "execution_count": null,
      "outputs": []
    },
    {
      "cell_type": "code",
      "metadata": {
        "colab": {
          "base_uri": "https://localhost:8080/"
        },
        "id": "aeZE4DJnA_7F",
        "outputId": "7554917a-b7c5-44ff-d269-76b32a7c1770"
      },
      "source": [
        "# Setup the hyperparameter grid\n",
        "c_space = np.logspace(-5, 8, 15)\n",
        "param_grid = {'C': c_space}\n",
        "\n",
        "# Instantiate the GridSearchCV object: logreg_cv\n",
        "logregNiko_cv = GridSearchCV(logreg, param_grid, cv=5)\n",
        "\n",
        "# fit the model with data\n",
        "logregNiko_cv.fit(X_train,y_train)\n",
        "\n",
        "# Print the tuned parameter and score\n",
        "print(\"Tuned Logistic Regression Parameters: {}\".format(logregNiko_cv.best_params_))\n",
        "print(\"Best score is {}\".format(logregNiko_cv.best_score_))"
      ],
      "execution_count": null,
      "outputs": [
        {
          "output_type": "stream",
          "text": [
            "Tuned Logistic Regression Parameters: {'C': 163789.3706954068}\n",
            "Best score is 0.9574074074074075\n"
          ],
          "name": "stdout"
        }
      ]
    },
    {
      "cell_type": "code",
      "metadata": {
        "colab": {
          "base_uri": "https://localhost:8080/"
        },
        "id": "efhsDtLSBTCz",
        "outputId": "6f31ed0b-c42f-42d9-b032-ce1ae551cc31"
      },
      "source": [
        "logregNiko_cv.fit(X_train,y_train)"
      ],
      "execution_count": null,
      "outputs": [
        {
          "output_type": "execute_result",
          "data": {
            "text/plain": [
              "GridSearchCV(cv=5, error_score=nan,\n",
              "             estimator=LogisticRegression(C=1.0, class_weight=None, dual=False,\n",
              "                                          fit_intercept=True,\n",
              "                                          intercept_scaling=1, l1_ratio=None,\n",
              "                                          max_iter=100, multi_class='auto',\n",
              "                                          n_jobs=None, penalty='l2',\n",
              "                                          random_state=None, solver='lbfgs',\n",
              "                                          tol=0.0001, verbose=0,\n",
              "                                          warm_start=False),\n",
              "             iid='deprecated', n_jobs=None,\n",
              "             param_grid={'C': array([1.00000000e-05, 8.48342898e-05, 7.19685673e-04, 6.10540230e-03,\n",
              "       5.17947468e-02, 4.39397056e-01, 3.72759372e+00, 3.16227766e+01,\n",
              "       2.68269580e+02, 2.27584593e+03, 1.93069773e+04, 1.63789371e+05,\n",
              "       1.38949549e+06, 1.17876863e+07, 1.00000000e+08])},\n",
              "             pre_dispatch='2*n_jobs', refit=True, return_train_score=False,\n",
              "             scoring=None, verbose=0)"
            ]
          },
          "metadata": {
            "tags": []
          },
          "execution_count": 38
        }
      ]
    },
    {
      "cell_type": "code",
      "metadata": {
        "id": "cQKUnaynCHfL"
      },
      "source": [
        "y_pred_cv=logregNiko_cv.predict(X_test)"
      ],
      "execution_count": null,
      "outputs": []
    },
    {
      "cell_type": "code",
      "metadata": {
        "colab": {
          "base_uri": "https://localhost:8080/"
        },
        "id": "Tpb0o-KCBunM",
        "outputId": "910c11b0-8be2-4473-c63b-7a3baa0425ee"
      },
      "source": [
        "logregNiko_cv.score(X_train, y_train), logregNiko_cv.score(X_test, y_test)"
      ],
      "execution_count": null,
      "outputs": [
        {
          "output_type": "execute_result",
          "data": {
            "text/plain": [
              "(0.9611111111111111, 0.9698275862068966)"
            ]
          },
          "metadata": {
            "tags": []
          },
          "execution_count": 40
        }
      ]
    },
    {
      "cell_type": "code",
      "metadata": {
        "colab": {
          "base_uri": "https://localhost:8080/"
        },
        "id": "vAzg5X-VCMsW",
        "outputId": "5da787bc-d617-48c7-bbe7-ae007376cc86"
      },
      "source": [
        "# import the metrics class\n",
        "from sklearn import metrics\n",
        "cnf_matrix = metrics.confusion_matrix(y_test, y_pred_cv)\n",
        "cnf_matrix"
      ],
      "execution_count": null,
      "outputs": [
        {
          "output_type": "execute_result",
          "data": {
            "text/plain": [
              "array([[ 76,   4],\n",
              "       [  3, 149]])"
            ]
          },
          "metadata": {
            "tags": []
          },
          "execution_count": 41
        }
      ]
    },
    {
      "cell_type": "code",
      "metadata": {
        "colab": {
          "base_uri": "https://localhost:8080/",
          "height": 71
        },
        "id": "vJOrKSodCQDl",
        "outputId": "252d87c6-330a-42d0-cc2f-a7af462b8c93"
      },
      "source": [
        "import numpy as np\n",
        "import matplotlib.pyplot as plt\n",
        "import seaborn as sns\n",
        "%matplotlib inline\n",
        "\n",
        "class_names=[0,1] # name  of classes\n",
        "fig, ax = plt.subplots()\n",
        "tick_marks = np.arange(len(class_names))\n",
        "plt.xticks(tick_marks, class_names)\n",
        "plt.yticks(tick_marks, class_names)\n",
        "# create heatmap\n",
        "sns.heatmap(pd.DataFrame(cnf_matrix), annot=True, cmap=\"YlGnBu\" ,fmt='g')\n",
        "ax.xaxis.set_label_position(\"top\")\n",
        "plt.tight_layout()\n",
        "plt.title('Confusion matrix', y=1.1)\n",
        "plt.ylabel('Actual label')\n",
        "plt.xlabel('Predicted label')"
      ],
      "execution_count": null,
      "outputs": [
        {
          "output_type": "execute_result",
          "data": {
            "text/plain": [
              "Text(0.5, 257.44, 'Predicted label')"
            ]
          },
          "metadata": {
            "tags": []
          },
          "execution_count": 42
        },
        {
          "output_type": "display_data",
          "data": {
            "image/png": "[encoded data removed]",
            "text/plain": [
              "<Figure size 432x288 with 2 Axes>"
            ]
          },
          "metadata": {
            "tags": [],
            "needs_background": "light"
          }
        }
      ]
    },
    {
      "cell_type": "code",
      "metadata": {
        "colab": {
          "base_uri": "https://localhost:8080/"
        },
        "id": "scCv9JUrCU0N",
        "outputId": "4a6994db-b1ac-4684-af71-ff93d4182206"
      },
      "source": [
        "print(\"Accuracy:\",metrics.accuracy_score(y_test, y_pred_cv))\n",
        "print(\"Precision:\",metrics.precision_score(y_test, y_pred_cv))\n",
        "print(\"Recall:\",metrics.recall_score(y_test, y_pred_cv))"
      ],
      "execution_count": null,
      "outputs": [
        {
          "output_type": "stream",
          "text": [
            "Accuracy: 0.9698275862068966\n",
            "Precision: 0.9738562091503268\n",
            "Recall: 0.9802631578947368\n"
          ],
          "name": "stdout"
        }
      ]
    },
    {
      "cell_type": "code",
      "metadata": {
        "colab": {
          "base_uri": "https://localhost:8080/",
          "height": 54
        },
        "id": "s2MCI27YCXyj",
        "outputId": "223b6412-3579-4c37-f6a3-c1c4dd630eac"
      },
      "source": [
        "from sklearn.metrics import roc_auc_score\n",
        "from sklearn.metrics import roc_curve\n",
        "logit_roc_auc = roc_auc_score(y_test, logregNiko_cv.predict(X_test))\n",
        "fpr, tpr, thresholds = roc_curve(y_test, logregNiko_cv.predict_proba(X_test)[:,1])\n",
        "plt.figure()\n",
        "plt.plot(fpr, tpr, label='Logistic Regression (area = %0.2f)' % logit_roc_auc)\n",
        "plt.plot([0, 1], [0, 1],'r--')\n",
        "plt.xlim([0.0, 1.0])\n",
        "plt.ylim([0.0, 1.05])\n",
        "plt.xlabel('False Positive Rate')\n",
        "plt.ylabel('True Positive Rate')\n",
        "plt.title('Receiver operating characteristic')\n",
        "plt.legend(loc=\"lower right\")\n",
        "plt.savefig('Log_ROC')\n",
        "plt.show()"
      ],
      "execution_count": null,
      "outputs": [
        {
          "output_type": "display_data",
          "data": {
            "image/png": "[encoded data removed]",
            "text/plain": [
              "<Figure size 432x288 with 1 Axes>"
            ]
          },
          "metadata": {
            "tags": [],
            "needs_background": "light"
          }
        }
      ]
    },
    {
      "cell_type": "code",
      "metadata": {
        "colab": {
          "base_uri": "https://localhost:8080/"
        },
        "id": "cMdt-z2RCd1H",
        "outputId": "6fd912e1-b2cb-48b2-f160-5cde5350a106"
      },
      "source": [
        "from sklearn.metrics import classification_report\n",
        "print(classification_report(y_test, y_pred_cv))"
      ],
      "execution_count": null,
      "outputs": [
        {
          "output_type": "stream",
          "text": [
            "              precision    recall  f1-score   support\n",
            "\n",
            "         0.0       0.96      0.95      0.96        80\n",
            "         1.0       0.97      0.98      0.98       152\n",
            "\n",
            "    accuracy                           0.97       232\n",
            "   macro avg       0.97      0.97      0.97       232\n",
            "weighted avg       0.97      0.97      0.97       232\n",
            "\n"
          ],
          "name": "stdout"
        }
      ]
    },
    {
      "cell_type": "code",
      "metadata": {
        "colab": {
          "base_uri": "https://localhost:8080/",
          "height": 186
        },
        "id": "uDJCM4Ss15Ho",
        "outputId": "7b08bb8a-d63d-4ac5-a4e5-c972c6b99084"
      },
      "source": [
        "# logistic regression for feature importance\n",
        "from sklearn.datasets import make_classification\n",
        "from sklearn.linear_model import LogisticRegression\n",
        "from matplotlib import pyplot\n",
        "\n",
        "# instantiate the model (using the default parameters)\n",
        "log_feature = LogisticRegression()\n",
        "# fit the model with data\n",
        "log_feature.fit(X_train,y_train)\n",
        "# get importance\n",
        "importance = log_feature.coef_[0]\n",
        "# summarize feature importance\n",
        "for i,v in enumerate(importance):\n",
        "\tprint('Feature: %0d, Score: %.5f' % (i,v))\n",
        "# plot feature importance\n",
        "pyplot.bar([x for x in range(len(importance))], importance)\n",
        "pyplot.show()"
      ],
      "execution_count": null,
      "outputs": [
        {
          "output_type": "stream",
          "text": [
            "Feature: 0, Score: 6.14862\n",
            "Feature: 1, Score: 1.89806\n",
            "Feature: 2, Score: 1.00063\n",
            "Feature: 3, Score: 1.80162\n",
            "Feature: 4, Score: 2.23640\n",
            "Feature: 5, Score: 0.77506\n",
            "Feature: 6, Score: 0.67626\n",
            "Feature: 7, Score: -0.38524\n"
          ],
          "name": "stdout"
        },
        {
          "output_type": "display_data",
          "data": {
            "image/png": "[encoded data removed]",
            "text/plain": [
              "<Figure size 432x288 with 1 Axes>"
            ]
          },
          "metadata": {
            "tags": [],
            "needs_background": "light"
          }
        }
      ]
    },
    {
      "cell_type": "markdown",
      "metadata": {
        "id": "ujMZXL0RcgZs"
      },
      "source": [
        "# Random Forest"
      ]
    },
    {
      "cell_type": "code",
      "metadata": {
        "id": "ACzcChBgao5e",
        "colab": {
          "base_uri": "https://localhost:8080/"
        },
        "outputId": "d3d22c07-0b33-457c-d60f-dbf3142f601f"
      },
      "source": [
        "#Train-Test Split\n",
        "from sklearn.model_selection import train_test_split\n",
        "\n",
        "X = audit_trial[xnames]\n",
        "y = audit_trial[yname]\n",
        "X_train, X_test, y_train, y_test = train_test_split(X, y, test_size=0.3, random_state=42)\n",
        "print(X_train.shape, X_test.shape)"
      ],
      "execution_count": null,
      "outputs": [
        {
          "output_type": "stream",
          "text": [
            "(540, 8) (232, 8)\n"
          ],
          "name": "stdout"
        }
      ]
    },
    {
      "cell_type": "code",
      "metadata": {
        "id": "tSdLYrZGautY",
        "colab": {
          "base_uri": "https://localhost:8080/"
        },
        "outputId": "e848db65-b29d-48f2-fdbe-970011c0397e"
      },
      "source": [
        "from sklearn.ensemble import RandomForestClassifier\n",
        "\n",
        "clf=RandomForestClassifier(n_estimators=20, random_state=0)\n",
        "\n",
        "clf.fit(X_train, y_train)\n"
      ],
      "execution_count": null,
      "outputs": [
        {
          "output_type": "execute_result",
          "data": {
            "text/plain": [
              "RandomForestClassifier(bootstrap=True, ccp_alpha=0.0, class_weight=None,\n",
              "                       criterion='gini', max_depth=None, max_features='auto',\n",
              "                       max_leaf_nodes=None, max_samples=None,\n",
              "                       min_impurity_decrease=0.0, min_impurity_split=None,\n",
              "                       min_samples_leaf=1, min_samples_split=2,\n",
              "                       min_weight_fraction_leaf=0.0, n_estimators=20,\n",
              "                       n_jobs=None, oob_score=False, random_state=0, verbose=0,\n",
              "                       warm_start=False)"
            ]
          },
          "metadata": {
            "tags": []
          },
          "execution_count": 62
        }
      ]
    },
    {
      "cell_type": "code",
      "metadata": {
        "id": "bj_0Fxo3azFp"
      },
      "source": [
        "y_pred = clf.predict(X_test)"
      ],
      "execution_count": null,
      "outputs": []
    },
    {
      "cell_type": "code",
      "metadata": {
        "id": "Mp0l8LjWa2Ze",
        "colab": {
          "base_uri": "https://localhost:8080/"
        },
        "outputId": "c1d5f20a-3283-4a9e-a442-a1267cf83c05"
      },
      "source": [
        "from sklearn.metrics import classification_report, confusion_matrix, accuracy_score\n",
        "\n",
        "print(confusion_matrix(y_test,y_pred))\n",
        "print(classification_report(y_test,y_pred))\n",
        "print(accuracy_score(y_test, y_pred))"
      ],
      "execution_count": null,
      "outputs": [
        {
          "output_type": "stream",
          "text": [
            "[[ 74   2]\n",
            " [  5 151]]\n",
            "              precision    recall  f1-score   support\n",
            "\n",
            "         0.0       0.94      0.97      0.95        76\n",
            "         1.0       0.99      0.97      0.98       156\n",
            "\n",
            "    accuracy                           0.97       232\n",
            "   macro avg       0.96      0.97      0.97       232\n",
            "weighted avg       0.97      0.97      0.97       232\n",
            "\n",
            "0.9698275862068966\n"
          ],
          "name": "stdout"
        }
      ]
    },
    {
      "cell_type": "code",
      "metadata": {
        "id": "BVfzR5pw09hF"
      },
      "source": [
        "y_score_rf = clf.predict_proba(X_test)[:,-1]"
      ],
      "execution_count": null,
      "outputs": []
    },
    {
      "cell_type": "code",
      "metadata": {
        "colab": {
          "base_uri": "https://localhost:8080/"
        },
        "id": "HJvRj8gg1F0V",
        "outputId": "4c0caec8-831e-4962-8ae6-0b2c6458df6c"
      },
      "source": [
        "from sklearn.metrics import average_precision_score, auc, roc_curve, precision_recall_curve\n",
        "average_precision = average_precision_score(y_test, y_score_rf)\n",
        "\n",
        "print('Average precision-recall score RF: {}'.format(average_precision))"
      ],
      "execution_count": null,
      "outputs": [
        {
          "output_type": "stream",
          "text": [
            "Average precision-recall score RF: 0.9962462456287204\n"
          ],
          "name": "stdout"
        }
      ]
    },
    {
      "cell_type": "code",
      "metadata": {
        "colab": {
          "base_uri": "https://localhost:8080/",
          "height": 332
        },
        "id": "MsMRS2TQ1G-4",
        "outputId": "1684bc83-ff78-4995-e638-c12c6419faa6"
      },
      "source": [
        "from sklearn.metrics import precision_recall_curve\n",
        "import matplotlib.pyplot as plt\n",
        "\n",
        "precision, recall, _ = precision_recall_curve(y_test, y_score_rf)\n",
        "\n",
        "plt.step(recall, precision, color='b', alpha=0.2,\n",
        "         where='post')\n",
        "plt.fill_between(recall, precision, step='post', alpha=0.2,\n",
        "                 color='b')\n",
        "\n",
        "plt.xlabel('Recall')\n",
        "plt.ylabel('Precision')\n",
        "plt.ylim([0.0, 1.05])\n",
        "plt.xlim([0.0, 1.0])\n",
        "plt.title('2-class Precision-Recall curve: AP={0:0.2f}'.format(\n",
        "          average_precision))"
      ],
      "execution_count": null,
      "outputs": [
        {
          "output_type": "execute_result",
          "data": {
            "text/plain": [
              "Text(0.5, 1.0, '2-class Precision-Recall curve: AP=1.00')"
            ]
          },
          "metadata": {
            "tags": []
          },
          "execution_count": 80
        },
        {
          "output_type": "display_data",
          "data": {
            "image/png": "[encoded data removed]",
            "text/plain": [
              "<Figure size 432x288 with 1 Axes>"
            ]
          },
          "metadata": {
            "tags": [],
            "needs_background": "light"
          }
        }
      ]
    },
    {
      "cell_type": "code",
      "metadata": {
        "colab": {
          "base_uri": "https://localhost:8080/",
          "height": 332
        },
        "id": "rAMf0ux03Xv8",
        "outputId": "4bc62fb6-0a91-42b3-d17d-59072d8b67dc"
      },
      "source": [
        "from sklearn import datasets\n",
        "from sklearn.model_selection import train_test_split\n",
        "from sklearn.linear_model import LogisticRegression\n",
        "from sklearn.metrics import average_precision_score, precision_recall_curve\n",
        "from sklearn.metrics import auc, plot_precision_recall_curve\n",
        "import matplotlib.pyplot as plt\n",
        "\n",
        "disp = plot_precision_recall_curve(clf, X_test, y_test)\n",
        "disp.ax_.set_title('Binary class Precision-Recall curve: '\n",
        "                   'AP={0:0.2f}'.format(average_precision))"
      ],
      "execution_count": null,
      "outputs": [
        {
          "output_type": "execute_result",
          "data": {
            "text/plain": [
              "Text(0.5, 1.0, 'Binary class Precision-Recall curve: AP=0.89')"
            ]
          },
          "metadata": {
            "tags": []
          },
          "execution_count": 99
        },
        {
          "output_type": "display_data",
          "data": {
            "image/png": "[encoded data removed]",
            "text/plain": [
              "<Figure size 432x288 with 1 Axes>"
            ]
          },
          "metadata": {
            "tags": [],
            "needs_background": "light"
          }
        }
      ]
    },
    {
      "cell_type": "code",
      "metadata": {
        "id": "2iIVdAtta6Us",
        "colab": {
          "base_uri": "https://localhost:8080/"
        },
        "outputId": "ebcb7f6a-1343-4765-d4c8-a8d5ca56ac9c"
      },
      "source": [
        "#Now doing cross validation to find the ideal parameters\n",
        "\n",
        "\n",
        "from sklearn.model_selection import GridSearchCV\n",
        "clf= RandomForestClassifier ()\n",
        "parameters={'max_depth':[5,10,20,50,100], 'n_estimators':[50,100,200]}\n",
        "\n",
        "grid_search = GridSearchCV(clf,parameters,cv=10,return_train_score=True)\n",
        "\n",
        "grid_search = grid_search.fit(X_train, y_train)\n",
        "Score_forest = grid_search.best_score_\n",
        "best_parameters = grid_search.best_params_\n",
        "print('Score Forest {}'.format(Score_forest))\n",
        "print('Best Parameters {}'.format(best_parameters))"
      ],
      "execution_count": null,
      "outputs": [
        {
          "output_type": "stream",
          "text": [
            "Score Forest 0.9907407407407407\n",
            "Best Parameters {'max_depth': 20, 'n_estimators': 100}\n"
          ],
          "name": "stdout"
        }
      ]
    },
    {
      "cell_type": "code",
      "metadata": {
        "id": "aDCVeOTTbHuD",
        "colab": {
          "base_uri": "https://localhost:8080/"
        },
        "outputId": "a40c2d2a-8aad-4958-b5e8-82cd2be857de"
      },
      "source": [
        "clf_final = RandomForestClassifier (n_estimators=50, max_depth=10)\n",
        "\n",
        "clf_final.fit(X_train, y_train)"
      ],
      "execution_count": null,
      "outputs": [
        {
          "output_type": "execute_result",
          "data": {
            "text/plain": [
              "RandomForestClassifier(bootstrap=True, ccp_alpha=0.0, class_weight=None,\n",
              "                       criterion='gini', max_depth=10, max_features='auto',\n",
              "                       max_leaf_nodes=None, max_samples=None,\n",
              "                       min_impurity_decrease=0.0, min_impurity_split=None,\n",
              "                       min_samples_leaf=1, min_samples_split=2,\n",
              "                       min_weight_fraction_leaf=0.0, n_estimators=50,\n",
              "                       n_jobs=None, oob_score=False, random_state=None,\n",
              "                       verbose=0, warm_start=False)"
            ]
          },
          "metadata": {
            "tags": []
          },
          "execution_count": 52
        }
      ]
    },
    {
      "cell_type": "code",
      "metadata": {
        "id": "AFJ6C3DKbKl5",
        "colab": {
          "base_uri": "https://localhost:8080/"
        },
        "outputId": "25440672-0c54-4c4b-935c-1e9e41b8f234"
      },
      "source": [
        "y_pred= clf_final.predict(X_test)\n",
        "\n",
        "\n",
        "from sklearn.metrics import classification_report, confusion_matrix, accuracy_score\n",
        "\n",
        "print(confusion_matrix(y_test,y_pred))\n",
        "print(classification_report(y_test,y_pred))\n",
        "print(accuracy_score(y_test, y_pred))"
      ],
      "execution_count": null,
      "outputs": [
        {
          "output_type": "stream",
          "text": [
            "[[ 74   2]\n",
            " [  3 153]]\n",
            "              precision    recall  f1-score   support\n",
            "\n",
            "         0.0       0.96      0.97      0.97        76\n",
            "         1.0       0.99      0.98      0.98       156\n",
            "\n",
            "    accuracy                           0.98       232\n",
            "   macro avg       0.97      0.98      0.98       232\n",
            "weighted avg       0.98      0.98      0.98       232\n",
            "\n",
            "0.978448275862069\n"
          ],
          "name": "stdout"
        }
      ]
    },
    {
      "cell_type": "code",
      "metadata": {
        "id": "jQ9h4qOR7a2R",
        "colab": {
          "base_uri": "https://localhost:8080/",
          "height": 418
        },
        "outputId": "0407a472-a4b7-4e2d-a087-cc19f64ba099"
      },
      "source": [
        "from matplotlib import pyplot\r\n",
        "\r\n",
        "# get importance\r\n",
        "importance = clf_final.feature_importances_\r\n",
        "# summarize feature importance\r\n",
        "for i,v in enumerate(importance):\r\n",
        "\tprint('Feature: %0d, Score: %.5f' % (i,v))\r\n",
        "# plot feature importance\r\n",
        "pyplot.bar([x for x in range(len(importance))], importance)\r\n",
        "pyplot.show()"
      ],
      "execution_count": null,
      "outputs": [
        {
          "output_type": "stream",
          "text": [
            "Feature: 0, Score: 0.45439\n",
            "Feature: 1, Score: 0.16299\n",
            "Feature: 2, Score: 0.01336\n",
            "Feature: 3, Score: 0.12726\n",
            "Feature: 4, Score: 0.15190\n",
            "Feature: 5, Score: 0.00182\n",
            "Feature: 6, Score: 0.00771\n",
            "Feature: 7, Score: 0.08056\n"
          ],
          "name": "stdout"
        },
        {
          "output_type": "display_data",
          "data": {
            "image/png": "[encoded data removed]",
            "text/plain": [
              "<Figure size 432x288 with 1 Axes>"
            ]
          },
          "metadata": {
            "tags": [],
            "needs_background": "light"
          }
        }
      ]
    },
    {
      "cell_type": "markdown",
      "metadata": {
        "id": "8py6MqYZhV1E"
      },
      "source": [
        "# KNN"
      ]
    },
    {
      "cell_type": "code",
      "metadata": {
        "id": "EI65vrmFKl92",
        "colab": {
          "base_uri": "https://localhost:8080/",
          "height": 221
        },
        "outputId": "3b8f0d3b-5451-4991-b3de-9eca7b6275b6"
      },
      "source": [
        "audit_trial.head()"
      ],
      "execution_count": null,
      "outputs": [
        {
          "output_type": "execute_result",
          "data": {
            "text/html": [
              "<div>\n",
              "<style scoped>\n",
              "    .dataframe tbody tr th:only-of-type {\n",
              "        vertical-align: middle;\n",
              "    }\n",
              "\n",
              "    .dataframe tbody tr th {\n",
              "        vertical-align: top;\n",
              "    }\n",
              "\n",
              "    .dataframe thead th {\n",
              "        text-align: right;\n",
              "    }\n",
              "</style>\n",
              "<table border=\"1\" class=\"dataframe\">\n",
              "  <thead>\n",
              "    <tr style=\"text-align: right;\">\n",
              "      <th></th>\n",
              "      <th>Sector_score</th>\n",
              "      <th>LOCATION_ID</th>\n",
              "      <th>PARA_A</th>\n",
              "      <th>PARA_B</th>\n",
              "      <th>numbers</th>\n",
              "      <th>Money_Value</th>\n",
              "      <th>District</th>\n",
              "      <th>Loss</th>\n",
              "      <th>History</th>\n",
              "      <th>Score</th>\n",
              "      <th>Risk</th>\n",
              "    </tr>\n",
              "  </thead>\n",
              "  <tbody>\n",
              "    <tr>\n",
              "      <th>0</th>\n",
              "      <td>3.89</td>\n",
              "      <td>23.0</td>\n",
              "      <td>4.18</td>\n",
              "      <td>2.50</td>\n",
              "      <td>5.0</td>\n",
              "      <td>3.38</td>\n",
              "      <td>2.0</td>\n",
              "      <td>0.0</td>\n",
              "      <td>0.0</td>\n",
              "      <td>2.4</td>\n",
              "      <td>1.0</td>\n",
              "    </tr>\n",
              "    <tr>\n",
              "      <th>1</th>\n",
              "      <td>3.89</td>\n",
              "      <td>6.0</td>\n",
              "      <td>0.00</td>\n",
              "      <td>4.83</td>\n",
              "      <td>5.0</td>\n",
              "      <td>0.94</td>\n",
              "      <td>2.0</td>\n",
              "      <td>0.0</td>\n",
              "      <td>0.0</td>\n",
              "      <td>2.0</td>\n",
              "      <td>0.0</td>\n",
              "    </tr>\n",
              "    <tr>\n",
              "      <th>2</th>\n",
              "      <td>3.89</td>\n",
              "      <td>6.0</td>\n",
              "      <td>0.51</td>\n",
              "      <td>0.23</td>\n",
              "      <td>5.0</td>\n",
              "      <td>0.00</td>\n",
              "      <td>2.0</td>\n",
              "      <td>0.0</td>\n",
              "      <td>0.0</td>\n",
              "      <td>2.0</td>\n",
              "      <td>0.0</td>\n",
              "    </tr>\n",
              "    <tr>\n",
              "      <th>3</th>\n",
              "      <td>3.89</td>\n",
              "      <td>6.0</td>\n",
              "      <td>0.00</td>\n",
              "      <td>10.80</td>\n",
              "      <td>6.0</td>\n",
              "      <td>11.75</td>\n",
              "      <td>2.0</td>\n",
              "      <td>0.0</td>\n",
              "      <td>0.0</td>\n",
              "      <td>4.4</td>\n",
              "      <td>1.0</td>\n",
              "    </tr>\n",
              "    <tr>\n",
              "      <th>4</th>\n",
              "      <td>3.89</td>\n",
              "      <td>6.0</td>\n",
              "      <td>0.00</td>\n",
              "      <td>0.08</td>\n",
              "      <td>5.0</td>\n",
              "      <td>0.00</td>\n",
              "      <td>2.0</td>\n",
              "      <td>0.0</td>\n",
              "      <td>0.0</td>\n",
              "      <td>2.0</td>\n",
              "      <td>0.0</td>\n",
              "    </tr>\n",
              "  </tbody>\n",
              "</table>\n",
              "</div>"
            ],
            "text/plain": [
              "   Sector_score  LOCATION_ID  PARA_A  PARA_B  numbers  Money_Value  District  \\\n",
              "0          3.89         23.0    4.18    2.50      5.0         3.38       2.0   \n",
              "1          3.89          6.0    0.00    4.83      5.0         0.94       2.0   \n",
              "2          3.89          6.0    0.51    0.23      5.0         0.00       2.0   \n",
              "3          3.89          6.0    0.00   10.80      6.0        11.75       2.0   \n",
              "4          3.89          6.0    0.00    0.08      5.0         0.00       2.0   \n",
              "\n",
              "   Loss  History  Score  Risk  \n",
              "0   0.0      0.0    2.4   1.0  \n",
              "1   0.0      0.0    2.0   0.0  \n",
              "2   0.0      0.0    2.0   0.0  \n",
              "3   0.0      0.0    4.4   1.0  \n",
              "4   0.0      0.0    2.0   0.0  "
            ]
          },
          "metadata": {
            "tags": []
          },
          "execution_count": 61
        }
      ]
    },
    {
      "cell_type": "code",
      "metadata": {
        "id": "JtgVQiQkhd_A"
      },
      "source": [
        "from sklearn.neighbors import KNeighborsClassifier\n",
        "X = audit_trial.iloc[:,0:9].values\n",
        "y = audit_trial.iloc[:, 10].values"
      ],
      "execution_count": null,
      "outputs": []
    },
    {
      "cell_type": "code",
      "metadata": {
        "id": "oCnD0-CojUUC"
      },
      "source": [
        "from sklearn.model_selection import train_test_split\n",
        "X_train, X_test, y_train, y_test = train_test_split(X, y, test_size=0.30)"
      ],
      "execution_count": null,
      "outputs": []
    },
    {
      "cell_type": "code",
      "metadata": {
        "id": "OXmv1-bhG1Bg",
        "colab": {
          "base_uri": "https://localhost:8080/",
          "height": 633
        },
        "outputId": "838a09b5-8654-4b10-f11a-339b694f7877"
      },
      "source": [
        "from sklearn.preprocessing import StandardScaler\n",
        "\n",
        "standard_scaler=StandardScaler()\n",
        "X_train=standard_scaler.fit_transform(X_train)\n",
        "X_test=standard_scaler.transform(X_test)\n",
        "\n",
        "x2=pd.DataFrame(X_train)\n",
        "plt.figure(figsize=(15,10))\n",
        "sns.boxplot(data = x2)\n",
        "plt.ylim(-1,2.5)"
      ],
      "execution_count": null,
      "outputs": [
        {
          "output_type": "execute_result",
          "data": {
            "text/plain": [
              "(-1.0, 2.5)"
            ]
          },
          "metadata": {
            "tags": []
          },
          "execution_count": 64
        },
        {
          "output_type": "display_data",
          "data": {
            "image/png": "[encoded data removed]",
            "text/plain": [
              "<Figure size 1080x720 with 1 Axes>"
            ]
          },
          "metadata": {
            "tags": [],
            "needs_background": "light"
          }
        }
      ]
    },
    {
      "cell_type": "code",
      "metadata": {
        "id": "Gf11uOMNjdUa",
        "colab": {
          "base_uri": "https://localhost:8080/"
        },
        "outputId": "9defbd52-75be-42c3-8e95-5a7b79eac191"
      },
      "source": [
        "from sklearn.neighbors import KNeighborsClassifier\n",
        "classifier = KNeighborsClassifier(n_neighbors=4)\n",
        "classifier.fit(X_train, y_train)"
      ],
      "execution_count": null,
      "outputs": [
        {
          "output_type": "execute_result",
          "data": {
            "text/plain": [
              "KNeighborsClassifier(algorithm='auto', leaf_size=30, metric='minkowski',\n",
              "                     metric_params=None, n_jobs=None, n_neighbors=4, p=2,\n",
              "                     weights='uniform')"
            ]
          },
          "metadata": {
            "tags": []
          },
          "execution_count": 65
        }
      ]
    },
    {
      "cell_type": "code",
      "metadata": {
        "id": "oXS1El8umQxX"
      },
      "source": [
        "y_pred_classifier = classifier.predict(X_test)"
      ],
      "execution_count": null,
      "outputs": []
    },
    {
      "cell_type": "code",
      "metadata": {
        "id": "IpDGecSjGdRj",
        "colab": {
          "base_uri": "https://localhost:8080/"
        },
        "outputId": "f9a72630-c724-4d81-f4e6-76829f3d122b"
      },
      "source": [
        "from sklearn.metrics import accuracy_score \n",
        "print (\"Accuracy : \", accuracy_score(y_test, y_pred_classifier))"
      ],
      "execution_count": null,
      "outputs": [
        {
          "output_type": "stream",
          "text": [
            "Accuracy :  0.8706896551724138\n"
          ],
          "name": "stdout"
        }
      ]
    },
    {
      "cell_type": "code",
      "metadata": {
        "id": "Kt8-mCzHmhCL",
        "colab": {
          "base_uri": "https://localhost:8080/"
        },
        "outputId": "c43127d1-65e5-4777-b913-9921b6678c8f"
      },
      "source": [
        "from sklearn.metrics import classification_report, confusion_matrix\n",
        "print(confusion_matrix(y_test, y_pred_classifier))\n",
        "print(classification_report(y_test, y_pred_classifier))"
      ],
      "execution_count": null,
      "outputs": [
        {
          "output_type": "stream",
          "text": [
            "[[ 79   3]\n",
            " [ 27 123]]\n",
            "              precision    recall  f1-score   support\n",
            "\n",
            "         0.0       0.75      0.96      0.84        82\n",
            "         1.0       0.98      0.82      0.89       150\n",
            "\n",
            "    accuracy                           0.87       232\n",
            "   macro avg       0.86      0.89      0.87       232\n",
            "weighted avg       0.89      0.87      0.87       232\n",
            "\n"
          ],
          "name": "stdout"
        }
      ]
    },
    {
      "cell_type": "code",
      "metadata": {
        "id": "4pSgWaWelD6W",
        "colab": {
          "base_uri": "https://localhost:8080/",
          "height": 301
        },
        "outputId": "72b7edad-077e-4483-d1f2-1b136c236876"
      },
      "source": [
        "cm_logi = confusion_matrix(y_test, y_pred_classifier)\n",
        "plt.title('Confusion matrix of the KNN')\n",
        "sns.heatmap(cm_logi,annot=True,fmt=\"d\")\n",
        "plt.show()"
      ],
      "execution_count": null,
      "outputs": [
        {
          "output_type": "display_data",
          "data": {
            "image/png": "[encoded data removed]",
            "text/plain": [
              "<Figure size 432x288 with 2 Axes>"
            ]
          },
          "metadata": {
            "tags": [],
            "needs_background": "light"
          }
        }
      ]
    },
    {
      "cell_type": "code",
      "metadata": {
        "id": "U3kN1CFEQDu3",
        "colab": {
          "base_uri": "https://localhost:8080/"
        },
        "outputId": "08a27238-fd8f-4f23-c7bc-2bbb8704ce6f"
      },
      "source": [
        "k_range = range(1, 26)\n",
        "\n",
        "scores = []\n",
        "\n",
        "\n",
        "for k in k_range:\n",
        "    knn = KNeighborsClassifier(n_neighbors=k)\n",
        "    knn.fit(X_train, y_train)\n",
        "    y_pred_classifier_loop = knn.predict(X_test)\n",
        "    scores.append(metrics.accuracy_score(y_test, y_pred_classifier_loop))\n",
        "\n",
        "print(scores)"
      ],
      "execution_count": null,
      "outputs": [
        {
          "output_type": "stream",
          "text": [
            "[0.9008620689655172, 0.8836206896551724, 0.875, 0.8706896551724138, 0.8793103448275862, 0.875, 0.8793103448275862, 0.8663793103448276, 0.8706896551724138, 0.8663793103448276, 0.875, 0.8577586206896551, 0.8577586206896551, 0.8491379310344828, 0.8448275862068966, 0.8448275862068966, 0.8448275862068966, 0.8362068965517241, 0.8448275862068966, 0.8448275862068966, 0.853448275862069, 0.8491379310344828, 0.8620689655172413, 0.853448275862069, 0.8663793103448276]\n"
          ],
          "name": "stdout"
        }
      ]
    },
    {
      "cell_type": "code",
      "metadata": {
        "id": "zwq6yB57Qgcb",
        "colab": {
          "base_uri": "https://localhost:8080/",
          "height": 316
        },
        "outputId": "da4ebfd3-f583-480c-8df2-b889af5e4446"
      },
      "source": [
        "# import Matplotlib (scientific plotting library)\n",
        "import matplotlib.pyplot as plt\n",
        "\n",
        "# allow plots to appear within the notebook\n",
        "%matplotlib inline\n",
        "\n",
        "# plot the relationship between K and testing accuracy\n",
        "# plt.plot(x_axis, y_axis)\n",
        "plt.plot(k_range, scores)\n",
        "plt.xlabel('Value of K for KNN')\n",
        "plt.ylabel('Testing Accuracy')"
      ],
      "execution_count": null,
      "outputs": [
        {
          "output_type": "execute_result",
          "data": {
            "text/plain": [
              "Text(0, 0.5, 'Testing Accuracy')"
            ]
          },
          "metadata": {
            "tags": []
          },
          "execution_count": 71
        },
        {
          "output_type": "display_data",
          "data": {
            "image/png": "[encoded data removed]",
            "text/plain": [
              "<Figure size 432x288 with 1 Axes>"
            ]
          },
          "metadata": {
            "tags": [],
            "needs_background": "light"
          }
        }
      ]
    },
    {
      "cell_type": "markdown",
      "metadata": {
        "id": "aTCZ32y4361Z"
      },
      "source": [
        "# Decision Tree Classifier"
      ]
    },
    {
      "cell_type": "code",
      "metadata": {
        "id": "42lUAWOy4QWh",
        "colab": {
          "base_uri": "https://localhost:8080/"
        },
        "outputId": "a52a98f4-1219-49f0-eb15-fba5c1c434d8"
      },
      "source": [
        "from sklearn.tree import DecisionTreeClassifier\n",
        "from mlxtend.plotting import plot_decision_regions\n",
        "import matplotlib.pyplot as plt\n",
        "from sklearn.model_selection import train_test_split\n",
        "X_train, X_test, y_train, y_test = train_test_split(X, y, test_size=0.30)\n",
        "model_tree = DecisionTreeClassifier(max_depth=1, min_samples_split=2)\n",
        "model_tree.fit(X_train, y_train)"
      ],
      "execution_count": null,
      "outputs": [
        {
          "output_type": "execute_result",
          "data": {
            "text/plain": [
              "DecisionTreeClassifier(ccp_alpha=0.0, class_weight=None, criterion='gini',\n",
              "                       max_depth=1, max_features=None, max_leaf_nodes=None,\n",
              "                       min_impurity_decrease=0.0, min_impurity_split=None,\n",
              "                       min_samples_leaf=1, min_samples_split=2,\n",
              "                       min_weight_fraction_leaf=0.0, presort='deprecated',\n",
              "                       random_state=None, splitter='best')"
            ]
          },
          "metadata": {
            "tags": []
          },
          "execution_count": 82
        }
      ]
    },
    {
      "cell_type": "code",
      "metadata": {
        "id": "ehRLD3fAGLbH",
        "colab": {
          "base_uri": "https://localhost:8080/"
        },
        "outputId": "46966d60-d340-4747-d45b-52ef13c3e28f"
      },
      "source": [
        "model_tree.score(X_train, y_train), model_tree.score(X_test, y_test)"
      ],
      "execution_count": null,
      "outputs": [
        {
          "output_type": "execute_result",
          "data": {
            "text/plain": [
              "(0.8444444444444444, 0.853448275862069)"
            ]
          },
          "metadata": {
            "tags": []
          },
          "execution_count": 83
        }
      ]
    },
    {
      "cell_type": "code",
      "metadata": {
        "id": "hcuvpgShOeR_"
      },
      "source": [
        "yp_tree = model_tree.predict(X_test)"
      ],
      "execution_count": null,
      "outputs": []
    },
    {
      "cell_type": "code",
      "metadata": {
        "id": "i2wBSFl1OUCw",
        "colab": {
          "base_uri": "https://localhost:8080/"
        },
        "outputId": "1117a0e1-de0b-4c3e-d9cf-da8fc6eb79ed"
      },
      "source": [
        "conf_mat = confusion_matrix(y_test, yp_tree)\r\n",
        "conf_mat"
      ],
      "execution_count": null,
      "outputs": [
        {
          "output_type": "execute_result",
          "data": {
            "text/plain": [
              "array([[ 97,   0],\n",
              "       [ 34, 101]])"
            ]
          },
          "metadata": {
            "tags": []
          },
          "execution_count": 85
        }
      ]
    },
    {
      "cell_type": "code",
      "metadata": {
        "id": "HihXIDK6O0-u",
        "colab": {
          "base_uri": "https://localhost:8080/"
        },
        "outputId": "3c7575ed-a5a1-4a5e-8205-0e98ff61077a"
      },
      "source": [
        "y_pred_tree=model_tree.predict(X_test)\r\n",
        "print(classification_report(y_test, y_pred_tree))"
      ],
      "execution_count": null,
      "outputs": [
        {
          "output_type": "stream",
          "text": [
            "              precision    recall  f1-score   support\n",
            "\n",
            "         0.0       0.74      1.00      0.85        97\n",
            "         1.0       1.00      0.75      0.86       135\n",
            "\n",
            "    accuracy                           0.85       232\n",
            "   macro avg       0.87      0.87      0.85       232\n",
            "weighted avg       0.89      0.85      0.85       232\n",
            "\n"
          ],
          "name": "stdout"
        }
      ]
    },
    {
      "cell_type": "code",
      "metadata": {
        "id": "lk0hpRZJ1WiW"
      },
      "source": [
        "y_score_mt = model_tree.predict_proba(X_test)[:,-1]"
      ],
      "execution_count": null,
      "outputs": []
    },
    {
      "cell_type": "code",
      "metadata": {
        "colab": {
          "base_uri": "https://localhost:8080/"
        },
        "id": "vL1vRZmd1f6k",
        "outputId": "1eb1a29b-57c5-4fa1-9a4f-eb236fb86400"
      },
      "source": [
        "from sklearn.metrics import average_precision_score, auc, roc_curve, precision_recall_curve\n",
        "average_precision = average_precision_score(y_test, y_score_mt)\n",
        "\n",
        "print('Average precision-recall score RF: {}'.format(average_precision))"
      ],
      "execution_count": null,
      "outputs": [
        {
          "output_type": "stream",
          "text": [
            "Average precision-recall score RF: 0.8946998722860792\n"
          ],
          "name": "stdout"
        }
      ]
    },
    {
      "cell_type": "code",
      "metadata": {
        "colab": {
          "base_uri": "https://localhost:8080/",
          "height": 332
        },
        "id": "cliXAnNn1hZ-",
        "outputId": "1245330f-8cc8-4d55-9328-0e224fb5d115"
      },
      "source": [
        "from sklearn.metrics import precision_recall_curve\n",
        "import matplotlib.pyplot as plt\n",
        "\n",
        "precision, recall, _ = precision_recall_curve(y_test, y_score_mt)\n",
        "\n",
        "plt.step(recall, precision, color='b', alpha=0.2,\n",
        "         where='post')\n",
        "\n",
        "\n",
        "plt.xlabel('Recall')\n",
        "plt.ylabel('Precision')\n",
        "plt.ylim([0.0, 1.05])\n",
        "plt.xlim([0.0, 1.0])\n",
        "plt.title('2-class Precision-Recall curve: AP={0:0.2f}'.format(\n",
        "          average_precision))"
      ],
      "execution_count": null,
      "outputs": [
        {
          "output_type": "execute_result",
          "data": {
            "text/plain": [
              "Text(0.5, 1.0, '2-class Precision-Recall curve: AP=0.89')"
            ]
          },
          "metadata": {
            "tags": []
          },
          "execution_count": 91
        },
        {
          "output_type": "display_data",
          "data": {
            "image/png": "[encoded data removed]",
            "text/plain": [
              "<Figure size 432x288 with 1 Axes>"
            ]
          },
          "metadata": {
            "tags": [],
            "needs_background": "light"
          }
        }
      ]
    },
    {
      "cell_type": "code",
      "metadata": {
        "id": "wyF8QBej2vnt"
      },
      "source": [
        "from sklearn import datasets\n",
        "from sklearn.model_selection import train_test_split\n",
        "from sklearn.linear_model import LogisticRegression\n",
        "from sklearn.metrics import average_precision_score, precision_recall_curve\n",
        "from sklearn.metrics import auc, plot_precision_recall_curve\n",
        "import matplotlib.pyplot as plt"
      ],
      "execution_count": null,
      "outputs": []
    },
    {
      "cell_type": "code",
      "metadata": {
        "id": "oHH-VQHe2zmh"
      },
      "source": [
        "y_score_mt1 = model_tree.predict_proba(X_test)[:, 1]"
      ],
      "execution_count": null,
      "outputs": []
    },
    {
      "cell_type": "code",
      "metadata": {
        "colab": {
          "base_uri": "https://localhost:8080/"
        },
        "id": "V91-D52525O7",
        "outputId": "79750ab0-1c42-4583-b07c-830061db9aa7"
      },
      "source": [
        "# Average precision score\n",
        "average_precision = average_precision_score(y_test, y_score_mt1)\n",
        "print(average_precision)"
      ],
      "execution_count": null,
      "outputs": [
        {
          "output_type": "stream",
          "text": [
            "0.8946998722860792\n"
          ],
          "name": "stdout"
        }
      ]
    },
    {
      "cell_type": "code",
      "metadata": {
        "colab": {
          "base_uri": "https://localhost:8080/"
        },
        "id": "7glnqQEL28fj",
        "outputId": "35fee1a5-2990-4054-cc14-14bb19888a0d"
      },
      "source": [
        "# Data to plot precision - recall curve\n",
        "precision, recall, thresholds = precision_recall_curve(y_test, y_score_mt1)\n",
        "# Use AUC function to calculate the area under the curve of precision recall curve\n",
        "auc_precision_recall = auc(recall, precision)\n",
        "print(auc_precision_recall)"
      ],
      "execution_count": null,
      "outputs": [
        {
          "output_type": "stream",
          "text": [
            "0.9473499361430395\n"
          ],
          "name": "stdout"
        }
      ]
    },
    {
      "cell_type": "code",
      "metadata": {
        "colab": {
          "base_uri": "https://localhost:8080/",
          "height": 286
        },
        "id": "Aog7ZHmL3CXM",
        "outputId": "9b283f80-a83a-4597-fd4b-2f8bebb1c3e4"
      },
      "source": [
        "plt.plot(recall, precision)\n",
        "plt.show()"
      ],
      "execution_count": null,
      "outputs": [
        {
          "output_type": "display_data",
          "data": {
            "image/png": "[encoded data removed]",
            "text/plain": [
              "<Figure size 432x288 with 1 Axes>"
            ]
          },
          "metadata": {
            "tags": [],
            "needs_background": "light"
          }
        }
      ]
    },
    {
      "cell_type": "code",
      "metadata": {
        "colab": {
          "base_uri": "https://localhost:8080/",
          "height": 332
        },
        "id": "ndiB6eP_3HRV",
        "outputId": "b4f38ddd-a313-4e1f-a568-cf82db47f4ee"
      },
      "source": [
        "disp = plot_precision_recall_curve(model_tree, X_test, y_test)\n",
        "disp.ax_.set_title('Binary class Precision-Recall curve: '\n",
        "                   'AP={0:0.2f}'.format(average_precision))"
      ],
      "execution_count": null,
      "outputs": [
        {
          "output_type": "execute_result",
          "data": {
            "text/plain": [
              "Text(0.5, 1.0, 'Binary class Precision-Recall curve: AP=0.89')"
            ]
          },
          "metadata": {
            "tags": []
          },
          "execution_count": 98
        },
        {
          "output_type": "display_data",
          "data": {
            "image/png": "[encoded data removed]",
            "text/plain": [
              "<Figure size 432x288 with 1 Axes>"
            ]
          },
          "metadata": {
            "tags": [],
            "needs_background": "light"
          }
        }
      ]
    },
    {
      "cell_type": "code",
      "metadata": {
        "id": "qcYoHjPoIATF",
        "colab": {
          "base_uri": "https://localhost:8080/"
        },
        "outputId": "9abf6307-488e-443d-d5f0-02c84b2b32cf"
      },
      "source": [
        "# use GridSearchCV to optimize the model parameters max_depth and min_samples_split\r\n",
        "grid_search_cv = GridSearchCV(DecisionTreeClassifier(max_depth=1, min_samples_split=2), \r\n",
        "                              {'max_depth': [1, 2, 3, 4, 5], \r\n",
        "                               'min_samples_split': [1, 2, 3, 4, 5]}, \r\n",
        "                              cv=10)\r\n",
        "grid_search_cv.fit(X, y)"
      ],
      "execution_count": null,
      "outputs": [
        {
          "output_type": "execute_result",
          "data": {
            "text/plain": [
              "GridSearchCV(cv=10, error_score=nan,\n",
              "             estimator=DecisionTreeClassifier(ccp_alpha=0.0, class_weight=None,\n",
              "                                              criterion='gini', max_depth=1,\n",
              "                                              max_features=None,\n",
              "                                              max_leaf_nodes=None,\n",
              "                                              min_impurity_decrease=0.0,\n",
              "                                              min_impurity_split=None,\n",
              "                                              min_samples_leaf=1,\n",
              "                                              min_samples_split=2,\n",
              "                                              min_weight_fraction_leaf=0.0,\n",
              "                                              presort='deprecated',\n",
              "                                              random_state=None,\n",
              "                                              splitter='best'),\n",
              "             iid='deprecated', n_jobs=None,\n",
              "             param_grid={'max_depth': [1, 2, 3, 4, 5],\n",
              "                         'min_samples_split': [1, 2, 3, 4, 5]},\n",
              "             pre_dispatch='2*n_jobs', refit=True, return_train_score=False,\n",
              "             scoring=None, verbose=0)"
            ]
          },
          "metadata": {
            "tags": []
          },
          "execution_count": 77
        }
      ]
    },
    {
      "cell_type": "code",
      "metadata": {
        "id": "c_I0vSAUIK31",
        "colab": {
          "base_uri": "https://localhost:8080/"
        },
        "outputId": "6e0c5053-d4ce-419e-ddbd-6b4c445904f7"
      },
      "source": [
        "# retrieve best parameter combinations\r\n",
        "grid_search_cv.best_params_"
      ],
      "execution_count": null,
      "outputs": [
        {
          "output_type": "execute_result",
          "data": {
            "text/plain": [
              "{'max_depth': 4, 'min_samples_split': 3}"
            ]
          },
          "metadata": {
            "tags": []
          },
          "execution_count": 78
        }
      ]
    },
    {
      "cell_type": "code",
      "metadata": {
        "id": "61mTtu0rIRVQ",
        "colab": {
          "base_uri": "https://localhost:8080/"
        },
        "outputId": "6ac11a83-2167-4f98-fbc5-7025a429d15b"
      },
      "source": [
        "# fit a new model on the training data using the best parameters from above\r\n",
        "best_model_tree = grid_search_cv.best_estimator_\r\n",
        "best_model_tree.fit(X_train, y_train)"
      ],
      "execution_count": null,
      "outputs": [
        {
          "output_type": "execute_result",
          "data": {
            "text/plain": [
              "DecisionTreeClassifier(ccp_alpha=0.0, class_weight=None, criterion='gini',\n",
              "                       max_depth=4, max_features=None, max_leaf_nodes=None,\n",
              "                       min_impurity_decrease=0.0, min_impurity_split=None,\n",
              "                       min_samples_leaf=1, min_samples_split=3,\n",
              "                       min_weight_fraction_leaf=0.0, presort='deprecated',\n",
              "                       random_state=None, splitter='best')"
            ]
          },
          "metadata": {
            "tags": []
          },
          "execution_count": 79
        }
      ]
    },
    {
      "cell_type": "code",
      "metadata": {
        "id": "2ATwi_EDIXUl",
        "colab": {
          "base_uri": "https://localhost:8080/"
        },
        "outputId": "0582670b-7569-4e82-a666-4396f16eddd2"
      },
      "source": [
        "best_model_tree.score(X_train, y_train), best_model_tree.score(X_test, y_test)"
      ],
      "execution_count": null,
      "outputs": [
        {
          "output_type": "execute_result",
          "data": {
            "text/plain": [
              "(0.9851851851851852, 0.9655172413793104)"
            ]
          },
          "metadata": {
            "tags": []
          },
          "execution_count": 80
        }
      ]
    },
    {
      "cell_type": "code",
      "metadata": {
        "id": "zmdPcxIM4qPA"
      },
      "source": [
        "yp_best_tree = best_model_tree.predict(X_test)"
      ],
      "execution_count": null,
      "outputs": []
    },
    {
      "cell_type": "code",
      "metadata": {
        "id": "yaZaa3Uf4tuv",
        "colab": {
          "base_uri": "https://localhost:8080/"
        },
        "outputId": "1df1a596-b7aa-4c7b-c561-56d4636a232f"
      },
      "source": [
        "conf_mat = confusion_matrix(y_test, yp_best_tree)\n",
        "conf_mat"
      ],
      "execution_count": null,
      "outputs": [
        {
          "output_type": "execute_result",
          "data": {
            "text/plain": [
              "array([[ 90,   5],\n",
              "       [  3, 134]])"
            ]
          },
          "metadata": {
            "tags": []
          },
          "execution_count": 82
        }
      ]
    },
    {
      "cell_type": "code",
      "metadata": {
        "id": "gOz74R11kg7A",
        "colab": {
          "base_uri": "https://localhost:8080/",
          "height": 301
        },
        "outputId": "468c5873-562b-4402-b268-6b204f56764a"
      },
      "source": [
        "cm_logi = confusion_matrix(y_test, yp_best_tree)\n",
        "plt.title('Confusion matrix of the Decision Tree Classifier')\n",
        "sns.heatmap(cm_logi,annot=True,fmt=\"d\")\n",
        "plt.show()"
      ],
      "execution_count": null,
      "outputs": [
        {
          "output_type": "display_data",
          "data": {
            "image/png": "[encoded data removed]",
            "text/plain": [
              "<Figure size 432x288 with 2 Axes>"
            ]
          },
          "metadata": {
            "tags": [],
            "needs_background": "light"
          }
        }
      ]
    },
    {
      "cell_type": "code",
      "metadata": {
        "id": "UIou8bqwNdZi",
        "colab": {
          "base_uri": "https://localhost:8080/"
        },
        "outputId": "a893348d-2bec-4d56-e9f1-dc243e8dc470"
      },
      "source": [
        "y_pred_best_tree=best_model_tree.predict(X_test)\r\n",
        "print(classification_report(y_test, y_pred_best_tree))"
      ],
      "execution_count": null,
      "outputs": [
        {
          "output_type": "stream",
          "text": [
            "              precision    recall  f1-score   support\n",
            "\n",
            "         0.0       0.97      0.95      0.96        95\n",
            "         1.0       0.96      0.98      0.97       137\n",
            "\n",
            "    accuracy                           0.97       232\n",
            "   macro avg       0.97      0.96      0.96       232\n",
            "weighted avg       0.97      0.97      0.97       232\n",
            "\n"
          ],
          "name": "stdout"
        }
      ]
    },
    {
      "cell_type": "code",
      "metadata": {
        "id": "SKtB5QJyk_ss",
        "colab": {
          "base_uri": "https://localhost:8080/",
          "height": 518
        },
        "outputId": "1b3f298e-6bb8-41cc-87b3-6f6f261fe828"
      },
      "source": [
        "tree_feature= DecisionTreeClassifier(max_depth=4,min_samples_split=2)\r\n",
        "tree_feature.fit(X_train,y_train)\r\n",
        "cols=xnames\r\n",
        "def plot_feature_importances(model):\r\n",
        "    plt.figure(figsize=(8,8))\r\n",
        "    n_features = X.shape[1]\r\n",
        "    plt.barh(range(n_features), model.feature_importances_, height=0.5,align='center')\r\n",
        "    plt.yticks(np.arange(n_features), cols)\r\n",
        "    plt.xlabel(\"Feature importance\")\r\n",
        "    plt.ylabel(\"Feature\")\r\n",
        "    plt.ylim(-1, n_features)\r\n",
        "\r\n",
        "plot_feature_importances(tree_feature)"
      ],
      "execution_count": null,
      "outputs": [
        {
          "output_type": "display_data",
          "data": {
            "image/png": "[encoded data removed]",
            "text/plain": [
              "<Figure size 576x576 with 1 Axes>"
            ]
          },
          "metadata": {
            "tags": [],
            "needs_background": "light"
          }
        }
      ]
    },
    {
      "cell_type": "code",
      "metadata": {
        "id": "ICBCZRzcftKQ",
        "colab": {
          "base_uri": "https://localhost:8080/",
          "height": 434
        },
        "outputId": "549d05af-e833-49ee-9737-8868a350f96c"
      },
      "source": [
        "from matplotlib import pyplot\r\n",
        "\r\n",
        "# get importance\r\n",
        "importance = best_model_tree.feature_importances_\r\n",
        "# summarize feature importance\r\n",
        "for i,v in enumerate(importance):\r\n",
        "\tprint('Feature: %0d, Score: %.5f' % (i,v))\r\n",
        "# plot feature importance\r\n",
        "pyplot.bar([x for x in range(len(importance))], importance)\r\n",
        "pyplot.show()"
      ],
      "execution_count": null,
      "outputs": [
        {
          "output_type": "stream",
          "text": [
            "Feature: 0, Score: 0.00359\n",
            "Feature: 1, Score: 0.01227\n",
            "Feature: 2, Score: 0.56952\n",
            "Feature: 3, Score: 0.16806\n",
            "Feature: 4, Score: 0.00000\n",
            "Feature: 5, Score: 0.06317\n",
            "Feature: 6, Score: 0.18339\n",
            "Feature: 7, Score: 0.00000\n",
            "Feature: 8, Score: 0.00000\n"
          ],
          "name": "stdout"
        },
        {
          "output_type": "display_data",
          "data": {
            "image/png": "[encoded data removed]",
            "text/plain": [
              "<Figure size 432x288 with 1 Axes>"
            ]
          },
          "metadata": {
            "tags": [],
            "needs_background": "light"
          }
        }
      ]
    },
    {
      "cell_type": "code",
      "metadata": {
        "id": "IWqOkhGXKJnN",
        "colab": {
          "base_uri": "https://localhost:8080/",
          "height": 434
        },
        "outputId": "b8477970-9d5e-4017-9709-afbfd25989fe"
      },
      "source": [
        "# decision tree for feature importance on a classification problem\n",
        "from sklearn.datasets import make_classification\n",
        "from sklearn.tree import DecisionTreeClassifier\n",
        "from matplotlib import pyplot\n",
        "tree_feature= DecisionTreeClassifier(max_depth=4,min_samples_split=2)\n",
        "tree_feature.fit(X_train,y_train)\n",
        "# get importance\n",
        "importance = tree_feature.feature_importances_\n",
        "# summarize feature importance\n",
        "for i,v in enumerate(importance):\n",
        "\tprint('Feature: %0d, Score: %.5f' % (i,v))\n",
        "# plot feature importance\n",
        "pyplot.bar([x for x in range(len(importance))], importance)\n",
        "pyplot.show()"
      ],
      "execution_count": null,
      "outputs": [
        {
          "output_type": "stream",
          "text": [
            "Feature: 0, Score: 0.00359\n",
            "Feature: 1, Score: 0.01227\n",
            "Feature: 2, Score: 0.56952\n",
            "Feature: 3, Score: 0.16806\n",
            "Feature: 4, Score: 0.00000\n",
            "Feature: 5, Score: 0.06317\n",
            "Feature: 6, Score: 0.18339\n",
            "Feature: 7, Score: 0.00000\n",
            "Feature: 8, Score: 0.00000\n"
          ],
          "name": "stdout"
        },
        {
          "output_type": "display_data",
          "data": {
            "image/png": "[encoded data removed]",
            "text/plain": [
              "<Figure size 432x288 with 1 Axes>"
            ]
          },
          "metadata": {
            "tags": [],
            "needs_background": "light"
          }
        }
      ]
    },
    {
      "cell_type": "code",
      "metadata": {
        "id": "YlxIjY12KVRV"
      },
      "source": [
        ""
      ],
      "execution_count": null,
      "outputs": []
    }
  ]
}