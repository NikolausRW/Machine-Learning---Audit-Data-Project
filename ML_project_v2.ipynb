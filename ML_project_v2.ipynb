{
  "nbformat": 4,
  "nbformat_minor": 0,
  "metadata": {
    "colab": {
      "name": "ML_project_v2",
      "provenance": [],
      "collapsed_sections": [
        "Y5sClZ9LykZn",
        "qa-rg8RzcN6W",
        "_CAzr8JscTgr"
      ],
      "toc_visible": true
    },
    "kernelspec": {
      "display_name": "Python 3",
      "name": "python3"
    }
  },
  "cells": [
    {
      "cell_type": "markdown",
      "metadata": {
        "id": "Y5sClZ9LykZn"
      },
      "source": [
        "# Import libraries and data"
      ]
    },
    {
      "cell_type": "code",
      "metadata": {
        "id": "zuhTFOPryquz"
      },
      "source": [
        "#importing the libraries we require in the project\n",
        "import warnings\n",
        "warnings.filterwarnings('ignore')\n",
        "import pandas as pd\n",
        "import numpy as np\n",
        "import seaborn as sns\n",
        "\n",
        "# confusion matrix for all models\n",
        "from sklearn.metrics import classification_report, confusion_matrix, accuracy_score\n",
        "from sklearn import metrics\n",
        "\n",
        "#standardscaler\n",
        "from sklearn.preprocessing import StandardScaler\n",
        "\n",
        "#roc auc scores\n",
        "from sklearn.metrics import roc_auc_score\n",
        "from sklearn.metrics import roc_curve\n",
        "\n",
        "#precision recall cruve\n",
        "from sklearn.metrics import average_precision_score, auc, roc_curve, precision_recall_curve\n",
        "\n",
        "#import gridsearch\n",
        "from sklearn.model_selection import GridSearchCV\n",
        "\n",
        "#plotting\n",
        "from matplotlib import pyplot\n",
        "import matplotlib.pyplot as plt\n",
        "from mlxtend.plotting import plot_decision_regions\n",
        "\n",
        "# logistic regression \n",
        "from sklearn.datasets import make_classification\n",
        "from sklearn.linear_model import LogisticRegression\n",
        "\n",
        "# decision tree \n",
        "from sklearn.tree import DecisionTreeClassifier\n",
        "\n",
        "#randomforest\n",
        "from sklearn.ensemble import RandomForestClassifier\n",
        "\n",
        "#KNN\n",
        "from sklearn.neighbors import KNeighborsClassifier\n"
      ],
      "execution_count": null,
      "outputs": []
    },
    {
      "cell_type": "code",
      "metadata": {
        "id": "Wf-NfmoSytOC"
      },
      "source": [
        "#importing the data set trial\n",
        "audit_trial=pd.read_csv('https://raw.githubusercontent.com/caichinger/MLMNC2020/master/projects/AuditDataDataSet/data/trial.csv')"
      ],
      "execution_count": null,
      "outputs": []
    },
    {
      "cell_type": "markdown",
      "metadata": {
        "id": "5UUEBSTPDVWy"
      },
      "source": [
        "#Checklist"
      ]
    },
    {
      "cell_type": "code",
      "metadata": {
        "id": "g-sp-OMWywc9"
      },
      "source": [
        "# 0. train test split\n",
        "#X_train, X_test, y_train, y_test = train_test_split(X, y)\n",
        "\n",
        "# 1. choose a model\n",
        "#from sklearn.model_family import DesiredModel\n",
        "\n",
        "# 2. instantiate a model with certain parameters\n",
        "#model = DesiredModel(model_parameters)\n",
        "\n",
        "# 3. fit a model to the data\n",
        "#model.fit(X_train, y_train)\n",
        "\n",
        "# 4. evaluate\n",
        "#model.score(X_test, y_test), model.score(X_train, y_train)\n",
        "\n",
        "# 5. use the model to make a prediction\n",
        "#y_new = model.predict(X_new)"
      ],
      "execution_count": null,
      "outputs": []
    },
    {
      "cell_type": "markdown",
      "metadata": {
        "id": "qa-rg8RzcN6W"
      },
      "source": [
        "# Data Exploration and Preparation\n"
      ]
    },
    {
      "cell_type": "code",
      "metadata": {
        "colab": {
          "base_uri": "https://localhost:8080/",
          "height": 314
        },
        "id": "Z7GsZxkocr1B",
        "outputId": "2c0804b3-d1a2-483c-bb7f-a57fff0a4656"
      },
      "source": [
        "#Starting to explore the data by looking at a rough description\n",
        "audit_trial.describe().round(2)"
      ],
      "execution_count": null,
      "outputs": [
        {
          "output_type": "execute_result",
          "data": {
            "text/html": [
              "<div>\n",
              "<style scoped>\n",
              "    .dataframe tbody tr th:only-of-type {\n",
              "        vertical-align: middle;\n",
              "    }\n",
              "\n",
              "    .dataframe tbody tr th {\n",
              "        vertical-align: top;\n",
              "    }\n",
              "\n",
              "    .dataframe thead th {\n",
              "        text-align: right;\n",
              "    }\n",
              "</style>\n",
              "<table border=\"1\" class=\"dataframe\">\n",
              "  <thead>\n",
              "    <tr style=\"text-align: right;\">\n",
              "      <th></th>\n",
              "      <th>Sector_score</th>\n",
              "      <th>PARA_A</th>\n",
              "      <th>SCORE_A</th>\n",
              "      <th>PARA_B</th>\n",
              "      <th>SCORE_B</th>\n",
              "      <th>TOTAL</th>\n",
              "      <th>numbers</th>\n",
              "      <th>Marks</th>\n",
              "      <th>Money_Value</th>\n",
              "      <th>MONEY_Marks</th>\n",
              "      <th>District</th>\n",
              "      <th>Loss</th>\n",
              "      <th>LOSS_SCORE</th>\n",
              "      <th>History</th>\n",
              "      <th>History_score</th>\n",
              "      <th>Score</th>\n",
              "      <th>Risk</th>\n",
              "    </tr>\n",
              "  </thead>\n",
              "  <tbody>\n",
              "    <tr>\n",
              "      <th>count</th>\n",
              "      <td>776.00</td>\n",
              "      <td>776.00</td>\n",
              "      <td>776.00</td>\n",
              "      <td>776.00</td>\n",
              "      <td>776.00</td>\n",
              "      <td>776.00</td>\n",
              "      <td>776.00</td>\n",
              "      <td>776.00</td>\n",
              "      <td>775.00</td>\n",
              "      <td>776.00</td>\n",
              "      <td>776.00</td>\n",
              "      <td>776.00</td>\n",
              "      <td>776.00</td>\n",
              "      <td>776.00</td>\n",
              "      <td>776.00</td>\n",
              "      <td>776.00</td>\n",
              "      <td>776.00</td>\n",
              "    </tr>\n",
              "    <tr>\n",
              "      <th>mean</th>\n",
              "      <td>20.18</td>\n",
              "      <td>2.45</td>\n",
              "      <td>3.51</td>\n",
              "      <td>10.80</td>\n",
              "      <td>3.13</td>\n",
              "      <td>13.22</td>\n",
              "      <td>5.07</td>\n",
              "      <td>2.24</td>\n",
              "      <td>14.14</td>\n",
              "      <td>2.91</td>\n",
              "      <td>2.51</td>\n",
              "      <td>0.03</td>\n",
              "      <td>2.06</td>\n",
              "      <td>0.10</td>\n",
              "      <td>2.17</td>\n",
              "      <td>2.70</td>\n",
              "      <td>0.63</td>\n",
              "    </tr>\n",
              "    <tr>\n",
              "      <th>std</th>\n",
              "      <td>24.32</td>\n",
              "      <td>5.68</td>\n",
              "      <td>1.74</td>\n",
              "      <td>50.08</td>\n",
              "      <td>1.70</td>\n",
              "      <td>51.31</td>\n",
              "      <td>0.26</td>\n",
              "      <td>0.80</td>\n",
              "      <td>66.61</td>\n",
              "      <td>1.60</td>\n",
              "      <td>1.23</td>\n",
              "      <td>0.18</td>\n",
              "      <td>0.38</td>\n",
              "      <td>0.53</td>\n",
              "      <td>0.68</td>\n",
              "      <td>0.86</td>\n",
              "      <td>0.48</td>\n",
              "    </tr>\n",
              "    <tr>\n",
              "      <th>min</th>\n",
              "      <td>1.85</td>\n",
              "      <td>0.00</td>\n",
              "      <td>2.00</td>\n",
              "      <td>0.00</td>\n",
              "      <td>2.00</td>\n",
              "      <td>0.00</td>\n",
              "      <td>5.00</td>\n",
              "      <td>2.00</td>\n",
              "      <td>0.00</td>\n",
              "      <td>2.00</td>\n",
              "      <td>2.00</td>\n",
              "      <td>0.00</td>\n",
              "      <td>2.00</td>\n",
              "      <td>0.00</td>\n",
              "      <td>2.00</td>\n",
              "      <td>2.00</td>\n",
              "      <td>0.00</td>\n",
              "    </tr>\n",
              "    <tr>\n",
              "      <th>25%</th>\n",
              "      <td>2.37</td>\n",
              "      <td>0.21</td>\n",
              "      <td>2.00</td>\n",
              "      <td>0.00</td>\n",
              "      <td>2.00</td>\n",
              "      <td>0.54</td>\n",
              "      <td>5.00</td>\n",
              "      <td>2.00</td>\n",
              "      <td>0.00</td>\n",
              "      <td>2.00</td>\n",
              "      <td>2.00</td>\n",
              "      <td>0.00</td>\n",
              "      <td>2.00</td>\n",
              "      <td>0.00</td>\n",
              "      <td>2.00</td>\n",
              "      <td>2.00</td>\n",
              "      <td>0.00</td>\n",
              "    </tr>\n",
              "    <tr>\n",
              "      <th>50%</th>\n",
              "      <td>3.89</td>\n",
              "      <td>0.88</td>\n",
              "      <td>2.00</td>\n",
              "      <td>0.40</td>\n",
              "      <td>2.00</td>\n",
              "      <td>1.37</td>\n",
              "      <td>5.00</td>\n",
              "      <td>2.00</td>\n",
              "      <td>0.09</td>\n",
              "      <td>2.00</td>\n",
              "      <td>2.00</td>\n",
              "      <td>0.00</td>\n",
              "      <td>2.00</td>\n",
              "      <td>0.00</td>\n",
              "      <td>2.00</td>\n",
              "      <td>2.40</td>\n",
              "      <td>1.00</td>\n",
              "    </tr>\n",
              "    <tr>\n",
              "      <th>75%</th>\n",
              "      <td>55.57</td>\n",
              "      <td>2.48</td>\n",
              "      <td>6.00</td>\n",
              "      <td>4.16</td>\n",
              "      <td>4.00</td>\n",
              "      <td>7.71</td>\n",
              "      <td>5.00</td>\n",
              "      <td>2.00</td>\n",
              "      <td>5.60</td>\n",
              "      <td>4.00</td>\n",
              "      <td>2.00</td>\n",
              "      <td>0.00</td>\n",
              "      <td>2.00</td>\n",
              "      <td>0.00</td>\n",
              "      <td>2.00</td>\n",
              "      <td>3.25</td>\n",
              "      <td>1.00</td>\n",
              "    </tr>\n",
              "    <tr>\n",
              "      <th>max</th>\n",
              "      <td>59.85</td>\n",
              "      <td>85.00</td>\n",
              "      <td>6.00</td>\n",
              "      <td>1264.63</td>\n",
              "      <td>6.00</td>\n",
              "      <td>1268.91</td>\n",
              "      <td>9.00</td>\n",
              "      <td>6.00</td>\n",
              "      <td>935.03</td>\n",
              "      <td>6.00</td>\n",
              "      <td>6.00</td>\n",
              "      <td>2.00</td>\n",
              "      <td>6.00</td>\n",
              "      <td>9.00</td>\n",
              "      <td>6.00</td>\n",
              "      <td>5.20</td>\n",
              "      <td>1.00</td>\n",
              "    </tr>\n",
              "  </tbody>\n",
              "</table>\n",
              "</div>"
            ],
            "text/plain": [
              "       Sector_score  PARA_A  SCORE_A  ...  History_score   Score    Risk\n",
              "count        776.00  776.00   776.00  ...         776.00  776.00  776.00\n",
              "mean          20.18    2.45     3.51  ...           2.17    2.70    0.63\n",
              "std           24.32    5.68     1.74  ...           0.68    0.86    0.48\n",
              "min            1.85    0.00     2.00  ...           2.00    2.00    0.00\n",
              "25%            2.37    0.21     2.00  ...           2.00    2.00    0.00\n",
              "50%            3.89    0.88     2.00  ...           2.00    2.40    1.00\n",
              "75%           55.57    2.48     6.00  ...           2.00    3.25    1.00\n",
              "max           59.85   85.00     6.00  ...           6.00    5.20    1.00\n",
              "\n",
              "[8 rows x 17 columns]"
            ]
          },
          "metadata": {
            "tags": []
          },
          "execution_count": 4
        }
      ]
    },
    {
      "cell_type": "markdown",
      "metadata": {
        "id": "tr6_68dFeqyJ"
      },
      "source": [
        "We can see that several variables contain outliers as their maximum value is far higher than the mean plus 3*standard deviation. This can be observed for PARA_A, PARA_B, TOTAL and Money_Value. Since our Machine Learning model will be able to deal with these outliers, this should not be a problem.\n"
      ]
    },
    {
      "cell_type": "code",
      "metadata": {
        "colab": {
          "base_uri": "https://localhost:8080/",
          "height": 222
        },
        "id": "kNaibr3NfLgA",
        "outputId": "d6601ed5-4723-40e2-85f1-c736d2069bfb"
      },
      "source": [
        "#Looking at the first 5 entries of the data set to get an overview of each variable\n",
        "audit_trial.head()"
      ],
      "execution_count": null,
      "outputs": [
        {
          "output_type": "execute_result",
          "data": {
            "text/html": [
              "<div>\n",
              "<style scoped>\n",
              "    .dataframe tbody tr th:only-of-type {\n",
              "        vertical-align: middle;\n",
              "    }\n",
              "\n",
              "    .dataframe tbody tr th {\n",
              "        vertical-align: top;\n",
              "    }\n",
              "\n",
              "    .dataframe thead th {\n",
              "        text-align: right;\n",
              "    }\n",
              "</style>\n",
              "<table border=\"1\" class=\"dataframe\">\n",
              "  <thead>\n",
              "    <tr style=\"text-align: right;\">\n",
              "      <th></th>\n",
              "      <th>Sector_score</th>\n",
              "      <th>LOCATION_ID</th>\n",
              "      <th>PARA_A</th>\n",
              "      <th>SCORE_A</th>\n",
              "      <th>PARA_B</th>\n",
              "      <th>SCORE_B</th>\n",
              "      <th>TOTAL</th>\n",
              "      <th>numbers</th>\n",
              "      <th>Marks</th>\n",
              "      <th>Money_Value</th>\n",
              "      <th>MONEY_Marks</th>\n",
              "      <th>District</th>\n",
              "      <th>Loss</th>\n",
              "      <th>LOSS_SCORE</th>\n",
              "      <th>History</th>\n",
              "      <th>History_score</th>\n",
              "      <th>Score</th>\n",
              "      <th>Risk</th>\n",
              "    </tr>\n",
              "  </thead>\n",
              "  <tbody>\n",
              "    <tr>\n",
              "      <th>0</th>\n",
              "      <td>3.89</td>\n",
              "      <td>23</td>\n",
              "      <td>4.18</td>\n",
              "      <td>6</td>\n",
              "      <td>2.50</td>\n",
              "      <td>2</td>\n",
              "      <td>6.68</td>\n",
              "      <td>5.0</td>\n",
              "      <td>2</td>\n",
              "      <td>3.38</td>\n",
              "      <td>2</td>\n",
              "      <td>2</td>\n",
              "      <td>0</td>\n",
              "      <td>2</td>\n",
              "      <td>0</td>\n",
              "      <td>2</td>\n",
              "      <td>2.4</td>\n",
              "      <td>1</td>\n",
              "    </tr>\n",
              "    <tr>\n",
              "      <th>1</th>\n",
              "      <td>3.89</td>\n",
              "      <td>6</td>\n",
              "      <td>0.00</td>\n",
              "      <td>2</td>\n",
              "      <td>4.83</td>\n",
              "      <td>2</td>\n",
              "      <td>4.83</td>\n",
              "      <td>5.0</td>\n",
              "      <td>2</td>\n",
              "      <td>0.94</td>\n",
              "      <td>2</td>\n",
              "      <td>2</td>\n",
              "      <td>0</td>\n",
              "      <td>2</td>\n",
              "      <td>0</td>\n",
              "      <td>2</td>\n",
              "      <td>2.0</td>\n",
              "      <td>0</td>\n",
              "    </tr>\n",
              "    <tr>\n",
              "      <th>2</th>\n",
              "      <td>3.89</td>\n",
              "      <td>6</td>\n",
              "      <td>0.51</td>\n",
              "      <td>2</td>\n",
              "      <td>0.23</td>\n",
              "      <td>2</td>\n",
              "      <td>0.74</td>\n",
              "      <td>5.0</td>\n",
              "      <td>2</td>\n",
              "      <td>0.00</td>\n",
              "      <td>2</td>\n",
              "      <td>2</td>\n",
              "      <td>0</td>\n",
              "      <td>2</td>\n",
              "      <td>0</td>\n",
              "      <td>2</td>\n",
              "      <td>2.0</td>\n",
              "      <td>0</td>\n",
              "    </tr>\n",
              "    <tr>\n",
              "      <th>3</th>\n",
              "      <td>3.89</td>\n",
              "      <td>6</td>\n",
              "      <td>0.00</td>\n",
              "      <td>2</td>\n",
              "      <td>10.80</td>\n",
              "      <td>6</td>\n",
              "      <td>10.80</td>\n",
              "      <td>6.0</td>\n",
              "      <td>6</td>\n",
              "      <td>11.75</td>\n",
              "      <td>6</td>\n",
              "      <td>2</td>\n",
              "      <td>0</td>\n",
              "      <td>2</td>\n",
              "      <td>0</td>\n",
              "      <td>2</td>\n",
              "      <td>4.4</td>\n",
              "      <td>1</td>\n",
              "    </tr>\n",
              "    <tr>\n",
              "      <th>4</th>\n",
              "      <td>3.89</td>\n",
              "      <td>6</td>\n",
              "      <td>0.00</td>\n",
              "      <td>2</td>\n",
              "      <td>0.08</td>\n",
              "      <td>2</td>\n",
              "      <td>0.08</td>\n",
              "      <td>5.0</td>\n",
              "      <td>2</td>\n",
              "      <td>0.00</td>\n",
              "      <td>2</td>\n",
              "      <td>2</td>\n",
              "      <td>0</td>\n",
              "      <td>2</td>\n",
              "      <td>0</td>\n",
              "      <td>2</td>\n",
              "      <td>2.0</td>\n",
              "      <td>0</td>\n",
              "    </tr>\n",
              "  </tbody>\n",
              "</table>\n",
              "</div>"
            ],
            "text/plain": [
              "   Sector_score LOCATION_ID  PARA_A  ...  History_score  Score  Risk\n",
              "0          3.89          23    4.18  ...              2    2.4     1\n",
              "1          3.89           6    0.00  ...              2    2.0     0\n",
              "2          3.89           6    0.51  ...              2    2.0     0\n",
              "3          3.89           6    0.00  ...              2    4.4     1\n",
              "4          3.89           6    0.00  ...              2    2.0     0\n",
              "\n",
              "[5 rows x 18 columns]"
            ]
          },
          "metadata": {
            "tags": []
          },
          "execution_count": 5
        }
      ]
    },
    {
      "cell_type": "markdown",
      "metadata": {
        "id": "h1qAWRdkA0is"
      },
      "source": [
        "## *Data preprocessing*"
      ]
    },
    {
      "cell_type": "code",
      "metadata": {
        "colab": {
          "base_uri": "https://localhost:8080/"
        },
        "id": "8WqVZEeBmn5c",
        "outputId": "1c37a5de-34a9-4813-c2f3-4529f470c918"
      },
      "source": [
        "audit_trial.info()"
      ],
      "execution_count": null,
      "outputs": [
        {
          "output_type": "stream",
          "text": [
            "<class 'pandas.core.frame.DataFrame'>\n",
            "RangeIndex: 776 entries, 0 to 775\n",
            "Data columns (total 18 columns):\n",
            " #   Column         Non-Null Count  Dtype  \n",
            "---  ------         --------------  -----  \n",
            " 0   Sector_score   776 non-null    float64\n",
            " 1   LOCATION_ID    776 non-null    object \n",
            " 2   PARA_A         776 non-null    float64\n",
            " 3   SCORE_A        776 non-null    int64  \n",
            " 4   PARA_B         776 non-null    float64\n",
            " 5   SCORE_B        776 non-null    int64  \n",
            " 6   TOTAL          776 non-null    float64\n",
            " 7   numbers        776 non-null    float64\n",
            " 8   Marks          776 non-null    int64  \n",
            " 9   Money_Value    775 non-null    float64\n",
            " 10  MONEY_Marks    776 non-null    int64  \n",
            " 11  District       776 non-null    int64  \n",
            " 12  Loss           776 non-null    int64  \n",
            " 13  LOSS_SCORE     776 non-null    int64  \n",
            " 14  History        776 non-null    int64  \n",
            " 15  History_score  776 non-null    int64  \n",
            " 16  Score          776 non-null    float64\n",
            " 17  Risk           776 non-null    int64  \n",
            "dtypes: float64(7), int64(10), object(1)\n",
            "memory usage: 109.2+ KB\n"
          ],
          "name": "stdout"
        }
      ]
    },
    {
      "cell_type": "markdown",
      "metadata": {
        "id": "bFGZ6oiUcX4g"
      },
      "source": [
        "We can see that the variable **LOCATION_ID** contains an object even though it should only contain numerical variables, as we have seen in the head of the data set. Therefore, we go on to explore this variable further."
      ]
    },
    {
      "cell_type": "code",
      "metadata": {
        "colab": {
          "base_uri": "https://localhost:8080/"
        },
        "id": "E6lbFcZzxDc5",
        "outputId": "7aad8142-3dd8-4630-98a4-50c5b1733485"
      },
      "source": [
        "audit_trial.LOCATION_ID.value_counts()"
      ],
      "execution_count": null,
      "outputs": [
        {
          "output_type": "execute_result",
          "data": {
            "text/plain": [
              "8          76\n",
              "19         68\n",
              "9          53\n",
              "16         52\n",
              "12         47\n",
              "5          44\n",
              "2          41\n",
              "4          37\n",
              "15         35\n",
              "13         35\n",
              "6          33\n",
              "32         29\n",
              "11         26\n",
              "22         24\n",
              "29         21\n",
              "14         20\n",
              "18         16\n",
              "31         12\n",
              "1          11\n",
              "37         10\n",
              "39          9\n",
              "28          8\n",
              "21          8\n",
              "27          8\n",
              "43          7\n",
              "25          6\n",
              "20          5\n",
              "38          4\n",
              "7           4\n",
              "30          4\n",
              "36          4\n",
              "3           3\n",
              "40          3\n",
              "35          2\n",
              "LOHARU      1\n",
              "33          1\n",
              "34          1\n",
              "23          1\n",
              "SAFIDON     1\n",
              "41          1\n",
              "24          1\n",
              "NUH         1\n",
              "44          1\n",
              "42          1\n",
              "17          1\n",
              "Name: LOCATION_ID, dtype: int64"
            ]
          },
          "metadata": {
            "tags": []
          },
          "execution_count": 7
        }
      ]
    },
    {
      "cell_type": "code",
      "metadata": {
        "colab": {
          "base_uri": "https://localhost:8080/"
        },
        "id": "mOHOoOU60pOp",
        "outputId": "6585e187-433c-45e2-8e74-12fcd2dd7e01"
      },
      "source": [
        "#Unique values in LOCATION_ID column\r\n",
        "audit_trial[\"LOCATION_ID\"].unique()"
      ],
      "execution_count": null,
      "outputs": [
        {
          "output_type": "execute_result",
          "data": {
            "text/plain": [
              "array(['23', '6', '7', '8', '13', '37', '24', '3', '4', '14', '5', '20',\n",
              "       '19', '21', '22', '9', '11', '12', '29', '30', '38', '31', '2',\n",
              "       '32', '16', '33', '15', '36', '34', '18', '25', '39', '27', '35',\n",
              "       '40', '41', '42', '1', '28', 'LOHARU', 'NUH', 'SAFIDON', '43',\n",
              "       '44', '17'], dtype=object)"
            ]
          },
          "metadata": {
            "tags": []
          },
          "execution_count": 8
        }
      ]
    },
    {
      "cell_type": "code",
      "metadata": {
        "id": "zjtOBjLA0ub1"
      },
      "source": [
        "#deleting objects\r\n",
        "audit_trial = audit_trial[(audit_trial.LOCATION_ID != 'LOHARU')]\r\n",
        "audit_trial = audit_trial[(audit_trial.LOCATION_ID != 'NUH')]\r\n",
        "audit_trial = audit_trial[(audit_trial.LOCATION_ID != 'SAFIDON')]\r\n",
        "audit_trial = audit_trial.astype(float)"
      ],
      "execution_count": null,
      "outputs": []
    },
    {
      "cell_type": "code",
      "metadata": {
        "colab": {
          "base_uri": "https://localhost:8080/"
        },
        "id": "7XArZofS2Lar",
        "outputId": "833f049d-3b94-48a1-b52a-51051fd2f638"
      },
      "source": [
        "audit_trial.isna().sum()"
      ],
      "execution_count": null,
      "outputs": [
        {
          "output_type": "execute_result",
          "data": {
            "text/plain": [
              "Sector_score     0\n",
              "LOCATION_ID      0\n",
              "PARA_A           0\n",
              "SCORE_A          0\n",
              "PARA_B           0\n",
              "SCORE_B          0\n",
              "TOTAL            0\n",
              "numbers          0\n",
              "Marks            0\n",
              "Money_Value      1\n",
              "MONEY_Marks      0\n",
              "District         0\n",
              "Loss             0\n",
              "LOSS_SCORE       0\n",
              "History          0\n",
              "History_score    0\n",
              "Score            0\n",
              "Risk             0\n",
              "dtype: int64"
            ]
          },
          "metadata": {
            "tags": []
          },
          "execution_count": 10
        }
      ]
    },
    {
      "cell_type": "markdown",
      "metadata": {
        "id": "7l794tNKEuaY"
      },
      "source": [
        "Money value contains an NaN Value which needs to be dropped"
      ]
    },
    {
      "cell_type": "code",
      "metadata": {
        "id": "itPDNXN22U4j"
      },
      "source": [
        "#We need to drop the row where Money_Value = NaN\r\n",
        "audit_trial = audit_trial[audit_trial['Money_Value'].notna()]"
      ],
      "execution_count": null,
      "outputs": []
    },
    {
      "cell_type": "code",
      "metadata": {
        "colab": {
          "base_uri": "https://localhost:8080/"
        },
        "id": "l_Gt0FkD2ZbG",
        "outputId": "13c944a7-b1ca-4938-b1e3-a8bcdefb859f"
      },
      "source": [
        "audit_trial.isna().sum()"
      ],
      "execution_count": null,
      "outputs": [
        {
          "output_type": "execute_result",
          "data": {
            "text/plain": [
              "Sector_score     0\n",
              "LOCATION_ID      0\n",
              "PARA_A           0\n",
              "SCORE_A          0\n",
              "PARA_B           0\n",
              "SCORE_B          0\n",
              "TOTAL            0\n",
              "numbers          0\n",
              "Marks            0\n",
              "Money_Value      0\n",
              "MONEY_Marks      0\n",
              "District         0\n",
              "Loss             0\n",
              "LOSS_SCORE       0\n",
              "History          0\n",
              "History_score    0\n",
              "Score            0\n",
              "Risk             0\n",
              "dtype: int64"
            ]
          },
          "metadata": {
            "tags": []
          },
          "execution_count": 12
        }
      ]
    },
    {
      "cell_type": "code",
      "metadata": {
        "colab": {
          "base_uri": "https://localhost:8080/"
        },
        "id": "yxr6u4A72fId",
        "outputId": "2d7f5115-a30b-439a-a789-10809f49fc59"
      },
      "source": [
        "#final check\r\n",
        "audit_trial.shape "
      ],
      "execution_count": null,
      "outputs": [
        {
          "output_type": "execute_result",
          "data": {
            "text/plain": [
              "(772, 18)"
            ]
          },
          "metadata": {
            "tags": []
          },
          "execution_count": 13
        }
      ]
    },
    {
      "cell_type": "markdown",
      "metadata": {
        "id": "IdHQZJRUAc1v"
      },
      "source": [
        "## *Variable inspection*"
      ]
    },
    {
      "cell_type": "markdown",
      "metadata": {
        "id": "lLjWEFnFE1f8"
      },
      "source": [
        "We go on to inspect the variables in more detail and first look at the histograms of the variables and go on to explore the correlation matrix. We can see that some variables depend directly on each other.\r\n",
        "\r\n",
        "---\r\n",
        "\r\n"
      ]
    },
    {
      "cell_type": "code",
      "metadata": {
        "colab": {
          "base_uri": "https://localhost:8080/",
          "height": 1000
        },
        "id": "UoknB6hDIZyk",
        "outputId": "2ba32c11-583e-4484-82f3-d4d62a5ddd41"
      },
      "source": [
        "#looking at the visualization of each variable can help us to get an understanding of their characteristics\r\n",
        "audit_trial[audit_trial.dtypes[(audit_trial.dtypes==\"float\")].index.values].hist(figsize=[20,20])"
      ],
      "execution_count": null,
      "outputs": [
        {
          "output_type": "execute_result",
          "data": {
            "text/plain": [
              "array([[<matplotlib.axes._subplots.AxesSubplot object at 0x7fcd36bb30f0>,\n",
              "        <matplotlib.axes._subplots.AxesSubplot object at 0x7fcd36b86390>,\n",
              "        <matplotlib.axes._subplots.AxesSubplot object at 0x7fcd36b3b5f8>,\n",
              "        <matplotlib.axes._subplots.AxesSubplot object at 0x7fcd36b6e860>],\n",
              "       [<matplotlib.axes._subplots.AxesSubplot object at 0x7fcd36b21ac8>,\n",
              "        <matplotlib.axes._subplots.AxesSubplot object at 0x7fcd36ad4d30>,\n",
              "        <matplotlib.axes._subplots.AxesSubplot object at 0x7fcd36a8bf98>,\n",
              "        <matplotlib.axes._subplots.AxesSubplot object at 0x7fcd36a48208>],\n",
              "       [<matplotlib.axes._subplots.AxesSubplot object at 0x7fcd36bb3f28>,\n",
              "        <matplotlib.axes._subplots.AxesSubplot object at 0x7fcd36a9fef0>,\n",
              "        <matplotlib.axes._subplots.AxesSubplot object at 0x7fcd369e1278>,\n",
              "        <matplotlib.axes._subplots.AxesSubplot object at 0x7fcd369954e0>],\n",
              "       [<matplotlib.axes._subplots.AxesSubplot object at 0x7fcd36947748>,\n",
              "        <matplotlib.axes._subplots.AxesSubplot object at 0x7fcd368fc9b0>,\n",
              "        <matplotlib.axes._subplots.AxesSubplot object at 0x7fcd3692cc18>,\n",
              "        <matplotlib.axes._subplots.AxesSubplot object at 0x7fcd368e1e80>],\n",
              "       [<matplotlib.axes._subplots.AxesSubplot object at 0x7fcd368a1128>,\n",
              "        <matplotlib.axes._subplots.AxesSubplot object at 0x7fcd36855390>,\n",
              "        <matplotlib.axes._subplots.AxesSubplot object at 0x7fcd368085f8>,\n",
              "        <matplotlib.axes._subplots.AxesSubplot object at 0x7fcd367bc860>]],\n",
              "      dtype=object)"
            ]
          },
          "metadata": {
            "tags": []
          },
          "execution_count": 14
        },
        {
          "output_type": "display_data",
          "data": {
            "image/png": "[encoded data removed]",
            "text/plain": [
              "<Figure size 1440x1440 with 20 Axes>"
            ]
          },
          "metadata": {
            "tags": [],
            "needs_background": "light"
          }
        }
      ]
    },
    {
      "cell_type": "code",
      "metadata": {
        "colab": {
          "base_uri": "https://localhost:8080/",
          "height": 297
        },
        "id": "ciZGuZTTIg0x",
        "outputId": "0bc3c214-32be-4770-9fe2-edbd5f2a5a63"
      },
      "source": [
        "#we identify risk as our binary dependent variable and can see that it's relatively balanced \r\n",
        "sns.countplot(audit_trial['Risk'], label = \"Count\")"
      ],
      "execution_count": null,
      "outputs": [
        {
          "output_type": "execute_result",
          "data": {
            "text/plain": [
              "<matplotlib.axes._subplots.AxesSubplot at 0x7fcd366b0550>"
            ]
          },
          "metadata": {
            "tags": []
          },
          "execution_count": 15
        },
        {
          "output_type": "display_data",
          "data": {
            "image/png": "[encoded data removed]",
            "text/plain": [
              "<Figure size 432x288 with 1 Axes>"
            ]
          },
          "metadata": {
            "tags": [],
            "needs_background": "light"
          }
        }
      ]
    },
    {
      "cell_type": "code",
      "metadata": {
        "colab": {
          "base_uri": "https://localhost:8080/",
          "height": 432
        },
        "id": "u5uJTn5rSSeW",
        "outputId": "975af482-2d1c-4fe0-969d-a96febb8fd63"
      },
      "source": [
        "#correlation matrix\r\n",
        "audit_trial.corr('spearman').style.background_gradient().format('{:.2f}')"
      ],
      "execution_count": null,
      "outputs": [
        {
          "output_type": "execute_result",
          "data": {
            "text/html": [
              "<style  type=\"text/css\" >\n",
              "#T_1d518c24_451d_11eb_a60a_0242ac1c0002row0_col0,#T_1d518c24_451d_11eb_a60a_0242ac1c0002row1_col1,#T_1d518c24_451d_11eb_a60a_0242ac1c0002row2_col2,#T_1d518c24_451d_11eb_a60a_0242ac1c0002row3_col3,#T_1d518c24_451d_11eb_a60a_0242ac1c0002row4_col4,#T_1d518c24_451d_11eb_a60a_0242ac1c0002row5_col5,#T_1d518c24_451d_11eb_a60a_0242ac1c0002row6_col6,#T_1d518c24_451d_11eb_a60a_0242ac1c0002row7_col7,#T_1d518c24_451d_11eb_a60a_0242ac1c0002row7_col8,#T_1d518c24_451d_11eb_a60a_0242ac1c0002row8_col7,#T_1d518c24_451d_11eb_a60a_0242ac1c0002row8_col8,#T_1d518c24_451d_11eb_a60a_0242ac1c0002row9_col9,#T_1d518c24_451d_11eb_a60a_0242ac1c0002row10_col10,#T_1d518c24_451d_11eb_a60a_0242ac1c0002row11_col11,#T_1d518c24_451d_11eb_a60a_0242ac1c0002row12_col12,#T_1d518c24_451d_11eb_a60a_0242ac1c0002row13_col13,#T_1d518c24_451d_11eb_a60a_0242ac1c0002row14_col14,#T_1d518c24_451d_11eb_a60a_0242ac1c0002row14_col15,#T_1d518c24_451d_11eb_a60a_0242ac1c0002row15_col14,#T_1d518c24_451d_11eb_a60a_0242ac1c0002row15_col15,#T_1d518c24_451d_11eb_a60a_0242ac1c0002row16_col16,#T_1d518c24_451d_11eb_a60a_0242ac1c0002row17_col17{\n",
              "            background-color:  #023858;\n",
              "            color:  #f1f1f1;\n",
              "        }#T_1d518c24_451d_11eb_a60a_0242ac1c0002row0_col1{\n",
              "            background-color:  #f6eff7;\n",
              "            color:  #000000;\n",
              "        }#T_1d518c24_451d_11eb_a60a_0242ac1c0002row0_col2,#T_1d518c24_451d_11eb_a60a_0242ac1c0002row0_col3,#T_1d518c24_451d_11eb_a60a_0242ac1c0002row0_col4,#T_1d518c24_451d_11eb_a60a_0242ac1c0002row0_col5,#T_1d518c24_451d_11eb_a60a_0242ac1c0002row0_col6,#T_1d518c24_451d_11eb_a60a_0242ac1c0002row0_col7,#T_1d518c24_451d_11eb_a60a_0242ac1c0002row0_col8,#T_1d518c24_451d_11eb_a60a_0242ac1c0002row0_col9,#T_1d518c24_451d_11eb_a60a_0242ac1c0002row0_col10,#T_1d518c24_451d_11eb_a60a_0242ac1c0002row0_col11,#T_1d518c24_451d_11eb_a60a_0242ac1c0002row0_col12,#T_1d518c24_451d_11eb_a60a_0242ac1c0002row0_col13,#T_1d518c24_451d_11eb_a60a_0242ac1c0002row0_col14,#T_1d518c24_451d_11eb_a60a_0242ac1c0002row0_col15,#T_1d518c24_451d_11eb_a60a_0242ac1c0002row0_col16,#T_1d518c24_451d_11eb_a60a_0242ac1c0002row0_col17,#T_1d518c24_451d_11eb_a60a_0242ac1c0002row2_col0,#T_1d518c24_451d_11eb_a60a_0242ac1c0002row3_col0,#T_1d518c24_451d_11eb_a60a_0242ac1c0002row11_col1{\n",
              "            background-color:  #fff7fb;\n",
              "            color:  #000000;\n",
              "        }#T_1d518c24_451d_11eb_a60a_0242ac1c0002row1_col0{\n",
              "            background-color:  #cccfe5;\n",
              "            color:  #000000;\n",
              "        }#T_1d518c24_451d_11eb_a60a_0242ac1c0002row1_col2{\n",
              "            background-color:  #b7c5df;\n",
              "            color:  #000000;\n",
              "        }#T_1d518c24_451d_11eb_a60a_0242ac1c0002row1_col3,#T_1d518c24_451d_11eb_a60a_0242ac1c0002row2_col7,#T_1d518c24_451d_11eb_a60a_0242ac1c0002row2_col8,#T_1d518c24_451d_11eb_a60a_0242ac1c0002row4_col14,#T_1d518c24_451d_11eb_a60a_0242ac1c0002row4_col15{\n",
              "            background-color:  #b5c4df;\n",
              "            color:  #000000;\n",
              "        }#T_1d518c24_451d_11eb_a60a_0242ac1c0002row1_col4,#T_1d518c24_451d_11eb_a60a_0242ac1c0002row5_col0{\n",
              "            background-color:  #dad9ea;\n",
              "            color:  #000000;\n",
              "        }#T_1d518c24_451d_11eb_a60a_0242ac1c0002row1_col5{\n",
              "            background-color:  #dedcec;\n",
              "            color:  #000000;\n",
              "        }#T_1d518c24_451d_11eb_a60a_0242ac1c0002row1_col6{\n",
              "            background-color:  #b9c6e0;\n",
              "            color:  #000000;\n",
              "        }#T_1d518c24_451d_11eb_a60a_0242ac1c0002row1_col7,#T_1d518c24_451d_11eb_a60a_0242ac1c0002row1_col8,#T_1d518c24_451d_11eb_a60a_0242ac1c0002row14_col1,#T_1d518c24_451d_11eb_a60a_0242ac1c0002row15_col1{\n",
              "            background-color:  #f8f1f8;\n",
              "            color:  #000000;\n",
              "        }#T_1d518c24_451d_11eb_a60a_0242ac1c0002row1_col9,#T_1d518c24_451d_11eb_a60a_0242ac1c0002row1_col10,#T_1d518c24_451d_11eb_a60a_0242ac1c0002row3_col11,#T_1d518c24_451d_11eb_a60a_0242ac1c0002row9_col13,#T_1d518c24_451d_11eb_a60a_0242ac1c0002row11_col7,#T_1d518c24_451d_11eb_a60a_0242ac1c0002row11_col8,#T_1d518c24_451d_11eb_a60a_0242ac1c0002row11_col9{\n",
              "            background-color:  #dcdaeb;\n",
              "            color:  #000000;\n",
              "        }#T_1d518c24_451d_11eb_a60a_0242ac1c0002row1_col11,#T_1d518c24_451d_11eb_a60a_0242ac1c0002row6_col0,#T_1d518c24_451d_11eb_a60a_0242ac1c0002row7_col1,#T_1d518c24_451d_11eb_a60a_0242ac1c0002row8_col1,#T_1d518c24_451d_11eb_a60a_0242ac1c0002row16_col0{\n",
              "            background-color:  #f7f0f7;\n",
              "            color:  #000000;\n",
              "        }#T_1d518c24_451d_11eb_a60a_0242ac1c0002row1_col12{\n",
              "            background-color:  #f3edf5;\n",
              "            color:  #000000;\n",
              "        }#T_1d518c24_451d_11eb_a60a_0242ac1c0002row1_col13{\n",
              "            background-color:  #f4eef6;\n",
              "            color:  #000000;\n",
              "        }#T_1d518c24_451d_11eb_a60a_0242ac1c0002row1_col14,#T_1d518c24_451d_11eb_a60a_0242ac1c0002row1_col15{\n",
              "            background-color:  #fdf5fa;\n",
              "            color:  #000000;\n",
              "        }#T_1d518c24_451d_11eb_a60a_0242ac1c0002row1_col16{\n",
              "            background-color:  #c2cbe2;\n",
              "            color:  #000000;\n",
              "        }#T_1d518c24_451d_11eb_a60a_0242ac1c0002row1_col17,#T_1d518c24_451d_11eb_a60a_0242ac1c0002row2_col14,#T_1d518c24_451d_11eb_a60a_0242ac1c0002row2_col15{\n",
              "            background-color:  #bdc8e1;\n",
              "            color:  #000000;\n",
              "        }#T_1d518c24_451d_11eb_a60a_0242ac1c0002row2_col1{\n",
              "            background-color:  #e8e4f0;\n",
              "            color:  #000000;\n",
              "        }#T_1d518c24_451d_11eb_a60a_0242ac1c0002row2_col3,#T_1d518c24_451d_11eb_a60a_0242ac1c0002row3_col2{\n",
              "            background-color:  #034973;\n",
              "            color:  #f1f1f1;\n",
              "        }#T_1d518c24_451d_11eb_a60a_0242ac1c0002row2_col4{\n",
              "            background-color:  #4897c4;\n",
              "            color:  #000000;\n",
              "        }#T_1d518c24_451d_11eb_a60a_0242ac1c0002row2_col5{\n",
              "            background-color:  #4a98c5;\n",
              "            color:  #000000;\n",
              "        }#T_1d518c24_451d_11eb_a60a_0242ac1c0002row2_col6,#T_1d518c24_451d_11eb_a60a_0242ac1c0002row5_col16{\n",
              "            background-color:  #045b8f;\n",
              "            color:  #f1f1f1;\n",
              "        }#T_1d518c24_451d_11eb_a60a_0242ac1c0002row2_col9{\n",
              "            background-color:  #62a2cb;\n",
              "            color:  #000000;\n",
              "        }#T_1d518c24_451d_11eb_a60a_0242ac1c0002row2_col10,#T_1d518c24_451d_11eb_a60a_0242ac1c0002row14_col16,#T_1d518c24_451d_11eb_a60a_0242ac1c0002row15_col16,#T_1d518c24_451d_11eb_a60a_0242ac1c0002row17_col10{\n",
              "            background-color:  #6ba5cd;\n",
              "            color:  #000000;\n",
              "        }#T_1d518c24_451d_11eb_a60a_0242ac1c0002row2_col11,#T_1d518c24_451d_11eb_a60a_0242ac1c0002row17_col13{\n",
              "            background-color:  #dbdaeb;\n",
              "            color:  #000000;\n",
              "        }#T_1d518c24_451d_11eb_a60a_0242ac1c0002row2_col12,#T_1d518c24_451d_11eb_a60a_0242ac1c0002row6_col13,#T_1d518c24_451d_11eb_a60a_0242ac1c0002row10_col12,#T_1d518c24_451d_11eb_a60a_0242ac1c0002row11_col0,#T_1d518c24_451d_11eb_a60a_0242ac1c0002row13_col4,#T_1d518c24_451d_11eb_a60a_0242ac1c0002row13_col5{\n",
              "            background-color:  #e2dfee;\n",
              "            color:  #000000;\n",
              "        }#T_1d518c24_451d_11eb_a60a_0242ac1c0002row2_col13,#T_1d518c24_451d_11eb_a60a_0242ac1c0002row3_col13{\n",
              "            background-color:  #e1dfed;\n",
              "            color:  #000000;\n",
              "        }#T_1d518c24_451d_11eb_a60a_0242ac1c0002row2_col16,#T_1d518c24_451d_11eb_a60a_0242ac1c0002row4_col16{\n",
              "            background-color:  #0569a5;\n",
              "            color:  #f1f1f1;\n",
              "        }#T_1d518c24_451d_11eb_a60a_0242ac1c0002row2_col17,#T_1d518c24_451d_11eb_a60a_0242ac1c0002row17_col2{\n",
              "            background-color:  #0771b1;\n",
              "            color:  #f1f1f1;\n",
              "        }#T_1d518c24_451d_11eb_a60a_0242ac1c0002row3_col1,#T_1d518c24_451d_11eb_a60a_0242ac1c0002row6_col11,#T_1d518c24_451d_11eb_a60a_0242ac1c0002row16_col1{\n",
              "            background-color:  #e7e3f0;\n",
              "            color:  #000000;\n",
              "        }#T_1d518c24_451d_11eb_a60a_0242ac1c0002row3_col4,#T_1d518c24_451d_11eb_a60a_0242ac1c0002row7_col16,#T_1d518c24_451d_11eb_a60a_0242ac1c0002row8_col16{\n",
              "            background-color:  #4697c4;\n",
              "            color:  #000000;\n",
              "        }#T_1d518c24_451d_11eb_a60a_0242ac1c0002row3_col5{\n",
              "            background-color:  #4496c3;\n",
              "            color:  #000000;\n",
              "        }#T_1d518c24_451d_11eb_a60a_0242ac1c0002row3_col6{\n",
              "            background-color:  #046097;\n",
              "            color:  #f1f1f1;\n",
              "        }#T_1d518c24_451d_11eb_a60a_0242ac1c0002row3_col7,#T_1d518c24_451d_11eb_a60a_0242ac1c0002row3_col8{\n",
              "            background-color:  #b1c2de;\n",
              "            color:  #000000;\n",
              "        }#T_1d518c24_451d_11eb_a60a_0242ac1c0002row3_col9{\n",
              "            background-color:  #589ec8;\n",
              "            color:  #000000;\n",
              "        }#T_1d518c24_451d_11eb_a60a_0242ac1c0002row3_col10{\n",
              "            background-color:  #5c9fc9;\n",
              "            color:  #000000;\n",
              "        }#T_1d518c24_451d_11eb_a60a_0242ac1c0002row3_col12,#T_1d518c24_451d_11eb_a60a_0242ac1c0002row4_col1,#T_1d518c24_451d_11eb_a60a_0242ac1c0002row5_col12,#T_1d518c24_451d_11eb_a60a_0242ac1c0002row5_col13,#T_1d518c24_451d_11eb_a60a_0242ac1c0002row6_col12,#T_1d518c24_451d_11eb_a60a_0242ac1c0002row14_col11,#T_1d518c24_451d_11eb_a60a_0242ac1c0002row15_col11{\n",
              "            background-color:  #e3e0ee;\n",
              "            color:  #000000;\n",
              "        }#T_1d518c24_451d_11eb_a60a_0242ac1c0002row3_col14,#T_1d518c24_451d_11eb_a60a_0242ac1c0002row3_col15{\n",
              "            background-color:  #bbc7e0;\n",
              "            color:  #000000;\n",
              "        }#T_1d518c24_451d_11eb_a60a_0242ac1c0002row3_col16,#T_1d518c24_451d_11eb_a60a_0242ac1c0002row9_col10{\n",
              "            background-color:  #04639b;\n",
              "            color:  #f1f1f1;\n",
              "        }#T_1d518c24_451d_11eb_a60a_0242ac1c0002row3_col17{\n",
              "            background-color:  #056ba9;\n",
              "            color:  #f1f1f1;\n",
              "        }#T_1d518c24_451d_11eb_a60a_0242ac1c0002row4_col0,#T_1d518c24_451d_11eb_a60a_0242ac1c0002row5_col1,#T_1d518c24_451d_11eb_a60a_0242ac1c0002row6_col1,#T_1d518c24_451d_11eb_a60a_0242ac1c0002row12_col4,#T_1d518c24_451d_11eb_a60a_0242ac1c0002row12_col5,#T_1d518c24_451d_11eb_a60a_0242ac1c0002row13_col11{\n",
              "            background-color:  #e0deed;\n",
              "            color:  #000000;\n",
              "        }#T_1d518c24_451d_11eb_a60a_0242ac1c0002row4_col2{\n",
              "            background-color:  #2786bb;\n",
              "            color:  #000000;\n",
              "        }#T_1d518c24_451d_11eb_a60a_0242ac1c0002row4_col3{\n",
              "            background-color:  #2685bb;\n",
              "            color:  #000000;\n",
              "        }#T_1d518c24_451d_11eb_a60a_0242ac1c0002row4_col5,#T_1d518c24_451d_11eb_a60a_0242ac1c0002row6_col3{\n",
              "            background-color:  #045f95;\n",
              "            color:  #f1f1f1;\n",
              "        }#T_1d518c24_451d_11eb_a60a_0242ac1c0002row4_col6{\n",
              "            background-color:  #045687;\n",
              "            color:  #f1f1f1;\n",
              "        }#T_1d518c24_451d_11eb_a60a_0242ac1c0002row4_col7,#T_1d518c24_451d_11eb_a60a_0242ac1c0002row4_col8,#T_1d518c24_451d_11eb_a60a_0242ac1c0002row6_col7,#T_1d518c24_451d_11eb_a60a_0242ac1c0002row6_col8,#T_1d518c24_451d_11eb_a60a_0242ac1c0002row13_col16,#T_1d518c24_451d_11eb_a60a_0242ac1c0002row13_col17{\n",
              "            background-color:  #a8bedc;\n",
              "            color:  #000000;\n",
              "        }#T_1d518c24_451d_11eb_a60a_0242ac1c0002row4_col9,#T_1d518c24_451d_11eb_a60a_0242ac1c0002row5_col9{\n",
              "            background-color:  #308cbe;\n",
              "            color:  #000000;\n",
              "        }#T_1d518c24_451d_11eb_a60a_0242ac1c0002row4_col10,#T_1d518c24_451d_11eb_a60a_0242ac1c0002row10_col4{\n",
              "            background-color:  #4295c3;\n",
              "            color:  #000000;\n",
              "        }#T_1d518c24_451d_11eb_a60a_0242ac1c0002row4_col11{\n",
              "            background-color:  #f1ebf5;\n",
              "            color:  #000000;\n",
              "        }#T_1d518c24_451d_11eb_a60a_0242ac1c0002row4_col12{\n",
              "            background-color:  #e9e5f1;\n",
              "            color:  #000000;\n",
              "        }#T_1d518c24_451d_11eb_a60a_0242ac1c0002row4_col13,#T_1d518c24_451d_11eb_a60a_0242ac1c0002row9_col1,#T_1d518c24_451d_11eb_a60a_0242ac1c0002row11_col13{\n",
              "            background-color:  #eae6f1;\n",
              "            color:  #000000;\n",
              "        }#T_1d518c24_451d_11eb_a60a_0242ac1c0002row4_col17,#T_1d518c24_451d_11eb_a60a_0242ac1c0002row6_col10,#T_1d518c24_451d_11eb_a60a_0242ac1c0002row9_col17,#T_1d518c24_451d_11eb_a60a_0242ac1c0002row10_col5{\n",
              "            background-color:  #3f93c2;\n",
              "            color:  #000000;\n",
              "        }#T_1d518c24_451d_11eb_a60a_0242ac1c0002row5_col2{\n",
              "            background-color:  #2484ba;\n",
              "            color:  #000000;\n",
              "        }#T_1d518c24_451d_11eb_a60a_0242ac1c0002row5_col3{\n",
              "            background-color:  #2081b9;\n",
              "            color:  #000000;\n",
              "        }#T_1d518c24_451d_11eb_a60a_0242ac1c0002row5_col4{\n",
              "            background-color:  #045e94;\n",
              "            color:  #f1f1f1;\n",
              "        }#T_1d518c24_451d_11eb_a60a_0242ac1c0002row5_col6{\n",
              "            background-color:  #046198;\n",
              "            color:  #f1f1f1;\n",
              "        }#T_1d518c24_451d_11eb_a60a_0242ac1c0002row5_col7,#T_1d518c24_451d_11eb_a60a_0242ac1c0002row5_col8,#T_1d518c24_451d_11eb_a60a_0242ac1c0002row16_col11{\n",
              "            background-color:  #a5bddb;\n",
              "            color:  #000000;\n",
              "        }#T_1d518c24_451d_11eb_a60a_0242ac1c0002row5_col10{\n",
              "            background-color:  #3790c0;\n",
              "            color:  #000000;\n",
              "        }#T_1d518c24_451d_11eb_a60a_0242ac1c0002row5_col11{\n",
              "            background-color:  #ece7f2;\n",
              "            color:  #000000;\n",
              "        }#T_1d518c24_451d_11eb_a60a_0242ac1c0002row5_col14,#T_1d518c24_451d_11eb_a60a_0242ac1c0002row5_col15,#T_1d518c24_451d_11eb_a60a_0242ac1c0002row13_col2{\n",
              "            background-color:  #adc1dd;\n",
              "            color:  #000000;\n",
              "        }#T_1d518c24_451d_11eb_a60a_0242ac1c0002row5_col17,#T_1d518c24_451d_11eb_a60a_0242ac1c0002row10_col6{\n",
              "            background-color:  #2987bc;\n",
              "            color:  #000000;\n",
              "        }#T_1d518c24_451d_11eb_a60a_0242ac1c0002row6_col2{\n",
              "            background-color:  #045a8d;\n",
              "            color:  #f1f1f1;\n",
              "        }#T_1d518c24_451d_11eb_a60a_0242ac1c0002row6_col4{\n",
              "            background-color:  #045b8e;\n",
              "            color:  #f1f1f1;\n",
              "        }#T_1d518c24_451d_11eb_a60a_0242ac1c0002row6_col5,#T_1d518c24_451d_11eb_a60a_0242ac1c0002row16_col2{\n",
              "            background-color:  #0567a2;\n",
              "            color:  #f1f1f1;\n",
              "        }#T_1d518c24_451d_11eb_a60a_0242ac1c0002row6_col9{\n",
              "            background-color:  #2d8abd;\n",
              "            color:  #000000;\n",
              "        }#T_1d518c24_451d_11eb_a60a_0242ac1c0002row6_col14,#T_1d518c24_451d_11eb_a60a_0242ac1c0002row6_col15,#T_1d518c24_451d_11eb_a60a_0242ac1c0002row11_col3{\n",
              "            background-color:  #b4c4df;\n",
              "            color:  #000000;\n",
              "        }#T_1d518c24_451d_11eb_a60a_0242ac1c0002row6_col16,#T_1d518c24_451d_11eb_a60a_0242ac1c0002row16_col6{\n",
              "            background-color:  #04598c;\n",
              "            color:  #f1f1f1;\n",
              "        }#T_1d518c24_451d_11eb_a60a_0242ac1c0002row6_col17,#T_1d518c24_451d_11eb_a60a_0242ac1c0002row10_col16{\n",
              "            background-color:  #056caa;\n",
              "            color:  #f1f1f1;\n",
              "        }#T_1d518c24_451d_11eb_a60a_0242ac1c0002row7_col0,#T_1d518c24_451d_11eb_a60a_0242ac1c0002row8_col0{\n",
              "            background-color:  #d6d6e9;\n",
              "            color:  #000000;\n",
              "        }#T_1d518c24_451d_11eb_a60a_0242ac1c0002row7_col2,#T_1d518c24_451d_11eb_a60a_0242ac1c0002row7_col6,#T_1d518c24_451d_11eb_a60a_0242ac1c0002row8_col2,#T_1d518c24_451d_11eb_a60a_0242ac1c0002row8_col6{\n",
              "            background-color:  #7bacd1;\n",
              "            color:  #000000;\n",
              "        }#T_1d518c24_451d_11eb_a60a_0242ac1c0002row7_col3,#T_1d518c24_451d_11eb_a60a_0242ac1c0002row8_col3{\n",
              "            background-color:  #78abd0;\n",
              "            color:  #000000;\n",
              "        }#T_1d518c24_451d_11eb_a60a_0242ac1c0002row7_col4,#T_1d518c24_451d_11eb_a60a_0242ac1c0002row8_col4{\n",
              "            background-color:  #9ab8d8;\n",
              "            color:  #000000;\n",
              "        }#T_1d518c24_451d_11eb_a60a_0242ac1c0002row7_col5,#T_1d518c24_451d_11eb_a60a_0242ac1c0002row8_col5,#T_1d518c24_451d_11eb_a60a_0242ac1c0002row10_col14{\n",
              "            background-color:  #9fbad9;\n",
              "            color:  #000000;\n",
              "        }#T_1d518c24_451d_11eb_a60a_0242ac1c0002row7_col9,#T_1d518c24_451d_11eb_a60a_0242ac1c0002row8_col9{\n",
              "            background-color:  #71a8ce;\n",
              "            color:  #000000;\n",
              "        }#T_1d518c24_451d_11eb_a60a_0242ac1c0002row7_col10,#T_1d518c24_451d_11eb_a60a_0242ac1c0002row8_col10{\n",
              "            background-color:  #529bc7;\n",
              "            color:  #000000;\n",
              "        }#T_1d518c24_451d_11eb_a60a_0242ac1c0002row7_col11,#T_1d518c24_451d_11eb_a60a_0242ac1c0002row8_col11{\n",
              "            background-color:  #d1d2e6;\n",
              "            color:  #000000;\n",
              "        }#T_1d518c24_451d_11eb_a60a_0242ac1c0002row7_col12,#T_1d518c24_451d_11eb_a60a_0242ac1c0002row8_col12{\n",
              "            background-color:  #f0eaf4;\n",
              "            color:  #000000;\n",
              "        }#T_1d518c24_451d_11eb_a60a_0242ac1c0002row7_col13,#T_1d518c24_451d_11eb_a60a_0242ac1c0002row8_col13{\n",
              "            background-color:  #ebe6f2;\n",
              "            color:  #000000;\n",
              "        }#T_1d518c24_451d_11eb_a60a_0242ac1c0002row7_col14,#T_1d518c24_451d_11eb_a60a_0242ac1c0002row7_col15,#T_1d518c24_451d_11eb_a60a_0242ac1c0002row8_col14,#T_1d518c24_451d_11eb_a60a_0242ac1c0002row8_col15{\n",
              "            background-color:  #cacee5;\n",
              "            color:  #000000;\n",
              "        }#T_1d518c24_451d_11eb_a60a_0242ac1c0002row7_col17,#T_1d518c24_451d_11eb_a60a_0242ac1c0002row8_col17{\n",
              "            background-color:  #89b1d4;\n",
              "            color:  #000000;\n",
              "        }#T_1d518c24_451d_11eb_a60a_0242ac1c0002row9_col0,#T_1d518c24_451d_11eb_a60a_0242ac1c0002row10_col1,#T_1d518c24_451d_11eb_a60a_0242ac1c0002row12_col14,#T_1d518c24_451d_11eb_a60a_0242ac1c0002row12_col15{\n",
              "            background-color:  #e5e1ef;\n",
              "            color:  #000000;\n",
              "        }#T_1d518c24_451d_11eb_a60a_0242ac1c0002row9_col2{\n",
              "            background-color:  #3d93c2;\n",
              "            color:  #000000;\n",
              "        }#T_1d518c24_451d_11eb_a60a_0242ac1c0002row9_col3{\n",
              "            background-color:  #358fc0;\n",
              "            color:  #000000;\n",
              "        }#T_1d518c24_451d_11eb_a60a_0242ac1c0002row9_col4,#T_1d518c24_451d_11eb_a60a_0242ac1c0002row10_col3{\n",
              "            background-color:  #348ebf;\n",
              "            color:  #000000;\n",
              "        }#T_1d518c24_451d_11eb_a60a_0242ac1c0002row9_col5{\n",
              "            background-color:  #3991c1;\n",
              "            color:  #000000;\n",
              "        }#T_1d518c24_451d_11eb_a60a_0242ac1c0002row9_col6{\n",
              "            background-color:  #1e80b8;\n",
              "            color:  #000000;\n",
              "        }#T_1d518c24_451d_11eb_a60a_0242ac1c0002row9_col7,#T_1d518c24_451d_11eb_a60a_0242ac1c0002row9_col8{\n",
              "            background-color:  #83afd3;\n",
              "            color:  #000000;\n",
              "        }#T_1d518c24_451d_11eb_a60a_0242ac1c0002row9_col11,#T_1d518c24_451d_11eb_a60a_0242ac1c0002row9_col12,#T_1d518c24_451d_11eb_a60a_0242ac1c0002row10_col13,#T_1d518c24_451d_11eb_a60a_0242ac1c0002row11_col10,#T_1d518c24_451d_11eb_a60a_0242ac1c0002row13_col14,#T_1d518c24_451d_11eb_a60a_0242ac1c0002row13_col15,#T_1d518c24_451d_11eb_a60a_0242ac1c0002row14_col12,#T_1d518c24_451d_11eb_a60a_0242ac1c0002row15_col12{\n",
              "            background-color:  #dfddec;\n",
              "            color:  #000000;\n",
              "        }#T_1d518c24_451d_11eb_a60a_0242ac1c0002row9_col14,#T_1d518c24_451d_11eb_a60a_0242ac1c0002row9_col15{\n",
              "            background-color:  #b0c2de;\n",
              "            color:  #000000;\n",
              "        }#T_1d518c24_451d_11eb_a60a_0242ac1c0002row9_col16{\n",
              "            background-color:  #056faf;\n",
              "            color:  #f1f1f1;\n",
              "        }#T_1d518c24_451d_11eb_a60a_0242ac1c0002row10_col0{\n",
              "            background-color:  #e0dded;\n",
              "            color:  #000000;\n",
              "        }#T_1d518c24_451d_11eb_a60a_0242ac1c0002row10_col2,#T_1d518c24_451d_11eb_a60a_0242ac1c0002row10_col17{\n",
              "            background-color:  #4094c3;\n",
              "            color:  #000000;\n",
              "        }#T_1d518c24_451d_11eb_a60a_0242ac1c0002row10_col7,#T_1d518c24_451d_11eb_a60a_0242ac1c0002row10_col8{\n",
              "            background-color:  #5ea0ca;\n",
              "            color:  #000000;\n",
              "        }#T_1d518c24_451d_11eb_a60a_0242ac1c0002row10_col9,#T_1d518c24_451d_11eb_a60a_0242ac1c0002row16_col3{\n",
              "            background-color:  #046299;\n",
              "            color:  #f1f1f1;\n",
              "        }#T_1d518c24_451d_11eb_a60a_0242ac1c0002row10_col11,#T_1d518c24_451d_11eb_a60a_0242ac1c0002row17_col12{\n",
              "            background-color:  #dddbec;\n",
              "            color:  #000000;\n",
              "        }#T_1d518c24_451d_11eb_a60a_0242ac1c0002row10_col15{\n",
              "            background-color:  #a1bbda;\n",
              "            color:  #000000;\n",
              "        }#T_1d518c24_451d_11eb_a60a_0242ac1c0002row11_col2{\n",
              "            background-color:  #b3c3de;\n",
              "            color:  #000000;\n",
              "        }#T_1d518c24_451d_11eb_a60a_0242ac1c0002row11_col4,#T_1d518c24_451d_11eb_a60a_0242ac1c0002row11_col5,#T_1d518c24_451d_11eb_a60a_0242ac1c0002row11_col14,#T_1d518c24_451d_11eb_a60a_0242ac1c0002row11_col15,#T_1d518c24_451d_11eb_a60a_0242ac1c0002row12_col1{\n",
              "            background-color:  #f2ecf5;\n",
              "            color:  #000000;\n",
              "        }#T_1d518c24_451d_11eb_a60a_0242ac1c0002row11_col6,#T_1d518c24_451d_11eb_a60a_0242ac1c0002row13_col9{\n",
              "            background-color:  #d0d1e6;\n",
              "            color:  #000000;\n",
              "        }#T_1d518c24_451d_11eb_a60a_0242ac1c0002row11_col12{\n",
              "            background-color:  #eee9f3;\n",
              "            color:  #000000;\n",
              "        }#T_1d518c24_451d_11eb_a60a_0242ac1c0002row11_col16{\n",
              "            background-color:  #86b0d3;\n",
              "            color:  #000000;\n",
              "        }#T_1d518c24_451d_11eb_a60a_0242ac1c0002row11_col17{\n",
              "            background-color:  #6da6cd;\n",
              "            color:  #000000;\n",
              "        }#T_1d518c24_451d_11eb_a60a_0242ac1c0002row12_col0,#T_1d518c24_451d_11eb_a60a_0242ac1c0002row13_col10{\n",
              "            background-color:  #d7d6e9;\n",
              "            color:  #000000;\n",
              "        }#T_1d518c24_451d_11eb_a60a_0242ac1c0002row12_col2,#T_1d518c24_451d_11eb_a60a_0242ac1c0002row12_col3,#T_1d518c24_451d_11eb_a60a_0242ac1c0002row13_col3{\n",
              "            background-color:  #afc1dd;\n",
              "            color:  #000000;\n",
              "        }#T_1d518c24_451d_11eb_a60a_0242ac1c0002row12_col6,#T_1d518c24_451d_11eb_a60a_0242ac1c0002row13_col6{\n",
              "            background-color:  #bcc7e1;\n",
              "            color:  #000000;\n",
              "        }#T_1d518c24_451d_11eb_a60a_0242ac1c0002row12_col7,#T_1d518c24_451d_11eb_a60a_0242ac1c0002row12_col8{\n",
              "            background-color:  #f1ebf4;\n",
              "            color:  #000000;\n",
              "        }#T_1d518c24_451d_11eb_a60a_0242ac1c0002row12_col9,#T_1d518c24_451d_11eb_a60a_0242ac1c0002row14_col0,#T_1d518c24_451d_11eb_a60a_0242ac1c0002row15_col0{\n",
              "            background-color:  #d2d2e7;\n",
              "            color:  #000000;\n",
              "        }#T_1d518c24_451d_11eb_a60a_0242ac1c0002row12_col10,#T_1d518c24_451d_11eb_a60a_0242ac1c0002row13_col0{\n",
              "            background-color:  #d9d8ea;\n",
              "            color:  #000000;\n",
              "        }#T_1d518c24_451d_11eb_a60a_0242ac1c0002row12_col11{\n",
              "            background-color:  #e4e1ef;\n",
              "            color:  #000000;\n",
              "        }#T_1d518c24_451d_11eb_a60a_0242ac1c0002row12_col13,#T_1d518c24_451d_11eb_a60a_0242ac1c0002row13_col12{\n",
              "            background-color:  #023d60;\n",
              "            color:  #f1f1f1;\n",
              "        }#T_1d518c24_451d_11eb_a60a_0242ac1c0002row12_col16{\n",
              "            background-color:  #abbfdc;\n",
              "            color:  #000000;\n",
              "        }#T_1d518c24_451d_11eb_a60a_0242ac1c0002row12_col17{\n",
              "            background-color:  #a9bfdc;\n",
              "            color:  #000000;\n",
              "        }#T_1d518c24_451d_11eb_a60a_0242ac1c0002row13_col1{\n",
              "            background-color:  #f5eef6;\n",
              "            color:  #000000;\n",
              "        }#T_1d518c24_451d_11eb_a60a_0242ac1c0002row13_col7,#T_1d518c24_451d_11eb_a60a_0242ac1c0002row13_col8{\n",
              "            background-color:  #ede8f3;\n",
              "            color:  #000000;\n",
              "        }#T_1d518c24_451d_11eb_a60a_0242ac1c0002row14_col2,#T_1d518c24_451d_11eb_a60a_0242ac1c0002row15_col2{\n",
              "            background-color:  #7eadd1;\n",
              "            color:  #000000;\n",
              "        }#T_1d518c24_451d_11eb_a60a_0242ac1c0002row14_col3,#T_1d518c24_451d_11eb_a60a_0242ac1c0002row15_col3{\n",
              "            background-color:  #7dacd1;\n",
              "            color:  #000000;\n",
              "        }#T_1d518c24_451d_11eb_a60a_0242ac1c0002row14_col4,#T_1d518c24_451d_11eb_a60a_0242ac1c0002row14_col5,#T_1d518c24_451d_11eb_a60a_0242ac1c0002row15_col4,#T_1d518c24_451d_11eb_a60a_0242ac1c0002row15_col5{\n",
              "            background-color:  #a4bcda;\n",
              "            color:  #000000;\n",
              "        }#T_1d518c24_451d_11eb_a60a_0242ac1c0002row14_col6,#T_1d518c24_451d_11eb_a60a_0242ac1c0002row15_col6{\n",
              "            background-color:  #81aed2;\n",
              "            color:  #000000;\n",
              "        }#T_1d518c24_451d_11eb_a60a_0242ac1c0002row14_col7,#T_1d518c24_451d_11eb_a60a_0242ac1c0002row14_col8,#T_1d518c24_451d_11eb_a60a_0242ac1c0002row15_col7,#T_1d518c24_451d_11eb_a60a_0242ac1c0002row15_col8{\n",
              "            background-color:  #c4cbe3;\n",
              "            color:  #000000;\n",
              "        }#T_1d518c24_451d_11eb_a60a_0242ac1c0002row14_col9,#T_1d518c24_451d_11eb_a60a_0242ac1c0002row15_col9{\n",
              "            background-color:  #97b7d7;\n",
              "            color:  #000000;\n",
              "        }#T_1d518c24_451d_11eb_a60a_0242ac1c0002row14_col10,#T_1d518c24_451d_11eb_a60a_0242ac1c0002row15_col10{\n",
              "            background-color:  #8eb3d5;\n",
              "            color:  #000000;\n",
              "        }#T_1d518c24_451d_11eb_a60a_0242ac1c0002row14_col13,#T_1d518c24_451d_11eb_a60a_0242ac1c0002row15_col13{\n",
              "            background-color:  #d8d7e9;\n",
              "            color:  #000000;\n",
              "        }#T_1d518c24_451d_11eb_a60a_0242ac1c0002row14_col17,#T_1d518c24_451d_11eb_a60a_0242ac1c0002row15_col17,#T_1d518c24_451d_11eb_a60a_0242ac1c0002row17_col11{\n",
              "            background-color:  #94b6d7;\n",
              "            color:  #000000;\n",
              "        }#T_1d518c24_451d_11eb_a60a_0242ac1c0002row16_col4{\n",
              "            background-color:  #056fae;\n",
              "            color:  #f1f1f1;\n",
              "        }#T_1d518c24_451d_11eb_a60a_0242ac1c0002row16_col5{\n",
              "            background-color:  #046096;\n",
              "            color:  #f1f1f1;\n",
              "        }#T_1d518c24_451d_11eb_a60a_0242ac1c0002row16_col7,#T_1d518c24_451d_11eb_a60a_0242ac1c0002row16_col8{\n",
              "            background-color:  #73a9cf;\n",
              "            color:  #000000;\n",
              "        }#T_1d518c24_451d_11eb_a60a_0242ac1c0002row16_col9{\n",
              "            background-color:  #1077b4;\n",
              "            color:  #f1f1f1;\n",
              "        }#T_1d518c24_451d_11eb_a60a_0242ac1c0002row16_col10{\n",
              "            background-color:  #0a73b2;\n",
              "            color:  #f1f1f1;\n",
              "        }#T_1d518c24_451d_11eb_a60a_0242ac1c0002row16_col12{\n",
              "            background-color:  #d5d5e8;\n",
              "            color:  #000000;\n",
              "        }#T_1d518c24_451d_11eb_a60a_0242ac1c0002row16_col13,#T_1d518c24_451d_11eb_a60a_0242ac1c0002row17_col14,#T_1d518c24_451d_11eb_a60a_0242ac1c0002row17_col15{\n",
              "            background-color:  #d2d3e7;\n",
              "            color:  #000000;\n",
              "        }#T_1d518c24_451d_11eb_a60a_0242ac1c0002row16_col14,#T_1d518c24_451d_11eb_a60a_0242ac1c0002row16_col15{\n",
              "            background-color:  #9cb9d9;\n",
              "            color:  #000000;\n",
              "        }#T_1d518c24_451d_11eb_a60a_0242ac1c0002row16_col17{\n",
              "            background-color:  #045483;\n",
              "            color:  #f1f1f1;\n",
              "        }#T_1d518c24_451d_11eb_a60a_0242ac1c0002row17_col0{\n",
              "            background-color:  #fef6fa;\n",
              "            color:  #000000;\n",
              "        }#T_1d518c24_451d_11eb_a60a_0242ac1c0002row17_col1{\n",
              "            background-color:  #ede7f2;\n",
              "            color:  #000000;\n",
              "        }#T_1d518c24_451d_11eb_a60a_0242ac1c0002row17_col3{\n",
              "            background-color:  #056ba7;\n",
              "            color:  #f1f1f1;\n",
              "        }#T_1d518c24_451d_11eb_a60a_0242ac1c0002row17_col4{\n",
              "            background-color:  #67a4cc;\n",
              "            color:  #000000;\n",
              "        }#T_1d518c24_451d_11eb_a60a_0242ac1c0002row17_col5{\n",
              "            background-color:  #509ac6;\n",
              "            color:  #000000;\n",
              "        }#T_1d518c24_451d_11eb_a60a_0242ac1c0002row17_col6{\n",
              "            background-color:  #056ead;\n",
              "            color:  #f1f1f1;\n",
              "        }#T_1d518c24_451d_11eb_a60a_0242ac1c0002row17_col7,#T_1d518c24_451d_11eb_a60a_0242ac1c0002row17_col8{\n",
              "            background-color:  #c1cae2;\n",
              "            color:  #000000;\n",
              "        }#T_1d518c24_451d_11eb_a60a_0242ac1c0002row17_col9{\n",
              "            background-color:  #60a1ca;\n",
              "            color:  #000000;\n",
              "        }#T_1d518c24_451d_11eb_a60a_0242ac1c0002row17_col16{\n",
              "            background-color:  #045585;\n",
              "            color:  #f1f1f1;\n",
              "        }</style><table id=\"T_1d518c24_451d_11eb_a60a_0242ac1c0002\" ><thead>    <tr>        <th class=\"blank level0\" ></th>        <th class=\"col_heading level0 col0\" >Sector_score</th>        <th class=\"col_heading level0 col1\" >LOCATION_ID</th>        <th class=\"col_heading level0 col2\" >PARA_A</th>        <th class=\"col_heading level0 col3\" >SCORE_A</th>        <th class=\"col_heading level0 col4\" >PARA_B</th>        <th class=\"col_heading level0 col5\" >SCORE_B</th>        <th class=\"col_heading level0 col6\" >TOTAL</th>        <th class=\"col_heading level0 col7\" >numbers</th>        <th class=\"col_heading level0 col8\" >Marks</th>        <th class=\"col_heading level0 col9\" >Money_Value</th>        <th class=\"col_heading level0 col10\" >MONEY_Marks</th>        <th class=\"col_heading level0 col11\" >District</th>        <th class=\"col_heading level0 col12\" >Loss</th>        <th class=\"col_heading level0 col13\" >LOSS_SCORE</th>        <th class=\"col_heading level0 col14\" >History</th>        <th class=\"col_heading level0 col15\" >History_score</th>        <th class=\"col_heading level0 col16\" >Score</th>        <th class=\"col_heading level0 col17\" >Risk</th>    </tr></thead><tbody>\n",
              "                <tr>\n",
              "                        <th id=\"T_1d518c24_451d_11eb_a60a_0242ac1c0002level0_row0\" class=\"row_heading level0 row0\" >Sector_score</th>\n",
              "                        <td id=\"T_1d518c24_451d_11eb_a60a_0242ac1c0002row0_col0\" class=\"data row0 col0\" >1.00</td>\n",
              "                        <td id=\"T_1d518c24_451d_11eb_a60a_0242ac1c0002row0_col1\" class=\"data row0 col1\" >-0.02</td>\n",
              "                        <td id=\"T_1d518c24_451d_11eb_a60a_0242ac1c0002row0_col2\" class=\"data row0 col2\" >-0.39</td>\n",
              "                        <td id=\"T_1d518c24_451d_11eb_a60a_0242ac1c0002row0_col3\" class=\"data row0 col3\" >-0.38</td>\n",
              "                        <td id=\"T_1d518c24_451d_11eb_a60a_0242ac1c0002row0_col4\" class=\"data row0 col4\" >-0.14</td>\n",
              "                        <td id=\"T_1d518c24_451d_11eb_a60a_0242ac1c0002row0_col5\" class=\"data row0 col5\" >-0.10</td>\n",
              "                        <td id=\"T_1d518c24_451d_11eb_a60a_0242ac1c0002row0_col6\" class=\"data row0 col6\" >-0.31</td>\n",
              "                        <td id=\"T_1d518c24_451d_11eb_a60a_0242ac1c0002row0_col7\" class=\"data row0 col7\" >-0.07</td>\n",
              "                        <td id=\"T_1d518c24_451d_11eb_a60a_0242ac1c0002row0_col8\" class=\"data row0 col8\" >-0.07</td>\n",
              "                        <td id=\"T_1d518c24_451d_11eb_a60a_0242ac1c0002row0_col9\" class=\"data row0 col9\" >-0.17</td>\n",
              "                        <td id=\"T_1d518c24_451d_11eb_a60a_0242ac1c0002row0_col10\" class=\"data row0 col10\" >-0.14</td>\n",
              "                        <td id=\"T_1d518c24_451d_11eb_a60a_0242ac1c0002row0_col11\" class=\"data row0 col11\" >-0.15</td>\n",
              "                        <td id=\"T_1d518c24_451d_11eb_a60a_0242ac1c0002row0_col12\" class=\"data row0 col12\" >-0.08</td>\n",
              "                        <td id=\"T_1d518c24_451d_11eb_a60a_0242ac1c0002row0_col13\" class=\"data row0 col13\" >-0.09</td>\n",
              "                        <td id=\"T_1d518c24_451d_11eb_a60a_0242ac1c0002row0_col14\" class=\"data row0 col14\" >-0.05</td>\n",
              "                        <td id=\"T_1d518c24_451d_11eb_a60a_0242ac1c0002row0_col15\" class=\"data row0 col15\" >-0.05</td>\n",
              "                        <td id=\"T_1d518c24_451d_11eb_a60a_0242ac1c0002row0_col16\" class=\"data row0 col16\" >-0.31</td>\n",
              "                        <td id=\"T_1d518c24_451d_11eb_a60a_0242ac1c0002row0_col17\" class=\"data row0 col17\" >-0.37</td>\n",
              "            </tr>\n",
              "            <tr>\n",
              "                        <th id=\"T_1d518c24_451d_11eb_a60a_0242ac1c0002level0_row1\" class=\"row_heading level0 row1\" >LOCATION_ID</th>\n",
              "                        <td id=\"T_1d518c24_451d_11eb_a60a_0242ac1c0002row1_col0\" class=\"data row1 col0\" >-0.02</td>\n",
              "                        <td id=\"T_1d518c24_451d_11eb_a60a_0242ac1c0002row1_col1\" class=\"data row1 col1\" >1.00</td>\n",
              "                        <td id=\"T_1d518c24_451d_11eb_a60a_0242ac1c0002row1_col2\" class=\"data row1 col2\" >0.07</td>\n",
              "                        <td id=\"T_1d518c24_451d_11eb_a60a_0242ac1c0002row1_col3\" class=\"data row1 col3\" >0.07</td>\n",
              "                        <td id=\"T_1d518c24_451d_11eb_a60a_0242ac1c0002row1_col4\" class=\"data row1 col4\" >0.10</td>\n",
              "                        <td id=\"T_1d518c24_451d_11eb_a60a_0242ac1c0002row1_col5\" class=\"data row1 col5\" >0.11</td>\n",
              "                        <td id=\"T_1d518c24_451d_11eb_a60a_0242ac1c0002row1_col6\" class=\"data row1 col6\" >0.11</td>\n",
              "                        <td id=\"T_1d518c24_451d_11eb_a60a_0242ac1c0002row1_col7\" class=\"data row1 col7\" >-0.03</td>\n",
              "                        <td id=\"T_1d518c24_451d_11eb_a60a_0242ac1c0002row1_col8\" class=\"data row1 col8\" >-0.03</td>\n",
              "                        <td id=\"T_1d518c24_451d_11eb_a60a_0242ac1c0002row1_col9\" class=\"data row1 col9\" >0.06</td>\n",
              "                        <td id=\"T_1d518c24_451d_11eb_a60a_0242ac1c0002row1_col10\" class=\"data row1 col10\" >0.09</td>\n",
              "                        <td id=\"T_1d518c24_451d_11eb_a60a_0242ac1c0002row1_col11\" class=\"data row1 col11\" >-0.09</td>\n",
              "                        <td id=\"T_1d518c24_451d_11eb_a60a_0242ac1c0002row1_col12\" class=\"data row1 col12\" >0.00</td>\n",
              "                        <td id=\"T_1d518c24_451d_11eb_a60a_0242ac1c0002row1_col13\" class=\"data row1 col13\" >-0.01</td>\n",
              "                        <td id=\"T_1d518c24_451d_11eb_a60a_0242ac1c0002row1_col14\" class=\"data row1 col14\" >-0.03</td>\n",
              "                        <td id=\"T_1d518c24_451d_11eb_a60a_0242ac1c0002row1_col15\" class=\"data row1 col15\" >-0.03</td>\n",
              "                        <td id=\"T_1d518c24_451d_11eb_a60a_0242ac1c0002row1_col16\" class=\"data row1 col16\" >0.07</td>\n",
              "                        <td id=\"T_1d518c24_451d_11eb_a60a_0242ac1c0002row1_col17\" class=\"data row1 col17\" >0.05</td>\n",
              "            </tr>\n",
              "            <tr>\n",
              "                        <th id=\"T_1d518c24_451d_11eb_a60a_0242ac1c0002level0_row2\" class=\"row_heading level0 row2\" >PARA_A</th>\n",
              "                        <td id=\"T_1d518c24_451d_11eb_a60a_0242ac1c0002row2_col0\" class=\"data row2 col0\" >-0.39</td>\n",
              "                        <td id=\"T_1d518c24_451d_11eb_a60a_0242ac1c0002row2_col1\" class=\"data row2 col1\" >0.07</td>\n",
              "                        <td id=\"T_1d518c24_451d_11eb_a60a_0242ac1c0002row2_col2\" class=\"data row2 col2\" >1.00</td>\n",
              "                        <td id=\"T_1d518c24_451d_11eb_a60a_0242ac1c0002row2_col3\" class=\"data row2 col3\" >0.91</td>\n",
              "                        <td id=\"T_1d518c24_451d_11eb_a60a_0242ac1c0002row2_col4\" class=\"data row2 col4\" >0.53</td>\n",
              "                        <td id=\"T_1d518c24_451d_11eb_a60a_0242ac1c0002row2_col5\" class=\"data row2 col5\" >0.54</td>\n",
              "                        <td id=\"T_1d518c24_451d_11eb_a60a_0242ac1c0002row2_col6\" class=\"data row2 col6\" >0.82</td>\n",
              "                        <td id=\"T_1d518c24_451d_11eb_a60a_0242ac1c0002row2_col7\" class=\"data row2 col7\" >0.28</td>\n",
              "                        <td id=\"T_1d518c24_451d_11eb_a60a_0242ac1c0002row2_col8\" class=\"data row2 col8\" >0.28</td>\n",
              "                        <td id=\"T_1d518c24_451d_11eb_a60a_0242ac1c0002row2_col9\" class=\"data row2 col9\" >0.46</td>\n",
              "                        <td id=\"T_1d518c24_451d_11eb_a60a_0242ac1c0002row2_col10\" class=\"data row2 col10\" >0.45</td>\n",
              "                        <td id=\"T_1d518c24_451d_11eb_a60a_0242ac1c0002row2_col11\" class=\"data row2 col11\" >0.08</td>\n",
              "                        <td id=\"T_1d518c24_451d_11eb_a60a_0242ac1c0002row2_col12\" class=\"data row2 col12\" >0.10</td>\n",
              "                        <td id=\"T_1d518c24_451d_11eb_a60a_0242ac1c0002row2_col13\" class=\"data row2 col13\" >0.10</td>\n",
              "                        <td id=\"T_1d518c24_451d_11eb_a60a_0242ac1c0002row2_col14\" class=\"data row2 col14\" >0.27</td>\n",
              "                        <td id=\"T_1d518c24_451d_11eb_a60a_0242ac1c0002row2_col15\" class=\"data row2 col15\" >0.27</td>\n",
              "                        <td id=\"T_1d518c24_451d_11eb_a60a_0242ac1c0002row2_col16\" class=\"data row2 col16\" >0.72</td>\n",
              "                        <td id=\"T_1d518c24_451d_11eb_a60a_0242ac1c0002row2_col17\" class=\"data row2 col17\" >0.65</td>\n",
              "            </tr>\n",
              "            <tr>\n",
              "                        <th id=\"T_1d518c24_451d_11eb_a60a_0242ac1c0002level0_row3\" class=\"row_heading level0 row3\" >SCORE_A</th>\n",
              "                        <td id=\"T_1d518c24_451d_11eb_a60a_0242ac1c0002row3_col0\" class=\"data row3 col0\" >-0.38</td>\n",
              "                        <td id=\"T_1d518c24_451d_11eb_a60a_0242ac1c0002row3_col1\" class=\"data row3 col1\" >0.07</td>\n",
              "                        <td id=\"T_1d518c24_451d_11eb_a60a_0242ac1c0002row3_col2\" class=\"data row3 col2\" >0.91</td>\n",
              "                        <td id=\"T_1d518c24_451d_11eb_a60a_0242ac1c0002row3_col3\" class=\"data row3 col3\" >1.00</td>\n",
              "                        <td id=\"T_1d518c24_451d_11eb_a60a_0242ac1c0002row3_col4\" class=\"data row3 col4\" >0.54</td>\n",
              "                        <td id=\"T_1d518c24_451d_11eb_a60a_0242ac1c0002row3_col5\" class=\"data row3 col5\" >0.56</td>\n",
              "                        <td id=\"T_1d518c24_451d_11eb_a60a_0242ac1c0002row3_col6\" class=\"data row3 col6\" >0.79</td>\n",
              "                        <td id=\"T_1d518c24_451d_11eb_a60a_0242ac1c0002row3_col7\" class=\"data row3 col7\" >0.29</td>\n",
              "                        <td id=\"T_1d518c24_451d_11eb_a60a_0242ac1c0002row3_col8\" class=\"data row3 col8\" >0.29</td>\n",
              "                        <td id=\"T_1d518c24_451d_11eb_a60a_0242ac1c0002row3_col9\" class=\"data row3 col9\" >0.48</td>\n",
              "                        <td id=\"T_1d518c24_451d_11eb_a60a_0242ac1c0002row3_col10\" class=\"data row3 col10\" >0.49</td>\n",
              "                        <td id=\"T_1d518c24_451d_11eb_a60a_0242ac1c0002row3_col11\" class=\"data row3 col11\" >0.08</td>\n",
              "                        <td id=\"T_1d518c24_451d_11eb_a60a_0242ac1c0002row3_col12\" class=\"data row3 col12\" >0.10</td>\n",
              "                        <td id=\"T_1d518c24_451d_11eb_a60a_0242ac1c0002row3_col13\" class=\"data row3 col13\" >0.10</td>\n",
              "                        <td id=\"T_1d518c24_451d_11eb_a60a_0242ac1c0002row3_col14\" class=\"data row3 col14\" >0.28</td>\n",
              "                        <td id=\"T_1d518c24_451d_11eb_a60a_0242ac1c0002row3_col15\" class=\"data row3 col15\" >0.28</td>\n",
              "                        <td id=\"T_1d518c24_451d_11eb_a60a_0242ac1c0002row3_col16\" class=\"data row3 col16\" >0.77</td>\n",
              "                        <td id=\"T_1d518c24_451d_11eb_a60a_0242ac1c0002row3_col17\" class=\"data row3 col17\" >0.69</td>\n",
              "            </tr>\n",
              "            <tr>\n",
              "                        <th id=\"T_1d518c24_451d_11eb_a60a_0242ac1c0002level0_row4\" class=\"row_heading level0 row4\" >PARA_B</th>\n",
              "                        <td id=\"T_1d518c24_451d_11eb_a60a_0242ac1c0002row4_col0\" class=\"data row4 col0\" >-0.14</td>\n",
              "                        <td id=\"T_1d518c24_451d_11eb_a60a_0242ac1c0002row4_col1\" class=\"data row4 col1\" >0.10</td>\n",
              "                        <td id=\"T_1d518c24_451d_11eb_a60a_0242ac1c0002row4_col2\" class=\"data row4 col2\" >0.53</td>\n",
              "                        <td id=\"T_1d518c24_451d_11eb_a60a_0242ac1c0002row4_col3\" class=\"data row4 col3\" >0.54</td>\n",
              "                        <td id=\"T_1d518c24_451d_11eb_a60a_0242ac1c0002row4_col4\" class=\"data row4 col4\" >1.00</td>\n",
              "                        <td id=\"T_1d518c24_451d_11eb_a60a_0242ac1c0002row4_col5\" class=\"data row4 col5\" >0.83</td>\n",
              "                        <td id=\"T_1d518c24_451d_11eb_a60a_0242ac1c0002row4_col6\" class=\"data row4 col6\" >0.85</td>\n",
              "                        <td id=\"T_1d518c24_451d_11eb_a60a_0242ac1c0002row4_col7\" class=\"data row4 col7\" >0.32</td>\n",
              "                        <td id=\"T_1d518c24_451d_11eb_a60a_0242ac1c0002row4_col8\" class=\"data row4 col8\" >0.32</td>\n",
              "                        <td id=\"T_1d518c24_451d_11eb_a60a_0242ac1c0002row4_col9\" class=\"data row4 col9\" >0.58</td>\n",
              "                        <td id=\"T_1d518c24_451d_11eb_a60a_0242ac1c0002row4_col10\" class=\"data row4 col10\" >0.55</td>\n",
              "                        <td id=\"T_1d518c24_451d_11eb_a60a_0242ac1c0002row4_col11\" class=\"data row4 col11\" >-0.04</td>\n",
              "                        <td id=\"T_1d518c24_451d_11eb_a60a_0242ac1c0002row4_col12\" class=\"data row4 col12\" >0.07</td>\n",
              "                        <td id=\"T_1d518c24_451d_11eb_a60a_0242ac1c0002row4_col13\" class=\"data row4 col13\" >0.06</td>\n",
              "                        <td id=\"T_1d518c24_451d_11eb_a60a_0242ac1c0002row4_col14\" class=\"data row4 col14\" >0.30</td>\n",
              "                        <td id=\"T_1d518c24_451d_11eb_a60a_0242ac1c0002row4_col15\" class=\"data row4 col15\" >0.30</td>\n",
              "                        <td id=\"T_1d518c24_451d_11eb_a60a_0242ac1c0002row4_col16\" class=\"data row4 col16\" >0.72</td>\n",
              "                        <td id=\"T_1d518c24_451d_11eb_a60a_0242ac1c0002row4_col17\" class=\"data row4 col17\" >0.46</td>\n",
              "            </tr>\n",
              "            <tr>\n",
              "                        <th id=\"T_1d518c24_451d_11eb_a60a_0242ac1c0002level0_row5\" class=\"row_heading level0 row5\" >SCORE_B</th>\n",
              "                        <td id=\"T_1d518c24_451d_11eb_a60a_0242ac1c0002row5_col0\" class=\"data row5 col0\" >-0.10</td>\n",
              "                        <td id=\"T_1d518c24_451d_11eb_a60a_0242ac1c0002row5_col1\" class=\"data row5 col1\" >0.11</td>\n",
              "                        <td id=\"T_1d518c24_451d_11eb_a60a_0242ac1c0002row5_col2\" class=\"data row5 col2\" >0.54</td>\n",
              "                        <td id=\"T_1d518c24_451d_11eb_a60a_0242ac1c0002row5_col3\" class=\"data row5 col3\" >0.56</td>\n",
              "                        <td id=\"T_1d518c24_451d_11eb_a60a_0242ac1c0002row5_col4\" class=\"data row5 col4\" >0.83</td>\n",
              "                        <td id=\"T_1d518c24_451d_11eb_a60a_0242ac1c0002row5_col5\" class=\"data row5 col5\" >1.00</td>\n",
              "                        <td id=\"T_1d518c24_451d_11eb_a60a_0242ac1c0002row5_col6\" class=\"data row5 col6\" >0.78</td>\n",
              "                        <td id=\"T_1d518c24_451d_11eb_a60a_0242ac1c0002row5_col7\" class=\"data row5 col7\" >0.33</td>\n",
              "                        <td id=\"T_1d518c24_451d_11eb_a60a_0242ac1c0002row5_col8\" class=\"data row5 col8\" >0.33</td>\n",
              "                        <td id=\"T_1d518c24_451d_11eb_a60a_0242ac1c0002row5_col9\" class=\"data row5 col9\" >0.58</td>\n",
              "                        <td id=\"T_1d518c24_451d_11eb_a60a_0242ac1c0002row5_col10\" class=\"data row5 col10\" >0.57</td>\n",
              "                        <td id=\"T_1d518c24_451d_11eb_a60a_0242ac1c0002row5_col11\" class=\"data row5 col11\" >-0.00</td>\n",
              "                        <td id=\"T_1d518c24_451d_11eb_a60a_0242ac1c0002row5_col12\" class=\"data row5 col12\" >0.10</td>\n",
              "                        <td id=\"T_1d518c24_451d_11eb_a60a_0242ac1c0002row5_col13\" class=\"data row5 col13\" >0.09</td>\n",
              "                        <td id=\"T_1d518c24_451d_11eb_a60a_0242ac1c0002row5_col14\" class=\"data row5 col14\" >0.32</td>\n",
              "                        <td id=\"T_1d518c24_451d_11eb_a60a_0242ac1c0002row5_col15\" class=\"data row5 col15\" >0.32</td>\n",
              "                        <td id=\"T_1d518c24_451d_11eb_a60a_0242ac1c0002row5_col16\" class=\"data row5 col16\" >0.82</td>\n",
              "                        <td id=\"T_1d518c24_451d_11eb_a60a_0242ac1c0002row5_col17\" class=\"data row5 col17\" >0.53</td>\n",
              "            </tr>\n",
              "            <tr>\n",
              "                        <th id=\"T_1d518c24_451d_11eb_a60a_0242ac1c0002level0_row6\" class=\"row_heading level0 row6\" >TOTAL</th>\n",
              "                        <td id=\"T_1d518c24_451d_11eb_a60a_0242ac1c0002row6_col0\" class=\"data row6 col0\" >-0.31</td>\n",
              "                        <td id=\"T_1d518c24_451d_11eb_a60a_0242ac1c0002row6_col1\" class=\"data row6 col1\" >0.11</td>\n",
              "                        <td id=\"T_1d518c24_451d_11eb_a60a_0242ac1c0002row6_col2\" class=\"data row6 col2\" >0.82</td>\n",
              "                        <td id=\"T_1d518c24_451d_11eb_a60a_0242ac1c0002row6_col3\" class=\"data row6 col3\" >0.79</td>\n",
              "                        <td id=\"T_1d518c24_451d_11eb_a60a_0242ac1c0002row6_col4\" class=\"data row6 col4\" >0.85</td>\n",
              "                        <td id=\"T_1d518c24_451d_11eb_a60a_0242ac1c0002row6_col5\" class=\"data row6 col5\" >0.78</td>\n",
              "                        <td id=\"T_1d518c24_451d_11eb_a60a_0242ac1c0002row6_col6\" class=\"data row6 col6\" >1.00</td>\n",
              "                        <td id=\"T_1d518c24_451d_11eb_a60a_0242ac1c0002row6_col7\" class=\"data row6 col7\" >0.32</td>\n",
              "                        <td id=\"T_1d518c24_451d_11eb_a60a_0242ac1c0002row6_col8\" class=\"data row6 col8\" >0.32</td>\n",
              "                        <td id=\"T_1d518c24_451d_11eb_a60a_0242ac1c0002row6_col9\" class=\"data row6 col9\" >0.59</td>\n",
              "                        <td id=\"T_1d518c24_451d_11eb_a60a_0242ac1c0002row6_col10\" class=\"data row6 col10\" >0.55</td>\n",
              "                        <td id=\"T_1d518c24_451d_11eb_a60a_0242ac1c0002row6_col11\" class=\"data row6 col11\" >0.02</td>\n",
              "                        <td id=\"T_1d518c24_451d_11eb_a60a_0242ac1c0002row6_col12\" class=\"data row6 col12\" >0.10</td>\n",
              "                        <td id=\"T_1d518c24_451d_11eb_a60a_0242ac1c0002row6_col13\" class=\"data row6 col13\" >0.10</td>\n",
              "                        <td id=\"T_1d518c24_451d_11eb_a60a_0242ac1c0002row6_col14\" class=\"data row6 col14\" >0.30</td>\n",
              "                        <td id=\"T_1d518c24_451d_11eb_a60a_0242ac1c0002row6_col15\" class=\"data row6 col15\" >0.30</td>\n",
              "                        <td id=\"T_1d518c24_451d_11eb_a60a_0242ac1c0002row6_col16\" class=\"data row6 col16\" >0.84</td>\n",
              "                        <td id=\"T_1d518c24_451d_11eb_a60a_0242ac1c0002row6_col17\" class=\"data row6 col17\" >0.69</td>\n",
              "            </tr>\n",
              "            <tr>\n",
              "                        <th id=\"T_1d518c24_451d_11eb_a60a_0242ac1c0002level0_row7\" class=\"row_heading level0 row7\" >numbers</th>\n",
              "                        <td id=\"T_1d518c24_451d_11eb_a60a_0242ac1c0002row7_col0\" class=\"data row7 col0\" >-0.07</td>\n",
              "                        <td id=\"T_1d518c24_451d_11eb_a60a_0242ac1c0002row7_col1\" class=\"data row7 col1\" >-0.03</td>\n",
              "                        <td id=\"T_1d518c24_451d_11eb_a60a_0242ac1c0002row7_col2\" class=\"data row7 col2\" >0.28</td>\n",
              "                        <td id=\"T_1d518c24_451d_11eb_a60a_0242ac1c0002row7_col3\" class=\"data row7 col3\" >0.29</td>\n",
              "                        <td id=\"T_1d518c24_451d_11eb_a60a_0242ac1c0002row7_col4\" class=\"data row7 col4\" >0.32</td>\n",
              "                        <td id=\"T_1d518c24_451d_11eb_a60a_0242ac1c0002row7_col5\" class=\"data row7 col5\" >0.33</td>\n",
              "                        <td id=\"T_1d518c24_451d_11eb_a60a_0242ac1c0002row7_col6\" class=\"data row7 col6\" >0.32</td>\n",
              "                        <td id=\"T_1d518c24_451d_11eb_a60a_0242ac1c0002row7_col7\" class=\"data row7 col7\" >1.00</td>\n",
              "                        <td id=\"T_1d518c24_451d_11eb_a60a_0242ac1c0002row7_col8\" class=\"data row7 col8\" >1.00</td>\n",
              "                        <td id=\"T_1d518c24_451d_11eb_a60a_0242ac1c0002row7_col9\" class=\"data row7 col9\" >0.42</td>\n",
              "                        <td id=\"T_1d518c24_451d_11eb_a60a_0242ac1c0002row7_col10\" class=\"data row7 col10\" >0.51</td>\n",
              "                        <td id=\"T_1d518c24_451d_11eb_a60a_0242ac1c0002row7_col11\" class=\"data row7 col11\" >0.14</td>\n",
              "                        <td id=\"T_1d518c24_451d_11eb_a60a_0242ac1c0002row7_col12\" class=\"data row7 col12\" >0.03</td>\n",
              "                        <td id=\"T_1d518c24_451d_11eb_a60a_0242ac1c0002row7_col13\" class=\"data row7 col13\" >0.05</td>\n",
              "                        <td id=\"T_1d518c24_451d_11eb_a60a_0242ac1c0002row7_col14\" class=\"data row7 col14\" >0.23</td>\n",
              "                        <td id=\"T_1d518c24_451d_11eb_a60a_0242ac1c0002row7_col15\" class=\"data row7 col15\" >0.23</td>\n",
              "                        <td id=\"T_1d518c24_451d_11eb_a60a_0242ac1c0002row7_col16\" class=\"data row7 col16\" >0.46</td>\n",
              "                        <td id=\"T_1d518c24_451d_11eb_a60a_0242ac1c0002row7_col17\" class=\"data row7 col17\" >0.24</td>\n",
              "            </tr>\n",
              "            <tr>\n",
              "                        <th id=\"T_1d518c24_451d_11eb_a60a_0242ac1c0002level0_row8\" class=\"row_heading level0 row8\" >Marks</th>\n",
              "                        <td id=\"T_1d518c24_451d_11eb_a60a_0242ac1c0002row8_col0\" class=\"data row8 col0\" >-0.07</td>\n",
              "                        <td id=\"T_1d518c24_451d_11eb_a60a_0242ac1c0002row8_col1\" class=\"data row8 col1\" >-0.03</td>\n",
              "                        <td id=\"T_1d518c24_451d_11eb_a60a_0242ac1c0002row8_col2\" class=\"data row8 col2\" >0.28</td>\n",
              "                        <td id=\"T_1d518c24_451d_11eb_a60a_0242ac1c0002row8_col3\" class=\"data row8 col3\" >0.29</td>\n",
              "                        <td id=\"T_1d518c24_451d_11eb_a60a_0242ac1c0002row8_col4\" class=\"data row8 col4\" >0.32</td>\n",
              "                        <td id=\"T_1d518c24_451d_11eb_a60a_0242ac1c0002row8_col5\" class=\"data row8 col5\" >0.33</td>\n",
              "                        <td id=\"T_1d518c24_451d_11eb_a60a_0242ac1c0002row8_col6\" class=\"data row8 col6\" >0.32</td>\n",
              "                        <td id=\"T_1d518c24_451d_11eb_a60a_0242ac1c0002row8_col7\" class=\"data row8 col7\" >1.00</td>\n",
              "                        <td id=\"T_1d518c24_451d_11eb_a60a_0242ac1c0002row8_col8\" class=\"data row8 col8\" >1.00</td>\n",
              "                        <td id=\"T_1d518c24_451d_11eb_a60a_0242ac1c0002row8_col9\" class=\"data row8 col9\" >0.42</td>\n",
              "                        <td id=\"T_1d518c24_451d_11eb_a60a_0242ac1c0002row8_col10\" class=\"data row8 col10\" >0.51</td>\n",
              "                        <td id=\"T_1d518c24_451d_11eb_a60a_0242ac1c0002row8_col11\" class=\"data row8 col11\" >0.14</td>\n",
              "                        <td id=\"T_1d518c24_451d_11eb_a60a_0242ac1c0002row8_col12\" class=\"data row8 col12\" >0.03</td>\n",
              "                        <td id=\"T_1d518c24_451d_11eb_a60a_0242ac1c0002row8_col13\" class=\"data row8 col13\" >0.05</td>\n",
              "                        <td id=\"T_1d518c24_451d_11eb_a60a_0242ac1c0002row8_col14\" class=\"data row8 col14\" >0.23</td>\n",
              "                        <td id=\"T_1d518c24_451d_11eb_a60a_0242ac1c0002row8_col15\" class=\"data row8 col15\" >0.23</td>\n",
              "                        <td id=\"T_1d518c24_451d_11eb_a60a_0242ac1c0002row8_col16\" class=\"data row8 col16\" >0.46</td>\n",
              "                        <td id=\"T_1d518c24_451d_11eb_a60a_0242ac1c0002row8_col17\" class=\"data row8 col17\" >0.24</td>\n",
              "            </tr>\n",
              "            <tr>\n",
              "                        <th id=\"T_1d518c24_451d_11eb_a60a_0242ac1c0002level0_row9\" class=\"row_heading level0 row9\" >Money_Value</th>\n",
              "                        <td id=\"T_1d518c24_451d_11eb_a60a_0242ac1c0002row9_col0\" class=\"data row9 col0\" >-0.17</td>\n",
              "                        <td id=\"T_1d518c24_451d_11eb_a60a_0242ac1c0002row9_col1\" class=\"data row9 col1\" >0.06</td>\n",
              "                        <td id=\"T_1d518c24_451d_11eb_a60a_0242ac1c0002row9_col2\" class=\"data row9 col2\" >0.46</td>\n",
              "                        <td id=\"T_1d518c24_451d_11eb_a60a_0242ac1c0002row9_col3\" class=\"data row9 col3\" >0.48</td>\n",
              "                        <td id=\"T_1d518c24_451d_11eb_a60a_0242ac1c0002row9_col4\" class=\"data row9 col4\" >0.58</td>\n",
              "                        <td id=\"T_1d518c24_451d_11eb_a60a_0242ac1c0002row9_col5\" class=\"data row9 col5\" >0.58</td>\n",
              "                        <td id=\"T_1d518c24_451d_11eb_a60a_0242ac1c0002row9_col6\" class=\"data row9 col6\" >0.59</td>\n",
              "                        <td id=\"T_1d518c24_451d_11eb_a60a_0242ac1c0002row9_col7\" class=\"data row9 col7\" >0.42</td>\n",
              "                        <td id=\"T_1d518c24_451d_11eb_a60a_0242ac1c0002row9_col8\" class=\"data row9 col8\" >0.42</td>\n",
              "                        <td id=\"T_1d518c24_451d_11eb_a60a_0242ac1c0002row9_col9\" class=\"data row9 col9\" >1.00</td>\n",
              "                        <td id=\"T_1d518c24_451d_11eb_a60a_0242ac1c0002row9_col10\" class=\"data row9 col10\" >0.80</td>\n",
              "                        <td id=\"T_1d518c24_451d_11eb_a60a_0242ac1c0002row9_col11\" class=\"data row9 col11\" >0.06</td>\n",
              "                        <td id=\"T_1d518c24_451d_11eb_a60a_0242ac1c0002row9_col12\" class=\"data row9 col12\" >0.12</td>\n",
              "                        <td id=\"T_1d518c24_451d_11eb_a60a_0242ac1c0002row9_col13\" class=\"data row9 col13\" >0.13</td>\n",
              "                        <td id=\"T_1d518c24_451d_11eb_a60a_0242ac1c0002row9_col14\" class=\"data row9 col14\" >0.31</td>\n",
              "                        <td id=\"T_1d518c24_451d_11eb_a60a_0242ac1c0002row9_col15\" class=\"data row9 col15\" >0.31</td>\n",
              "                        <td id=\"T_1d518c24_451d_11eb_a60a_0242ac1c0002row9_col16\" class=\"data row9 col16\" >0.68</td>\n",
              "                        <td id=\"T_1d518c24_451d_11eb_a60a_0242ac1c0002row9_col17\" class=\"data row9 col17\" >0.46</td>\n",
              "            </tr>\n",
              "            <tr>\n",
              "                        <th id=\"T_1d518c24_451d_11eb_a60a_0242ac1c0002level0_row10\" class=\"row_heading level0 row10\" >MONEY_Marks</th>\n",
              "                        <td id=\"T_1d518c24_451d_11eb_a60a_0242ac1c0002row10_col0\" class=\"data row10 col0\" >-0.14</td>\n",
              "                        <td id=\"T_1d518c24_451d_11eb_a60a_0242ac1c0002row10_col1\" class=\"data row10 col1\" >0.09</td>\n",
              "                        <td id=\"T_1d518c24_451d_11eb_a60a_0242ac1c0002row10_col2\" class=\"data row10 col2\" >0.45</td>\n",
              "                        <td id=\"T_1d518c24_451d_11eb_a60a_0242ac1c0002row10_col3\" class=\"data row10 col3\" >0.49</td>\n",
              "                        <td id=\"T_1d518c24_451d_11eb_a60a_0242ac1c0002row10_col4\" class=\"data row10 col4\" >0.55</td>\n",
              "                        <td id=\"T_1d518c24_451d_11eb_a60a_0242ac1c0002row10_col5\" class=\"data row10 col5\" >0.57</td>\n",
              "                        <td id=\"T_1d518c24_451d_11eb_a60a_0242ac1c0002row10_col6\" class=\"data row10 col6\" >0.55</td>\n",
              "                        <td id=\"T_1d518c24_451d_11eb_a60a_0242ac1c0002row10_col7\" class=\"data row10 col7\" >0.51</td>\n",
              "                        <td id=\"T_1d518c24_451d_11eb_a60a_0242ac1c0002row10_col8\" class=\"data row10 col8\" >0.51</td>\n",
              "                        <td id=\"T_1d518c24_451d_11eb_a60a_0242ac1c0002row10_col9\" class=\"data row10 col9\" >0.80</td>\n",
              "                        <td id=\"T_1d518c24_451d_11eb_a60a_0242ac1c0002row10_col10\" class=\"data row10 col10\" >1.00</td>\n",
              "                        <td id=\"T_1d518c24_451d_11eb_a60a_0242ac1c0002row10_col11\" class=\"data row10 col11\" >0.08</td>\n",
              "                        <td id=\"T_1d518c24_451d_11eb_a60a_0242ac1c0002row10_col12\" class=\"data row10 col12\" >0.10</td>\n",
              "                        <td id=\"T_1d518c24_451d_11eb_a60a_0242ac1c0002row10_col13\" class=\"data row10 col13\" >0.11</td>\n",
              "                        <td id=\"T_1d518c24_451d_11eb_a60a_0242ac1c0002row10_col14\" class=\"data row10 col14\" >0.36</td>\n",
              "                        <td id=\"T_1d518c24_451d_11eb_a60a_0242ac1c0002row10_col15\" class=\"data row10 col15\" >0.36</td>\n",
              "                        <td id=\"T_1d518c24_451d_11eb_a60a_0242ac1c0002row10_col16\" class=\"data row10 col16\" >0.70</td>\n",
              "                        <td id=\"T_1d518c24_451d_11eb_a60a_0242ac1c0002row10_col17\" class=\"data row10 col17\" >0.45</td>\n",
              "            </tr>\n",
              "            <tr>\n",
              "                        <th id=\"T_1d518c24_451d_11eb_a60a_0242ac1c0002level0_row11\" class=\"row_heading level0 row11\" >District</th>\n",
              "                        <td id=\"T_1d518c24_451d_11eb_a60a_0242ac1c0002row11_col0\" class=\"data row11 col0\" >-0.15</td>\n",
              "                        <td id=\"T_1d518c24_451d_11eb_a60a_0242ac1c0002row11_col1\" class=\"data row11 col1\" >-0.09</td>\n",
              "                        <td id=\"T_1d518c24_451d_11eb_a60a_0242ac1c0002row11_col2\" class=\"data row11 col2\" >0.08</td>\n",
              "                        <td id=\"T_1d518c24_451d_11eb_a60a_0242ac1c0002row11_col3\" class=\"data row11 col3\" >0.08</td>\n",
              "                        <td id=\"T_1d518c24_451d_11eb_a60a_0242ac1c0002row11_col4\" class=\"data row11 col4\" >-0.04</td>\n",
              "                        <td id=\"T_1d518c24_451d_11eb_a60a_0242ac1c0002row11_col5\" class=\"data row11 col5\" >-0.00</td>\n",
              "                        <td id=\"T_1d518c24_451d_11eb_a60a_0242ac1c0002row11_col6\" class=\"data row11 col6\" >0.02</td>\n",
              "                        <td id=\"T_1d518c24_451d_11eb_a60a_0242ac1c0002row11_col7\" class=\"data row11 col7\" >0.14</td>\n",
              "                        <td id=\"T_1d518c24_451d_11eb_a60a_0242ac1c0002row11_col8\" class=\"data row11 col8\" >0.14</td>\n",
              "                        <td id=\"T_1d518c24_451d_11eb_a60a_0242ac1c0002row11_col9\" class=\"data row11 col9\" >0.06</td>\n",
              "                        <td id=\"T_1d518c24_451d_11eb_a60a_0242ac1c0002row11_col10\" class=\"data row11 col10\" >0.08</td>\n",
              "                        <td id=\"T_1d518c24_451d_11eb_a60a_0242ac1c0002row11_col11\" class=\"data row11 col11\" >1.00</td>\n",
              "                        <td id=\"T_1d518c24_451d_11eb_a60a_0242ac1c0002row11_col12\" class=\"data row11 col12\" >0.04</td>\n",
              "                        <td id=\"T_1d518c24_451d_11eb_a60a_0242ac1c0002row11_col13\" class=\"data row11 col13\" >0.06</td>\n",
              "                        <td id=\"T_1d518c24_451d_11eb_a60a_0242ac1c0002row11_col14\" class=\"data row11 col14\" >0.04</td>\n",
              "                        <td id=\"T_1d518c24_451d_11eb_a60a_0242ac1c0002row11_col15\" class=\"data row11 col15\" >0.04</td>\n",
              "                        <td id=\"T_1d518c24_451d_11eb_a60a_0242ac1c0002row11_col16\" class=\"data row11 col16\" >0.28</td>\n",
              "                        <td id=\"T_1d518c24_451d_11eb_a60a_0242ac1c0002row11_col17\" class=\"data row11 col17\" >0.33</td>\n",
              "            </tr>\n",
              "            <tr>\n",
              "                        <th id=\"T_1d518c24_451d_11eb_a60a_0242ac1c0002level0_row12\" class=\"row_heading level0 row12\" >Loss</th>\n",
              "                        <td id=\"T_1d518c24_451d_11eb_a60a_0242ac1c0002row12_col0\" class=\"data row12 col0\" >-0.08</td>\n",
              "                        <td id=\"T_1d518c24_451d_11eb_a60a_0242ac1c0002row12_col1\" class=\"data row12 col1\" >0.00</td>\n",
              "                        <td id=\"T_1d518c24_451d_11eb_a60a_0242ac1c0002row12_col2\" class=\"data row12 col2\" >0.10</td>\n",
              "                        <td id=\"T_1d518c24_451d_11eb_a60a_0242ac1c0002row12_col3\" class=\"data row12 col3\" >0.10</td>\n",
              "                        <td id=\"T_1d518c24_451d_11eb_a60a_0242ac1c0002row12_col4\" class=\"data row12 col4\" >0.07</td>\n",
              "                        <td id=\"T_1d518c24_451d_11eb_a60a_0242ac1c0002row12_col5\" class=\"data row12 col5\" >0.10</td>\n",
              "                        <td id=\"T_1d518c24_451d_11eb_a60a_0242ac1c0002row12_col6\" class=\"data row12 col6\" >0.10</td>\n",
              "                        <td id=\"T_1d518c24_451d_11eb_a60a_0242ac1c0002row12_col7\" class=\"data row12 col7\" >0.03</td>\n",
              "                        <td id=\"T_1d518c24_451d_11eb_a60a_0242ac1c0002row12_col8\" class=\"data row12 col8\" >0.03</td>\n",
              "                        <td id=\"T_1d518c24_451d_11eb_a60a_0242ac1c0002row12_col9\" class=\"data row12 col9\" >0.12</td>\n",
              "                        <td id=\"T_1d518c24_451d_11eb_a60a_0242ac1c0002row12_col10\" class=\"data row12 col10\" >0.10</td>\n",
              "                        <td id=\"T_1d518c24_451d_11eb_a60a_0242ac1c0002row12_col11\" class=\"data row12 col11\" >0.04</td>\n",
              "                        <td id=\"T_1d518c24_451d_11eb_a60a_0242ac1c0002row12_col12\" class=\"data row12 col12\" >1.00</td>\n",
              "                        <td id=\"T_1d518c24_451d_11eb_a60a_0242ac1c0002row12_col13\" class=\"data row12 col13\" >0.98</td>\n",
              "                        <td id=\"T_1d518c24_451d_11eb_a60a_0242ac1c0002row12_col14\" class=\"data row12 col14\" >0.12</td>\n",
              "                        <td id=\"T_1d518c24_451d_11eb_a60a_0242ac1c0002row12_col15\" class=\"data row12 col15\" >0.12</td>\n",
              "                        <td id=\"T_1d518c24_451d_11eb_a60a_0242ac1c0002row12_col16\" class=\"data row12 col16\" >0.17</td>\n",
              "                        <td id=\"T_1d518c24_451d_11eb_a60a_0242ac1c0002row12_col17\" class=\"data row12 col17\" >0.13</td>\n",
              "            </tr>\n",
              "            <tr>\n",
              "                        <th id=\"T_1d518c24_451d_11eb_a60a_0242ac1c0002level0_row13\" class=\"row_heading level0 row13\" >LOSS_SCORE</th>\n",
              "                        <td id=\"T_1d518c24_451d_11eb_a60a_0242ac1c0002row13_col0\" class=\"data row13 col0\" >-0.09</td>\n",
              "                        <td id=\"T_1d518c24_451d_11eb_a60a_0242ac1c0002row13_col1\" class=\"data row13 col1\" >-0.01</td>\n",
              "                        <td id=\"T_1d518c24_451d_11eb_a60a_0242ac1c0002row13_col2\" class=\"data row13 col2\" >0.10</td>\n",
              "                        <td id=\"T_1d518c24_451d_11eb_a60a_0242ac1c0002row13_col3\" class=\"data row13 col3\" >0.10</td>\n",
              "                        <td id=\"T_1d518c24_451d_11eb_a60a_0242ac1c0002row13_col4\" class=\"data row13 col4\" >0.06</td>\n",
              "                        <td id=\"T_1d518c24_451d_11eb_a60a_0242ac1c0002row13_col5\" class=\"data row13 col5\" >0.09</td>\n",
              "                        <td id=\"T_1d518c24_451d_11eb_a60a_0242ac1c0002row13_col6\" class=\"data row13 col6\" >0.10</td>\n",
              "                        <td id=\"T_1d518c24_451d_11eb_a60a_0242ac1c0002row13_col7\" class=\"data row13 col7\" >0.05</td>\n",
              "                        <td id=\"T_1d518c24_451d_11eb_a60a_0242ac1c0002row13_col8\" class=\"data row13 col8\" >0.05</td>\n",
              "                        <td id=\"T_1d518c24_451d_11eb_a60a_0242ac1c0002row13_col9\" class=\"data row13 col9\" >0.13</td>\n",
              "                        <td id=\"T_1d518c24_451d_11eb_a60a_0242ac1c0002row13_col10\" class=\"data row13 col10\" >0.11</td>\n",
              "                        <td id=\"T_1d518c24_451d_11eb_a60a_0242ac1c0002row13_col11\" class=\"data row13 col11\" >0.06</td>\n",
              "                        <td id=\"T_1d518c24_451d_11eb_a60a_0242ac1c0002row13_col12\" class=\"data row13 col12\" >0.98</td>\n",
              "                        <td id=\"T_1d518c24_451d_11eb_a60a_0242ac1c0002row13_col13\" class=\"data row13 col13\" >1.00</td>\n",
              "                        <td id=\"T_1d518c24_451d_11eb_a60a_0242ac1c0002row13_col14\" class=\"data row13 col14\" >0.15</td>\n",
              "                        <td id=\"T_1d518c24_451d_11eb_a60a_0242ac1c0002row13_col15\" class=\"data row13 col15\" >0.15</td>\n",
              "                        <td id=\"T_1d518c24_451d_11eb_a60a_0242ac1c0002row13_col16\" class=\"data row13 col16\" >0.17</td>\n",
              "                        <td id=\"T_1d518c24_451d_11eb_a60a_0242ac1c0002row13_col17\" class=\"data row13 col17\" >0.13</td>\n",
              "            </tr>\n",
              "            <tr>\n",
              "                        <th id=\"T_1d518c24_451d_11eb_a60a_0242ac1c0002level0_row14\" class=\"row_heading level0 row14\" >History</th>\n",
              "                        <td id=\"T_1d518c24_451d_11eb_a60a_0242ac1c0002row14_col0\" class=\"data row14 col0\" >-0.05</td>\n",
              "                        <td id=\"T_1d518c24_451d_11eb_a60a_0242ac1c0002row14_col1\" class=\"data row14 col1\" >-0.03</td>\n",
              "                        <td id=\"T_1d518c24_451d_11eb_a60a_0242ac1c0002row14_col2\" class=\"data row14 col2\" >0.27</td>\n",
              "                        <td id=\"T_1d518c24_451d_11eb_a60a_0242ac1c0002row14_col3\" class=\"data row14 col3\" >0.28</td>\n",
              "                        <td id=\"T_1d518c24_451d_11eb_a60a_0242ac1c0002row14_col4\" class=\"data row14 col4\" >0.30</td>\n",
              "                        <td id=\"T_1d518c24_451d_11eb_a60a_0242ac1c0002row14_col5\" class=\"data row14 col5\" >0.32</td>\n",
              "                        <td id=\"T_1d518c24_451d_11eb_a60a_0242ac1c0002row14_col6\" class=\"data row14 col6\" >0.30</td>\n",
              "                        <td id=\"T_1d518c24_451d_11eb_a60a_0242ac1c0002row14_col7\" class=\"data row14 col7\" >0.23</td>\n",
              "                        <td id=\"T_1d518c24_451d_11eb_a60a_0242ac1c0002row14_col8\" class=\"data row14 col8\" >0.23</td>\n",
              "                        <td id=\"T_1d518c24_451d_11eb_a60a_0242ac1c0002row14_col9\" class=\"data row14 col9\" >0.31</td>\n",
              "                        <td id=\"T_1d518c24_451d_11eb_a60a_0242ac1c0002row14_col10\" class=\"data row14 col10\" >0.36</td>\n",
              "                        <td id=\"T_1d518c24_451d_11eb_a60a_0242ac1c0002row14_col11\" class=\"data row14 col11\" >0.04</td>\n",
              "                        <td id=\"T_1d518c24_451d_11eb_a60a_0242ac1c0002row14_col12\" class=\"data row14 col12\" >0.12</td>\n",
              "                        <td id=\"T_1d518c24_451d_11eb_a60a_0242ac1c0002row14_col13\" class=\"data row14 col13\" >0.15</td>\n",
              "                        <td id=\"T_1d518c24_451d_11eb_a60a_0242ac1c0002row14_col14\" class=\"data row14 col14\" >1.00</td>\n",
              "                        <td id=\"T_1d518c24_451d_11eb_a60a_0242ac1c0002row14_col15\" class=\"data row14 col15\" >1.00</td>\n",
              "                        <td id=\"T_1d518c24_451d_11eb_a60a_0242ac1c0002row14_col16\" class=\"data row14 col16\" >0.37</td>\n",
              "                        <td id=\"T_1d518c24_451d_11eb_a60a_0242ac1c0002row14_col17\" class=\"data row14 col17\" >0.20</td>\n",
              "            </tr>\n",
              "            <tr>\n",
              "                        <th id=\"T_1d518c24_451d_11eb_a60a_0242ac1c0002level0_row15\" class=\"row_heading level0 row15\" >History_score</th>\n",
              "                        <td id=\"T_1d518c24_451d_11eb_a60a_0242ac1c0002row15_col0\" class=\"data row15 col0\" >-0.05</td>\n",
              "                        <td id=\"T_1d518c24_451d_11eb_a60a_0242ac1c0002row15_col1\" class=\"data row15 col1\" >-0.03</td>\n",
              "                        <td id=\"T_1d518c24_451d_11eb_a60a_0242ac1c0002row15_col2\" class=\"data row15 col2\" >0.27</td>\n",
              "                        <td id=\"T_1d518c24_451d_11eb_a60a_0242ac1c0002row15_col3\" class=\"data row15 col3\" >0.28</td>\n",
              "                        <td id=\"T_1d518c24_451d_11eb_a60a_0242ac1c0002row15_col4\" class=\"data row15 col4\" >0.30</td>\n",
              "                        <td id=\"T_1d518c24_451d_11eb_a60a_0242ac1c0002row15_col5\" class=\"data row15 col5\" >0.32</td>\n",
              "                        <td id=\"T_1d518c24_451d_11eb_a60a_0242ac1c0002row15_col6\" class=\"data row15 col6\" >0.30</td>\n",
              "                        <td id=\"T_1d518c24_451d_11eb_a60a_0242ac1c0002row15_col7\" class=\"data row15 col7\" >0.23</td>\n",
              "                        <td id=\"T_1d518c24_451d_11eb_a60a_0242ac1c0002row15_col8\" class=\"data row15 col8\" >0.23</td>\n",
              "                        <td id=\"T_1d518c24_451d_11eb_a60a_0242ac1c0002row15_col9\" class=\"data row15 col9\" >0.31</td>\n",
              "                        <td id=\"T_1d518c24_451d_11eb_a60a_0242ac1c0002row15_col10\" class=\"data row15 col10\" >0.36</td>\n",
              "                        <td id=\"T_1d518c24_451d_11eb_a60a_0242ac1c0002row15_col11\" class=\"data row15 col11\" >0.04</td>\n",
              "                        <td id=\"T_1d518c24_451d_11eb_a60a_0242ac1c0002row15_col12\" class=\"data row15 col12\" >0.12</td>\n",
              "                        <td id=\"T_1d518c24_451d_11eb_a60a_0242ac1c0002row15_col13\" class=\"data row15 col13\" >0.15</td>\n",
              "                        <td id=\"T_1d518c24_451d_11eb_a60a_0242ac1c0002row15_col14\" class=\"data row15 col14\" >1.00</td>\n",
              "                        <td id=\"T_1d518c24_451d_11eb_a60a_0242ac1c0002row15_col15\" class=\"data row15 col15\" >1.00</td>\n",
              "                        <td id=\"T_1d518c24_451d_11eb_a60a_0242ac1c0002row15_col16\" class=\"data row15 col16\" >0.37</td>\n",
              "                        <td id=\"T_1d518c24_451d_11eb_a60a_0242ac1c0002row15_col17\" class=\"data row15 col17\" >0.20</td>\n",
              "            </tr>\n",
              "            <tr>\n",
              "                        <th id=\"T_1d518c24_451d_11eb_a60a_0242ac1c0002level0_row16\" class=\"row_heading level0 row16\" >Score</th>\n",
              "                        <td id=\"T_1d518c24_451d_11eb_a60a_0242ac1c0002row16_col0\" class=\"data row16 col0\" >-0.31</td>\n",
              "                        <td id=\"T_1d518c24_451d_11eb_a60a_0242ac1c0002row16_col1\" class=\"data row16 col1\" >0.07</td>\n",
              "                        <td id=\"T_1d518c24_451d_11eb_a60a_0242ac1c0002row16_col2\" class=\"data row16 col2\" >0.72</td>\n",
              "                        <td id=\"T_1d518c24_451d_11eb_a60a_0242ac1c0002row16_col3\" class=\"data row16 col3\" >0.77</td>\n",
              "                        <td id=\"T_1d518c24_451d_11eb_a60a_0242ac1c0002row16_col4\" class=\"data row16 col4\" >0.72</td>\n",
              "                        <td id=\"T_1d518c24_451d_11eb_a60a_0242ac1c0002row16_col5\" class=\"data row16 col5\" >0.82</td>\n",
              "                        <td id=\"T_1d518c24_451d_11eb_a60a_0242ac1c0002row16_col6\" class=\"data row16 col6\" >0.84</td>\n",
              "                        <td id=\"T_1d518c24_451d_11eb_a60a_0242ac1c0002row16_col7\" class=\"data row16 col7\" >0.46</td>\n",
              "                        <td id=\"T_1d518c24_451d_11eb_a60a_0242ac1c0002row16_col8\" class=\"data row16 col8\" >0.46</td>\n",
              "                        <td id=\"T_1d518c24_451d_11eb_a60a_0242ac1c0002row16_col9\" class=\"data row16 col9\" >0.68</td>\n",
              "                        <td id=\"T_1d518c24_451d_11eb_a60a_0242ac1c0002row16_col10\" class=\"data row16 col10\" >0.70</td>\n",
              "                        <td id=\"T_1d518c24_451d_11eb_a60a_0242ac1c0002row16_col11\" class=\"data row16 col11\" >0.28</td>\n",
              "                        <td id=\"T_1d518c24_451d_11eb_a60a_0242ac1c0002row16_col12\" class=\"data row16 col12\" >0.17</td>\n",
              "                        <td id=\"T_1d518c24_451d_11eb_a60a_0242ac1c0002row16_col13\" class=\"data row16 col13\" >0.17</td>\n",
              "                        <td id=\"T_1d518c24_451d_11eb_a60a_0242ac1c0002row16_col14\" class=\"data row16 col14\" >0.37</td>\n",
              "                        <td id=\"T_1d518c24_451d_11eb_a60a_0242ac1c0002row16_col15\" class=\"data row16 col15\" >0.37</td>\n",
              "                        <td id=\"T_1d518c24_451d_11eb_a60a_0242ac1c0002row16_col16\" class=\"data row16 col16\" >1.00</td>\n",
              "                        <td id=\"T_1d518c24_451d_11eb_a60a_0242ac1c0002row16_col17\" class=\"data row16 col17\" >0.86</td>\n",
              "            </tr>\n",
              "            <tr>\n",
              "                        <th id=\"T_1d518c24_451d_11eb_a60a_0242ac1c0002level0_row17\" class=\"row_heading level0 row17\" >Risk</th>\n",
              "                        <td id=\"T_1d518c24_451d_11eb_a60a_0242ac1c0002row17_col0\" class=\"data row17 col0\" >-0.37</td>\n",
              "                        <td id=\"T_1d518c24_451d_11eb_a60a_0242ac1c0002row17_col1\" class=\"data row17 col1\" >0.05</td>\n",
              "                        <td id=\"T_1d518c24_451d_11eb_a60a_0242ac1c0002row17_col2\" class=\"data row17 col2\" >0.65</td>\n",
              "                        <td id=\"T_1d518c24_451d_11eb_a60a_0242ac1c0002row17_col3\" class=\"data row17 col3\" >0.69</td>\n",
              "                        <td id=\"T_1d518c24_451d_11eb_a60a_0242ac1c0002row17_col4\" class=\"data row17 col4\" >0.46</td>\n",
              "                        <td id=\"T_1d518c24_451d_11eb_a60a_0242ac1c0002row17_col5\" class=\"data row17 col5\" >0.53</td>\n",
              "                        <td id=\"T_1d518c24_451d_11eb_a60a_0242ac1c0002row17_col6\" class=\"data row17 col6\" >0.69</td>\n",
              "                        <td id=\"T_1d518c24_451d_11eb_a60a_0242ac1c0002row17_col7\" class=\"data row17 col7\" >0.24</td>\n",
              "                        <td id=\"T_1d518c24_451d_11eb_a60a_0242ac1c0002row17_col8\" class=\"data row17 col8\" >0.24</td>\n",
              "                        <td id=\"T_1d518c24_451d_11eb_a60a_0242ac1c0002row17_col9\" class=\"data row17 col9\" >0.46</td>\n",
              "                        <td id=\"T_1d518c24_451d_11eb_a60a_0242ac1c0002row17_col10\" class=\"data row17 col10\" >0.45</td>\n",
              "                        <td id=\"T_1d518c24_451d_11eb_a60a_0242ac1c0002row17_col11\" class=\"data row17 col11\" >0.33</td>\n",
              "                        <td id=\"T_1d518c24_451d_11eb_a60a_0242ac1c0002row17_col12\" class=\"data row17 col12\" >0.13</td>\n",
              "                        <td id=\"T_1d518c24_451d_11eb_a60a_0242ac1c0002row17_col13\" class=\"data row17 col13\" >0.13</td>\n",
              "                        <td id=\"T_1d518c24_451d_11eb_a60a_0242ac1c0002row17_col14\" class=\"data row17 col14\" >0.20</td>\n",
              "                        <td id=\"T_1d518c24_451d_11eb_a60a_0242ac1c0002row17_col15\" class=\"data row17 col15\" >0.20</td>\n",
              "                        <td id=\"T_1d518c24_451d_11eb_a60a_0242ac1c0002row17_col16\" class=\"data row17 col16\" >0.86</td>\n",
              "                        <td id=\"T_1d518c24_451d_11eb_a60a_0242ac1c0002row17_col17\" class=\"data row17 col17\" >1.00</td>\n",
              "            </tr>\n",
              "    </tbody></table>"
            ],
            "text/plain": [
              "<pandas.io.formats.style.Styler at 0x7fcd35e3a898>"
            ]
          },
          "metadata": {
            "tags": []
          },
          "execution_count": 16
        }
      ]
    },
    {
      "cell_type": "markdown",
      "metadata": {
        "id": "YyM_3e_tiEYX"
      },
      "source": [
        "**Our observations:**\n",
        "\n",
        "* PARA_A is very highly correlated with SCORE_A and PARA_B is very highly correlated with SCORE_B. So we can assume that one variable is explained by the other and can therefore be left out when fitting the model. \n",
        "\n",
        "* The abovementioned variables also seem to have a very high correlation with TOTAL and we can therefore assume that it is derived from those variables. We will inspect those variables in more detail later.\n",
        "\n",
        "* We detect Risk as our dependent variable and see that Score is very highly correlated. Moreover, PARA_A, SCORE_A, PARA_B, SCORE_B, Money_Value and MONEY_Marks show high correlations, so we assume that they are relevant variables for our models. \n",
        "\n",
        "* Further, we can see a direct correlation between numbers and marks, Loss and LOSS_SCORE and History and History_Score. Moreover, a very high correlation between Money_Value and MONEY_MARKS can be observed. So we assume that one of them can be left out of the model respectively to avoid overfitting. \n",
        "\n",
        "* District and Location_ID seem to have very little correlation with any of the variables.\n",
        "\n",
        "* Score and Risk also have a high correlation and when looking at the case study, we see that Risk is directly derived from Score, so we decide to leave it out of our model as well.\n",
        "\n"
      ]
    },
    {
      "cell_type": "code",
      "metadata": {
        "colab": {
          "base_uri": "https://localhost:8080/",
          "height": 1000
        },
        "id": "eVP8Qm3RM9k6",
        "outputId": "11bb7130-8521-4fd5-de8a-75a7bd28cba3"
      },
      "source": [
        "#we look at the scatterplots of the variables that have high correlations to substantiate our decisions to drop variables\r\n",
        "audit_trial.plot.scatter(y='SCORE_A', x='PARA_A')\r\n",
        "audit_trial.plot.scatter(y='SCORE_B', x='PARA_B')\r\n",
        "audit_trial.plot.scatter(y='numbers', x='Marks')\r\n",
        "audit_trial.plot.scatter(y='LOSS_SCORE', x='Loss')\r\n",
        "audit_trial.plot.scatter(y='History_score', x='History')\r\n",
        "audit_trial.plot.scatter(y='Money_Value', x='MONEY_Marks')\r\n",
        "audit_trial.plot.scatter(y='Score', x='Risk')"
      ],
      "execution_count": null,
      "outputs": [
        {
          "output_type": "execute_result",
          "data": {
            "text/plain": [
              "<matplotlib.axes._subplots.AxesSubplot at 0x7fcd3415e7b8>"
            ]
          },
          "metadata": {
            "tags": []
          },
          "execution_count": 17
        },
        {
          "output_type": "display_data",
          "data": {
            "image/png": "[encoded data removed]",
            "text/plain": [
              "<Figure size 432x288 with 1 Axes>"
            ]
          },
          "metadata": {
            "tags": [],
            "needs_background": "light"
          }
        },
        {
          "output_type": "display_data",
          "data": {
            "image/png": "[encoded data removed]",
            "text/plain": [
              "<Figure size 432x288 with 1 Axes>"
            ]
          },
          "metadata": {
            "tags": [],
            "needs_background": "light"
          }
        },
        {
          "output_type": "display_data",
          "data": {
            "image/png": "[encoded data removed]",
            "text/plain": [
              "<Figure size 432x288 with 1 Axes>"
            ]
          },
          "metadata": {
            "tags": [],
            "needs_background": "light"
          }
        },
        {
          "output_type": "display_data",
          "data": {
            "image/png": "[encoded data removed]",
            "text/plain": [
              "<Figure size 432x288 with 1 Axes>"
            ]
          },
          "metadata": {
            "tags": [],
            "needs_background": "light"
          }
        },
        {
          "output_type": "display_data",
          "data": {
            "image/png": "[encoded data removed]",
            "text/plain": [
              "<Figure size 432x288 with 1 Axes>"
            ]
          },
          "metadata": {
            "tags": [],
            "needs_background": "light"
          }
        },
        {
          "output_type": "display_data",
          "data": {
            "image/png": "[encoded data removed]",
            "text/plain": [
              "<Figure size 432x288 with 1 Axes>"
            ]
          },
          "metadata": {
            "tags": [],
            "needs_background": "light"
          }
        },
        {
          "output_type": "display_data",
          "data": {
            "image/png": "[encoded data removed]",
            "text/plain": [
              "<Figure size 432x288 with 1 Axes>"
            ]
          },
          "metadata": {
            "tags": [],
            "needs_background": "light"
          }
        }
      ]
    },
    {
      "cell_type": "code",
      "metadata": {
        "colab": {
          "base_uri": "https://localhost:8080/",
          "height": 202
        },
        "id": "Kx-qRCcUGv9l",
        "outputId": "48080837-62ae-4c7a-aeea-2da0d8c0b434"
      },
      "source": [
        "#further inspection of the relationships of variables\r\n",
        "audit_trial[['PARA_A', 'SCORE_A', 'PARA_B', 'SCORE_B', 'TOTAL']].head()"
      ],
      "execution_count": null,
      "outputs": [
        {
          "output_type": "execute_result",
          "data": {
            "text/html": [
              "<div>\n",
              "<style scoped>\n",
              "    .dataframe tbody tr th:only-of-type {\n",
              "        vertical-align: middle;\n",
              "    }\n",
              "\n",
              "    .dataframe tbody tr th {\n",
              "        vertical-align: top;\n",
              "    }\n",
              "\n",
              "    .dataframe thead th {\n",
              "        text-align: right;\n",
              "    }\n",
              "</style>\n",
              "<table border=\"1\" class=\"dataframe\">\n",
              "  <thead>\n",
              "    <tr style=\"text-align: right;\">\n",
              "      <th></th>\n",
              "      <th>PARA_A</th>\n",
              "      <th>SCORE_A</th>\n",
              "      <th>PARA_B</th>\n",
              "      <th>SCORE_B</th>\n",
              "      <th>TOTAL</th>\n",
              "    </tr>\n",
              "  </thead>\n",
              "  <tbody>\n",
              "    <tr>\n",
              "      <th>0</th>\n",
              "      <td>4.18</td>\n",
              "      <td>6.0</td>\n",
              "      <td>2.50</td>\n",
              "      <td>2.0</td>\n",
              "      <td>6.68</td>\n",
              "    </tr>\n",
              "    <tr>\n",
              "      <th>1</th>\n",
              "      <td>0.00</td>\n",
              "      <td>2.0</td>\n",
              "      <td>4.83</td>\n",
              "      <td>2.0</td>\n",
              "      <td>4.83</td>\n",
              "    </tr>\n",
              "    <tr>\n",
              "      <th>2</th>\n",
              "      <td>0.51</td>\n",
              "      <td>2.0</td>\n",
              "      <td>0.23</td>\n",
              "      <td>2.0</td>\n",
              "      <td>0.74</td>\n",
              "    </tr>\n",
              "    <tr>\n",
              "      <th>3</th>\n",
              "      <td>0.00</td>\n",
              "      <td>2.0</td>\n",
              "      <td>10.80</td>\n",
              "      <td>6.0</td>\n",
              "      <td>10.80</td>\n",
              "    </tr>\n",
              "    <tr>\n",
              "      <th>4</th>\n",
              "      <td>0.00</td>\n",
              "      <td>2.0</td>\n",
              "      <td>0.08</td>\n",
              "      <td>2.0</td>\n",
              "      <td>0.08</td>\n",
              "    </tr>\n",
              "  </tbody>\n",
              "</table>\n",
              "</div>"
            ],
            "text/plain": [
              "   PARA_A  SCORE_A  PARA_B  SCORE_B  TOTAL\n",
              "0    4.18      6.0    2.50      2.0   6.68\n",
              "1    0.00      2.0    4.83      2.0   4.83\n",
              "2    0.51      2.0    0.23      2.0   0.74\n",
              "3    0.00      2.0   10.80      6.0  10.80\n",
              "4    0.00      2.0    0.08      2.0   0.08"
            ]
          },
          "metadata": {
            "tags": []
          },
          "execution_count": 18
        }
      ]
    },
    {
      "cell_type": "markdown",
      "metadata": {
        "id": "6fvPpxxdHMVt"
      },
      "source": [
        "We see that TOTAL is only a sum of PARA_A and PARA_B and has little meaning by itself, therefore we can delete it."
      ]
    },
    {
      "cell_type": "code",
      "metadata": {
        "id": "sMCcQjdZZDZL"
      },
      "source": [
        "#deleting all variables that have high correlations and would lead to overfitting of the model\r\n",
        "cols_del=['SCORE_A', 'SCORE_B','Marks','MONEY_Marks','LOSS_SCORE','History_score', 'Score', 'TOTAL', 'LOCATION_ID']\r\n",
        "\r\n",
        "audit_trial.drop(cols_del, axis=1, inplace=True)"
      ],
      "execution_count": null,
      "outputs": []
    },
    {
      "cell_type": "code",
      "metadata": {
        "colab": {
          "base_uri": "https://localhost:8080/",
          "height": 294
        },
        "id": "8EsLW13q3eXV",
        "outputId": "fc204053-ec58-4bac-a9c5-c11ed2eee132"
      },
      "source": [
        "#we derive our final data set that we will use for modelling\r\n",
        "audit_trial.describe().round(3)"
      ],
      "execution_count": null,
      "outputs": [
        {
          "output_type": "execute_result",
          "data": {
            "text/html": [
              "<div>\n",
              "<style scoped>\n",
              "    .dataframe tbody tr th:only-of-type {\n",
              "        vertical-align: middle;\n",
              "    }\n",
              "\n",
              "    .dataframe tbody tr th {\n",
              "        vertical-align: top;\n",
              "    }\n",
              "\n",
              "    .dataframe thead th {\n",
              "        text-align: right;\n",
              "    }\n",
              "</style>\n",
              "<table border=\"1\" class=\"dataframe\">\n",
              "  <thead>\n",
              "    <tr style=\"text-align: right;\">\n",
              "      <th></th>\n",
              "      <th>Sector_score</th>\n",
              "      <th>PARA_A</th>\n",
              "      <th>PARA_B</th>\n",
              "      <th>numbers</th>\n",
              "      <th>Money_Value</th>\n",
              "      <th>District</th>\n",
              "      <th>Loss</th>\n",
              "      <th>History</th>\n",
              "      <th>Risk</th>\n",
              "    </tr>\n",
              "  </thead>\n",
              "  <tbody>\n",
              "    <tr>\n",
              "      <th>count</th>\n",
              "      <td>772.000</td>\n",
              "      <td>772.000</td>\n",
              "      <td>772.000</td>\n",
              "      <td>772.000</td>\n",
              "      <td>772.000</td>\n",
              "      <td>772.000</td>\n",
              "      <td>772.000</td>\n",
              "      <td>772.000</td>\n",
              "      <td>772.000</td>\n",
              "    </tr>\n",
              "    <tr>\n",
              "      <th>mean</th>\n",
              "      <td>20.209</td>\n",
              "      <td>2.461</td>\n",
              "      <td>10.856</td>\n",
              "      <td>5.068</td>\n",
              "      <td>14.191</td>\n",
              "      <td>2.508</td>\n",
              "      <td>0.030</td>\n",
              "      <td>0.105</td>\n",
              "      <td>0.630</td>\n",
              "    </tr>\n",
              "    <tr>\n",
              "      <th>std</th>\n",
              "      <td>24.322</td>\n",
              "      <td>5.692</td>\n",
              "      <td>50.207</td>\n",
              "      <td>0.265</td>\n",
              "      <td>66.730</td>\n",
              "      <td>1.231</td>\n",
              "      <td>0.185</td>\n",
              "      <td>0.532</td>\n",
              "      <td>0.483</td>\n",
              "    </tr>\n",
              "    <tr>\n",
              "      <th>min</th>\n",
              "      <td>1.850</td>\n",
              "      <td>0.000</td>\n",
              "      <td>0.000</td>\n",
              "      <td>5.000</td>\n",
              "      <td>0.000</td>\n",
              "      <td>2.000</td>\n",
              "      <td>0.000</td>\n",
              "      <td>0.000</td>\n",
              "      <td>0.000</td>\n",
              "    </tr>\n",
              "    <tr>\n",
              "      <th>25%</th>\n",
              "      <td>2.370</td>\n",
              "      <td>0.208</td>\n",
              "      <td>0.000</td>\n",
              "      <td>5.000</td>\n",
              "      <td>0.000</td>\n",
              "      <td>2.000</td>\n",
              "      <td>0.000</td>\n",
              "      <td>0.000</td>\n",
              "      <td>0.000</td>\n",
              "    </tr>\n",
              "    <tr>\n",
              "      <th>50%</th>\n",
              "      <td>3.890</td>\n",
              "      <td>0.880</td>\n",
              "      <td>0.415</td>\n",
              "      <td>5.000</td>\n",
              "      <td>0.090</td>\n",
              "      <td>2.000</td>\n",
              "      <td>0.000</td>\n",
              "      <td>0.000</td>\n",
              "      <td>1.000</td>\n",
              "    </tr>\n",
              "    <tr>\n",
              "      <th>75%</th>\n",
              "      <td>55.570</td>\n",
              "      <td>2.482</td>\n",
              "      <td>4.170</td>\n",
              "      <td>5.000</td>\n",
              "      <td>5.630</td>\n",
              "      <td>2.000</td>\n",
              "      <td>0.000</td>\n",
              "      <td>0.000</td>\n",
              "      <td>1.000</td>\n",
              "    </tr>\n",
              "    <tr>\n",
              "      <th>max</th>\n",
              "      <td>59.850</td>\n",
              "      <td>85.000</td>\n",
              "      <td>1264.630</td>\n",
              "      <td>9.000</td>\n",
              "      <td>935.030</td>\n",
              "      <td>6.000</td>\n",
              "      <td>2.000</td>\n",
              "      <td>9.000</td>\n",
              "      <td>1.000</td>\n",
              "    </tr>\n",
              "  </tbody>\n",
              "</table>\n",
              "</div>"
            ],
            "text/plain": [
              "       Sector_score   PARA_A    PARA_B  ...     Loss  History     Risk\n",
              "count       772.000  772.000   772.000  ...  772.000  772.000  772.000\n",
              "mean         20.209    2.461    10.856  ...    0.030    0.105    0.630\n",
              "std          24.322    5.692    50.207  ...    0.185    0.532    0.483\n",
              "min           1.850    0.000     0.000  ...    0.000    0.000    0.000\n",
              "25%           2.370    0.208     0.000  ...    0.000    0.000    0.000\n",
              "50%           3.890    0.880     0.415  ...    0.000    0.000    1.000\n",
              "75%          55.570    2.482     4.170  ...    0.000    0.000    1.000\n",
              "max          59.850   85.000  1264.630  ...    2.000    9.000    1.000\n",
              "\n",
              "[8 rows x 9 columns]"
            ]
          },
          "metadata": {
            "tags": []
          },
          "execution_count": 20
        }
      ]
    },
    {
      "cell_type": "markdown",
      "metadata": {
        "id": "QTpSrHiTWfEo"
      },
      "source": [
        "## *Defining independent variables and train-test split*"
      ]
    },
    {
      "cell_type": "code",
      "metadata": {
        "id": "PF_14Hp6MJ6Q"
      },
      "source": [
        "# defining dependent and independent variable\r\n",
        "xnames = ['Sector_score','PARA_A','PARA_B','numbers','Money_Value','District','Loss','History']\r\n",
        "yname = 'Risk'"
      ],
      "execution_count": null,
      "outputs": []
    },
    {
      "cell_type": "code",
      "metadata": {
        "colab": {
          "base_uri": "https://localhost:8080/"
        },
        "id": "h7WzPJo01COW",
        "outputId": "5c083a7f-d987-4241-a3d3-b1b0d6663e00"
      },
      "source": [
        "#Train-Test Split by using a classic 70:30 split\r\n",
        "from sklearn.model_selection import train_test_split\r\n",
        "\r\n",
        "X = audit_trial[xnames]\r\n",
        "y = audit_trial[yname]\r\n",
        "X_train, X_test, y_train, y_test = train_test_split(X, y, test_size=0.3, random_state=42)\r\n",
        "print(X_train.shape, X_test.shape)"
      ],
      "execution_count": null,
      "outputs": [
        {
          "output_type": "stream",
          "text": [
            "(540, 8) (232, 8)\n"
          ],
          "name": "stdout"
        }
      ]
    },
    {
      "cell_type": "markdown",
      "metadata": {
        "id": "Pk7A-IwOulde"
      },
      "source": [
        "#Logistic Regression\n",
        "\n"
      ]
    },
    {
      "cell_type": "code",
      "metadata": {
        "colab": {
          "base_uri": "https://localhost:8080/",
          "height": 597
        },
        "id": "BxM7syQ6w7o1",
        "outputId": "861fe035-61af-4c1a-eb07-a117bf8de9c5"
      },
      "source": [
        "standard_scaler=StandardScaler()\n",
        "X_train=standard_scaler.fit_transform(X_train)\n",
        "X_test=standard_scaler.transform(X_test)\n",
        "\n",
        "x2=pd.DataFrame(X_train)\n",
        "plt.figure(figsize=(15,10))\n",
        "sns.boxplot(data = x2)\n",
        "plt.ylim(-1,2.5)"
      ],
      "execution_count": null,
      "outputs": [
        {
          "output_type": "execute_result",
          "data": {
            "text/plain": [
              "(-1.0, 2.5)"
            ]
          },
          "metadata": {
            "tags": []
          },
          "execution_count": 23
        },
        {
          "output_type": "display_data",
          "data": {
            "image/png": "[encoded data removed]",
            "text/plain": [
              "<Figure size 1080x720 with 1 Axes>"
            ]
          },
          "metadata": {
            "tags": [],
            "needs_background": "light"
          }
        }
      ]
    },
    {
      "cell_type": "code",
      "metadata": {
        "id": "aYuW_L71xGIP"
      },
      "source": [
        "# instantiate the model (using the default parameters)\n",
        "logreg = LogisticRegression()\n",
        "\n",
        "# fit the model with data\n",
        "logreg.fit(X_train,y_train)\n",
        "\n",
        "#\n",
        "y_pred_log=logreg.predict(X_test)"
      ],
      "execution_count": null,
      "outputs": []
    },
    {
      "cell_type": "code",
      "metadata": {
        "colab": {
          "base_uri": "https://localhost:8080/"
        },
        "id": "DZ2ipevdxYtA",
        "outputId": "c0d862c3-1f5d-4865-97e3-558d9e13c6f9"
      },
      "source": [
        "logreg.score(X_train, y_train), logreg.score(X_test, y_test)"
      ],
      "execution_count": null,
      "outputs": [
        {
          "output_type": "execute_result",
          "data": {
            "text/plain": [
              "(0.9351851851851852, 0.9267241379310345)"
            ]
          },
          "metadata": {
            "tags": []
          },
          "execution_count": 25
        }
      ]
    },
    {
      "cell_type": "code",
      "metadata": {
        "colab": {
          "base_uri": "https://localhost:8080/"
        },
        "id": "y6jsYf-Axz1o",
        "outputId": "35a86d51-e503-41c5-ffc5-e40eb3761616"
      },
      "source": [
        "cnf_matrix_log = metrics.confusion_matrix(y_test, y_pred_log)\n",
        "cnf_matrix_log"
      ],
      "execution_count": null,
      "outputs": [
        {
          "output_type": "execute_result",
          "data": {
            "text/plain": [
              "array([[ 76,   0],\n",
              "       [ 17, 139]])"
            ]
          },
          "metadata": {
            "tags": []
          },
          "execution_count": 26
        }
      ]
    },
    {
      "cell_type": "code",
      "metadata": {
        "colab": {
          "base_uri": "https://localhost:8080/",
          "height": 343
        },
        "id": "xFG1uD7zx-xF",
        "outputId": "ec7ba555-e579-4759-f9e8-2c7e9349011b"
      },
      "source": [
        "class_names=[0,1] # name  of classes\n",
        "fig, ax = plt.subplots()\n",
        "tick_marks = np.arange(len(class_names))\n",
        "plt.xticks(tick_marks, class_names)\n",
        "plt.yticks(tick_marks, class_names)\n",
        "# create heatmap\n",
        "sns.heatmap(pd.DataFrame(cnf_matrix_log), annot=True, cmap=\"YlGnBu\" ,fmt='g')\n",
        "ax.xaxis.set_label_position(\"top\")\n",
        "plt.tight_layout()\n",
        "plt.title('Confusion matrix', y=1.1)\n",
        "plt.ylabel('Actual label')\n",
        "plt.xlabel('Predicted label')"
      ],
      "execution_count": null,
      "outputs": [
        {
          "output_type": "execute_result",
          "data": {
            "text/plain": [
              "Text(0.5, 257.44, 'Predicted label')"
            ]
          },
          "metadata": {
            "tags": []
          },
          "execution_count": 27
        },
        {
          "output_type": "display_data",
          "data": {
            "image/png": "[encoded data removed]",
            "text/plain": [
              "<Figure size 432x288 with 2 Axes>"
            ]
          },
          "metadata": {
            "tags": [],
            "needs_background": "light"
          }
        }
      ]
    },
    {
      "cell_type": "code",
      "metadata": {
        "colab": {
          "base_uri": "https://localhost:8080/"
        },
        "id": "SCiGalVgyDWq",
        "outputId": "1a3edc8b-6a35-4f00-8439-e0a809babc7d"
      },
      "source": [
        "print(\"Accuracy:\",metrics.accuracy_score(y_test, y_pred_log))\n",
        "print(\"Precision:\",metrics.precision_score(y_test, y_pred_log))\n",
        "print(\"Recall:\",metrics.recall_score(y_test, y_pred_log))"
      ],
      "execution_count": null,
      "outputs": [
        {
          "output_type": "stream",
          "text": [
            "Accuracy: 0.9267241379310345\n",
            "Precision: 1.0\n",
            "Recall: 0.8910256410256411\n"
          ],
          "name": "stdout"
        }
      ]
    },
    {
      "cell_type": "code",
      "metadata": {
        "colab": {
          "base_uri": "https://localhost:8080/"
        },
        "id": "xl8Vqqo9yc4c",
        "outputId": "1d47cb95-58bf-4ff0-b7c1-4ca48783cd72"
      },
      "source": [
        "print(classification_report(y_test, y_pred_log))"
      ],
      "execution_count": null,
      "outputs": [
        {
          "output_type": "stream",
          "text": [
            "              precision    recall  f1-score   support\n",
            "\n",
            "         0.0       0.82      1.00      0.90        76\n",
            "         1.0       1.00      0.89      0.94       156\n",
            "\n",
            "    accuracy                           0.93       232\n",
            "   macro avg       0.91      0.95      0.92       232\n",
            "weighted avg       0.94      0.93      0.93       232\n",
            "\n"
          ],
          "name": "stdout"
        }
      ]
    },
    {
      "cell_type": "code",
      "metadata": {
        "colab": {
          "base_uri": "https://localhost:8080/",
          "height": 295
        },
        "id": "yy6dTOoxoXdN",
        "outputId": "62713506-0bb3-4ff5-ef95-57bc0dd55a42"
      },
      "source": [
        "y_pred_proba_logreg = logreg.predict_proba(X_test)[:,1]\n",
        "fpr, tpr, thresholds = roc_curve(y_test, y_pred_proba_logreg)\n",
        "\n",
        "\n",
        "logreg_roc_auc = roc_auc_score(y_test, logreg.predict(X_test))\n",
        "fpr, tpr, thresholds = roc_curve(y_test, logreg.predict_proba(X_test)[:,1])\n",
        "plt.figure()\n",
        "plt.plot(fpr, tpr, label='Logistic Regression' '(area = %0.2f)' % logreg_roc_auc)\n",
        "plt.plot([0,1],[0,1],'k--')\n",
        "plt.xlabel('False Positive Rate')\n",
        "plt.ylabel('True Positive Rate')\n",
        "plt.title('Logistic Regression ROC curve')\n",
        "plt.legend(loc=\"lower right\")\n",
        "plt.savefig('Logistic Regression_ROC')\n",
        "plt.show()"
      ],
      "execution_count": null,
      "outputs": [
        {
          "output_type": "display_data",
          "data": {
            "image/png": "[encoded data removed]",
            "text/plain": [
              "<Figure size 432x288 with 1 Axes>"
            ]
          },
          "metadata": {
            "tags": [],
            "needs_background": "light"
          }
        }
      ]
    },
    {
      "cell_type": "markdown",
      "metadata": {
        "id": "YOciAS5hysrG"
      },
      "source": [
        "**Now optimizing the model with GridSearchCV**"
      ]
    },
    {
      "cell_type": "code",
      "metadata": {
        "colab": {
          "base_uri": "https://localhost:8080/"
        },
        "id": "aeZE4DJnA_7F",
        "outputId": "9962d953-f884-4f32-b32c-acb77ea5b928"
      },
      "source": [
        "# Setup the hyperparameter grid\n",
        "c_space = np.logspace(-5, 8, 15)\n",
        "param_grid = [\n",
        "              {'penalty' : ['l1', 'l2', 'elasticnet', 'none'],\n",
        "               'C': c_space, \n",
        "               'solver':['lbfgs', 'newton-cg','liblinear','sag','saga'],\n",
        "               'max_iter' : [100,1000,2500,5000]\n",
        "               }\n",
        "]\n",
        "\n",
        "# Instantiate the GridSearchCV object: logreg_cv\n",
        "logreg_cv = GridSearchCV(logreg, param_grid, cv=5, verbose=True, n_jobs=-1)\n",
        "\n",
        "# fit the model with data\n",
        "logreg_cv.fit(X_train,y_train)\n",
        "\n",
        "# Print the tuned parameter and score\n",
        "print(\"Tuned Logistic Regression Parameters: {}\".format(logreg_cv.best_params_))\n",
        "print(\"Best score is {}\".format(logreg_cv.best_score_))"
      ],
      "execution_count": null,
      "outputs": [
        {
          "output_type": "stream",
          "text": [
            "Fitting 5 folds for each of 1200 candidates, totalling 6000 fits\n"
          ],
          "name": "stdout"
        },
        {
          "output_type": "stream",
          "text": [
            "[Parallel(n_jobs=-1)]: Using backend LokyBackend with 2 concurrent workers.\n",
            "[Parallel(n_jobs=-1)]: Done 460 tasks      | elapsed:    7.4s\n",
            "[Parallel(n_jobs=-1)]: Done 2472 tasks      | elapsed:   37.8s\n",
            "[Parallel(n_jobs=-1)]: Done 3242 tasks      | elapsed:  4.9min\n",
            "[Parallel(n_jobs=-1)]: Done 4233 tasks      | elapsed: 14.0min\n",
            "[Parallel(n_jobs=-1)]: Done 5448 tasks      | elapsed: 25.2min\n"
          ],
          "name": "stderr"
        },
        {
          "output_type": "stream",
          "text": [
            "Tuned Logistic Regression Parameters: {'C': 1e-05, 'max_iter': 100, 'penalty': 'none', 'solver': 'lbfgs'}\n",
            "Best score is 0.9685185185185186\n"
          ],
          "name": "stdout"
        },
        {
          "output_type": "stream",
          "text": [
            "[Parallel(n_jobs=-1)]: Done 6000 out of 6000 | elapsed: 31.7min finished\n"
          ],
          "name": "stderr"
        }
      ]
    },
    {
      "cell_type": "code",
      "metadata": {
        "id": "cQKUnaynCHfL"
      },
      "source": [
        "y_pred_cv=logreg_cv.predict(X_test)"
      ],
      "execution_count": null,
      "outputs": []
    },
    {
      "cell_type": "code",
      "metadata": {
        "id": "Tpb0o-KCBunM",
        "colab": {
          "base_uri": "https://localhost:8080/"
        },
        "outputId": "d03f129b-8bfb-4bc1-854d-e173b6fea45f"
      },
      "source": [
        "logreg_cv.score(X_train, y_train), logreg_cv.score(X_test, y_test)"
      ],
      "execution_count": null,
      "outputs": [
        {
          "output_type": "execute_result",
          "data": {
            "text/plain": [
              "(0.9703703703703703, 0.9353448275862069)"
            ]
          },
          "metadata": {
            "tags": []
          },
          "execution_count": 33
        }
      ]
    },
    {
      "cell_type": "code",
      "metadata": {
        "id": "vAzg5X-VCMsW",
        "colab": {
          "base_uri": "https://localhost:8080/"
        },
        "outputId": "88a89165-c2c3-4789-b4f1-ab4c9e4676fc"
      },
      "source": [
        "cnf_matrix_cv = metrics.confusion_matrix(y_test, y_pred_cv)\n",
        "cnf_matrix_cv"
      ],
      "execution_count": null,
      "outputs": [
        {
          "output_type": "execute_result",
          "data": {
            "text/plain": [
              "array([[ 68,   8],\n",
              "       [  7, 149]])"
            ]
          },
          "metadata": {
            "tags": []
          },
          "execution_count": 34
        }
      ]
    },
    {
      "cell_type": "code",
      "metadata": {
        "id": "vJOrKSodCQDl",
        "colab": {
          "base_uri": "https://localhost:8080/",
          "height": 343
        },
        "outputId": "91c36e0c-9c73-4281-c94f-8461c85207f1"
      },
      "source": [
        "class_names=[0,1] # name  of classes\n",
        "fig, ax = plt.subplots()\n",
        "tick_marks = np.arange(len(class_names))\n",
        "plt.xticks(tick_marks, class_names)\n",
        "plt.yticks(tick_marks, class_names)\n",
        "# create heatmap\n",
        "sns.heatmap(pd.DataFrame(cnf_matrix_cv), annot=True, cmap=\"YlGnBu\" ,fmt='g')\n",
        "ax.xaxis.set_label_position(\"top\")\n",
        "plt.tight_layout()\n",
        "plt.title('Confusion Matrix Logistic Regression CV', y=1.1)\n",
        "plt.ylabel('Actual label')\n",
        "plt.xlabel('Predicted label')"
      ],
      "execution_count": null,
      "outputs": [
        {
          "output_type": "execute_result",
          "data": {
            "text/plain": [
              "Text(0.5, 257.44, 'Predicted label')"
            ]
          },
          "metadata": {
            "tags": []
          },
          "execution_count": 102
        },
        {
          "output_type": "display_data",
          "data": {
            "image/png": "[encoded data removed]",
            "text/plain": [
              "<Figure size 432x288 with 2 Axes>"
            ]
          },
          "metadata": {
            "tags": [],
            "needs_background": "light"
          }
        }
      ]
    },
    {
      "cell_type": "code",
      "metadata": {
        "id": "scCv9JUrCU0N",
        "colab": {
          "base_uri": "https://localhost:8080/"
        },
        "outputId": "659f0424-7905-476e-c19b-e42d3ceba6af"
      },
      "source": [
        "print(\"Accuracy:\",metrics.accuracy_score(y_test, y_pred_cv))\n",
        "print(\"Precision:\",metrics.precision_score(y_test, y_pred_cv))\n",
        "print(\"Recall:\",metrics.recall_score(y_test, y_pred_cv))"
      ],
      "execution_count": null,
      "outputs": [
        {
          "output_type": "stream",
          "text": [
            "Accuracy: 0.9353448275862069\n",
            "Precision: 0.9490445859872612\n",
            "Recall: 0.9551282051282052\n"
          ],
          "name": "stdout"
        }
      ]
    },
    {
      "cell_type": "code",
      "metadata": {
        "id": "cMdt-z2RCd1H",
        "colab": {
          "base_uri": "https://localhost:8080/"
        },
        "outputId": "095e5353-e852-43f5-e99f-ffa33a6d84a0"
      },
      "source": [
        "print(classification_report(y_test, y_pred_cv))"
      ],
      "execution_count": null,
      "outputs": [
        {
          "output_type": "stream",
          "text": [
            "              precision    recall  f1-score   support\n",
            "\n",
            "         0.0       0.91      0.89      0.90        76\n",
            "         1.0       0.95      0.96      0.95       156\n",
            "\n",
            "    accuracy                           0.94       232\n",
            "   macro avg       0.93      0.92      0.93       232\n",
            "weighted avg       0.94      0.94      0.94       232\n",
            "\n"
          ],
          "name": "stdout"
        }
      ]
    },
    {
      "cell_type": "code",
      "metadata": {
        "id": "mdTbQjPjkiXt",
        "colab": {
          "base_uri": "https://localhost:8080/",
          "height": 295
        },
        "outputId": "2d118546-6c64-4452-fd46-40cd3d46584f"
      },
      "source": [
        "y_pred_proba_cv = logreg_cv.predict_proba(X_test)[::,1]\n",
        "fpr, tpr, _ = metrics.roc_curve(y_test,  y_pred_proba_cv)\n",
        "\n",
        "logreg_cv_roc_auc = metrics.roc_auc_score(y_test, y_pred_proba_cv)\n",
        "fpr, tpr, thresholds = roc_curve(y_test, logreg_cv.predict_proba(X_test)[:,1])\n",
        "plt.figure()\n",
        "plt.plot(fpr, tpr, label='Logistic Regression CV' '(area = %0.2f)' % logreg_cv_roc_auc)\n",
        "plt.plot([0,1],[0,1],'k--')\n",
        "plt.xlabel('False Positive Rate')\n",
        "plt.ylabel('True Positive Rate')\n",
        "plt.title('Logistic Regression ROC CV curve')\n",
        "plt.legend(loc=\"lower right\")\n",
        "plt.savefig('Logistic Regression CV ROC')\n",
        "plt.show()"
      ],
      "execution_count": null,
      "outputs": [
        {
          "output_type": "display_data",
          "data": {
            "image/png": "[encoded data removed]",
            "text/plain": [
              "<Figure size 432x288 with 1 Axes>"
            ]
          },
          "metadata": {
            "tags": [],
            "needs_background": "light"
          }
        }
      ]
    },
    {
      "cell_type": "code",
      "metadata": {
        "colab": {
          "base_uri": "https://localhost:8080/",
          "height": 330
        },
        "id": "kveh287q7BuK",
        "outputId": "bc9cbc3f-5635-413d-e5ec-a1e31c752b67"
      },
      "source": [
        "y_score_lr = logreg_cv.predict_proba(X_test)[:,-1]\r\n",
        "\r\n",
        "average_precision = average_precision_score(y_test, y_score_lr)\r\n",
        "\r\n",
        "print('Average precision-recall score RF: {}'.format(average_precision))\r\n",
        "\r\n",
        "precision, recall, _ = precision_recall_curve(y_test, y_score_lr)\r\n",
        "\r\n",
        "plt.step(recall, precision, color='b', alpha=0.2,\r\n",
        "         where='post')\r\n",
        "plt.fill_between(recall, precision, step='post', alpha=0.2,\r\n",
        "                 color='b')\r\n",
        "\r\n",
        "plt.xlabel('Recall')\r\n",
        "plt.ylabel('Precision')\r\n",
        "plt.ylim([0.0, 1.05])\r\n",
        "plt.xlim([0.0, 1.0])\r\n",
        "plt.title('2-class Precision-Recall curve Logistic Regression CV: AP={0:0.2f}'.format(\r\n",
        "          average_precision))"
      ],
      "execution_count": null,
      "outputs": [
        {
          "output_type": "stream",
          "text": [
            "Average precision-recall score RF: 0.9937027428898785\n"
          ],
          "name": "stdout"
        },
        {
          "output_type": "execute_result",
          "data": {
            "text/plain": [
              "Text(0.5, 1.0, '2-class Precision-Recall curve Logistic Regression CV: AP=0.99')"
            ]
          },
          "metadata": {
            "tags": []
          },
          "execution_count": 136
        },
        {
          "output_type": "display_data",
          "data": {
            "image/png": "[encoded data removed]",
            "text/plain": [
              "<Figure size 432x288 with 1 Axes>"
            ]
          },
          "metadata": {
            "tags": [],
            "needs_background": "light"
          }
        }
      ]
    },
    {
      "cell_type": "code",
      "metadata": {
        "id": "hSAwwx7Iqo2H",
        "colab": {
          "base_uri": "https://localhost:8080/",
          "height": 466
        },
        "outputId": "59552526-79e0-4d60-9a91-d1ff41ea9ad8"
      },
      "source": [
        "feature_importance = abs(logreg.coef_[0])\r\n",
        "feature_importance = 100.0 * (feature_importance / feature_importance.max())\r\n",
        "sorted_idx = np.argsort(feature_importance)\r\n",
        "pos = np.arange(sorted_idx.shape[0]) + .5\r\n",
        "\r\n",
        "featfig = plt.figure()\r\n",
        "featax = featfig.add_subplot(1, 1, 1)\r\n",
        "featax.barh(pos, feature_importance[sorted_idx], align='center')\r\n",
        "featax.set_yticks(pos)\r\n",
        "featax.set_yticklabels(np.array(X.columns)[sorted_idx], fontsize=8)\r\n",
        "featax.set_xlabel('Relative Feature Importance')"
      ],
      "execution_count": null,
      "outputs": [
        {
          "output_type": "error",
          "ename": "AttributeError",
          "evalue": "ignored",
          "traceback": [
            "\u001b[0;31m---------------------------------------------------------------------------\u001b[0m",
            "\u001b[0;31mAttributeError\u001b[0m                            Traceback (most recent call last)",
            "\u001b[0;32m<ipython-input-137-2606b5281238>\u001b[0m in \u001b[0;36m<module>\u001b[0;34m()\u001b[0m\n\u001b[1;32m      8\u001b[0m \u001b[0mfeatax\u001b[0m\u001b[0;34m.\u001b[0m\u001b[0mbarh\u001b[0m\u001b[0;34m(\u001b[0m\u001b[0mpos\u001b[0m\u001b[0;34m,\u001b[0m \u001b[0mfeature_importance\u001b[0m\u001b[0;34m[\u001b[0m\u001b[0msorted_idx\u001b[0m\u001b[0;34m]\u001b[0m\u001b[0;34m,\u001b[0m \u001b[0malign\u001b[0m\u001b[0;34m=\u001b[0m\u001b[0;34m'center'\u001b[0m\u001b[0;34m)\u001b[0m\u001b[0;34m\u001b[0m\u001b[0;34m\u001b[0m\u001b[0m\n\u001b[1;32m      9\u001b[0m \u001b[0mfeatax\u001b[0m\u001b[0;34m.\u001b[0m\u001b[0mset_yticks\u001b[0m\u001b[0;34m(\u001b[0m\u001b[0mpos\u001b[0m\u001b[0;34m)\u001b[0m\u001b[0;34m\u001b[0m\u001b[0;34m\u001b[0m\u001b[0m\n\u001b[0;32m---> 10\u001b[0;31m \u001b[0mfeatax\u001b[0m\u001b[0;34m.\u001b[0m\u001b[0mset_yticklabels\u001b[0m\u001b[0;34m(\u001b[0m\u001b[0mnp\u001b[0m\u001b[0;34m.\u001b[0m\u001b[0marray\u001b[0m\u001b[0;34m(\u001b[0m\u001b[0mX\u001b[0m\u001b[0;34m.\u001b[0m\u001b[0mcolumns\u001b[0m\u001b[0;34m)\u001b[0m\u001b[0;34m[\u001b[0m\u001b[0msorted_idx\u001b[0m\u001b[0;34m]\u001b[0m\u001b[0;34m,\u001b[0m \u001b[0mfontsize\u001b[0m\u001b[0;34m=\u001b[0m\u001b[0;36m8\u001b[0m\u001b[0;34m)\u001b[0m\u001b[0;34m\u001b[0m\u001b[0;34m\u001b[0m\u001b[0m\n\u001b[0m\u001b[1;32m     11\u001b[0m \u001b[0mfeatax\u001b[0m\u001b[0;34m.\u001b[0m\u001b[0mset_xlabel\u001b[0m\u001b[0;34m(\u001b[0m\u001b[0;34m'Relative Feature Importance'\u001b[0m\u001b[0;34m)\u001b[0m\u001b[0;34m\u001b[0m\u001b[0;34m\u001b[0m\u001b[0m\n",
            "\u001b[0;31mAttributeError\u001b[0m: 'numpy.ndarray' object has no attribute 'columns'"
          ]
        },
        {
          "output_type": "display_data",
          "data": {
            "image/png": "[encoded data removed]",
            "text/plain": [
              "<Figure size 432x288 with 1 Axes>"
            ]
          },
          "metadata": {
            "tags": [],
            "needs_background": "light"
          }
        }
      ]
    },
    {
      "cell_type": "markdown",
      "metadata": {
        "id": "aTCZ32y4361Z"
      },
      "source": [
        "# Decision Tree Classifier"
      ]
    },
    {
      "cell_type": "code",
      "metadata": {
        "id": "Wvrgt9GtUrQs",
        "colab": {
          "base_uri": "https://localhost:8080/"
        },
        "outputId": "c693340e-98c9-47db-e8d9-a8fc720f4186"
      },
      "source": [
        "print(X_train.shape, X_test.shape)"
      ],
      "execution_count": null,
      "outputs": [
        {
          "output_type": "stream",
          "text": [
            "(540, 8) (232, 8)\n"
          ],
          "name": "stdout"
        }
      ]
    },
    {
      "cell_type": "code",
      "metadata": {
        "id": "42lUAWOy4QWh",
        "colab": {
          "base_uri": "https://localhost:8080/"
        },
        "outputId": "dac535aa-a2a1-4624-bfd3-144ff407194b"
      },
      "source": [
        "model_tree = DecisionTreeClassifier(max_depth=1, min_samples_split=2)\n",
        "model_tree.fit(X_train, y_train)"
      ],
      "execution_count": null,
      "outputs": [
        {
          "output_type": "execute_result",
          "data": {
            "text/plain": [
              "DecisionTreeClassifier(ccp_alpha=0.0, class_weight=None, criterion='gini',\n",
              "                       max_depth=1, max_features=None, max_leaf_nodes=None,\n",
              "                       min_impurity_decrease=0.0, min_impurity_split=None,\n",
              "                       min_samples_leaf=1, min_samples_split=2,\n",
              "                       min_weight_fraction_leaf=0.0, presort='deprecated',\n",
              "                       random_state=None, splitter='best')"
            ]
          },
          "metadata": {
            "tags": []
          },
          "execution_count": 41
        }
      ]
    },
    {
      "cell_type": "code",
      "metadata": {
        "id": "ehRLD3fAGLbH",
        "colab": {
          "base_uri": "https://localhost:8080/"
        },
        "outputId": "ccee015d-6c6f-4d20-fcb8-dc63e833196f"
      },
      "source": [
        "model_tree.score(X_train, y_train), model_tree.score(X_test, y_test)"
      ],
      "execution_count": null,
      "outputs": [
        {
          "output_type": "execute_result",
          "data": {
            "text/plain": [
              "(0.8592592592592593, 0.8189655172413793)"
            ]
          },
          "metadata": {
            "tags": []
          },
          "execution_count": 42
        }
      ]
    },
    {
      "cell_type": "code",
      "metadata": {
        "id": "hcuvpgShOeR_"
      },
      "source": [
        "yp_tree = model_tree.predict(X_test)"
      ],
      "execution_count": null,
      "outputs": []
    },
    {
      "cell_type": "code",
      "metadata": {
        "id": "i2wBSFl1OUCw",
        "colab": {
          "base_uri": "https://localhost:8080/"
        },
        "outputId": "4afe4a23-ebe4-4682-d19a-b63e9de5f26b"
      },
      "source": [
        "conf_mat = confusion_matrix(y_test, yp_tree)\r\n",
        "conf_mat"
      ],
      "execution_count": null,
      "outputs": [
        {
          "output_type": "execute_result",
          "data": {
            "text/plain": [
              "array([[ 76,   0],\n",
              "       [ 42, 114]])"
            ]
          },
          "metadata": {
            "tags": []
          },
          "execution_count": 44
        }
      ]
    },
    {
      "cell_type": "code",
      "metadata": {
        "id": "HihXIDK6O0-u",
        "colab": {
          "base_uri": "https://localhost:8080/"
        },
        "outputId": "9b3f1166-0cea-4281-a801-39b261135b03"
      },
      "source": [
        "y_pred_tree=model_tree.predict(X_test)\r\n",
        "print(classification_report(y_test, y_pred_tree))"
      ],
      "execution_count": null,
      "outputs": [
        {
          "output_type": "stream",
          "text": [
            "              precision    recall  f1-score   support\n",
            "\n",
            "         0.0       0.64      1.00      0.78        76\n",
            "         1.0       1.00      0.73      0.84       156\n",
            "\n",
            "    accuracy                           0.82       232\n",
            "   macro avg       0.82      0.87      0.81       232\n",
            "weighted avg       0.88      0.82      0.82       232\n",
            "\n"
          ],
          "name": "stdout"
        }
      ]
    },
    {
      "cell_type": "code",
      "metadata": {
        "id": "Xdehix0i07Dp",
        "colab": {
          "base_uri": "https://localhost:8080/",
          "height": 295
        },
        "outputId": "ce91c2fc-243c-4e80-a759-bd7c14089b54"
      },
      "source": [
        "y_pred_proba_mt = model_tree.predict_proba(X_test)[:,1]\n",
        "fpr, tpr, thresholds = roc_curve(y_test, y_pred_proba_mt)\n",
        "\n",
        "\n",
        "model_tree_roc_auc = roc_auc_score(y_test, model_tree.predict(X_test))\n",
        "fpr, tpr, thresholds = roc_curve(y_test, model_tree.predict_proba(X_test)[:,1])\n",
        "plt.figure()\n",
        "plt.plot(fpr, tpr, label='Decision Tree' '(area = %0.2f)' % model_tree_roc_auc)\n",
        "plt.plot([0,1],[0,1],'k--')\n",
        "plt.xlabel('False Positive Rate')\n",
        "plt.ylabel('True Positive Rate')\n",
        "plt.title('Decision Tree ROC curve')\n",
        "plt.legend(loc=\"lower right\")\n",
        "plt.savefig('Logistic Regression_ROC')\n",
        "plt.show()"
      ],
      "execution_count": null,
      "outputs": [
        {
          "output_type": "display_data",
          "data": {
            "image/png": "[encoded data removed]",
            "text/plain": [
              "<Figure size 432x288 with 1 Axes>"
            ]
          },
          "metadata": {
            "tags": [],
            "needs_background": "light"
          }
        }
      ]
    },
    {
      "cell_type": "markdown",
      "metadata": {
        "id": "7IZatpsPftqd"
      },
      "source": [
        "**Now tuning with GridSearchCV**"
      ]
    },
    {
      "cell_type": "code",
      "metadata": {
        "id": "qcYoHjPoIATF",
        "colab": {
          "base_uri": "https://localhost:8080/"
        },
        "outputId": "07099fc6-d55d-46d6-fe22-70959bcf23b4"
      },
      "source": [
        "# use GridSearchCV to optimize the model parameters max_depth and min_samples_split\r\n",
        "grid_search_cv = GridSearchCV(DecisionTreeClassifier(max_depth=1, min_samples_split=2), \r\n",
        "                              {'max_depth': [1, 2, 3, 4, 5], \r\n",
        "                               'min_samples_split': [1, 2, 3, 4, 5]}, \r\n",
        "                              cv=10)\r\n",
        "grid_search_cv.fit(X, y)"
      ],
      "execution_count": null,
      "outputs": [
        {
          "output_type": "execute_result",
          "data": {
            "text/plain": [
              "GridSearchCV(cv=10, error_score=nan,\n",
              "             estimator=DecisionTreeClassifier(ccp_alpha=0.0, class_weight=None,\n",
              "                                              criterion='gini', max_depth=1,\n",
              "                                              max_features=None,\n",
              "                                              max_leaf_nodes=None,\n",
              "                                              min_impurity_decrease=0.0,\n",
              "                                              min_impurity_split=None,\n",
              "                                              min_samples_leaf=1,\n",
              "                                              min_samples_split=2,\n",
              "                                              min_weight_fraction_leaf=0.0,\n",
              "                                              presort='deprecated',\n",
              "                                              random_state=None,\n",
              "                                              splitter='best'),\n",
              "             iid='deprecated', n_jobs=None,\n",
              "             param_grid={'max_depth': [1, 2, 3, 4, 5],\n",
              "                         'min_samples_split': [1, 2, 3, 4, 5]},\n",
              "             pre_dispatch='2*n_jobs', refit=True, return_train_score=False,\n",
              "             scoring=None, verbose=0)"
            ]
          },
          "metadata": {
            "tags": []
          },
          "execution_count": 47
        }
      ]
    },
    {
      "cell_type": "code",
      "metadata": {
        "id": "c_I0vSAUIK31",
        "colab": {
          "base_uri": "https://localhost:8080/"
        },
        "outputId": "3b0024de-2a9e-43a4-a141-a28a09ea14b1"
      },
      "source": [
        "# retrieve best parameter combinations\r\n",
        "grid_search_cv.best_params_"
      ],
      "execution_count": null,
      "outputs": [
        {
          "output_type": "execute_result",
          "data": {
            "text/plain": [
              "{'max_depth': 4, 'min_samples_split': 2}"
            ]
          },
          "metadata": {
            "tags": []
          },
          "execution_count": 48
        }
      ]
    },
    {
      "cell_type": "code",
      "metadata": {
        "id": "AJX2gSTyBekM",
        "colab": {
          "base_uri": "https://localhost:8080/"
        },
        "outputId": "4fee02e4-a3cc-4cf6-cfa7-5fdc4a544a5d"
      },
      "source": [
        "best_model_tree = DecisionTreeClassifier(max_depth=4, min_samples_split=2)\r\n",
        "best_model_tree.fit(X_train, y_train)"
      ],
      "execution_count": null,
      "outputs": [
        {
          "output_type": "execute_result",
          "data": {
            "text/plain": [
              "DecisionTreeClassifier(ccp_alpha=0.0, class_weight=None, criterion='gini',\n",
              "                       max_depth=4, max_features=None, max_leaf_nodes=None,\n",
              "                       min_impurity_decrease=0.0, min_impurity_split=None,\n",
              "                       min_samples_leaf=1, min_samples_split=2,\n",
              "                       min_weight_fraction_leaf=0.0, presort='deprecated',\n",
              "                       random_state=None, splitter='best')"
            ]
          },
          "metadata": {
            "tags": []
          },
          "execution_count": 49
        }
      ]
    },
    {
      "cell_type": "code",
      "metadata": {
        "id": "huKWNLIoBlel",
        "colab": {
          "base_uri": "https://localhost:8080/"
        },
        "outputId": "df39fc0a-46ef-409c-8812-39619531e031"
      },
      "source": [
        "best_model_tree.score(X_train, y_train), best_model_tree.score(X_test, y_test)"
      ],
      "execution_count": null,
      "outputs": [
        {
          "output_type": "execute_result",
          "data": {
            "text/plain": [
              "(0.9777777777777777, 0.9698275862068966)"
            ]
          },
          "metadata": {
            "tags": []
          },
          "execution_count": 50
        }
      ]
    },
    {
      "cell_type": "code",
      "metadata": {
        "id": "zmdPcxIM4qPA"
      },
      "source": [
        "yp_best_tree = best_model_tree.predict(X_test)"
      ],
      "execution_count": null,
      "outputs": []
    },
    {
      "cell_type": "code",
      "metadata": {
        "id": "yaZaa3Uf4tuv",
        "colab": {
          "base_uri": "https://localhost:8080/"
        },
        "outputId": "094a2224-e479-4e39-c78a-5076bbdaa779"
      },
      "source": [
        "conf_mat_tree = confusion_matrix(y_test, yp_best_tree)\n",
        "conf_mat_tree"
      ],
      "execution_count": null,
      "outputs": [
        {
          "output_type": "execute_result",
          "data": {
            "text/plain": [
              "array([[ 71,   5],\n",
              "       [  2, 154]])"
            ]
          },
          "metadata": {
            "tags": []
          },
          "execution_count": 52
        }
      ]
    },
    {
      "cell_type": "code",
      "metadata": {
        "id": "wS-iuf4Tg5kk",
        "colab": {
          "base_uri": "https://localhost:8080/",
          "height": 343
        },
        "outputId": "2b9ce8c6-e009-4005-f086-9b374fc9da64"
      },
      "source": [
        "class_names=[0,1] # name  of classes\r\n",
        "fig, ax = plt.subplots()\r\n",
        "tick_marks = np.arange(len(class_names))\r\n",
        "plt.xticks(tick_marks, class_names)\r\n",
        "plt.yticks(tick_marks, class_names)\r\n",
        "# create heatmap\r\n",
        "sns.heatmap(pd.DataFrame(conf_mat_tree), annot=True, cmap=\"YlGnBu\" ,fmt='g')\r\n",
        "ax.xaxis.set_label_position(\"top\")\r\n",
        "plt.tight_layout()\r\n",
        "plt.title('Confusion Matrix Decision Tree CV', y=1.1)\r\n",
        "plt.ylabel('Actual label')\r\n",
        "plt.xlabel('Predicted label')"
      ],
      "execution_count": null,
      "outputs": [
        {
          "output_type": "execute_result",
          "data": {
            "text/plain": [
              "Text(0.5, 257.44, 'Predicted label')"
            ]
          },
          "metadata": {
            "tags": []
          },
          "execution_count": 103
        },
        {
          "output_type": "display_data",
          "data": {
            "image/png": "[encoded data removed]",
            "text/plain": [
              "<Figure size 432x288 with 2 Axes>"
            ]
          },
          "metadata": {
            "tags": [],
            "needs_background": "light"
          }
        }
      ]
    },
    {
      "cell_type": "code",
      "metadata": {
        "id": "UIou8bqwNdZi",
        "colab": {
          "base_uri": "https://localhost:8080/"
        },
        "outputId": "5e446cb9-20b0-4ccf-8ba6-5ecd2d82693c"
      },
      "source": [
        "y_pred_best_tree=best_model_tree.predict(X_test)\r\n",
        "print(classification_report(y_test, y_pred_best_tree))"
      ],
      "execution_count": null,
      "outputs": [
        {
          "output_type": "stream",
          "text": [
            "              precision    recall  f1-score   support\n",
            "\n",
            "         0.0       0.97      0.93      0.95        76\n",
            "         1.0       0.97      0.99      0.98       156\n",
            "\n",
            "    accuracy                           0.97       232\n",
            "   macro avg       0.97      0.96      0.97       232\n",
            "weighted avg       0.97      0.97      0.97       232\n",
            "\n"
          ],
          "name": "stdout"
        }
      ]
    },
    {
      "cell_type": "code",
      "metadata": {
        "id": "-NZ6bcv2pq-1",
        "colab": {
          "base_uri": "https://localhost:8080/",
          "height": 497
        },
        "outputId": "91567171-85d8-4db8-f4a9-12f28e0ae10e"
      },
      "source": [
        "tree_feature= DecisionTreeClassifier(max_depth=4,min_samples_split=2)\r\n",
        "tree_feature.fit(X_train,y_train)\r\n",
        "cols=xnames\r\n",
        "def plot_feature_importances(model):\r\n",
        "    plt.figure(figsize=(8,8))\r\n",
        "    n_features = X.shape[1]\r\n",
        "    plt.barh(range(n_features), best_model_tree.feature_importances_, height=0.5,align='center')\r\n",
        "    plt.yticks(np.arange(n_features), cols)\r\n",
        "    plt.xlabel(\"Feature Importance Decision Tree CV\")\r\n",
        "    plt.ylabel(\"Feature\")\r\n",
        "    plt.ylim(-1, n_features)\r\n",
        "\r\n",
        "plot_feature_importances(tree_feature)"
      ],
      "execution_count": null,
      "outputs": [
        {
          "output_type": "display_data",
          "data": {
            "image/png": "[encoded data removed]",
            "text/plain": [
              "<Figure size 576x576 with 1 Axes>"
            ]
          },
          "metadata": {
            "tags": [],
            "needs_background": "light"
          }
        }
      ]
    },
    {
      "cell_type": "code",
      "metadata": {
        "id": "31F_Nq6_1XLt",
        "colab": {
          "base_uri": "https://localhost:8080/",
          "height": 295
        },
        "outputId": "7748eaa7-c125-46c6-b640-1941d0196563"
      },
      "source": [
        "y_pred_proba_bmt = best_model_tree.predict_proba(X_test)[:,1]\n",
        "fpr, tpr, thresholds = roc_curve(y_test, y_pred_proba_bmt)\n",
        "\n",
        "\n",
        "best_model_tree_roc_auc = roc_auc_score(y_test, best_model_tree.predict(X_test))\n",
        "fpr, tpr, thresholds = roc_curve(y_test, best_model_tree.predict_proba(X_test)[:,1])\n",
        "plt.figure()\n",
        "plt.plot(fpr, tpr, label='Decision Tree CV' '(area = %0.2f)' % best_model_tree_roc_auc)\n",
        "plt.plot([0,1],[0,1],'k--')\n",
        "plt.xlabel('False Positive Rate')\n",
        "plt.ylabel('True Positive Rate')\n",
        "plt.title('Decision Tree ROC CV curve')\n",
        "plt.legend(loc=\"lower right\")\n",
        "plt.savefig('Logistic Regression_ROC')\n",
        "plt.show()"
      ],
      "execution_count": null,
      "outputs": [
        {
          "output_type": "display_data",
          "data": {
            "image/png": "[encoded data removed]",
            "text/plain": [
              "<Figure size 432x288 with 1 Axes>"
            ]
          },
          "metadata": {
            "tags": [],
            "needs_background": "light"
          }
        }
      ]
    },
    {
      "cell_type": "code",
      "metadata": {
        "colab": {
          "base_uri": "https://localhost:8080/",
          "height": 330
        },
        "id": "__Qw5zcP7aw7",
        "outputId": "7a2de165-f76d-4daa-8426-18f1caa474be"
      },
      "source": [
        "y_score_dt = best_model_tree.predict_proba(X_test)[:,-1]\r\n",
        "\r\n",
        "average_precision = average_precision_score(y_test, y_score_dt)\r\n",
        "\r\n",
        "print('Average precision-recall score RF: {}'.format(average_precision))\r\n",
        "\r\n",
        "precision, recall, _ = precision_recall_curve(y_test, y_score_dt)\r\n",
        "\r\n",
        "plt.step(recall, precision, color='b', alpha=0.2,\r\n",
        "         where='post')\r\n",
        "plt.fill_between(recall, precision, step='post', alpha=0.2,\r\n",
        "                 color='b')\r\n",
        "\r\n",
        "plt.xlabel('Recall')\r\n",
        "plt.ylabel('Precision')\r\n",
        "plt.ylim([0.0, 1.05])\r\n",
        "plt.xlim([0.0, 1.0])\r\n",
        "plt.title('2-class Precision-Recall curve Decision Tree CV: AP={0:0.2f}'.format(\r\n",
        "          average_precision))"
      ],
      "execution_count": null,
      "outputs": [
        {
          "output_type": "stream",
          "text": [
            "Average precision-recall score RF: 0.9933754527118223\n"
          ],
          "name": "stdout"
        },
        {
          "output_type": "execute_result",
          "data": {
            "text/plain": [
              "Text(0.5, 1.0, '2-class Precision-Recall curve Decision Tree CV: AP=0.99')"
            ]
          },
          "metadata": {
            "tags": []
          },
          "execution_count": 104
        },
        {
          "output_type": "display_data",
          "data": {
            "image/png": "[encoded data removed]",
            "text/plain": [
              "<Figure size 432x288 with 1 Axes>"
            ]
          },
          "metadata": {
            "tags": [],
            "needs_background": "light"
          }
        }
      ]
    },
    {
      "cell_type": "markdown",
      "metadata": {
        "id": "K7I-qLJEUdrI"
      },
      "source": [
        "# Random Forest \n"
      ]
    },
    {
      "cell_type": "code",
      "metadata": {
        "id": "tSdLYrZGautY",
        "colab": {
          "base_uri": "https://localhost:8080/"
        },
        "outputId": "680e5872-6a88-4c4c-8ed0-757bf1451a87"
      },
      "source": [
        "clf=RandomForestClassifier(n_estimators=10)\n",
        "\n",
        "clf.fit(X_train, y_train)\n"
      ],
      "execution_count": null,
      "outputs": [
        {
          "output_type": "execute_result",
          "data": {
            "text/plain": [
              "RandomForestClassifier(bootstrap=True, ccp_alpha=0.0, class_weight=None,\n",
              "                       criterion='gini', max_depth=None, max_features='auto',\n",
              "                       max_leaf_nodes=None, max_samples=None,\n",
              "                       min_impurity_decrease=0.0, min_impurity_split=None,\n",
              "                       min_samples_leaf=1, min_samples_split=2,\n",
              "                       min_weight_fraction_leaf=0.0, n_estimators=10,\n",
              "                       n_jobs=None, oob_score=False, random_state=None,\n",
              "                       verbose=0, warm_start=False)"
            ]
          },
          "metadata": {
            "tags": []
          },
          "execution_count": 126
        }
      ]
    },
    {
      "cell_type": "code",
      "metadata": {
        "colab": {
          "base_uri": "https://localhost:8080/"
        },
        "id": "YS1uMjxYEcwJ",
        "outputId": "b01a0789-d30b-4707-9224-c7ea377731b0"
      },
      "source": [
        "clf.score(X_train, y_train), clf.score(X_test, y_test)"
      ],
      "execution_count": null,
      "outputs": [
        {
          "output_type": "execute_result",
          "data": {
            "text/plain": [
              "(0.9962962962962963, 0.978448275862069)"
            ]
          },
          "metadata": {
            "tags": []
          },
          "execution_count": 128
        }
      ]
    },
    {
      "cell_type": "code",
      "metadata": {
        "id": "bj_0Fxo3azFp"
      },
      "source": [
        "y_pred_forest = clf.predict(X_test)"
      ],
      "execution_count": null,
      "outputs": []
    },
    {
      "cell_type": "code",
      "metadata": {
        "id": "Mp0l8LjWa2Ze",
        "colab": {
          "base_uri": "https://localhost:8080/"
        },
        "outputId": "79d4fe97-c447-4efe-bc26-85d0324cbac0"
      },
      "source": [
        "print(confusion_matrix(y_test,y_pred_forest))\n",
        "print(classification_report(y_test,y_pred_forest))\n",
        "print(accuracy_score(y_test, y_pred_forest))"
      ],
      "execution_count": null,
      "outputs": [
        {
          "output_type": "stream",
          "text": [
            "[[ 74   2]\n",
            " [  4 152]]\n",
            "              precision    recall  f1-score   support\n",
            "\n",
            "         0.0       0.95      0.97      0.96        76\n",
            "         1.0       0.99      0.97      0.98       156\n",
            "\n",
            "    accuracy                           0.97       232\n",
            "   macro avg       0.97      0.97      0.97       232\n",
            "weighted avg       0.97      0.97      0.97       232\n",
            "\n",
            "0.9741379310344828\n"
          ],
          "name": "stdout"
        }
      ]
    },
    {
      "cell_type": "code",
      "metadata": {
        "id": "z0byVl8L13pb",
        "colab": {
          "base_uri": "https://localhost:8080/"
        },
        "outputId": "7c24ff61-9271-45e9-e11e-ac9cd532582b"
      },
      "source": [
        "conf_mat_rf= confusion_matrix(y_test, y_pred_forest)\n",
        "conf_mat_rf"
      ],
      "execution_count": null,
      "outputs": [
        {
          "output_type": "execute_result",
          "data": {
            "text/plain": [
              "array([[ 74,   2],\n",
              "       [  4, 152]])"
            ]
          },
          "metadata": {
            "tags": []
          },
          "execution_count": 78
        }
      ]
    },
    {
      "cell_type": "code",
      "metadata": {
        "id": "RUqyetGx2JJX",
        "colab": {
          "base_uri": "https://localhost:8080/",
          "height": 343
        },
        "outputId": "4167c56b-4a1d-4fba-df5d-d7a94009ba51"
      },
      "source": [
        "class_names=[0,1] # name  of classes\n",
        "fig, ax = plt.subplots()\n",
        "tick_marks = np.arange(len(class_names))\n",
        "plt.xticks(tick_marks, class_names)\n",
        "plt.yticks(tick_marks, class_names)\n",
        "# create heatmap\n",
        "sns.heatmap(pd.DataFrame(conf_mat_rf), annot=True, cmap=\"YlGnBu\" ,fmt='g')\n",
        "ax.xaxis.set_label_position(\"top\")\n",
        "plt.tight_layout()\n",
        "plt.title('Confusion matrix', y=1.1)\n",
        "plt.ylabel('Actual label')\n",
        "plt.xlabel('Predicted label')"
      ],
      "execution_count": null,
      "outputs": [
        {
          "output_type": "execute_result",
          "data": {
            "text/plain": [
              "Text(0.5, 257.44, 'Predicted label')"
            ]
          },
          "metadata": {
            "tags": []
          },
          "execution_count": 79
        },
        {
          "output_type": "display_data",
          "data": {
            "image/png": "[encoded data removed]",
            "text/plain": [
              "<Figure size 432x288 with 2 Axes>"
            ]
          },
          "metadata": {
            "tags": [],
            "needs_background": "light"
          }
        }
      ]
    },
    {
      "cell_type": "code",
      "metadata": {
        "id": "dGPAEFcY2Oet",
        "colab": {
          "base_uri": "https://localhost:8080/",
          "height": 295
        },
        "outputId": "5b208953-c79f-4c95-a1b7-fbb6ff8e5f7b"
      },
      "source": [
        "y_pred_proba_rf = clf.predict_proba(X_test)[:,1]\n",
        "fpr, tpr, thresholds = roc_curve(y_test, y_pred_proba_rf)\n",
        "\n",
        "\n",
        "clf_roc_auc = roc_auc_score(y_test, clf.predict(X_test))\n",
        "fpr, tpr, thresholds = roc_curve(y_test, clf.predict_proba(X_test)[:,1])\n",
        "plt.figure()\n",
        "plt.plot(fpr, tpr, label='Random Forest' '(area = %0.2f)' % clf_roc_auc)\n",
        "plt.plot([0,1],[0,1],'k--')\n",
        "plt.xlabel('False Positive Rate')\n",
        "plt.ylabel('True Positive Rate')\n",
        "plt.title('Random Forest ROC curve')\n",
        "plt.legend(loc=\"lower right\")\n",
        "plt.savefig('Logistic Regression_ROC')\n",
        "plt.show()"
      ],
      "execution_count": null,
      "outputs": [
        {
          "output_type": "display_data",
          "data": {
            "image/png": "[encoded data removed]",
            "text/plain": [
              "<Figure size 432x288 with 1 Axes>"
            ]
          },
          "metadata": {
            "tags": [],
            "needs_background": "light"
          }
        }
      ]
    },
    {
      "cell_type": "code",
      "metadata": {
        "id": "2iIVdAtta6Us",
        "colab": {
          "base_uri": "https://localhost:8080/"
        },
        "outputId": "7313e9c5-265e-4ed8-b59a-7e7bd114a84c"
      },
      "source": [
        "#Now doing cross validation to find the ideal parameters\n",
        "clf= RandomForestClassifier ()\n",
        "parameters={'max_depth':[5,10,20,50,100], 'n_estimators':[0,50,100,200]}\n",
        "\n",
        "grid_search = GridSearchCV(clf,parameters,cv=10,return_train_score=True)\n",
        "\n",
        "grid_search = grid_search.fit(X_train, y_train)\n",
        "Score_forest = grid_search.best_score_\n",
        "best_parameters = grid_search.best_params_\n",
        "print('Score Forest {}'.format(Score_forest))\n",
        "print('Best Parameters {}'.format(best_parameters))"
      ],
      "execution_count": null,
      "outputs": [
        {
          "output_type": "stream",
          "text": [
            "Score Forest 0.9907407407407408\n",
            "Best Parameters {'max_depth': 10, 'n_estimators': 200}\n"
          ],
          "name": "stdout"
        }
      ]
    },
    {
      "cell_type": "code",
      "metadata": {
        "id": "aDCVeOTTbHuD",
        "colab": {
          "base_uri": "https://localhost:8080/"
        },
        "outputId": "2ba8343f-d9f1-41fb-e635-dd7292c99f70"
      },
      "source": [
        "clf_final = RandomForestClassifier (max_depth= 10, n_estimators=200)\n",
        "\n",
        "clf_final.fit(X_train, y_train)"
      ],
      "execution_count": null,
      "outputs": [
        {
          "output_type": "execute_result",
          "data": {
            "text/plain": [
              "RandomForestClassifier(bootstrap=True, ccp_alpha=0.0, class_weight=None,\n",
              "                       criterion='gini', max_depth=10, max_features='auto',\n",
              "                       max_leaf_nodes=None, max_samples=None,\n",
              "                       min_impurity_decrease=0.0, min_impurity_split=None,\n",
              "                       min_samples_leaf=1, min_samples_split=2,\n",
              "                       min_weight_fraction_leaf=0.0, n_estimators=200,\n",
              "                       n_jobs=None, oob_score=False, random_state=None,\n",
              "                       verbose=0, warm_start=False)"
            ]
          },
          "metadata": {
            "tags": []
          },
          "execution_count": 132
        }
      ]
    },
    {
      "cell_type": "code",
      "metadata": {
        "colab": {
          "base_uri": "https://localhost:8080/"
        },
        "id": "Of6z8HoGFCb0",
        "outputId": "db88ed92-3749-4020-81df-8555a7fff115"
      },
      "source": [
        "clf_final.score(X_train, y_train), clf_final.score(X_test, y_test)"
      ],
      "execution_count": null,
      "outputs": [
        {
          "output_type": "execute_result",
          "data": {
            "text/plain": [
              "(1.0, 0.978448275862069)"
            ]
          },
          "metadata": {
            "tags": []
          },
          "execution_count": 134
        }
      ]
    },
    {
      "cell_type": "code",
      "metadata": {
        "id": "AFJ6C3DKbKl5",
        "colab": {
          "base_uri": "https://localhost:8080/"
        },
        "outputId": "6f0e62ae-afb5-4dad-cf6d-18ec3ecb49e5"
      },
      "source": [
        "y_pred_forest_cv= clf_final.predict(X_test)\n",
        "\n",
        "print(confusion_matrix(y_test,y_pred_forest_cv))\n",
        "print(classification_report(y_test,y_pred_forest_cv))\n",
        "print(accuracy_score(y_test, y_pred_forest_cv))"
      ],
      "execution_count": null,
      "outputs": [
        {
          "output_type": "stream",
          "text": [
            "[[ 74   2]\n",
            " [  3 153]]\n",
            "              precision    recall  f1-score   support\n",
            "\n",
            "         0.0       0.96      0.97      0.97        76\n",
            "         1.0       0.99      0.98      0.98       156\n",
            "\n",
            "    accuracy                           0.98       232\n",
            "   macro avg       0.97      0.98      0.98       232\n",
            "weighted avg       0.98      0.98      0.98       232\n",
            "\n",
            "0.978448275862069\n"
          ],
          "name": "stdout"
        }
      ]
    },
    {
      "cell_type": "code",
      "metadata": {
        "id": "7l7R9EUyhQmD",
        "colab": {
          "base_uri": "https://localhost:8080/"
        },
        "outputId": "3a71d4f7-12b0-4b2a-e7dc-d1195cedb253"
      },
      "source": [
        "conf_mat_forest = confusion_matrix(y_test, y_pred_forest_cv)\r\n",
        "conf_mat_forest"
      ],
      "execution_count": null,
      "outputs": [
        {
          "output_type": "execute_result",
          "data": {
            "text/plain": [
              "array([[ 74,   2],\n",
              "       [  3, 153]])"
            ]
          },
          "metadata": {
            "tags": []
          },
          "execution_count": 84
        }
      ]
    },
    {
      "cell_type": "code",
      "metadata": {
        "id": "3PqQ9wDLhJ2s",
        "colab": {
          "base_uri": "https://localhost:8080/",
          "height": 343
        },
        "outputId": "7689b45a-c863-41e5-9020-e49d00dca373"
      },
      "source": [
        "class_names=[0,1] # name  of classes\r\n",
        "fig, ax = plt.subplots()\r\n",
        "tick_marks = np.arange(len(class_names))\r\n",
        "plt.xticks(tick_marks, class_names)\r\n",
        "plt.yticks(tick_marks, class_names)\r\n",
        "# create heatmap\r\n",
        "sns.heatmap(pd.DataFrame(conf_mat_forest), annot=True, cmap=\"YlGnBu\" ,fmt='g')\r\n",
        "ax.xaxis.set_label_position(\"top\")\r\n",
        "plt.tight_layout()\r\n",
        "plt.title('Confusion Matrix Random Forest CV', y=1.1)\r\n",
        "plt.ylabel('Actual label')\r\n",
        "plt.xlabel('Predicted label')"
      ],
      "execution_count": null,
      "outputs": [
        {
          "output_type": "execute_result",
          "data": {
            "text/plain": [
              "Text(0.5, 257.44, 'Predicted label')"
            ]
          },
          "metadata": {
            "tags": []
          },
          "execution_count": 109
        },
        {
          "output_type": "display_data",
          "data": {
            "image/png": "[encoded data removed]",
            "text/plain": [
              "<Figure size 432x288 with 2 Axes>"
            ]
          },
          "metadata": {
            "tags": [],
            "needs_background": "light"
          }
        }
      ]
    },
    {
      "cell_type": "code",
      "metadata": {
        "id": "mx81xl32p8zh",
        "colab": {
          "base_uri": "https://localhost:8080/",
          "height": 497
        },
        "outputId": "aa9de912-b5df-4312-ec0f-9711febb4eb8"
      },
      "source": [
        "forest_feature= RandomForestClassifier(n_estimators=100, max_depth=10)\r\n",
        "tree_feature.fit(X_train,y_train)\r\n",
        "cols=xnames\r\n",
        "def plot_feature_importances(model):\r\n",
        "    plt.figure(figsize=(8,8))\r\n",
        "    n_features = X.shape[1]\r\n",
        "    plt.barh(range(n_features), clf_final.feature_importances_, height=0.5,align='center')\r\n",
        "    plt.yticks(np.arange(n_features), cols)\r\n",
        "    plt.xlabel(\"Feature importance Random Forest CV\")\r\n",
        "    plt.ylabel(\"Feature\")\r\n",
        "    plt.ylim(-1, n_features)\r\n",
        "\r\n",
        "plot_feature_importances(forest_feature)"
      ],
      "execution_count": null,
      "outputs": [
        {
          "output_type": "display_data",
          "data": {
            "image/png": "[encoded data removed]",
            "text/plain": [
              "<Figure size 576x576 with 1 Axes>"
            ]
          },
          "metadata": {
            "tags": [],
            "needs_background": "light"
          }
        }
      ]
    },
    {
      "cell_type": "code",
      "metadata": {
        "id": "DHT0VGW13Mcs",
        "colab": {
          "base_uri": "https://localhost:8080/",
          "height": 295
        },
        "outputId": "e0f9acf0-f9f8-4824-efa6-8e5715f2f00e"
      },
      "source": [
        "y_pred_proba_rf_cv = clf_final.predict_proba(X_test)[:,1]\n",
        "fpr, tpr, thresholds = roc_curve(y_test, y_pred_proba_rf_cv)\n",
        "\n",
        "\n",
        "clf_final_roc_auc = roc_auc_score(y_test, clf_final.predict(X_test))\n",
        "fpr, tpr, thresholds = roc_curve(y_test, clf_final.predict_proba(X_test)[:,1])\n",
        "plt.figure()\n",
        "plt.plot(fpr, tpr, label='Random Forest CV' '(area = %0.2f)' % clf_final_roc_auc)\n",
        "plt.plot([0,1],[0,1],'k--')\n",
        "plt.xlabel('False Positive Rate')\n",
        "plt.ylabel('True Positive Rate')\n",
        "plt.title('Random Forest ROC CV curve')\n",
        "plt.legend(loc=\"lower right\")\n",
        "plt.savefig('Logistic Regression_ROC')\n",
        "plt.show()"
      ],
      "execution_count": null,
      "outputs": [
        {
          "output_type": "display_data",
          "data": {
            "image/png": "[encoded data removed]",
            "text/plain": [
              "<Figure size 432x288 with 1 Axes>"
            ]
          },
          "metadata": {
            "tags": [],
            "needs_background": "light"
          }
        }
      ]
    },
    {
      "cell_type": "code",
      "metadata": {
        "colab": {
          "base_uri": "https://localhost:8080/",
          "height": 330
        },
        "id": "nCDmSCZ073u-",
        "outputId": "92975fa3-730d-4fdb-da9f-121442c1b3bc"
      },
      "source": [
        "y_score_rf1 = clf_final.predict_proba(X_test)[:,-1]\r\n",
        "\r\n",
        "average_precision = average_precision_score(y_test, y_score_rf1)\r\n",
        "\r\n",
        "print('Average precision-recall score RF: {}'.format(average_precision))\r\n",
        "\r\n",
        "precision, recall, _ = precision_recall_curve(y_test, y_score_rf1)\r\n",
        "\r\n",
        "plt.step(recall, precision, color='b', alpha=0.2,\r\n",
        "         where='post')\r\n",
        "plt.fill_between(recall, precision, step='post', alpha=0.2,\r\n",
        "                 color='b')\r\n",
        "\r\n",
        "plt.xlabel('Recall')\r\n",
        "plt.ylabel('Precision')\r\n",
        "plt.ylim([0.0, 1.05])\r\n",
        "plt.xlim([0.0, 1.0])\r\n",
        "plt.title('2-class Precision-Recall curve Random Forest CV: AP={0:0.2f}'.format(\r\n",
        "          average_precision))"
      ],
      "execution_count": null,
      "outputs": [
        {
          "output_type": "stream",
          "text": [
            "Average precision-recall score RF: 0.9988311776294558\n"
          ],
          "name": "stdout"
        },
        {
          "output_type": "execute_result",
          "data": {
            "text/plain": [
              "Text(0.5, 1.0, '2-class Precision-Recall curve Random Forest CV: AP=1.00')"
            ]
          },
          "metadata": {
            "tags": []
          },
          "execution_count": 138
        },
        {
          "output_type": "display_data",
          "data": {
            "image/png": "[encoded data removed]",
            "text/plain": [
              "<Figure size 432x288 with 1 Axes>"
            ]
          },
          "metadata": {
            "tags": [],
            "needs_background": "light"
          }
        }
      ]
    },
    {
      "cell_type": "markdown",
      "metadata": {
        "id": "8py6MqYZhV1E"
      },
      "source": [
        "# KNN"
      ]
    },
    {
      "cell_type": "code",
      "metadata": {
        "id": "EI65vrmFKl92",
        "colab": {
          "base_uri": "https://localhost:8080/",
          "height": 202
        },
        "outputId": "c1fbb878-4c28-4238-ed45-752d28cfcc6b"
      },
      "source": [
        "audit_trial.head()"
      ],
      "execution_count": null,
      "outputs": [
        {
          "output_type": "execute_result",
          "data": {
            "text/html": [
              "<div>\n",
              "<style scoped>\n",
              "    .dataframe tbody tr th:only-of-type {\n",
              "        vertical-align: middle;\n",
              "    }\n",
              "\n",
              "    .dataframe tbody tr th {\n",
              "        vertical-align: top;\n",
              "    }\n",
              "\n",
              "    .dataframe thead th {\n",
              "        text-align: right;\n",
              "    }\n",
              "</style>\n",
              "<table border=\"1\" class=\"dataframe\">\n",
              "  <thead>\n",
              "    <tr style=\"text-align: right;\">\n",
              "      <th></th>\n",
              "      <th>Sector_score</th>\n",
              "      <th>PARA_A</th>\n",
              "      <th>PARA_B</th>\n",
              "      <th>numbers</th>\n",
              "      <th>Money_Value</th>\n",
              "      <th>District</th>\n",
              "      <th>Loss</th>\n",
              "      <th>History</th>\n",
              "      <th>Risk</th>\n",
              "    </tr>\n",
              "  </thead>\n",
              "  <tbody>\n",
              "    <tr>\n",
              "      <th>0</th>\n",
              "      <td>3.89</td>\n",
              "      <td>4.18</td>\n",
              "      <td>2.50</td>\n",
              "      <td>5.0</td>\n",
              "      <td>3.38</td>\n",
              "      <td>2.0</td>\n",
              "      <td>0.0</td>\n",
              "      <td>0.0</td>\n",
              "      <td>1.0</td>\n",
              "    </tr>\n",
              "    <tr>\n",
              "      <th>1</th>\n",
              "      <td>3.89</td>\n",
              "      <td>0.00</td>\n",
              "      <td>4.83</td>\n",
              "      <td>5.0</td>\n",
              "      <td>0.94</td>\n",
              "      <td>2.0</td>\n",
              "      <td>0.0</td>\n",
              "      <td>0.0</td>\n",
              "      <td>0.0</td>\n",
              "    </tr>\n",
              "    <tr>\n",
              "      <th>2</th>\n",
              "      <td>3.89</td>\n",
              "      <td>0.51</td>\n",
              "      <td>0.23</td>\n",
              "      <td>5.0</td>\n",
              "      <td>0.00</td>\n",
              "      <td>2.0</td>\n",
              "      <td>0.0</td>\n",
              "      <td>0.0</td>\n",
              "      <td>0.0</td>\n",
              "    </tr>\n",
              "    <tr>\n",
              "      <th>3</th>\n",
              "      <td>3.89</td>\n",
              "      <td>0.00</td>\n",
              "      <td>10.80</td>\n",
              "      <td>6.0</td>\n",
              "      <td>11.75</td>\n",
              "      <td>2.0</td>\n",
              "      <td>0.0</td>\n",
              "      <td>0.0</td>\n",
              "      <td>1.0</td>\n",
              "    </tr>\n",
              "    <tr>\n",
              "      <th>4</th>\n",
              "      <td>3.89</td>\n",
              "      <td>0.00</td>\n",
              "      <td>0.08</td>\n",
              "      <td>5.0</td>\n",
              "      <td>0.00</td>\n",
              "      <td>2.0</td>\n",
              "      <td>0.0</td>\n",
              "      <td>0.0</td>\n",
              "      <td>0.0</td>\n",
              "    </tr>\n",
              "  </tbody>\n",
              "</table>\n",
              "</div>"
            ],
            "text/plain": [
              "   Sector_score  PARA_A  PARA_B  numbers  ...  District  Loss  History  Risk\n",
              "0          3.89    4.18    2.50      5.0  ...       2.0   0.0      0.0   1.0\n",
              "1          3.89    0.00    4.83      5.0  ...       2.0   0.0      0.0   0.0\n",
              "2          3.89    0.51    0.23      5.0  ...       2.0   0.0      0.0   0.0\n",
              "3          3.89    0.00   10.80      6.0  ...       2.0   0.0      0.0   1.0\n",
              "4          3.89    0.00    0.08      5.0  ...       2.0   0.0      0.0   0.0\n",
              "\n",
              "[5 rows x 9 columns]"
            ]
          },
          "metadata": {
            "tags": []
          },
          "execution_count": 70
        }
      ]
    },
    {
      "cell_type": "code",
      "metadata": {
        "id": "JtgVQiQkhd_A",
        "colab": {
          "base_uri": "https://localhost:8080/",
          "height": 329
        },
        "outputId": "663c4015-6e3a-4fbc-f909-ebf093035dc8"
      },
      "source": [
        "X = audit_trial.iloc[:,0:8].values\n",
        "y = audit_trial.iloc[:,9].values"
      ],
      "execution_count": null,
      "outputs": [
        {
          "output_type": "error",
          "ename": "IndexError",
          "evalue": "ignored",
          "traceback": [
            "\u001b[0;31m---------------------------------------------------------------------------\u001b[0m",
            "\u001b[0;31mIndexError\u001b[0m                                Traceback (most recent call last)",
            "\u001b[0;32m<ipython-input-71-e28fad3d10c4>\u001b[0m in \u001b[0;36m<module>\u001b[0;34m()\u001b[0m\n\u001b[1;32m      1\u001b[0m \u001b[0mX\u001b[0m \u001b[0;34m=\u001b[0m \u001b[0maudit_trial\u001b[0m\u001b[0;34m.\u001b[0m\u001b[0miloc\u001b[0m\u001b[0;34m[\u001b[0m\u001b[0;34m:\u001b[0m\u001b[0;34m,\u001b[0m\u001b[0;36m0\u001b[0m\u001b[0;34m:\u001b[0m\u001b[0;36m8\u001b[0m\u001b[0;34m]\u001b[0m\u001b[0;34m.\u001b[0m\u001b[0mvalues\u001b[0m\u001b[0;34m\u001b[0m\u001b[0;34m\u001b[0m\u001b[0m\n\u001b[0;32m----> 2\u001b[0;31m \u001b[0my\u001b[0m \u001b[0;34m=\u001b[0m \u001b[0maudit_trial\u001b[0m\u001b[0;34m.\u001b[0m\u001b[0miloc\u001b[0m\u001b[0;34m[\u001b[0m\u001b[0;34m:\u001b[0m\u001b[0;34m,\u001b[0m\u001b[0;36m9\u001b[0m\u001b[0;34m]\u001b[0m\u001b[0;34m.\u001b[0m\u001b[0mvalues\u001b[0m\u001b[0;34m\u001b[0m\u001b[0;34m\u001b[0m\u001b[0m\n\u001b[0m",
            "\u001b[0;32m/usr/local/lib/python3.6/dist-packages/pandas/core/indexing.py\u001b[0m in \u001b[0;36m__getitem__\u001b[0;34m(self, key)\u001b[0m\n\u001b[1;32m    871\u001b[0m                     \u001b[0;31m# AttributeError for IntervalTree get_value\u001b[0m\u001b[0;34m\u001b[0m\u001b[0;34m\u001b[0m\u001b[0;34m\u001b[0m\u001b[0m\n\u001b[1;32m    872\u001b[0m                     \u001b[0;32mpass\u001b[0m\u001b[0;34m\u001b[0m\u001b[0;34m\u001b[0m\u001b[0m\n\u001b[0;32m--> 873\u001b[0;31m             \u001b[0;32mreturn\u001b[0m \u001b[0mself\u001b[0m\u001b[0;34m.\u001b[0m\u001b[0m_getitem_tuple\u001b[0m\u001b[0;34m(\u001b[0m\u001b[0mkey\u001b[0m\u001b[0;34m)\u001b[0m\u001b[0;34m\u001b[0m\u001b[0;34m\u001b[0m\u001b[0m\n\u001b[0m\u001b[1;32m    874\u001b[0m         \u001b[0;32melse\u001b[0m\u001b[0;34m:\u001b[0m\u001b[0;34m\u001b[0m\u001b[0;34m\u001b[0m\u001b[0m\n\u001b[1;32m    875\u001b[0m             \u001b[0;31m# we by definition only have the 0th axis\u001b[0m\u001b[0;34m\u001b[0m\u001b[0;34m\u001b[0m\u001b[0;34m\u001b[0m\u001b[0m\n",
            "\u001b[0;32m/usr/local/lib/python3.6/dist-packages/pandas/core/indexing.py\u001b[0m in \u001b[0;36m_getitem_tuple\u001b[0;34m(self, tup)\u001b[0m\n\u001b[1;32m   1441\u001b[0m     \u001b[0;32mdef\u001b[0m \u001b[0m_getitem_tuple\u001b[0m\u001b[0;34m(\u001b[0m\u001b[0mself\u001b[0m\u001b[0;34m,\u001b[0m \u001b[0mtup\u001b[0m\u001b[0;34m:\u001b[0m \u001b[0mTuple\u001b[0m\u001b[0;34m)\u001b[0m\u001b[0;34m:\u001b[0m\u001b[0;34m\u001b[0m\u001b[0;34m\u001b[0m\u001b[0m\n\u001b[1;32m   1442\u001b[0m \u001b[0;34m\u001b[0m\u001b[0m\n\u001b[0;32m-> 1443\u001b[0;31m         \u001b[0mself\u001b[0m\u001b[0;34m.\u001b[0m\u001b[0m_has_valid_tuple\u001b[0m\u001b[0;34m(\u001b[0m\u001b[0mtup\u001b[0m\u001b[0;34m)\u001b[0m\u001b[0;34m\u001b[0m\u001b[0;34m\u001b[0m\u001b[0m\n\u001b[0m\u001b[1;32m   1444\u001b[0m         \u001b[0;32mtry\u001b[0m\u001b[0;34m:\u001b[0m\u001b[0;34m\u001b[0m\u001b[0;34m\u001b[0m\u001b[0m\n\u001b[1;32m   1445\u001b[0m             \u001b[0;32mreturn\u001b[0m \u001b[0mself\u001b[0m\u001b[0;34m.\u001b[0m\u001b[0m_getitem_lowerdim\u001b[0m\u001b[0;34m(\u001b[0m\u001b[0mtup\u001b[0m\u001b[0;34m)\u001b[0m\u001b[0;34m\u001b[0m\u001b[0;34m\u001b[0m\u001b[0m\n",
            "\u001b[0;32m/usr/local/lib/python3.6/dist-packages/pandas/core/indexing.py\u001b[0m in \u001b[0;36m_has_valid_tuple\u001b[0;34m(self, key)\u001b[0m\n\u001b[1;32m    700\u001b[0m                 \u001b[0;32mraise\u001b[0m \u001b[0mIndexingError\u001b[0m\u001b[0;34m(\u001b[0m\u001b[0;34m\"Too many indexers\"\u001b[0m\u001b[0;34m)\u001b[0m\u001b[0;34m\u001b[0m\u001b[0;34m\u001b[0m\u001b[0m\n\u001b[1;32m    701\u001b[0m             \u001b[0;32mtry\u001b[0m\u001b[0;34m:\u001b[0m\u001b[0;34m\u001b[0m\u001b[0;34m\u001b[0m\u001b[0m\n\u001b[0;32m--> 702\u001b[0;31m                 \u001b[0mself\u001b[0m\u001b[0;34m.\u001b[0m\u001b[0m_validate_key\u001b[0m\u001b[0;34m(\u001b[0m\u001b[0mk\u001b[0m\u001b[0;34m,\u001b[0m \u001b[0mi\u001b[0m\u001b[0;34m)\u001b[0m\u001b[0;34m\u001b[0m\u001b[0;34m\u001b[0m\u001b[0m\n\u001b[0m\u001b[1;32m    703\u001b[0m             \u001b[0;32mexcept\u001b[0m \u001b[0mValueError\u001b[0m \u001b[0;32mas\u001b[0m \u001b[0merr\u001b[0m\u001b[0;34m:\u001b[0m\u001b[0;34m\u001b[0m\u001b[0;34m\u001b[0m\u001b[0m\n\u001b[1;32m    704\u001b[0m                 raise ValueError(\n",
            "\u001b[0;32m/usr/local/lib/python3.6/dist-packages/pandas/core/indexing.py\u001b[0m in \u001b[0;36m_validate_key\u001b[0;34m(self, key, axis)\u001b[0m\n\u001b[1;32m   1350\u001b[0m             \u001b[0;32mreturn\u001b[0m\u001b[0;34m\u001b[0m\u001b[0;34m\u001b[0m\u001b[0m\n\u001b[1;32m   1351\u001b[0m         \u001b[0;32melif\u001b[0m \u001b[0mis_integer\u001b[0m\u001b[0;34m(\u001b[0m\u001b[0mkey\u001b[0m\u001b[0;34m)\u001b[0m\u001b[0;34m:\u001b[0m\u001b[0;34m\u001b[0m\u001b[0;34m\u001b[0m\u001b[0m\n\u001b[0;32m-> 1352\u001b[0;31m             \u001b[0mself\u001b[0m\u001b[0;34m.\u001b[0m\u001b[0m_validate_integer\u001b[0m\u001b[0;34m(\u001b[0m\u001b[0mkey\u001b[0m\u001b[0;34m,\u001b[0m \u001b[0maxis\u001b[0m\u001b[0;34m)\u001b[0m\u001b[0;34m\u001b[0m\u001b[0;34m\u001b[0m\u001b[0m\n\u001b[0m\u001b[1;32m   1353\u001b[0m         \u001b[0;32melif\u001b[0m \u001b[0misinstance\u001b[0m\u001b[0;34m(\u001b[0m\u001b[0mkey\u001b[0m\u001b[0;34m,\u001b[0m \u001b[0mtuple\u001b[0m\u001b[0;34m)\u001b[0m\u001b[0;34m:\u001b[0m\u001b[0;34m\u001b[0m\u001b[0;34m\u001b[0m\u001b[0m\n\u001b[1;32m   1354\u001b[0m             \u001b[0;31m# a tuple should already have been caught by this point\u001b[0m\u001b[0;34m\u001b[0m\u001b[0;34m\u001b[0m\u001b[0;34m\u001b[0m\u001b[0m\n",
            "\u001b[0;32m/usr/local/lib/python3.6/dist-packages/pandas/core/indexing.py\u001b[0m in \u001b[0;36m_validate_integer\u001b[0;34m(self, key, axis)\u001b[0m\n\u001b[1;32m   1435\u001b[0m         \u001b[0mlen_axis\u001b[0m \u001b[0;34m=\u001b[0m \u001b[0mlen\u001b[0m\u001b[0;34m(\u001b[0m\u001b[0mself\u001b[0m\u001b[0;34m.\u001b[0m\u001b[0mobj\u001b[0m\u001b[0;34m.\u001b[0m\u001b[0m_get_axis\u001b[0m\u001b[0;34m(\u001b[0m\u001b[0maxis\u001b[0m\u001b[0;34m)\u001b[0m\u001b[0;34m)\u001b[0m\u001b[0;34m\u001b[0m\u001b[0;34m\u001b[0m\u001b[0m\n\u001b[1;32m   1436\u001b[0m         \u001b[0;32mif\u001b[0m \u001b[0mkey\u001b[0m \u001b[0;34m>=\u001b[0m \u001b[0mlen_axis\u001b[0m \u001b[0;32mor\u001b[0m \u001b[0mkey\u001b[0m \u001b[0;34m<\u001b[0m \u001b[0;34m-\u001b[0m\u001b[0mlen_axis\u001b[0m\u001b[0;34m:\u001b[0m\u001b[0;34m\u001b[0m\u001b[0;34m\u001b[0m\u001b[0m\n\u001b[0;32m-> 1437\u001b[0;31m             \u001b[0;32mraise\u001b[0m \u001b[0mIndexError\u001b[0m\u001b[0;34m(\u001b[0m\u001b[0;34m\"single positional indexer is out-of-bounds\"\u001b[0m\u001b[0;34m)\u001b[0m\u001b[0;34m\u001b[0m\u001b[0;34m\u001b[0m\u001b[0m\n\u001b[0m\u001b[1;32m   1438\u001b[0m \u001b[0;34m\u001b[0m\u001b[0m\n\u001b[1;32m   1439\u001b[0m     \u001b[0;31m# -------------------------------------------------------------------\u001b[0m\u001b[0;34m\u001b[0m\u001b[0;34m\u001b[0m\u001b[0;34m\u001b[0m\u001b[0m\n",
            "\u001b[0;31mIndexError\u001b[0m: single positional indexer is out-of-bounds"
          ]
        }
      ]
    },
    {
      "cell_type": "code",
      "metadata": {
        "id": "OXmv1-bhG1Bg"
      },
      "source": [
        "standard_scaler=StandardScaler()\n",
        "X_train=standard_scaler.fit_transform(X_train)\n",
        "X_test=standard_scaler.transform(X_test)\n",
        "\n",
        "x2=pd.DataFrame(X_train)\n",
        "plt.figure(figsize=(15,10))\n",
        "sns.boxplot(data = x2)\n",
        "plt.ylim(-1,2.5)"
      ],
      "execution_count": null,
      "outputs": []
    },
    {
      "cell_type": "code",
      "metadata": {
        "id": "Gf11uOMNjdUa"
      },
      "source": [
        "classifier = KNeighborsClassifier(n_neighbors=4)\n",
        "classifier.fit(X_train, y_train)"
      ],
      "execution_count": null,
      "outputs": []
    },
    {
      "cell_type": "code",
      "metadata": {
        "id": "oXS1El8umQxX"
      },
      "source": [
        "y_pred_KNN = classifier.predict(X_test)"
      ],
      "execution_count": null,
      "outputs": []
    },
    {
      "cell_type": "code",
      "metadata": {
        "id": "HFBnOnA1GP-2"
      },
      "source": [
        "classifier.score(X_train, y_train), classifier.score(X_test, y_test)"
      ],
      "execution_count": null,
      "outputs": []
    },
    {
      "cell_type": "code",
      "metadata": {
        "id": "IpDGecSjGdRj"
      },
      "source": [
        "print (\"Accuracy : \", accuracy_score(y_test, y_pred_KNN))"
      ],
      "execution_count": null,
      "outputs": []
    },
    {
      "cell_type": "code",
      "metadata": {
        "id": "Kt8-mCzHmhCL"
      },
      "source": [
        "print(confusion_matrix(y_test, y_pred_KNN))\n",
        "print(classification_report(y_test, y_pred_KNN))"
      ],
      "execution_count": null,
      "outputs": []
    },
    {
      "cell_type": "code",
      "metadata": {
        "id": "5LHcCyoreIv7"
      },
      "source": [
        "classifier_matrix = metrics.confusion_matrix(y_test, y_pred_KNN)\n",
        "classifier_matrix"
      ],
      "execution_count": null,
      "outputs": []
    },
    {
      "cell_type": "code",
      "metadata": {
        "id": "ZsiN4wTOD-25"
      },
      "source": [
        "class_names=[0,1] # name  of classes\n",
        "fig, ax = plt.subplots()\n",
        "tick_marks = np.arange(len(class_names))\n",
        "plt.xticks(tick_marks, class_names)\n",
        "plt.yticks(tick_marks, class_names)\n",
        "# create heatmap\n",
        "sns.heatmap(pd.DataFrame(classifier_matrix), annot=True, cmap=\"YlGnBu\" ,fmt='g')\n",
        "ax.xaxis.set_label_position(\"top\")\n",
        "plt.tight_layout()\n",
        "plt.title('Confusion matrix', y=1.1)\n",
        "plt.ylabel('Actual label')\n",
        "plt.xlabel('Predicted label')"
      ],
      "execution_count": null,
      "outputs": []
    },
    {
      "cell_type": "code",
      "metadata": {
        "id": "U3kN1CFEQDu3"
      },
      "source": [
        "k_range = range(1, 26)\n",
        "\n",
        "scores = []\n",
        "\n",
        "\n",
        "for k in k_range:\n",
        "    knn = KNeighborsClassifier(n_neighbors=k)\n",
        "    knn.fit(X_train, y_train)\n",
        "    y_pred_classifier_loop = knn.predict(X_test)\n",
        "    scores.append(metrics.accuracy_score(y_test, y_pred_classifier_loop))\n",
        "\n",
        "print(scores)"
      ],
      "execution_count": null,
      "outputs": []
    },
    {
      "cell_type": "code",
      "metadata": {
        "id": "zwq6yB57Qgcb"
      },
      "source": [
        "# allow plots to appear within the notebook\n",
        "%matplotlib inline\n",
        "\n",
        "# plot the relationship between K and testing accuracy\n",
        "# plt.plot(x_axis, y_axis)\n",
        "plt.plot(k_range, scores)\n",
        "plt.xlabel('Value of K for KNN')\n",
        "plt.ylabel('Testing Accuracy')"
      ],
      "execution_count": null,
      "outputs": []
    },
    {
      "cell_type": "code",
      "metadata": {
        "id": "feq9WK8De_xg"
      },
      "source": [
        "y_pred_proba_classifier = classifier.predict_proba(X_test)[:,1]\n",
        "fpr, tpr, thresholds = roc_curve(y_test, y_pred_proba_classifier)\n",
        "\n",
        "\n",
        "classifier_roc_auc = roc_auc_score(y_test, classifier.predict(X_test))\n",
        "fpr, tpr, thresholds = roc_curve(y_test, classifier.predict_proba(X_test)[:,1])\n",
        "plt.figure()\n",
        "plt.plot(fpr, tpr, label='KNN' '(area = %0.2f)' % classifier_roc_auc)\n",
        "plt.plot([0,1],[0,1],'k--')\n",
        "plt.xlabel('False Positive Rate')\n",
        "plt.ylabel('True Positive Rate')\n",
        "plt.title('KNN ROC curve')\n",
        "plt.legend(loc=\"lower right\")\n",
        "plt.savefig('KNN_ROC')\n",
        "plt.show()"
      ],
      "execution_count": null,
      "outputs": []
    },
    {
      "cell_type": "markdown",
      "metadata": {
        "id": "XkSAU9BLsdef"
      },
      "source": [
        "**Now tuning with GridSearchCV**"
      ]
    },
    {
      "cell_type": "code",
      "metadata": {
        "id": "23aIG7OysA4y"
      },
      "source": [
        "#List Hyperparameters that we want to tune.\n",
        "leaf_size = list(range(1,50))\n",
        "n_neighbors = list(range(1,30))\n",
        "p=[1,2]\n",
        "#Convert to dictionary\n",
        "hyperparameters = dict(leaf_size=leaf_size, n_neighbors=n_neighbors, p=p)\n",
        "#Create new KNN object\n",
        "classifier_new = KNeighborsClassifier()\n",
        "#Use GridSearch\n",
        "classifier_cv= GridSearchCV(classifier_new, hyperparameters, cv=10)\n",
        "#Fit the model\n",
        "classifier_cv.fit(X_train,y_train)\n",
        "#Print The value of best Hyperparameters\n",
        "print('Best leaf_size:', classifier_cv.best_estimator_.get_params()['leaf_size'])\n",
        "print('Best p:', classifier_cv.best_estimator_.get_params()['p'])\n",
        "print('Best n_neighbors:', classifier_cv.best_estimator_.get_params()['n_neighbors'])"
      ],
      "execution_count": null,
      "outputs": []
    },
    {
      "cell_type": "code",
      "metadata": {
        "id": "7St7ceSgsAwH"
      },
      "source": [
        "y_pred_classifier_cv = classifier_cv.predict(X_test)"
      ],
      "execution_count": null,
      "outputs": []
    },
    {
      "cell_type": "code",
      "metadata": {
        "id": "chcBe2v9sEwV"
      },
      "source": [
        "classifier_cv.score(X_train, y_train), classifier_cv.score(X_test, y_test)"
      ],
      "execution_count": null,
      "outputs": []
    },
    {
      "cell_type": "code",
      "metadata": {
        "id": "_B3JTMkfsHUd"
      },
      "source": [
        "print(\"Accuracy:\",metrics.accuracy_score(y_test, y_pred_classifier_cv))\n",
        "print(\"Precision:\",metrics.precision_score(y_test, y_pred_classifier_cv))\n",
        "print(\"Recall:\",metrics.recall_score(y_test, y_pred_classifier_cv))"
      ],
      "execution_count": null,
      "outputs": []
    },
    {
      "cell_type": "code",
      "metadata": {
        "id": "QxG194dssJqM"
      },
      "source": [
        "print(confusion_matrix(y_test, y_pred_classifier_cv))\n",
        "print(classification_report(y_test, y_pred_classifier_cv))"
      ],
      "execution_count": null,
      "outputs": []
    },
    {
      "cell_type": "code",
      "metadata": {
        "id": "A_W0F4y9sVEE"
      },
      "source": [
        "classifier_matrix_cv = metrics.confusion_matrix(y_test, y_pred_classifier_cv)\n",
        "classifier_matrix_cv\n",
        "\n",
        "class_names=[0,1] # name  of classes\n",
        "fig, ax = plt.subplots()\n",
        "tick_marks = np.arange(len(class_names))\n",
        "plt.xticks(tick_marks, class_names)\n",
        "plt.yticks(tick_marks, class_names)\n",
        "# create heatmap\n",
        "sns.heatmap(pd.DataFrame(classifier_matrix_cv), annot=True, cmap=\"YlGnBu\" ,fmt='g')\n",
        "ax.xaxis.set_label_position(\"top\")\n",
        "plt.tight_layout()\n",
        "plt.title('Confusion matrix', y=1.1)\n",
        "plt.ylabel('Actual label')\n",
        "plt.xlabel('Predicted label')"
      ],
      "execution_count": null,
      "outputs": []
    },
    {
      "cell_type": "code",
      "metadata": {
        "id": "4GqhOfB-sU0T"
      },
      "source": [
        "y_pred_proba_classifier_cv = classifier_cv.predict_proba(X_test)[:,1]\n",
        "fpr, tpr, thresholds = roc_curve(y_test, y_pred_proba_classifier_cv)\n",
        "\n",
        "\n",
        "classifier_cv_roc_auc = roc_auc_score(y_test, classifier_cv.predict(X_test))\n",
        "fpr, tpr, thresholds = roc_curve(y_test, classifier_cv.predict_proba(X_test)[:,1])\n",
        "plt.figure()\n",
        "plt.plot(fpr, tpr, label='KNN CV' '(area = %0.2f)' % classifier_cv_roc_auc)\n",
        "plt.plot([0,1],[0,1],'k--')\n",
        "plt.xlabel('False Positive Rate')\n",
        "plt.ylabel('True Positive Rate')\n",
        "plt.title('KNN ROC CV curve')\n",
        "plt.legend(loc=\"lower right\")\n",
        "plt.savefig('KNN_ROC')\n",
        "plt.show()"
      ],
      "execution_count": null,
      "outputs": []
    }
  ]
}